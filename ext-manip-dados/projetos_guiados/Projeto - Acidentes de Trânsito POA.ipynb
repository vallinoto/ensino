{
 "cells": [
  {
   "cell_type": "markdown",
   "id": "7a938254",
   "metadata": {},
   "source": [
    "# Análise dos acidentes de trânsito de Porto Alegre"
   ]
  },
  {
   "cell_type": "markdown",
   "id": "71c10d40",
   "metadata": {},
   "source": [
    "## Objetivo"
   ]
  },
  {
   "cell_type": "markdown",
   "id": "2b90f0ce",
   "metadata": {},
   "source": [
    "Você atua no departamento de análise de dados da EPTC e o time de gestores(as) precisa de algumas informações sobre os acidentes para avaliar necessidades de ações para evitar novas ocorrências.\n",
    "\n",
    "Assim, com base nos registros disponibilizados, você terá que responder as seguintes perguntas:"
   ]
  },
  {
   "cell_type": "markdown",
   "id": "7f43567d",
   "metadata": {},
   "source": [
    "**Perguntas**\n",
    "\n",
    "\n",
    "1.   Como está a evolução dos acidentes nos últimos anos?\n",
    "2.   O número de acidentes diminuiu de 2019 para 2020?\n",
    "3.   Quais são os tipos de acidentes com maior ocorrência?\n",
    "4.   Qual a frequência de óbitos em acidentes nos últimos anos?\n",
    "5.   Qual o tipo de acidente com maior número de óbitos?\n"
   ]
  },
  {
   "cell_type": "markdown",
   "id": "228de317",
   "metadata": {},
   "source": [
    "Adicionalmente, você é instigado a realizar uma apresentação, com os locais dos acidentes ocorridos ao longo desse ano.\n",
    "\n",
    "**Nota**\n",
    "\n",
    "Abuse das visões gráficas para embasar sua análise.\n",
    "\n",
    "Aqui está o link para os nossos dados:\n",
    "\n",
    "https://dadosabertos.poa.br/dataset/acidentes-de-transito-acidentes"
   ]
  },
  {
   "cell_type": "code",
   "execution_count": 1,
   "id": "fe2e2ebd",
   "metadata": {},
   "outputs": [],
   "source": [
    "import warnings\n",
    "warnings.filterwarnings('ignore')"
   ]
  },
  {
   "cell_type": "code",
   "execution_count": 2,
   "id": "bcace992",
   "metadata": {},
   "outputs": [],
   "source": [
    "URL = 'https://dadosabertos.poa.br/dataset/d6cfbe48-ee1f-450f-87f5-9426f6a09328/resource/b56f8123-716a-4893-9348-23945f1ea1b9/download/cat_acidentes.csv'"
   ]
  },
  {
   "cell_type": "code",
   "execution_count": 3,
   "id": "0d116e62",
   "metadata": {},
   "outputs": [],
   "source": [
    "import pandas as pd\n",
    "\n",
    "\n",
    "df_raw = pd.read_csv(URL, sep=';')"
   ]
  },
  {
   "cell_type": "code",
   "execution_count": 4,
   "id": "0807c39d",
   "metadata": {},
   "outputs": [
    {
     "data": {
      "text/html": [
       "<div>\n",
       "<style scoped>\n",
       "    .dataframe tbody tr th:only-of-type {\n",
       "        vertical-align: middle;\n",
       "    }\n",
       "\n",
       "    .dataframe tbody tr th {\n",
       "        vertical-align: top;\n",
       "    }\n",
       "\n",
       "    .dataframe thead th {\n",
       "        text-align: right;\n",
       "    }\n",
       "</style>\n",
       "<table border=\"1\" class=\"dataframe\">\n",
       "  <thead>\n",
       "    <tr style=\"text-align: right;\">\n",
       "      <th></th>\n",
       "      <th>data_extracao</th>\n",
       "      <th>predial1</th>\n",
       "      <th>queda_arr</th>\n",
       "      <th>data</th>\n",
       "      <th>feridos</th>\n",
       "      <th>feridos_gr</th>\n",
       "      <th>mortes</th>\n",
       "      <th>morte_post</th>\n",
       "      <th>fatais</th>\n",
       "      <th>auto</th>\n",
       "      <th>...</th>\n",
       "      <th>longitude</th>\n",
       "      <th>latitude</th>\n",
       "      <th>log1</th>\n",
       "      <th>log2</th>\n",
       "      <th>tipo_acid</th>\n",
       "      <th>dia_sem</th>\n",
       "      <th>hora</th>\n",
       "      <th>noite_dia</th>\n",
       "      <th>regiao</th>\n",
       "      <th>consorcio</th>\n",
       "    </tr>\n",
       "  </thead>\n",
       "  <tbody>\n",
       "    <tr>\n",
       "      <th>0</th>\n",
       "      <td>2021-12-01 01:35:32</td>\n",
       "      <td>0</td>\n",
       "      <td>0.0</td>\n",
       "      <td>2020-10-17 00:00:00</td>\n",
       "      <td>1</td>\n",
       "      <td>0</td>\n",
       "      <td>0</td>\n",
       "      <td>0</td>\n",
       "      <td>0</td>\n",
       "      <td>3</td>\n",
       "      <td>...</td>\n",
       "      <td>0.000000</td>\n",
       "      <td>0.000000</td>\n",
       "      <td>R MARCOS MOREIRA</td>\n",
       "      <td>R GASTON ENGLERT</td>\n",
       "      <td>ABALROAMENTO</td>\n",
       "      <td>SÁBADO</td>\n",
       "      <td>19:00:00.0000000</td>\n",
       "      <td>NOITE</td>\n",
       "      <td>NORTE</td>\n",
       "      <td>NaN</td>\n",
       "    </tr>\n",
       "    <tr>\n",
       "      <th>1</th>\n",
       "      <td>2021-12-01 01:35:32</td>\n",
       "      <td>8487</td>\n",
       "      <td>0.0</td>\n",
       "      <td>2016-01-01 00:00:00</td>\n",
       "      <td>0</td>\n",
       "      <td>0</td>\n",
       "      <td>0</td>\n",
       "      <td>1</td>\n",
       "      <td>1</td>\n",
       "      <td>1</td>\n",
       "      <td>...</td>\n",
       "      <td>-51.095216</td>\n",
       "      <td>-30.134588</td>\n",
       "      <td>ESTR JOAO DE OLIVEIRA REMIAO</td>\n",
       "      <td>NaN</td>\n",
       "      <td>CHOQUE</td>\n",
       "      <td>SEXTA-FEIRA</td>\n",
       "      <td>12:00:00.0000000</td>\n",
       "      <td>DIA</td>\n",
       "      <td>LESTE</td>\n",
       "      <td>NaN</td>\n",
       "    </tr>\n",
       "  </tbody>\n",
       "</table>\n",
       "<p>2 rows × 34 columns</p>\n",
       "</div>"
      ],
      "text/plain": [
       "         data_extracao  predial1  queda_arr                 data  feridos  \\\n",
       "0  2021-12-01 01:35:32         0        0.0  2020-10-17 00:00:00        1   \n",
       "1  2021-12-01 01:35:32      8487        0.0  2016-01-01 00:00:00        0   \n",
       "\n",
       "   feridos_gr  mortes  morte_post  fatais  auto  ...  longitude   latitude  \\\n",
       "0           0       0           0       0     3  ...   0.000000   0.000000   \n",
       "1           0       0           1       1     1  ... -51.095216 -30.134588   \n",
       "\n",
       "                           log1              log2     tipo_acid      dia_sem  \\\n",
       "0              R MARCOS MOREIRA  R GASTON ENGLERT  ABALROAMENTO       SÁBADO   \n",
       "1  ESTR JOAO DE OLIVEIRA REMIAO               NaN        CHOQUE  SEXTA-FEIRA   \n",
       "\n",
       "               hora  noite_dia  regiao  consorcio  \n",
       "0  19:00:00.0000000      NOITE   NORTE        NaN  \n",
       "1  12:00:00.0000000        DIA   LESTE        NaN  \n",
       "\n",
       "[2 rows x 34 columns]"
      ]
     },
     "execution_count": 4,
     "metadata": {},
     "output_type": "execute_result"
    }
   ],
   "source": [
    "df_raw.head(2)"
   ]
  },
  {
   "cell_type": "code",
   "execution_count": 5,
   "id": "3ca729d6",
   "metadata": {},
   "outputs": [
    {
     "data": {
      "text/plain": [
       "(72249, 34)"
      ]
     },
     "execution_count": 5,
     "metadata": {},
     "output_type": "execute_result"
    }
   ],
   "source": [
    "df_raw.shape"
   ]
  },
  {
   "cell_type": "code",
   "execution_count": 6,
   "id": "52b8950e",
   "metadata": {},
   "outputs": [
    {
     "data": {
      "text/plain": [
       "data_extracao     object\n",
       "predial1           int64\n",
       "queda_arr        float64\n",
       "data              object\n",
       "feridos            int64\n",
       "feridos_gr         int64\n",
       "mortes             int64\n",
       "morte_post         int64\n",
       "fatais             int64\n",
       "auto               int64\n",
       "taxi               int64\n",
       "lotacao            int64\n",
       "onibus_urb         int64\n",
       "onibus_met         int64\n",
       "onibus_int         int64\n",
       "caminhao           int64\n",
       "moto               int64\n",
       "carroca            int64\n",
       "bicicleta          int64\n",
       "outro              int64\n",
       "cont_vit           int64\n",
       "ups                int64\n",
       "patinete           int64\n",
       "idacidente         int64\n",
       "longitude        float64\n",
       "latitude         float64\n",
       "log1              object\n",
       "log2              object\n",
       "tipo_acid         object\n",
       "dia_sem           object\n",
       "hora              object\n",
       "noite_dia         object\n",
       "regiao            object\n",
       "consorcio         object\n",
       "dtype: object"
      ]
     },
     "execution_count": 6,
     "metadata": {},
     "output_type": "execute_result"
    }
   ],
   "source": [
    "df_raw.dtypes"
   ]
  },
  {
   "cell_type": "markdown",
   "id": "8fff943e",
   "metadata": {},
   "source": [
    "### Como está a evolução dos acidentes nos últimos anos?"
   ]
  },
  {
   "cell_type": "code",
   "execution_count": 7,
   "id": "8f36bb32",
   "metadata": {},
   "outputs": [
    {
     "data": {
      "text/plain": [
       "2016-08-29 00:00:00    69\n",
       "2016-04-11 00:00:00    67\n",
       "2018-11-19 00:00:00    67\n",
       "2016-03-18 00:00:00    66\n",
       "2016-10-06 00:00:00    66\n",
       "                       ..\n",
       "2021-12-14 00:00:00     1\n",
       "2021-12-19 00:00:00     1\n",
       "2018-11-04 01:00:00     1\n",
       "3031-04-03 00:00:00     1\n",
       "5021-08-06 00:00:00     1\n",
       "Name: data, Length: 2166, dtype: int64"
      ]
     },
     "execution_count": 7,
     "metadata": {},
     "output_type": "execute_result"
    }
   ],
   "source": [
    "df_raw['data'].value_counts()"
   ]
  },
  {
   "cell_type": "code",
   "execution_count": 8,
   "id": "56f68fda",
   "metadata": {},
   "outputs": [],
   "source": [
    "linhas_c_erro = df_raw[ (df_raw['data'] == '5021-08-06 00:00:00') | \\\n",
    "                        (df_raw['data'] == '3031-04-03 00:00:00')     ]"
   ]
  },
  {
   "cell_type": "code",
   "execution_count": null,
   "id": "7110428d",
   "metadata": {},
   "outputs": [],
   "source": [
    "linhas_c_erro_erro_c_erro"
   ]
  },
  {
   "cell_type": "code",
   "execution_count": 9,
   "id": "8455db0f",
   "metadata": {},
   "outputs": [
    {
     "data": {
      "text/plain": [
       "Int64Index([62986, 67888], dtype='int64')"
      ]
     },
     "execution_count": 9,
     "metadata": {},
     "output_type": "execute_result"
    }
   ],
   "source": [
    "linhas_c_erro.index"
   ]
  },
  {
   "cell_type": "code",
   "execution_count": 10,
   "id": "5d2a5f0a",
   "metadata": {},
   "outputs": [],
   "source": [
    "df_analise = df_raw.drop(index=linhas_c_erro.index, axis=0)"
   ]
  },
  {
   "cell_type": "code",
   "execution_count": 11,
   "id": "3a08f05e",
   "metadata": {},
   "outputs": [
    {
     "data": {
      "text/plain": [
       "2016-08-29 00:00:00    69\n",
       "2016-04-11 00:00:00    67\n",
       "2018-11-19 00:00:00    67\n",
       "2016-10-06 00:00:00    66\n",
       "2016-03-18 00:00:00    66\n",
       "                       ..\n",
       "2021-11-29 00:00:00     2\n",
       "2018-11-04 01:00:00     1\n",
       "2021-12-19 00:00:00     1\n",
       "2021-12-14 00:00:00     1\n",
       "2202-09-30 00:00:00     1\n",
       "Name: data, Length: 2164, dtype: int64"
      ]
     },
     "execution_count": 11,
     "metadata": {},
     "output_type": "execute_result"
    }
   ],
   "source": [
    "df_analise['data'].value_counts()"
   ]
  },
  {
   "cell_type": "code",
   "execution_count": 12,
   "id": "bcc80ff8",
   "metadata": {},
   "outputs": [
    {
     "data": {
      "text/plain": [
       "Int64Index([69795], dtype='int64')"
      ]
     },
     "execution_count": 12,
     "metadata": {},
     "output_type": "execute_result"
    }
   ],
   "source": [
    "df_analise[df_analise['data'] == '2202-09-30 00:00:00'].index"
   ]
  },
  {
   "cell_type": "code",
   "execution_count": 13,
   "id": "3582d6e0",
   "metadata": {},
   "outputs": [],
   "source": [
    "df_analise.drop(index=69795, inplace=True)"
   ]
  },
  {
   "cell_type": "code",
   "execution_count": 14,
   "id": "7de4ed86",
   "metadata": {},
   "outputs": [],
   "source": [
    "df_analise['data'] = pd.to_datetime(df_analise['data'])"
   ]
  },
  {
   "cell_type": "code",
   "execution_count": 15,
   "id": "542ab510",
   "metadata": {},
   "outputs": [
    {
     "data": {
      "text/plain": [
       "<AxesSubplot:xlabel='data'>"
      ]
     },
     "execution_count": 15,
     "metadata": {},
     "output_type": "execute_result"
    },
    {
     "data": {
      "image/png": "[encoded data removed]",
      "text/plain": [
       "<Figure size 432x288 with 1 Axes>"
      ]
     },
     "metadata": {
      "needs_background": "light"
     },
     "output_type": "display_data"
    }
   ],
   "source": [
    "df_analise.groupby(pd.Grouper(key='data', freq='y'))['idacidente'].count().plot(kind='area', alpha= .2)"
   ]
  },
  {
   "cell_type": "code",
   "execution_count": 16,
   "id": "b0b49d88",
   "metadata": {},
   "outputs": [],
   "source": [
    "df_comp_ano = df_analise.groupby(pd.Grouper(key='data', freq='y'))['idacidente'].count()"
   ]
  },
  {
   "cell_type": "code",
   "execution_count": 17,
   "id": "25980de3",
   "metadata": {},
   "outputs": [],
   "source": [
    "df_comp_ano = pd.DataFrame(df_comp_ano)"
   ]
  },
  {
   "cell_type": "code",
   "execution_count": 18,
   "id": "bc0d0f89",
   "metadata": {},
   "outputs": [],
   "source": [
    "df_comp_ano.reset_index(inplace=True)"
   ]
  },
  {
   "cell_type": "code",
   "execution_count": 19,
   "id": "af3216bb",
   "metadata": {},
   "outputs": [],
   "source": [
    "df_comp_ano = df_comp_ano[ (df_comp_ano['data'] > '2018-12-31') & (df_comp_ano['data'] < '2021-01-01') ]"
   ]
  },
  {
   "cell_type": "markdown",
   "id": "14afb281",
   "metadata": {},
   "source": [
    "### O número de acidentes diminuiu de 2019 para 2020?"
   ]
  },
  {
   "cell_type": "code",
   "execution_count": 20,
   "id": "5201d73a",
   "metadata": {},
   "outputs": [],
   "source": [
    "import seaborn as sns\n",
    "import matplotlib.pyplot as plt"
   ]
  },
  {
   "cell_type": "code",
   "execution_count": 21,
   "id": "dd7ff6e8",
   "metadata": {},
   "outputs": [
    {
     "data": {
      "image/png": "[encoded data removed]",
      "text/plain": [
       "<Figure size 432x288 with 1 Axes>"
      ]
     },
     "metadata": {
      "needs_background": "light"
     },
     "output_type": "display_data"
    }
   ],
   "source": [
    "sns.barplot(data=df_comp_ano, x='data', y='idacidente')\n",
    "\n",
    "plt.title('Comparativo de ocorrências - anos 2019 e 2020')\n",
    "plt.xlabel('Ano')\n",
    "plt.ylabel('Qtd de ocorrências')\n",
    "plt.xticks(rotation=45)\n",
    "\n",
    "plt.show()"
   ]
  },
  {
   "cell_type": "markdown",
   "id": "35358270",
   "metadata": {},
   "source": [
    "### Quais são os tipos de acidentes com maior ocorrência?"
   ]
  },
  {
   "cell_type": "code",
   "execution_count": 22,
   "id": "3f8b1ce4",
   "metadata": {},
   "outputs": [
    {
     "data": {
      "text/html": [
       "<div>\n",
       "<style scoped>\n",
       "    .dataframe tbody tr th:only-of-type {\n",
       "        vertical-align: middle;\n",
       "    }\n",
       "\n",
       "    .dataframe tbody tr th {\n",
       "        vertical-align: top;\n",
       "    }\n",
       "\n",
       "    .dataframe thead th {\n",
       "        text-align: right;\n",
       "    }\n",
       "</style>\n",
       "<table border=\"1\" class=\"dataframe\">\n",
       "  <thead>\n",
       "    <tr style=\"text-align: right;\">\n",
       "      <th></th>\n",
       "      <th>data_extracao</th>\n",
       "      <th>predial1</th>\n",
       "      <th>queda_arr</th>\n",
       "      <th>data</th>\n",
       "      <th>feridos</th>\n",
       "      <th>feridos_gr</th>\n",
       "      <th>mortes</th>\n",
       "      <th>morte_post</th>\n",
       "      <th>fatais</th>\n",
       "      <th>auto</th>\n",
       "      <th>...</th>\n",
       "      <th>longitude</th>\n",
       "      <th>latitude</th>\n",
       "      <th>log1</th>\n",
       "      <th>log2</th>\n",
       "      <th>tipo_acid</th>\n",
       "      <th>dia_sem</th>\n",
       "      <th>hora</th>\n",
       "      <th>noite_dia</th>\n",
       "      <th>regiao</th>\n",
       "      <th>consorcio</th>\n",
       "    </tr>\n",
       "  </thead>\n",
       "  <tbody>\n",
       "    <tr>\n",
       "      <th>0</th>\n",
       "      <td>2021-12-01 01:35:32</td>\n",
       "      <td>0</td>\n",
       "      <td>0.0</td>\n",
       "      <td>2020-10-17</td>\n",
       "      <td>1</td>\n",
       "      <td>0</td>\n",
       "      <td>0</td>\n",
       "      <td>0</td>\n",
       "      <td>0</td>\n",
       "      <td>3</td>\n",
       "      <td>...</td>\n",
       "      <td>0.000000</td>\n",
       "      <td>0.000000</td>\n",
       "      <td>R MARCOS MOREIRA</td>\n",
       "      <td>R GASTON ENGLERT</td>\n",
       "      <td>ABALROAMENTO</td>\n",
       "      <td>SÁBADO</td>\n",
       "      <td>19:00:00.0000000</td>\n",
       "      <td>NOITE</td>\n",
       "      <td>NORTE</td>\n",
       "      <td>NaN</td>\n",
       "    </tr>\n",
       "    <tr>\n",
       "      <th>1</th>\n",
       "      <td>2021-12-01 01:35:32</td>\n",
       "      <td>8487</td>\n",
       "      <td>0.0</td>\n",
       "      <td>2016-01-01</td>\n",
       "      <td>0</td>\n",
       "      <td>0</td>\n",
       "      <td>0</td>\n",
       "      <td>1</td>\n",
       "      <td>1</td>\n",
       "      <td>1</td>\n",
       "      <td>...</td>\n",
       "      <td>-51.095216</td>\n",
       "      <td>-30.134588</td>\n",
       "      <td>ESTR JOAO DE OLIVEIRA REMIAO</td>\n",
       "      <td>NaN</td>\n",
       "      <td>CHOQUE</td>\n",
       "      <td>SEXTA-FEIRA</td>\n",
       "      <td>12:00:00.0000000</td>\n",
       "      <td>DIA</td>\n",
       "      <td>LESTE</td>\n",
       "      <td>NaN</td>\n",
       "    </tr>\n",
       "  </tbody>\n",
       "</table>\n",
       "<p>2 rows × 34 columns</p>\n",
       "</div>"
      ],
      "text/plain": [
       "         data_extracao  predial1  queda_arr       data  feridos  feridos_gr  \\\n",
       "0  2021-12-01 01:35:32         0        0.0 2020-10-17        1           0   \n",
       "1  2021-12-01 01:35:32      8487        0.0 2016-01-01        0           0   \n",
       "\n",
       "   mortes  morte_post  fatais  auto  ...  longitude   latitude  \\\n",
       "0       0           0       0     3  ...   0.000000   0.000000   \n",
       "1       0           1       1     1  ... -51.095216 -30.134588   \n",
       "\n",
       "                           log1              log2     tipo_acid      dia_sem  \\\n",
       "0              R MARCOS MOREIRA  R GASTON ENGLERT  ABALROAMENTO       SÁBADO   \n",
       "1  ESTR JOAO DE OLIVEIRA REMIAO               NaN        CHOQUE  SEXTA-FEIRA   \n",
       "\n",
       "               hora  noite_dia  regiao  consorcio  \n",
       "0  19:00:00.0000000      NOITE   NORTE        NaN  \n",
       "1  12:00:00.0000000        DIA   LESTE        NaN  \n",
       "\n",
       "[2 rows x 34 columns]"
      ]
     },
     "execution_count": 22,
     "metadata": {},
     "output_type": "execute_result"
    }
   ],
   "source": [
    "df_analise.head(2)"
   ]
  },
  {
   "cell_type": "code",
   "execution_count": 26,
   "id": "3b97cc79",
   "metadata": {},
   "outputs": [],
   "source": [
    "tipo_acidente = df_analise.groupby(by='tipo_acid')['idacidente'].count().sort_values(ascending=False)"
   ]
  },
  {
   "cell_type": "code",
   "execution_count": 27,
   "id": "8e0de64c",
   "metadata": {},
   "outputs": [],
   "source": [
    "tipo_acidente = pd.DataFrame(tipo_acidente)"
   ]
  },
  {
   "cell_type": "code",
   "execution_count": 28,
   "id": "1a451a40",
   "metadata": {},
   "outputs": [],
   "source": [
    "tipo_acidente.reset_index(inplace=True)"
   ]
  },
  {
   "cell_type": "code",
   "execution_count": 29,
   "id": "27134134",
   "metadata": {},
   "outputs": [
    {
     "data": {
      "text/html": [
       "<div>\n",
       "<style scoped>\n",
       "    .dataframe tbody tr th:only-of-type {\n",
       "        vertical-align: middle;\n",
       "    }\n",
       "\n",
       "    .dataframe tbody tr th {\n",
       "        vertical-align: top;\n",
       "    }\n",
       "\n",
       "    .dataframe thead th {\n",
       "        text-align: right;\n",
       "    }\n",
       "</style>\n",
       "<table border=\"1\" class=\"dataframe\">\n",
       "  <thead>\n",
       "    <tr style=\"text-align: right;\">\n",
       "      <th></th>\n",
       "      <th>tipo_acid</th>\n",
       "      <th>idacidente</th>\n",
       "    </tr>\n",
       "  </thead>\n",
       "  <tbody>\n",
       "    <tr>\n",
       "      <th>0</th>\n",
       "      <td>ABALROAMENTO</td>\n",
       "      <td>35052</td>\n",
       "    </tr>\n",
       "    <tr>\n",
       "      <th>1</th>\n",
       "      <td>COLISÃO</td>\n",
       "      <td>21815</td>\n",
       "    </tr>\n",
       "    <tr>\n",
       "      <th>2</th>\n",
       "      <td>CHOQUE</td>\n",
       "      <td>6142</td>\n",
       "    </tr>\n",
       "    <tr>\n",
       "      <th>3</th>\n",
       "      <td>ATROPELAMENTO</td>\n",
       "      <td>4740</td>\n",
       "    </tr>\n",
       "    <tr>\n",
       "      <th>4</th>\n",
       "      <td>QUEDA</td>\n",
       "      <td>2470</td>\n",
       "    </tr>\n",
       "    <tr>\n",
       "      <th>5</th>\n",
       "      <td>EVENTUAL</td>\n",
       "      <td>1049</td>\n",
       "    </tr>\n",
       "    <tr>\n",
       "      <th>6</th>\n",
       "      <td>NAO CADASTRADO</td>\n",
       "      <td>417</td>\n",
       "    </tr>\n",
       "    <tr>\n",
       "      <th>7</th>\n",
       "      <td>CAPOTAGEM</td>\n",
       "      <td>294</td>\n",
       "    </tr>\n",
       "    <tr>\n",
       "      <th>8</th>\n",
       "      <td>TOMBAMENTO</td>\n",
       "      <td>240</td>\n",
       "    </tr>\n",
       "    <tr>\n",
       "      <th>9</th>\n",
       "      <td>INCÊNDIO</td>\n",
       "      <td>27</td>\n",
       "    </tr>\n",
       "  </tbody>\n",
       "</table>\n",
       "</div>"
      ],
      "text/plain": [
       "        tipo_acid  idacidente\n",
       "0    ABALROAMENTO       35052\n",
       "1         COLISÃO       21815\n",
       "2          CHOQUE        6142\n",
       "3   ATROPELAMENTO        4740\n",
       "4           QUEDA        2470\n",
       "5        EVENTUAL        1049\n",
       "6  NAO CADASTRADO         417\n",
       "7       CAPOTAGEM         294\n",
       "8      TOMBAMENTO         240\n",
       "9        INCÊNDIO          27"
      ]
     },
     "execution_count": 29,
     "metadata": {},
     "output_type": "execute_result"
    }
   ],
   "source": [
    "tipo_acidente"
   ]
  },
  {
   "cell_type": "code",
   "execution_count": 30,
   "id": "9ccb124f",
   "metadata": {},
   "outputs": [
    {
     "data": {
      "image/png": "[encoded data removed]",
      "text/plain": [
       "<Figure size 1440x360 with 1 Axes>"
      ]
     },
     "metadata": {
      "needs_background": "light"
     },
     "output_type": "display_data"
    }
   ],
   "source": [
    "plt.figure(figsize=(20,5))\n",
    "\n",
    "sns.set_theme(style='whitegrid')\n",
    "\n",
    "sns.barplot(data=tipo_acidente, x='idacidente', y='tipo_acid')\n",
    "\n",
    "plt.title('Distribuição por tipo de acidente' )\n",
    "plt.ylabel('Tipo de acidente')\n",
    "plt.xlabel('Qtd de ocorrências')\n",
    "plt.show()"
   ]
  },
  {
   "cell_type": "code",
   "execution_count": 31,
   "id": "3e55596a",
   "metadata": {},
   "outputs": [
    {
     "data": {
      "text/plain": [
       "data        tipo_acid     \n",
       "2016-12-31  ABALROAMENTO      6631\n",
       "            ATROPELAMENTO     1073\n",
       "            CAPOTAGEM           43\n",
       "            CHOQUE            1111\n",
       "            COLISÃO           4192\n",
       "            EVENTUAL           156\n",
       "            INCÊNDIO             5\n",
       "            QUEDA              577\n",
       "            TOMBAMENTO          12\n",
       "2017-12-31  ABALROAMENTO      6331\n",
       "            ATROPELAMENTO      889\n",
       "            CAPOTAGEM           40\n",
       "            CHOQUE             975\n",
       "            COLISÃO           3819\n",
       "            EVENTUAL           185\n",
       "            INCÊNDIO             3\n",
       "            NAO CADASTRADO       1\n",
       "            QUEDA              412\n",
       "            TOMBAMENTO          16\n",
       "2018-12-31  ABALROAMENTO      5911\n",
       "            ATROPELAMENTO      830\n",
       "            CAPOTAGEM           51\n",
       "            CHOQUE             982\n",
       "            COLISÃO           3834\n",
       "            EVENTUAL           191\n",
       "            INCÊNDIO             4\n",
       "            NAO CADASTRADO      13\n",
       "            QUEDA              417\n",
       "            TOMBAMENTO          30\n",
       "2019-12-31  ABALROAMENTO      6743\n",
       "            ATROPELAMENTO      848\n",
       "            CAPOTAGEM           52\n",
       "            CHOQUE            1063\n",
       "            COLISÃO           3852\n",
       "            EVENTUAL           190\n",
       "            INCÊNDIO             7\n",
       "            NAO CADASTRADO       5\n",
       "            QUEDA              421\n",
       "            TOMBAMENTO          48\n",
       "2020-12-31  ABALROAMENTO      4551\n",
       "            ATROPELAMENTO      522\n",
       "            CAPOTAGEM           51\n",
       "            CHOQUE             819\n",
       "            COLISÃO           2771\n",
       "            EVENTUAL           154\n",
       "            INCÊNDIO             1\n",
       "            NAO CADASTRADO       6\n",
       "            QUEDA              351\n",
       "            TOMBAMENTO          61\n",
       "2021-12-31  ABALROAMENTO      4885\n",
       "            ATROPELAMENTO      578\n",
       "            CAPOTAGEM           57\n",
       "            CHOQUE            1192\n",
       "            COLISÃO           3347\n",
       "            EVENTUAL           173\n",
       "            INCÊNDIO             7\n",
       "            NAO CADASTRADO     392\n",
       "            QUEDA              292\n",
       "            TOMBAMENTO          73\n",
       "Name: idacidente, dtype: int64"
      ]
     },
     "execution_count": 31,
     "metadata": {},
     "output_type": "execute_result"
    }
   ],
   "source": [
    "df_analise.groupby([pd.Grouper(key='data', freq='y'), 'tipo_acid'])['idacidente'].count()"
   ]
  },
  {
   "cell_type": "markdown",
   "id": "1e7fa149",
   "metadata": {},
   "source": [
    "### Qual a frequência de óbitos em acidentes nos últimos anos?"
   ]
  },
  {
   "cell_type": "code",
   "execution_count": 32,
   "id": "b165d526",
   "metadata": {},
   "outputs": [],
   "source": [
    "obitos = df_analise.groupby(pd.Grouper(key='data', freq='y'))['fatais'].sum()"
   ]
  },
  {
   "cell_type": "code",
   "execution_count": 33,
   "id": "29d297d9",
   "metadata": {},
   "outputs": [
    {
     "data": {
      "text/html": [
       "<div>\n",
       "<style scoped>\n",
       "    .dataframe tbody tr th:only-of-type {\n",
       "        vertical-align: middle;\n",
       "    }\n",
       "\n",
       "    .dataframe tbody tr th {\n",
       "        vertical-align: top;\n",
       "    }\n",
       "\n",
       "    .dataframe thead th {\n",
       "        text-align: right;\n",
       "    }\n",
       "</style>\n",
       "<table border=\"1\" class=\"dataframe\">\n",
       "  <thead>\n",
       "    <tr style=\"text-align: right;\">\n",
       "      <th></th>\n",
       "      <th>data</th>\n",
       "      <th>fatais</th>\n",
       "    </tr>\n",
       "  </thead>\n",
       "  <tbody>\n",
       "    <tr>\n",
       "      <th>0</th>\n",
       "      <td>2016-12-31</td>\n",
       "      <td>92</td>\n",
       "    </tr>\n",
       "    <tr>\n",
       "      <th>1</th>\n",
       "      <td>2017-12-31</td>\n",
       "      <td>90</td>\n",
       "    </tr>\n",
       "    <tr>\n",
       "      <th>2</th>\n",
       "      <td>2018-12-31</td>\n",
       "      <td>75</td>\n",
       "    </tr>\n",
       "    <tr>\n",
       "      <th>3</th>\n",
       "      <td>2019-12-31</td>\n",
       "      <td>74</td>\n",
       "    </tr>\n",
       "    <tr>\n",
       "      <th>4</th>\n",
       "      <td>2020-12-31</td>\n",
       "      <td>64</td>\n",
       "    </tr>\n",
       "    <tr>\n",
       "      <th>5</th>\n",
       "      <td>2021-12-31</td>\n",
       "      <td>73</td>\n",
       "    </tr>\n",
       "  </tbody>\n",
       "</table>\n",
       "</div>"
      ],
      "text/plain": [
       "        data  fatais\n",
       "0 2016-12-31      92\n",
       "1 2017-12-31      90\n",
       "2 2018-12-31      75\n",
       "3 2019-12-31      74\n",
       "4 2020-12-31      64\n",
       "5 2021-12-31      73"
      ]
     },
     "execution_count": 33,
     "metadata": {},
     "output_type": "execute_result"
    }
   ],
   "source": [
    "obitos = pd.DataFrame(obitos)\n",
    "obitos.reset_index(inplace=True)\n",
    "obitos"
   ]
  },
  {
   "cell_type": "code",
   "execution_count": 34,
   "id": "8840691f",
   "metadata": {},
   "outputs": [],
   "source": [
    "obitos['ano'] = pd.DatetimeIndex(obitos['data']).year"
   ]
  },
  {
   "cell_type": "code",
   "execution_count": 35,
   "id": "27192c5e",
   "metadata": {},
   "outputs": [
    {
     "data": {
      "text/plain": [
       "<AxesSubplot:xlabel='ano', ylabel='fatais'>"
      ]
     },
     "execution_count": 35,
     "metadata": {},
     "output_type": "execute_result"
    },
    {
     "data": {
      "image/png": "[encoded data removed]",
      "text/plain": [
       "<Figure size 432x288 with 1 Axes>"
      ]
     },
     "metadata": {},
     "output_type": "display_data"
    }
   ],
   "source": [
    "sns.lineplot(data=obitos, x='ano', y='fatais')"
   ]
  },
  {
   "cell_type": "code",
   "execution_count": 36,
   "id": "249d9b95",
   "metadata": {},
   "outputs": [],
   "source": [
    "obitos_cat = df_analise.groupby([pd.Grouper(key='data', freq='y'), 'tipo_acid'])['fatais'].sum()"
   ]
  },
  {
   "cell_type": "code",
   "execution_count": 37,
   "id": "80034197",
   "metadata": {},
   "outputs": [],
   "source": [
    "obitos_cat = pd.DataFrame(obitos_cat)\n",
    "obitos_cat.reset_index(inplace=True)\n",
    "obitos_cat['ano'] = pd.DatetimeIndex(obitos_cat['data']).year"
   ]
  },
  {
   "cell_type": "markdown",
   "id": "d391e11b",
   "metadata": {},
   "source": [
    "### Qual o tipo de acidente com maior número de óbitos?"
   ]
  },
  {
   "cell_type": "code",
   "execution_count": 38,
   "id": "c77c6474",
   "metadata": {},
   "outputs": [
    {
     "data": {
      "image/png": "[encoded data removed]",
      "text/plain": [
       "<Figure size 1800x360 with 1 Axes>"
      ]
     },
     "metadata": {},
     "output_type": "display_data"
    }
   ],
   "source": [
    "plt.figure(figsize=(25,5))\n",
    "\n",
    "sns.barplot(data=obitos_cat, x='tipo_acid', y='fatais', hue='ano', palette='Blues')\n",
    "plt.xticks(rotation=45)\n",
    "\n",
    "plt.show()"
   ]
  },
  {
   "cell_type": "markdown",
   "id": "994d359d",
   "metadata": {},
   "source": [
    "# Desafio do mapa"
   ]
  },
  {
   "cell_type": "code",
   "execution_count": 39,
   "id": "00a6d583",
   "metadata": {},
   "outputs": [],
   "source": [
    "dados2021 = df_analise[df_analise['data'] >= '2021-01-01 00:00:00']"
   ]
  },
  {
   "cell_type": "code",
   "execution_count": 40,
   "id": "a5b4b350",
   "metadata": {},
   "outputs": [],
   "source": [
    "mapa = dados2021[['data','longitude', 'latitude', 'log1', 'tipo_acid']]"
   ]
  },
  {
   "cell_type": "code",
   "execution_count": 42,
   "id": "05abad0d",
   "metadata": {},
   "outputs": [
    {
     "data": {
      "text/plain": [
       "666"
      ]
     },
     "execution_count": 42,
     "metadata": {},
     "output_type": "execute_result"
    }
   ],
   "source": [
    "mapa['longitude'].isnull().sum()"
   ]
  },
  {
   "cell_type": "code",
   "execution_count": 43,
   "id": "764f0bcd",
   "metadata": {},
   "outputs": [
    {
     "data": {
      "text/plain": [
       "(10996, 5)"
      ]
     },
     "execution_count": 43,
     "metadata": {},
     "output_type": "execute_result"
    }
   ],
   "source": [
    "mapa.shape"
   ]
  },
  {
   "cell_type": "code",
   "execution_count": null,
   "id": "473d451a",
   "metadata": {},
   "outputs": [],
   "source": [
    "!pip install geopy"
   ]
  },
  {
   "cell_type": "code",
   "execution_count": 44,
   "id": "ce1eb1f9",
   "metadata": {},
   "outputs": [
    {
     "data": {
      "text/plain": [
       "60605                R SILVEIRO \n",
       "60606                        NaN\n",
       "60607    R JOSE INACIO DA CUNHA \n",
       "60609            R DONA TEODORA \n",
       "60611              ESTR VAREJAO \n",
       "                  ...           \n",
       "72244               AV IPIRANGA \n",
       "72245    AV VERISSIMO DE AMARAL \n",
       "72246           AV ASSIS BRASIL \n",
       "72247             AV A J RENNER \n",
       "72248        AV DR NILO PECANHA \n",
       "Name: log1, Length: 10996, dtype: object"
      ]
     },
     "execution_count": 44,
     "metadata": {},
     "output_type": "execute_result"
    }
   ],
   "source": [
    "mapa['log1']"
   ]
  },
  {
   "cell_type": "code",
   "execution_count": 45,
   "id": "4fea559a",
   "metadata": {},
   "outputs": [],
   "source": [
    "def inserir_cid_est(endereco):\n",
    "    return str(endereco) + ', Porto Alegre, RS, Brasil'"
   ]
  },
  {
   "cell_type": "code",
   "execution_count": 46,
   "id": "1fad9dbd",
   "metadata": {},
   "outputs": [],
   "source": [
    "mapa['log1'] = mapa['log1'].apply(lambda x : inserir_cid_est(x))"
   ]
  },
  {
   "cell_type": "code",
   "execution_count": null,
   "id": "4fdc9672",
   "metadata": {},
   "outputs": [],
   "source": [
    "!pip install tqdm"
   ]
  },
  {
   "cell_type": "code",
   "execution_count": 47,
   "id": "5aa11d53",
   "metadata": {},
   "outputs": [],
   "source": [
    "enderecos = mapa[mapa['longitude'].isnull()]"
   ]
  },
  {
   "cell_type": "code",
   "execution_count": 52,
   "id": "c7827a29",
   "metadata": {},
   "outputs": [
    {
     "data": {
      "text/plain": [
       "0"
      ]
     },
     "execution_count": 52,
     "metadata": {},
     "output_type": "execute_result"
    }
   ],
   "source": [
    "enderecos['log1'].isnull().sum()"
   ]
  },
  {
   "cell_type": "code",
   "execution_count": 49,
   "id": "3fedea0f",
   "metadata": {},
   "outputs": [],
   "source": [
    "from tqdm import tqdm\n",
    "tqdm.pandas()"
   ]
  },
  {
   "cell_type": "code",
   "execution_count": 53,
   "id": "d62cb4a0",
   "metadata": {},
   "outputs": [],
   "source": [
    "from geopy.geocoders import Nominatim\n",
    "from geopy.extra.rate_limiter import RateLimiter\n",
    "\n",
    "geolocator = Nominatim(user_agent='app_tt')\n",
    "\n",
    "geocode = RateLimiter(geolocator.geocode, min_delay_seconds=1)"
   ]
  },
  {
   "cell_type": "code",
   "execution_count": 54,
   "id": "1f0ab472",
   "metadata": {},
   "outputs": [
    {
     "name": "stderr",
     "output_type": "stream",
     "text": [
      "100%|█████████████████████████████████████████| 666/666 [11:07<00:00,  1.00s/it]"
     ]
    },
    {
     "name": "stdout",
     "output_type": "stream",
     "text": [
      "CPU times: user 3.49 s, sys: 242 ms, total: 3.73 s\n",
      "Wall time: 11min 7s\n"
     ]
    },
    {
     "name": "stderr",
     "output_type": "stream",
     "text": [
      "\n"
     ]
    }
   ],
   "source": [
    "%%time\n",
    "\n",
    "enderecos['coordenadas'] = enderecos['log1'].progress_apply(geocode)"
   ]
  },
  {
   "cell_type": "code",
   "execution_count": 55,
   "id": "f54a3326",
   "metadata": {},
   "outputs": [
    {
     "data": {
      "text/plain": [
       "60606    (RBS TV Porto Alegre, Santa Tereza, Porto Aleg...\n",
       "60799    (Avenida Presidente Castello Branco, Navegante...\n",
       "60841    (Rua Dom Pedro II, São João, Porto Alegre, Reg...\n",
       "60918    (Avenida Borges de Medeiros, Rolante, Região G...\n",
       "60937    (Praça Nossa Sra Aparecida, Estância Velha, Ca...\n",
       "Name: coordenadas, dtype: object"
      ]
     },
     "execution_count": 55,
     "metadata": {},
     "output_type": "execute_result"
    }
   ],
   "source": [
    "enderecos['coordenadas'].head()"
   ]
  },
  {
   "cell_type": "code",
   "execution_count": 56,
   "id": "a1d4d199",
   "metadata": {},
   "outputs": [],
   "source": [
    "enderecos['latitude'] = enderecos['coordenadas'].apply(lambda loc: loc.point[0] if loc else None)\n",
    "enderecos['longitude'] = enderecos['coordenadas'].apply(lambda loc: loc.point[1] if loc else None)"
   ]
  },
  {
   "cell_type": "code",
   "execution_count": 57,
   "id": "84e67d6f",
   "metadata": {},
   "outputs": [
    {
     "data": {
      "text/html": [
       "<div>\n",
       "<style scoped>\n",
       "    .dataframe tbody tr th:only-of-type {\n",
       "        vertical-align: middle;\n",
       "    }\n",
       "\n",
       "    .dataframe tbody tr th {\n",
       "        vertical-align: top;\n",
       "    }\n",
       "\n",
       "    .dataframe thead th {\n",
       "        text-align: right;\n",
       "    }\n",
       "</style>\n",
       "<table border=\"1\" class=\"dataframe\">\n",
       "  <thead>\n",
       "    <tr style=\"text-align: right;\">\n",
       "      <th></th>\n",
       "      <th>data</th>\n",
       "      <th>longitude</th>\n",
       "      <th>latitude</th>\n",
       "      <th>log1</th>\n",
       "      <th>tipo_acid</th>\n",
       "      <th>coordenadas</th>\n",
       "    </tr>\n",
       "  </thead>\n",
       "  <tbody>\n",
       "    <tr>\n",
       "      <th>60606</th>\n",
       "      <td>2021-01-01</td>\n",
       "      <td>-51.230328</td>\n",
       "      <td>-30.071189</td>\n",
       "      <td>nan, Porto Alegre, RS, Brasil</td>\n",
       "      <td>ABALROAMENTO</td>\n",
       "      <td>(RBS TV Porto Alegre, Santa Tereza, Porto Aleg...</td>\n",
       "    </tr>\n",
       "    <tr>\n",
       "      <th>60799</th>\n",
       "      <td>2021-01-07</td>\n",
       "      <td>-51.207532</td>\n",
       "      <td>-30.001306</td>\n",
       "      <td>AV PRESIDENTE CASTELO BRANCO , Porto Alegre, R...</td>\n",
       "      <td>COLISÃO</td>\n",
       "      <td>(Avenida Presidente Castello Branco, Navegante...</td>\n",
       "    </tr>\n",
       "    <tr>\n",
       "      <th>60841</th>\n",
       "      <td>2021-01-09</td>\n",
       "      <td>-51.189574</td>\n",
       "      <td>-30.009683</td>\n",
       "      <td>R DOM PEDRO II , Porto Alegre, RS, Brasil</td>\n",
       "      <td>ABALROAMENTO</td>\n",
       "      <td>(Rua Dom Pedro II, São João, Porto Alegre, Reg...</td>\n",
       "    </tr>\n",
       "    <tr>\n",
       "      <th>60918</th>\n",
       "      <td>2021-01-10</td>\n",
       "      <td>-50.583368</td>\n",
       "      <td>-29.660932</td>\n",
       "      <td>AV BORGES DE MEDEIROS , Porto Alegre, RS, Brasil</td>\n",
       "      <td>COLISÃO</td>\n",
       "      <td>(Avenida Borges de Medeiros, Rolante, Região G...</td>\n",
       "    </tr>\n",
       "    <tr>\n",
       "      <th>60937</th>\n",
       "      <td>2021-01-11</td>\n",
       "      <td>-51.134428</td>\n",
       "      <td>-29.911510</td>\n",
       "      <td>nossa sra aparecida, Porto Alegre, RS, Brasil</td>\n",
       "      <td>QUEDA</td>\n",
       "      <td>(Praça Nossa Sra Aparecida, Estância Velha, Ca...</td>\n",
       "    </tr>\n",
       "  </tbody>\n",
       "</table>\n",
       "</div>"
      ],
      "text/plain": [
       "            data  longitude   latitude  \\\n",
       "60606 2021-01-01 -51.230328 -30.071189   \n",
       "60799 2021-01-07 -51.207532 -30.001306   \n",
       "60841 2021-01-09 -51.189574 -30.009683   \n",
       "60918 2021-01-10 -50.583368 -29.660932   \n",
       "60937 2021-01-11 -51.134428 -29.911510   \n",
       "\n",
       "                                                    log1     tipo_acid  \\\n",
       "60606                      nan, Porto Alegre, RS, Brasil  ABALROAMENTO   \n",
       "60799  AV PRESIDENTE CASTELO BRANCO , Porto Alegre, R...       COLISÃO   \n",
       "60841          R DOM PEDRO II , Porto Alegre, RS, Brasil  ABALROAMENTO   \n",
       "60918   AV BORGES DE MEDEIROS , Porto Alegre, RS, Brasil       COLISÃO   \n",
       "60937      nossa sra aparecida, Porto Alegre, RS, Brasil         QUEDA   \n",
       "\n",
       "                                             coordenadas  \n",
       "60606  (RBS TV Porto Alegre, Santa Tereza, Porto Aleg...  \n",
       "60799  (Avenida Presidente Castello Branco, Navegante...  \n",
       "60841  (Rua Dom Pedro II, São João, Porto Alegre, Reg...  \n",
       "60918  (Avenida Borges de Medeiros, Rolante, Região G...  \n",
       "60937  (Praça Nossa Sra Aparecida, Estância Velha, Ca...  "
      ]
     },
     "execution_count": 57,
     "metadata": {},
     "output_type": "execute_result"
    }
   ],
   "source": [
    "enderecos.head()"
   ]
  },
  {
   "cell_type": "code",
   "execution_count": 59,
   "id": "4af1a759",
   "metadata": {},
   "outputs": [],
   "source": [
    "faltantes = enderecos[enderecos['latitude'].isnull()]"
   ]
  },
  {
   "cell_type": "code",
   "execution_count": 60,
   "id": "404c6d7d",
   "metadata": {},
   "outputs": [],
   "source": [
    "enderecos.dropna(inplace=True)\n",
    "enderecos.drop(columns='coordenadas', inplace=True)"
   ]
  },
  {
   "cell_type": "code",
   "execution_count": 61,
   "id": "cff11fa4",
   "metadata": {},
   "outputs": [
    {
     "data": {
      "text/html": [
       "<div>\n",
       "<style scoped>\n",
       "    .dataframe tbody tr th:only-of-type {\n",
       "        vertical-align: middle;\n",
       "    }\n",
       "\n",
       "    .dataframe tbody tr th {\n",
       "        vertical-align: top;\n",
       "    }\n",
       "\n",
       "    .dataframe thead th {\n",
       "        text-align: right;\n",
       "    }\n",
       "</style>\n",
       "<table border=\"1\" class=\"dataframe\">\n",
       "  <thead>\n",
       "    <tr style=\"text-align: right;\">\n",
       "      <th></th>\n",
       "      <th>data</th>\n",
       "      <th>longitude</th>\n",
       "      <th>latitude</th>\n",
       "      <th>log1</th>\n",
       "      <th>tipo_acid</th>\n",
       "    </tr>\n",
       "  </thead>\n",
       "  <tbody>\n",
       "    <tr>\n",
       "      <th>60606</th>\n",
       "      <td>2021-01-01</td>\n",
       "      <td>-51.230328</td>\n",
       "      <td>-30.071189</td>\n",
       "      <td>nan, Porto Alegre, RS, Brasil</td>\n",
       "      <td>ABALROAMENTO</td>\n",
       "    </tr>\n",
       "    <tr>\n",
       "      <th>60799</th>\n",
       "      <td>2021-01-07</td>\n",
       "      <td>-51.207532</td>\n",
       "      <td>-30.001306</td>\n",
       "      <td>AV PRESIDENTE CASTELO BRANCO , Porto Alegre, R...</td>\n",
       "      <td>COLISÃO</td>\n",
       "    </tr>\n",
       "    <tr>\n",
       "      <th>60841</th>\n",
       "      <td>2021-01-09</td>\n",
       "      <td>-51.189574</td>\n",
       "      <td>-30.009683</td>\n",
       "      <td>R DOM PEDRO II , Porto Alegre, RS, Brasil</td>\n",
       "      <td>ABALROAMENTO</td>\n",
       "    </tr>\n",
       "    <tr>\n",
       "      <th>60918</th>\n",
       "      <td>2021-01-10</td>\n",
       "      <td>-50.583368</td>\n",
       "      <td>-29.660932</td>\n",
       "      <td>AV BORGES DE MEDEIROS , Porto Alegre, RS, Brasil</td>\n",
       "      <td>COLISÃO</td>\n",
       "    </tr>\n",
       "    <tr>\n",
       "      <th>60937</th>\n",
       "      <td>2021-01-11</td>\n",
       "      <td>-51.134428</td>\n",
       "      <td>-29.911510</td>\n",
       "      <td>nossa sra aparecida, Porto Alegre, RS, Brasil</td>\n",
       "      <td>QUEDA</td>\n",
       "    </tr>\n",
       "  </tbody>\n",
       "</table>\n",
       "</div>"
      ],
      "text/plain": [
       "            data  longitude   latitude  \\\n",
       "60606 2021-01-01 -51.230328 -30.071189   \n",
       "60799 2021-01-07 -51.207532 -30.001306   \n",
       "60841 2021-01-09 -51.189574 -30.009683   \n",
       "60918 2021-01-10 -50.583368 -29.660932   \n",
       "60937 2021-01-11 -51.134428 -29.911510   \n",
       "\n",
       "                                                    log1     tipo_acid  \n",
       "60606                      nan, Porto Alegre, RS, Brasil  ABALROAMENTO  \n",
       "60799  AV PRESIDENTE CASTELO BRANCO , Porto Alegre, R...       COLISÃO  \n",
       "60841          R DOM PEDRO II , Porto Alegre, RS, Brasil  ABALROAMENTO  \n",
       "60918   AV BORGES DE MEDEIROS , Porto Alegre, RS, Brasil       COLISÃO  \n",
       "60937      nossa sra aparecida, Porto Alegre, RS, Brasil         QUEDA  "
      ]
     },
     "execution_count": 61,
     "metadata": {},
     "output_type": "execute_result"
    }
   ],
   "source": [
    "enderecos.head()"
   ]
  },
  {
   "cell_type": "code",
   "execution_count": 63,
   "id": "fbf6c2c6",
   "metadata": {},
   "outputs": [],
   "source": [
    "mapa = mapa[ ~mapa['latitude'].isnull() ]"
   ]
  },
  {
   "cell_type": "code",
   "execution_count": 64,
   "id": "fef980c6",
   "metadata": {},
   "outputs": [],
   "source": [
    "mapa_final = pd.concat([mapa, enderecos])"
   ]
  },
  {
   "cell_type": "code",
   "execution_count": 66,
   "id": "2d16a771",
   "metadata": {},
   "outputs": [
    {
     "data": {
      "text/plain": [
       "0"
      ]
     },
     "execution_count": 66,
     "metadata": {},
     "output_type": "execute_result"
    }
   ],
   "source": [
    "mapa_final['latitude'].isnull().sum()"
   ]
  },
  {
   "cell_type": "code",
   "execution_count": 67,
   "id": "2f431ebb",
   "metadata": {},
   "outputs": [],
   "source": [
    "amostra = mapa_final.sample(50)"
   ]
  },
  {
   "cell_type": "code",
   "execution_count": 68,
   "id": "e9014cc8",
   "metadata": {},
   "outputs": [
    {
     "name": "stdout",
     "output_type": "stream",
     "text": [
      "Requirement already satisfied: folium in /home/valli/anaconda3/lib/python3.8/site-packages (0.12.1.post1)\n",
      "Requirement already satisfied: branca>=0.3.0 in /home/valli/anaconda3/lib/python3.8/site-packages (from folium) (0.4.2)\n",
      "Requirement already satisfied: jinja2>=2.9 in /home/valli/anaconda3/lib/python3.8/site-packages (from folium) (2.11.3)\n",
      "Requirement already satisfied: requests in /home/valli/anaconda3/lib/python3.8/site-packages (from folium) (2.26.0)\n",
      "Requirement already satisfied: numpy in /home/valli/anaconda3/lib/python3.8/site-packages (from folium) (1.20.3)\n",
      "Requirement already satisfied: MarkupSafe>=0.23 in /home/valli/anaconda3/lib/python3.8/site-packages (from jinja2>=2.9->folium) (2.0.1)\n",
      "Requirement already satisfied: idna<4,>=2.5 in /home/valli/anaconda3/lib/python3.8/site-packages (from requests->folium) (3.2)\n",
      "Requirement already satisfied: charset-normalizer~=2.0.0 in /home/valli/anaconda3/lib/python3.8/site-packages (from requests->folium) (2.0.4)\n",
      "Requirement already satisfied: urllib3<1.27,>=1.21.1 in /home/valli/anaconda3/lib/python3.8/site-packages (from requests->folium) (1.26.7)\n",
      "Requirement already satisfied: certifi>=2017.4.17 in /home/valli/anaconda3/lib/python3.8/site-packages (from requests->folium) (2021.10.8)\n",
      "Note: you may need to restart the kernel to use updated packages.\n"
     ]
    }
   ],
   "source": [
    "pip install folium"
   ]
  },
  {
   "cell_type": "code",
   "execution_count": 74,
   "id": "fa0f0279",
   "metadata": {},
   "outputs": [
    {
     "data": {
      "text/html": [
       "<div>\n",
       "<style scoped>\n",
       "    .dataframe tbody tr th:only-of-type {\n",
       "        vertical-align: middle;\n",
       "    }\n",
       "\n",
       "    .dataframe tbody tr th {\n",
       "        vertical-align: top;\n",
       "    }\n",
       "\n",
       "    .dataframe thead th {\n",
       "        text-align: right;\n",
       "    }\n",
       "</style>\n",
       "<table border=\"1\" class=\"dataframe\">\n",
       "  <thead>\n",
       "    <tr style=\"text-align: right;\">\n",
       "      <th></th>\n",
       "      <th>data</th>\n",
       "      <th>longitude</th>\n",
       "      <th>latitude</th>\n",
       "      <th>log1</th>\n",
       "      <th>tipo_acid</th>\n",
       "    </tr>\n",
       "  </thead>\n",
       "  <tbody>\n",
       "    <tr>\n",
       "      <th>65281</th>\n",
       "      <td>2021-06-01</td>\n",
       "      <td>-51.107051</td>\n",
       "      <td>-29.994222</td>\n",
       "      <td>AV BERNARDINO SILVEIRA DE AMORIM , Porto Alegr...</td>\n",
       "      <td>ABALROAMENTO</td>\n",
       "    </tr>\n",
       "    <tr>\n",
       "      <th>62422</th>\n",
       "      <td>2021-02-26</td>\n",
       "      <td>-51.176854</td>\n",
       "      <td>-30.112671</td>\n",
       "      <td>AV PROF OSCAR PEREIRA , Porto Alegre, RS, Brasil</td>\n",
       "      <td>COLISÃO</td>\n",
       "    </tr>\n",
       "    <tr>\n",
       "      <th>71271</th>\n",
       "      <td>2021-11-03</td>\n",
       "      <td>-51.217221</td>\n",
       "      <td>-30.026445</td>\n",
       "      <td>AV FARRAPOS , Porto Alegre, RS, Brasil</td>\n",
       "      <td>ABALROAMENTO</td>\n",
       "    </tr>\n",
       "    <tr>\n",
       "      <th>65675</th>\n",
       "      <td>2021-06-10</td>\n",
       "      <td>-51.228315</td>\n",
       "      <td>-30.038774</td>\n",
       "      <td>AV LOUREIRO DA SILVA , Porto Alegre, RS, Brasil</td>\n",
       "      <td>COLISÃO</td>\n",
       "    </tr>\n",
       "    <tr>\n",
       "      <th>66754</th>\n",
       "      <td>2021-07-02</td>\n",
       "      <td>-51.188234</td>\n",
       "      <td>-29.996752</td>\n",
       "      <td>R EDU CHAVES , Porto Alegre, RS, Brasil</td>\n",
       "      <td>ABALROAMENTO</td>\n",
       "    </tr>\n",
       "  </tbody>\n",
       "</table>\n",
       "</div>"
      ],
      "text/plain": [
       "            data  longitude   latitude  \\\n",
       "65281 2021-06-01 -51.107051 -29.994222   \n",
       "62422 2021-02-26 -51.176854 -30.112671   \n",
       "71271 2021-11-03 -51.217221 -30.026445   \n",
       "65675 2021-06-10 -51.228315 -30.038774   \n",
       "66754 2021-07-02 -51.188234 -29.996752   \n",
       "\n",
       "                                                    log1     tipo_acid  \n",
       "65281  AV BERNARDINO SILVEIRA DE AMORIM , Porto Alegr...  ABALROAMENTO  \n",
       "62422   AV PROF OSCAR PEREIRA , Porto Alegre, RS, Brasil       COLISÃO  \n",
       "71271             AV FARRAPOS , Porto Alegre, RS, Brasil  ABALROAMENTO  \n",
       "65675    AV LOUREIRO DA SILVA , Porto Alegre, RS, Brasil       COLISÃO  \n",
       "66754            R EDU CHAVES , Porto Alegre, RS, Brasil  ABALROAMENTO  "
      ]
     },
     "execution_count": 74,
     "metadata": {},
     "output_type": "execute_result"
    }
   ],
   "source": [
    "amostra.head()"
   ]
  },
  {
   "cell_type": "code",
   "execution_count": 69,
   "id": "ada3505c",
   "metadata": {},
   "outputs": [],
   "source": [
    "import folium"
   ]
  },
  {
   "cell_type": "code",
   "execution_count": 70,
   "id": "51ea4f30",
   "metadata": {},
   "outputs": [],
   "source": [
    "poa = folium.Map(\n",
    "        location=[-30.16, -51.17],\n",
    "        zoom_start = 12\n",
    ")"
   ]
  },
  {
   "cell_type": "code",
   "execution_count": 75,
   "id": "5880b904",
   "metadata": {},
   "outputs": [],
   "source": [
    "for i, linha in amostra.iterrows():\n",
    "    folium.Marker([linha['latitude'], linha['longitude']], popup=[linha['tipo_acid'], linha['data']]).add_to(poa)"
   ]
  },
  {
   "cell_type": "code",
   "execution_count": 76,
   "id": "dd666c45",
   "metadata": {},
   "outputs": [
    {
     "data": {
      "text/html": [
       "<div style=\"width:100%;\"><div style=\"position:relative;width:100%;height:0;padding-bottom:60%;\"><span style=\"color:#565656\">Make this Notebook Trusted to load map: File -> Trust Notebook</span><iframe src=\"about:blank\" style=\"position:absolute;width:100%;height:100%;left:0;top:0;border:none !important;\" data-html=%3C%21DOCTYPE%20html%3E%0A%3Chead%3E%20%20%20%20%0A%20%20%20%20%3Cmeta%20http-equiv%3D%22content-type%22%20content%3D%22text/html%3B%20charset%3DUTF-8%22%20/%3E%0A%20%20%20%20%0A%20%20%20%20%20%20%20%20%3Cscript%3E%0A%20%20%20%20%20%20%20%20%20%20%20%20L_NO_TOUCH%20%3D%20false%3B%0A%20%20%20%20%20%20%20%20%20%20%20%20L_DISABLE_3D%20%3D%20false%3B%0A%20%20%20%20%20%20%20%20%3C/script%3E%0A%20%20%20%20%0A%20%20%20%20%3Cstyle%3Ehtml%2C%20body%20%7Bwidth%3A%20100%25%3Bheight%3A%20100%25%3Bmargin%3A%200%3Bpadding%3A%200%3B%7D%3C/style%3E%0A%20%20%20%20%3Cstyle%3E%23map%20%7Bposition%3Aabsolute%3Btop%3A0%3Bbottom%3A0%3Bright%3A0%3Bleft%3A0%3B%7D%3C/style%3E%0A%20%20%20%20%3Cscript%20src%3D%22https%3A//cdn.jsdelivr.net/npm/leaflet%401.6.0/dist/leaflet.js%22%3E%3C/script%3E%0A%20%20%20%20%3Cscript%20src%3D%22https%3A//code.jquery.com/jquery-1.12.4.min.js%22%3E%3C/script%3E%0A%20%20%20%20%3Cscript%20src%3D%22https%3A//maxcdn.bootstrapcdn.com/bootstrap/3.2.0/js/bootstrap.min.js%22%3E%3C/script%3E%0A%20%20%20%20%3Cscript%20src%3D%22https%3A//cdnjs.cloudflare.com/ajax/libs/Leaflet.awesome-markers/2.0.2/leaflet.awesome-markers.js%22%3E%3C/script%3E%0A%20%20%20%20%3Clink%20rel%3D%22stylesheet%22%20href%3D%22https%3A//cdn.jsdelivr.net/npm/leaflet%401.6.0/dist/leaflet.css%22/%3E%0A%20%20%20%20%3Clink%20rel%3D%22stylesheet%22%20href%3D%22https%3A//maxcdn.bootstrapcdn.com/bootstrap/3.2.0/css/bootstrap.min.css%22/%3E%0A%20%20%20%20%3Clink%20rel%3D%22stylesheet%22%20href%3D%22https%3A//maxcdn.bootstrapcdn.com/bootstrap/3.2.0/css/bootstrap-theme.min.css%22/%3E%0A%20%20%20%20%3Clink%20rel%3D%22stylesheet%22%20href%3D%22https%3A//maxcdn.bootstrapcdn.com/font-awesome/4.6.3/css/font-awesome.min.css%22/%3E%0A%20%20%20%20%3Clink%20rel%3D%22stylesheet%22%20href%3D%22https%3A//cdnjs.cloudflare.com/ajax/libs/Leaflet.awesome-markers/2.0.2/leaflet.awesome-markers.css%22/%3E%0A%20%20%20%20%3Clink%20rel%3D%22stylesheet%22%20href%3D%22https%3A//cdn.jsdelivr.net/gh/python-visualization/folium/folium/templates/leaflet.awesome.rotate.min.css%22/%3E%0A%20%20%20%20%0A%20%20%20%20%20%20%20%20%20%20%20%20%3Cmeta%20name%3D%22viewport%22%20content%3D%22width%3Ddevice-width%2C%0A%20%20%20%20%20%20%20%20%20%20%20%20%20%20%20%20initial-scale%3D1.0%2C%20maximum-scale%3D1.0%2C%20user-scalable%3Dno%22%20/%3E%0A%20%20%20%20%20%20%20%20%20%20%20%20%3Cstyle%3E%0A%20%20%20%20%20%20%20%20%20%20%20%20%20%20%20%20%23map_c70ec8233814462c85007897579d6139%20%7B%0A%20%20%20%20%20%20%20%20%20%20%20%20%20%20%20%20%20%20%20%20position%3A%20relative%3B%0A%20%20%20%20%20%20%20%20%20%20%20%20%20%20%20%20%20%20%20%20width%3A%20100.0%25%3B%0A%20%20%20%20%20%20%20%20%20%20%20%20%20%20%20%20%20%20%20%20height%3A%20100.0%25%3B%0A%20%20%20%20%20%20%20%20%20%20%20%20%20%20%20%20%20%20%20%20left%3A%200.0%25%3B%0A%20%20%20%20%20%20%20%20%20%20%20%20%20%20%20%20%20%20%20%20top%3A%200.0%25%3B%0A%20%20%20%20%20%20%20%20%20%20%20%20%20%20%20%20%7D%0A%20%20%20%20%20%20%20%20%20%20%20%20%3C/style%3E%0A%20%20%20%20%20%20%20%20%0A%3C/head%3E%0A%3Cbody%3E%20%20%20%20%0A%20%20%20%20%0A%20%20%20%20%20%20%20%20%20%20%20%20%3Cdiv%20class%3D%22folium-map%22%20id%3D%22map_c70ec8233814462c85007897579d6139%22%20%3E%3C/div%3E%0A%20%20%20%20%20%20%20%20%0A%3C/body%3E%0A%3Cscript%3E%20%20%20%20%0A%20%20%20%20%0A%20%20%20%20%20%20%20%20%20%20%20%20var%20map_c70ec8233814462c85007897579d6139%20%3D%20L.map%28%0A%20%20%20%20%20%20%20%20%20%20%20%20%20%20%20%20%22map_c70ec8233814462c85007897579d6139%22%2C%0A%20%20%20%20%20%20%20%20%20%20%20%20%20%20%20%20%7B%0A%20%20%20%20%20%20%20%20%20%20%20%20%20%20%20%20%20%20%20%20center%3A%20%5B-30.16%2C%20-51.17%5D%2C%0A%20%20%20%20%20%20%20%20%20%20%20%20%20%20%20%20%20%20%20%20crs%3A%20L.CRS.EPSG3857%2C%0A%20%20%20%20%20%20%20%20%20%20%20%20%20%20%20%20%20%20%20%20zoom%3A%2012%2C%0A%20%20%20%20%20%20%20%20%20%20%20%20%20%20%20%20%20%20%20%20zoomControl%3A%20true%2C%0A%20%20%20%20%20%20%20%20%20%20%20%20%20%20%20%20%20%20%20%20preferCanvas%3A%20false%2C%0A%20%20%20%20%20%20%20%20%20%20%20%20%20%20%20%20%7D%0A%20%20%20%20%20%20%20%20%20%20%20%20%29%3B%0A%0A%20%20%20%20%20%20%20%20%20%20%20%20%0A%0A%20%20%20%20%20%20%20%20%0A%20%20%20%20%0A%20%20%20%20%20%20%20%20%20%20%20%20var%20tile_layer_0aaae3cac92e48e0ae9dcf3dddd1c2d8%20%3D%20L.tileLayer%28%0A%20%20%20%20%20%20%20%20%20%20%20%20%20%20%20%20%22https%3A//%7Bs%7D.tile.openstreetmap.org/%7Bz%7D/%7Bx%7D/%7By%7D.png%22%2C%0A%20%20%20%20%20%20%20%20%20%20%20%20%20%20%20%20%7B%22attribution%22%3A%20%22Data%20by%20%5Cu0026copy%3B%20%5Cu003ca%20href%3D%5C%22http%3A//openstreetmap.org%5C%22%5Cu003eOpenStreetMap%5Cu003c/a%5Cu003e%2C%20under%20%5Cu003ca%20href%3D%5C%22http%3A//www.openstreetmap.org/copyright%5C%22%5Cu003eODbL%5Cu003c/a%5Cu003e.%22%2C%20%22detectRetina%22%3A%20false%2C%20%22maxNativeZoom%22%3A%2018%2C%20%22maxZoom%22%3A%2018%2C%20%22minZoom%22%3A%200%2C%20%22noWrap%22%3A%20false%2C%20%22opacity%22%3A%201%2C%20%22subdomains%22%3A%20%22abc%22%2C%20%22tms%22%3A%20false%7D%0A%20%20%20%20%20%20%20%20%20%20%20%20%29.addTo%28map_c70ec8233814462c85007897579d6139%29%3B%0A%20%20%20%20%20%20%20%20%0A%20%20%20%20%0A%20%20%20%20%20%20%20%20%20%20%20%20var%20marker_f5eee18bc0e648db8fcf81ccb3b3729a%20%3D%20L.marker%28%0A%20%20%20%20%20%20%20%20%20%20%20%20%20%20%20%20%5B-29.994221886122773%2C%20-51.10705135458984%5D%2C%0A%20%20%20%20%20%20%20%20%20%20%20%20%20%20%20%20%7B%7D%0A%20%20%20%20%20%20%20%20%20%20%20%20%29.addTo%28map_c70ec8233814462c85007897579d6139%29%3B%0A%20%20%20%20%20%20%20%20%0A%20%20%20%20%0A%20%20%20%20%20%20%20%20var%20popup_d32eff69c46c4377a3be4383bb7943f4%20%3D%20L.popup%28%7B%22maxWidth%22%3A%20%22100%25%22%7D%29%3B%0A%0A%20%20%20%20%20%20%20%20%0A%20%20%20%20%20%20%20%20%20%20%20%20var%20html_99fd2000d76a48eab750dd285cf76b55%20%3D%20%24%28%60%3Cdiv%20id%3D%22html_99fd2000d76a48eab750dd285cf76b55%22%20style%3D%22width%3A%20100.0%25%3B%20height%3A%20100.0%25%3B%22%3EABALROAMENTO%3C/div%3E%60%29%5B0%5D%3B%0A%20%20%20%20%20%20%20%20%20%20%20%20popup_d32eff69c46c4377a3be4383bb7943f4.setContent%28html_99fd2000d76a48eab750dd285cf76b55%29%3B%0A%20%20%20%20%20%20%20%20%0A%0A%20%20%20%20%20%20%20%20marker_f5eee18bc0e648db8fcf81ccb3b3729a.bindPopup%28popup_d32eff69c46c4377a3be4383bb7943f4%29%0A%20%20%20%20%20%20%20%20%3B%0A%0A%20%20%20%20%20%20%20%20%0A%20%20%20%20%0A%20%20%20%20%0A%20%20%20%20%20%20%20%20%20%20%20%20var%20marker_d6efbee3bc9b4ad084934ab49f1f4613%20%3D%20L.marker%28%0A%20%20%20%20%20%20%20%20%20%20%20%20%20%20%20%20%5B-30.11267084558557%2C%20-51.176853770172144%5D%2C%0A%20%20%20%20%20%20%20%20%20%20%20%20%20%20%20%20%7B%7D%0A%20%20%20%20%20%20%20%20%20%20%20%20%29.addTo%28map_c70ec8233814462c85007897579d6139%29%3B%0A%20%20%20%20%20%20%20%20%0A%20%20%20%20%0A%20%20%20%20%20%20%20%20var%20popup_e83dd5770459413b83eb41e927ddab4d%20%3D%20L.popup%28%7B%22maxWidth%22%3A%20%22100%25%22%7D%29%3B%0A%0A%20%20%20%20%20%20%20%20%0A%20%20%20%20%20%20%20%20%20%20%20%20var%20html_fc65ada845444fc08c45974ed394b280%20%3D%20%24%28%60%3Cdiv%20id%3D%22html_fc65ada845444fc08c45974ed394b280%22%20style%3D%22width%3A%20100.0%25%3B%20height%3A%20100.0%25%3B%22%3ECOLIS%C3%83O%3C/div%3E%60%29%5B0%5D%3B%0A%20%20%20%20%20%20%20%20%20%20%20%20popup_e83dd5770459413b83eb41e927ddab4d.setContent%28html_fc65ada845444fc08c45974ed394b280%29%3B%0A%20%20%20%20%20%20%20%20%0A%0A%20%20%20%20%20%20%20%20marker_d6efbee3bc9b4ad084934ab49f1f4613.bindPopup%28popup_e83dd5770459413b83eb41e927ddab4d%29%0A%20%20%20%20%20%20%20%20%3B%0A%0A%20%20%20%20%20%20%20%20%0A%20%20%20%20%0A%20%20%20%20%0A%20%20%20%20%20%20%20%20%20%20%20%20var%20marker_de0da8b2868b453b9226cdf0423edb8c%20%3D%20L.marker%28%0A%20%20%20%20%20%20%20%20%20%20%20%20%20%20%20%20%5B-30.0264449%2C%20-51.2172206%5D%2C%0A%20%20%20%20%20%20%20%20%20%20%20%20%20%20%20%20%7B%7D%0A%20%20%20%20%20%20%20%20%20%20%20%20%29.addTo%28map_c70ec8233814462c85007897579d6139%29%3B%0A%20%20%20%20%20%20%20%20%0A%20%20%20%20%0A%20%20%20%20%20%20%20%20var%20popup_4aa2ccfd3fb040579dc8b1c73faa9197%20%3D%20L.popup%28%7B%22maxWidth%22%3A%20%22100%25%22%7D%29%3B%0A%0A%20%20%20%20%20%20%20%20%0A%20%20%20%20%20%20%20%20%20%20%20%20var%20html_6733e8f391764ae288e673789d7337c2%20%3D%20%24%28%60%3Cdiv%20id%3D%22html_6733e8f391764ae288e673789d7337c2%22%20style%3D%22width%3A%20100.0%25%3B%20height%3A%20100.0%25%3B%22%3EABALROAMENTO%3C/div%3E%60%29%5B0%5D%3B%0A%20%20%20%20%20%20%20%20%20%20%20%20popup_4aa2ccfd3fb040579dc8b1c73faa9197.setContent%28html_6733e8f391764ae288e673789d7337c2%29%3B%0A%20%20%20%20%20%20%20%20%0A%0A%20%20%20%20%20%20%20%20marker_de0da8b2868b453b9226cdf0423edb8c.bindPopup%28popup_4aa2ccfd3fb040579dc8b1c73faa9197%29%0A%20%20%20%20%20%20%20%20%3B%0A%0A%20%20%20%20%20%20%20%20%0A%20%20%20%20%0A%20%20%20%20%0A%20%20%20%20%20%20%20%20%20%20%20%20var%20marker_fd886dd8134947c7aa43096080036c36%20%3D%20L.marker%28%0A%20%20%20%20%20%20%20%20%20%20%20%20%20%20%20%20%5B-30.03877389904889%2C%20-51.228314638137824%5D%2C%0A%20%20%20%20%20%20%20%20%20%20%20%20%20%20%20%20%7B%7D%0A%20%20%20%20%20%20%20%20%20%20%20%20%29.addTo%28map_c70ec8233814462c85007897579d6139%29%3B%0A%20%20%20%20%20%20%20%20%0A%20%20%20%20%0A%20%20%20%20%20%20%20%20var%20popup_a402422f356346b28bfccbceb066a5aa%20%3D%20L.popup%28%7B%22maxWidth%22%3A%20%22100%25%22%7D%29%3B%0A%0A%20%20%20%20%20%20%20%20%0A%20%20%20%20%20%20%20%20%20%20%20%20var%20html_bf7d259b2bdf4f5994f3732e664533a4%20%3D%20%24%28%60%3Cdiv%20id%3D%22html_bf7d259b2bdf4f5994f3732e664533a4%22%20style%3D%22width%3A%20100.0%25%3B%20height%3A%20100.0%25%3B%22%3ECOLIS%C3%83O%3C/div%3E%60%29%5B0%5D%3B%0A%20%20%20%20%20%20%20%20%20%20%20%20popup_a402422f356346b28bfccbceb066a5aa.setContent%28html_bf7d259b2bdf4f5994f3732e664533a4%29%3B%0A%20%20%20%20%20%20%20%20%0A%0A%20%20%20%20%20%20%20%20marker_fd886dd8134947c7aa43096080036c36.bindPopup%28popup_a402422f356346b28bfccbceb066a5aa%29%0A%20%20%20%20%20%20%20%20%3B%0A%0A%20%20%20%20%20%20%20%20%0A%20%20%20%20%0A%20%20%20%20%0A%20%20%20%20%20%20%20%20%20%20%20%20var%20marker_0eb0e2096c3a499f8a4aeacf74020bc0%20%3D%20L.marker%28%0A%20%20%20%20%20%20%20%20%20%20%20%20%20%20%20%20%5B-29.99675157596461%2C%20-51.188234388828285%5D%2C%0A%20%20%20%20%20%20%20%20%20%20%20%20%20%20%20%20%7B%7D%0A%20%20%20%20%20%20%20%20%20%20%20%20%29.addTo%28map_c70ec8233814462c85007897579d6139%29%3B%0A%20%20%20%20%20%20%20%20%0A%20%20%20%20%0A%20%20%20%20%20%20%20%20var%20popup_31551aa81522413ebedca0ecab7b5e7b%20%3D%20L.popup%28%7B%22maxWidth%22%3A%20%22100%25%22%7D%29%3B%0A%0A%20%20%20%20%20%20%20%20%0A%20%20%20%20%20%20%20%20%20%20%20%20var%20html_20c0bf60708c4aca834d2845a4dd7ad3%20%3D%20%24%28%60%3Cdiv%20id%3D%22html_20c0bf60708c4aca834d2845a4dd7ad3%22%20style%3D%22width%3A%20100.0%25%3B%20height%3A%20100.0%25%3B%22%3EABALROAMENTO%3C/div%3E%60%29%5B0%5D%3B%0A%20%20%20%20%20%20%20%20%20%20%20%20popup_31551aa81522413ebedca0ecab7b5e7b.setContent%28html_20c0bf60708c4aca834d2845a4dd7ad3%29%3B%0A%20%20%20%20%20%20%20%20%0A%0A%20%20%20%20%20%20%20%20marker_0eb0e2096c3a499f8a4aeacf74020bc0.bindPopup%28popup_31551aa81522413ebedca0ecab7b5e7b%29%0A%20%20%20%20%20%20%20%20%3B%0A%0A%20%20%20%20%20%20%20%20%0A%20%20%20%20%0A%20%20%20%20%0A%20%20%20%20%20%20%20%20%20%20%20%20var%20marker_83a9df35e26e48839871e9c470905cca%20%3D%20L.marker%28%0A%20%20%20%20%20%20%20%20%20%20%20%20%20%20%20%20%5B-30.07309570507031%2C%20-51.19863331317902%5D%2C%0A%20%20%20%20%20%20%20%20%20%20%20%20%20%20%20%20%7B%7D%0A%20%20%20%20%20%20%20%20%20%20%20%20%29.addTo%28map_c70ec8233814462c85007897579d6139%29%3B%0A%20%20%20%20%20%20%20%20%0A%20%20%20%20%0A%20%20%20%20%20%20%20%20var%20popup_29a7a315813143a7bb9cbe8393b77f4e%20%3D%20L.popup%28%7B%22maxWidth%22%3A%20%22100%25%22%7D%29%3B%0A%0A%20%20%20%20%20%20%20%20%0A%20%20%20%20%20%20%20%20%20%20%20%20var%20html_81b8904fb8f849e7820454fe36b7a54e%20%3D%20%24%28%60%3Cdiv%20id%3D%22html_81b8904fb8f849e7820454fe36b7a54e%22%20style%3D%22width%3A%20100.0%25%3B%20height%3A%20100.0%25%3B%22%3EABALROAMENTO%3C/div%3E%60%29%5B0%5D%3B%0A%20%20%20%20%20%20%20%20%20%20%20%20popup_29a7a315813143a7bb9cbe8393b77f4e.setContent%28html_81b8904fb8f849e7820454fe36b7a54e%29%3B%0A%20%20%20%20%20%20%20%20%0A%0A%20%20%20%20%20%20%20%20marker_83a9df35e26e48839871e9c470905cca.bindPopup%28popup_29a7a315813143a7bb9cbe8393b77f4e%29%0A%20%20%20%20%20%20%20%20%3B%0A%0A%20%20%20%20%20%20%20%20%0A%20%20%20%20%0A%20%20%20%20%0A%20%20%20%20%20%20%20%20%20%20%20%20var%20marker_a879ef4ad52c440fa55d41d891e97e01%20%3D%20L.marker%28%0A%20%20%20%20%20%20%20%20%20%20%20%20%20%20%20%20%5B-30.041490546867603%2C%20-51.15399062633515%5D%2C%0A%20%20%20%20%20%20%20%20%20%20%20%20%20%20%20%20%7B%7D%0A%20%20%20%20%20%20%20%20%20%20%20%20%29.addTo%28map_c70ec8233814462c85007897579d6139%29%3B%0A%20%20%20%20%20%20%20%20%0A%20%20%20%20%0A%20%20%20%20%20%20%20%20var%20popup_81bfa720bda249328933a5fa4d024293%20%3D%20L.popup%28%7B%22maxWidth%22%3A%20%22100%25%22%7D%29%3B%0A%0A%20%20%20%20%20%20%20%20%0A%20%20%20%20%20%20%20%20%20%20%20%20var%20html_072ea88c68294b44afcbb05b6461c290%20%3D%20%24%28%60%3Cdiv%20id%3D%22html_072ea88c68294b44afcbb05b6461c290%22%20style%3D%22width%3A%20100.0%25%3B%20height%3A%20100.0%25%3B%22%3EABALROAMENTO%3C/div%3E%60%29%5B0%5D%3B%0A%20%20%20%20%20%20%20%20%20%20%20%20popup_81bfa720bda249328933a5fa4d024293.setContent%28html_072ea88c68294b44afcbb05b6461c290%29%3B%0A%20%20%20%20%20%20%20%20%0A%0A%20%20%20%20%20%20%20%20marker_a879ef4ad52c440fa55d41d891e97e01.bindPopup%28popup_81bfa720bda249328933a5fa4d024293%29%0A%20%20%20%20%20%20%20%20%3B%0A%0A%20%20%20%20%20%20%20%20%0A%20%20%20%20%0A%20%20%20%20%0A%20%20%20%20%20%20%20%20%20%20%20%20var%20marker_d6e1d8d3fcd741bb8511519072cad525%20%3D%20L.marker%28%0A%20%20%20%20%20%20%20%20%20%20%20%20%20%20%20%20%5B-30.0386356%2C%20-51.1738196%5D%2C%0A%20%20%20%20%20%20%20%20%20%20%20%20%20%20%20%20%7B%7D%0A%20%20%20%20%20%20%20%20%20%20%20%20%29.addTo%28map_c70ec8233814462c85007897579d6139%29%3B%0A%20%20%20%20%20%20%20%20%0A%20%20%20%20%0A%20%20%20%20%20%20%20%20var%20popup_06be4725bd6645308217d9af9f469630%20%3D%20L.popup%28%7B%22maxWidth%22%3A%20%22100%25%22%7D%29%3B%0A%0A%20%20%20%20%20%20%20%20%0A%20%20%20%20%20%20%20%20%20%20%20%20var%20html_e2a625aa869649c4accc35bfc96f10b2%20%3D%20%24%28%60%3Cdiv%20id%3D%22html_e2a625aa869649c4accc35bfc96f10b2%22%20style%3D%22width%3A%20100.0%25%3B%20height%3A%20100.0%25%3B%22%3ECOLIS%C3%83O%3C/div%3E%60%29%5B0%5D%3B%0A%20%20%20%20%20%20%20%20%20%20%20%20popup_06be4725bd6645308217d9af9f469630.setContent%28html_e2a625aa869649c4accc35bfc96f10b2%29%3B%0A%20%20%20%20%20%20%20%20%0A%0A%20%20%20%20%20%20%20%20marker_d6e1d8d3fcd741bb8511519072cad525.bindPopup%28popup_06be4725bd6645308217d9af9f469630%29%0A%20%20%20%20%20%20%20%20%3B%0A%0A%20%20%20%20%20%20%20%20%0A%20%20%20%20%0A%20%20%20%20%0A%20%20%20%20%20%20%20%20%20%20%20%20var%20marker_5ec96073206740af8a55ac0d12309ecb%20%3D%20L.marker%28%0A%20%20%20%20%20%20%20%20%20%20%20%20%20%20%20%20%5B-30.21924736054125%2C%20-51.07153539969953%5D%2C%0A%20%20%20%20%20%20%20%20%20%20%20%20%20%20%20%20%7B%7D%0A%20%20%20%20%20%20%20%20%20%20%20%20%29.addTo%28map_c70ec8233814462c85007897579d6139%29%3B%0A%20%20%20%20%20%20%20%20%0A%20%20%20%20%0A%20%20%20%20%20%20%20%20var%20popup_4908c57f1bb84db1b48c521b72f28914%20%3D%20L.popup%28%7B%22maxWidth%22%3A%20%22100%25%22%7D%29%3B%0A%0A%20%20%20%20%20%20%20%20%0A%20%20%20%20%20%20%20%20%20%20%20%20var%20html_d266bcdc873d44b9ba99d143b8cd1076%20%3D%20%24%28%60%3Cdiv%20id%3D%22html_d266bcdc873d44b9ba99d143b8cd1076%22%20style%3D%22width%3A%20100.0%25%3B%20height%3A%20100.0%25%3B%22%3ECAPOTAGEM%3C/div%3E%60%29%5B0%5D%3B%0A%20%20%20%20%20%20%20%20%20%20%20%20popup_4908c57f1bb84db1b48c521b72f28914.setContent%28html_d266bcdc873d44b9ba99d143b8cd1076%29%3B%0A%20%20%20%20%20%20%20%20%0A%0A%20%20%20%20%20%20%20%20marker_5ec96073206740af8a55ac0d12309ecb.bindPopup%28popup_4908c57f1bb84db1b48c521b72f28914%29%0A%20%20%20%20%20%20%20%20%3B%0A%0A%20%20%20%20%20%20%20%20%0A%20%20%20%20%0A%20%20%20%20%0A%20%20%20%20%20%20%20%20%20%20%20%20var%20marker_2ca7ccc224574a7b8db11cffbbe90d18%20%3D%20L.marker%28%0A%20%20%20%20%20%20%20%20%20%20%20%20%20%20%20%20%5B-30.02876867880441%2C%20-51.21945329010487%5D%2C%0A%20%20%20%20%20%20%20%20%20%20%20%20%20%20%20%20%7B%7D%0A%20%20%20%20%20%20%20%20%20%20%20%20%29.addTo%28map_c70ec8233814462c85007897579d6139%29%3B%0A%20%20%20%20%20%20%20%20%0A%20%20%20%20%0A%20%20%20%20%20%20%20%20var%20popup_2322cce739b2461c8ea954d51681f665%20%3D%20L.popup%28%7B%22maxWidth%22%3A%20%22100%25%22%7D%29%3B%0A%0A%20%20%20%20%20%20%20%20%0A%20%20%20%20%20%20%20%20%20%20%20%20var%20html_903560c120ad4281b204f89400cd8cf3%20%3D%20%24%28%60%3Cdiv%20id%3D%22html_903560c120ad4281b204f89400cd8cf3%22%20style%3D%22width%3A%20100.0%25%3B%20height%3A%20100.0%25%3B%22%3ECOLIS%C3%83O%3C/div%3E%60%29%5B0%5D%3B%0A%20%20%20%20%20%20%20%20%20%20%20%20popup_2322cce739b2461c8ea954d51681f665.setContent%28html_903560c120ad4281b204f89400cd8cf3%29%3B%0A%20%20%20%20%20%20%20%20%0A%0A%20%20%20%20%20%20%20%20marker_2ca7ccc224574a7b8db11cffbbe90d18.bindPopup%28popup_2322cce739b2461c8ea954d51681f665%29%0A%20%20%20%20%20%20%20%20%3B%0A%0A%20%20%20%20%20%20%20%20%0A%20%20%20%20%0A%20%20%20%20%0A%20%20%20%20%20%20%20%20%20%20%20%20var%20marker_dbfdfb95e1a34e7d9052278013d0c1d4%20%3D%20L.marker%28%0A%20%20%20%20%20%20%20%20%20%20%20%20%20%20%20%20%5B-30.02474422827213%2C%20-51.13146371673835%5D%2C%0A%20%20%20%20%20%20%20%20%20%20%20%20%20%20%20%20%7B%7D%0A%20%20%20%20%20%20%20%20%20%20%20%20%29.addTo%28map_c70ec8233814462c85007897579d6139%29%3B%0A%20%20%20%20%20%20%20%20%0A%20%20%20%20%0A%20%20%20%20%20%20%20%20var%20popup_eadfe97ab6d14e4c8cd1ee46dd490ab6%20%3D%20L.popup%28%7B%22maxWidth%22%3A%20%22100%25%22%7D%29%3B%0A%0A%20%20%20%20%20%20%20%20%0A%20%20%20%20%20%20%20%20%20%20%20%20var%20html_102b8bdd816844e5a3750e465abf4c2f%20%3D%20%24%28%60%3Cdiv%20id%3D%22html_102b8bdd816844e5a3750e465abf4c2f%22%20style%3D%22width%3A%20100.0%25%3B%20height%3A%20100.0%25%3B%22%3EABALROAMENTO%3C/div%3E%60%29%5B0%5D%3B%0A%20%20%20%20%20%20%20%20%20%20%20%20popup_eadfe97ab6d14e4c8cd1ee46dd490ab6.setContent%28html_102b8bdd816844e5a3750e465abf4c2f%29%3B%0A%20%20%20%20%20%20%20%20%0A%0A%20%20%20%20%20%20%20%20marker_dbfdfb95e1a34e7d9052278013d0c1d4.bindPopup%28popup_eadfe97ab6d14e4c8cd1ee46dd490ab6%29%0A%20%20%20%20%20%20%20%20%3B%0A%0A%20%20%20%20%20%20%20%20%0A%20%20%20%20%0A%20%20%20%20%0A%20%20%20%20%20%20%20%20%20%20%20%20var%20marker_616983203fdf4c4a86cb5e7e6295f929%20%3D%20L.marker%28%0A%20%20%20%20%20%20%20%20%20%20%20%20%20%20%20%20%5B-30.002453056486203%2C%20-51.16657914082019%5D%2C%0A%20%20%20%20%20%20%20%20%20%20%20%20%20%20%20%20%7B%7D%0A%20%20%20%20%20%20%20%20%20%20%20%20%29.addTo%28map_c70ec8233814462c85007897579d6139%29%3B%0A%20%20%20%20%20%20%20%20%0A%20%20%20%20%0A%20%20%20%20%20%20%20%20var%20popup_92e230faad274b2ca310e8e0c75e690d%20%3D%20L.popup%28%7B%22maxWidth%22%3A%20%22100%25%22%7D%29%3B%0A%0A%20%20%20%20%20%20%20%20%0A%20%20%20%20%20%20%20%20%20%20%20%20var%20html_d39e74c35bce4b1382375bd47cb5f5f7%20%3D%20%24%28%60%3Cdiv%20id%3D%22html_d39e74c35bce4b1382375bd47cb5f5f7%22%20style%3D%22width%3A%20100.0%25%3B%20height%3A%20100.0%25%3B%22%3ECHOQUE%3C/div%3E%60%29%5B0%5D%3B%0A%20%20%20%20%20%20%20%20%20%20%20%20popup_92e230faad274b2ca310e8e0c75e690d.setContent%28html_d39e74c35bce4b1382375bd47cb5f5f7%29%3B%0A%20%20%20%20%20%20%20%20%0A%0A%20%20%20%20%20%20%20%20marker_616983203fdf4c4a86cb5e7e6295f929.bindPopup%28popup_92e230faad274b2ca310e8e0c75e690d%29%0A%20%20%20%20%20%20%20%20%3B%0A%0A%20%20%20%20%20%20%20%20%0A%20%20%20%20%0A%20%20%20%20%0A%20%20%20%20%20%20%20%20%20%20%20%20var%20marker_277a903a92714686b7cf268bd9f3ddca%20%3D%20L.marker%28%0A%20%20%20%20%20%20%20%20%20%20%20%20%20%20%20%20%5B-30.0023938%2C%20-51.2085367%5D%2C%0A%20%20%20%20%20%20%20%20%20%20%20%20%20%20%20%20%7B%7D%0A%20%20%20%20%20%20%20%20%20%20%20%20%29.addTo%28map_c70ec8233814462c85007897579d6139%29%3B%0A%20%20%20%20%20%20%20%20%0A%20%20%20%20%0A%20%20%20%20%20%20%20%20var%20popup_fc2b9bf54dca4013b34c730ad78e7c2d%20%3D%20L.popup%28%7B%22maxWidth%22%3A%20%22100%25%22%7D%29%3B%0A%0A%20%20%20%20%20%20%20%20%0A%20%20%20%20%20%20%20%20%20%20%20%20var%20html_44ee6c01bede4628b6b10a8537f35262%20%3D%20%24%28%60%3Cdiv%20id%3D%22html_44ee6c01bede4628b6b10a8537f35262%22%20style%3D%22width%3A%20100.0%25%3B%20height%3A%20100.0%25%3B%22%3EQUEDA%3C/div%3E%60%29%5B0%5D%3B%0A%20%20%20%20%20%20%20%20%20%20%20%20popup_fc2b9bf54dca4013b34c730ad78e7c2d.setContent%28html_44ee6c01bede4628b6b10a8537f35262%29%3B%0A%20%20%20%20%20%20%20%20%0A%0A%20%20%20%20%20%20%20%20marker_277a903a92714686b7cf268bd9f3ddca.bindPopup%28popup_fc2b9bf54dca4013b34c730ad78e7c2d%29%0A%20%20%20%20%20%20%20%20%3B%0A%0A%20%20%20%20%20%20%20%20%0A%20%20%20%20%0A%20%20%20%20%0A%20%20%20%20%20%20%20%20%20%20%20%20var%20marker_01c3672f57ea49c996c7fb56a0410989%20%3D%20L.marker%28%0A%20%20%20%20%20%20%20%20%20%20%20%20%20%20%20%20%5B-30.047331%2C%20-51.2137029%5D%2C%0A%20%20%20%20%20%20%20%20%20%20%20%20%20%20%20%20%7B%7D%0A%20%20%20%20%20%20%20%20%20%20%20%20%29.addTo%28map_c70ec8233814462c85007897579d6139%29%3B%0A%20%20%20%20%20%20%20%20%0A%20%20%20%20%0A%20%20%20%20%20%20%20%20var%20popup_b00e22c446a6429ea862d98594d2b761%20%3D%20L.popup%28%7B%22maxWidth%22%3A%20%22100%25%22%7D%29%3B%0A%0A%20%20%20%20%20%20%20%20%0A%20%20%20%20%20%20%20%20%20%20%20%20var%20html_6751f88f90b54f8fadc0d603e4ece03c%20%3D%20%24%28%60%3Cdiv%20id%3D%22html_6751f88f90b54f8fadc0d603e4ece03c%22%20style%3D%22width%3A%20100.0%25%3B%20height%3A%20100.0%25%3B%22%3ENAO%20CADASTRADO%3C/div%3E%60%29%5B0%5D%3B%0A%20%20%20%20%20%20%20%20%20%20%20%20popup_b00e22c446a6429ea862d98594d2b761.setContent%28html_6751f88f90b54f8fadc0d603e4ece03c%29%3B%0A%20%20%20%20%20%20%20%20%0A%0A%20%20%20%20%20%20%20%20marker_01c3672f57ea49c996c7fb56a0410989.bindPopup%28popup_b00e22c446a6429ea862d98594d2b761%29%0A%20%20%20%20%20%20%20%20%3B%0A%0A%20%20%20%20%20%20%20%20%0A%20%20%20%20%0A%20%20%20%20%0A%20%20%20%20%20%20%20%20%20%20%20%20var%20marker_af134d143e214782977b979fc11ac327%20%3D%20L.marker%28%0A%20%20%20%20%20%20%20%20%20%20%20%20%20%20%20%20%5B-30.01817859381667%2C%20-51.13617999545269%5D%2C%0A%20%20%20%20%20%20%20%20%20%20%20%20%20%20%20%20%7B%7D%0A%20%20%20%20%20%20%20%20%20%20%20%20%29.addTo%28map_c70ec8233814462c85007897579d6139%29%3B%0A%20%20%20%20%20%20%20%20%0A%20%20%20%20%0A%20%20%20%20%20%20%20%20var%20popup_ef0839669697429ea2e49f6306e06823%20%3D%20L.popup%28%7B%22maxWidth%22%3A%20%22100%25%22%7D%29%3B%0A%0A%20%20%20%20%20%20%20%20%0A%20%20%20%20%20%20%20%20%20%20%20%20var%20html_993960f2df894981a77b4a731b9097bf%20%3D%20%24%28%60%3Cdiv%20id%3D%22html_993960f2df894981a77b4a731b9097bf%22%20style%3D%22width%3A%20100.0%25%3B%20height%3A%20100.0%25%3B%22%3EABALROAMENTO%3C/div%3E%60%29%5B0%5D%3B%0A%20%20%20%20%20%20%20%20%20%20%20%20popup_ef0839669697429ea2e49f6306e06823.setContent%28html_993960f2df894981a77b4a731b9097bf%29%3B%0A%20%20%20%20%20%20%20%20%0A%0A%20%20%20%20%20%20%20%20marker_af134d143e214782977b979fc11ac327.bindPopup%28popup_ef0839669697429ea2e49f6306e06823%29%0A%20%20%20%20%20%20%20%20%3B%0A%0A%20%20%20%20%20%20%20%20%0A%20%20%20%20%0A%20%20%20%20%0A%20%20%20%20%20%20%20%20%20%20%20%20var%20marker_fcaa365d05824bbeadb08eb30ece95bf%20%3D%20L.marker%28%0A%20%20%20%20%20%20%20%20%20%20%20%20%20%20%20%20%5B-30.03872087305288%2C%20-51.1223851007912%5D%2C%0A%20%20%20%20%20%20%20%20%20%20%20%20%20%20%20%20%7B%7D%0A%20%20%20%20%20%20%20%20%20%20%20%20%29.addTo%28map_c70ec8233814462c85007897579d6139%29%3B%0A%20%20%20%20%20%20%20%20%0A%20%20%20%20%0A%20%20%20%20%20%20%20%20var%20popup_caba6de75edb44ec88256319f7b5c655%20%3D%20L.popup%28%7B%22maxWidth%22%3A%20%22100%25%22%7D%29%3B%0A%0A%20%20%20%20%20%20%20%20%0A%20%20%20%20%20%20%20%20%20%20%20%20var%20html_42adba6f6d664a4aa3fd32c625998481%20%3D%20%24%28%60%3Cdiv%20id%3D%22html_42adba6f6d664a4aa3fd32c625998481%22%20style%3D%22width%3A%20100.0%25%3B%20height%3A%20100.0%25%3B%22%3ECOLIS%C3%83O%3C/div%3E%60%29%5B0%5D%3B%0A%20%20%20%20%20%20%20%20%20%20%20%20popup_caba6de75edb44ec88256319f7b5c655.setContent%28html_42adba6f6d664a4aa3fd32c625998481%29%3B%0A%20%20%20%20%20%20%20%20%0A%0A%20%20%20%20%20%20%20%20marker_fcaa365d05824bbeadb08eb30ece95bf.bindPopup%28popup_caba6de75edb44ec88256319f7b5c655%29%0A%20%20%20%20%20%20%20%20%3B%0A%0A%20%20%20%20%20%20%20%20%0A%20%20%20%20%0A%20%20%20%20%0A%20%20%20%20%20%20%20%20%20%20%20%20var%20marker_fe9b15ace73e40009f3e602942e83877%20%3D%20L.marker%28%0A%20%20%20%20%20%20%20%20%20%20%20%20%20%20%20%20%5B-29.998173203335003%2C%20-51.15359097719193%5D%2C%0A%20%20%20%20%20%20%20%20%20%20%20%20%20%20%20%20%7B%7D%0A%20%20%20%20%20%20%20%20%20%20%20%20%29.addTo%28map_c70ec8233814462c85007897579d6139%29%3B%0A%20%20%20%20%20%20%20%20%0A%20%20%20%20%0A%20%20%20%20%20%20%20%20var%20popup_8dee5ca7f69c4f45aad424fe9101e470%20%3D%20L.popup%28%7B%22maxWidth%22%3A%20%22100%25%22%7D%29%3B%0A%0A%20%20%20%20%20%20%20%20%0A%20%20%20%20%20%20%20%20%20%20%20%20var%20html_d03dd39f9721422abdfccbfce15f98ed%20%3D%20%24%28%60%3Cdiv%20id%3D%22html_d03dd39f9721422abdfccbfce15f98ed%22%20style%3D%22width%3A%20100.0%25%3B%20height%3A%20100.0%25%3B%22%3ECOLIS%C3%83O%3C/div%3E%60%29%5B0%5D%3B%0A%20%20%20%20%20%20%20%20%20%20%20%20popup_8dee5ca7f69c4f45aad424fe9101e470.setContent%28html_d03dd39f9721422abdfccbfce15f98ed%29%3B%0A%20%20%20%20%20%20%20%20%0A%0A%20%20%20%20%20%20%20%20marker_fe9b15ace73e40009f3e602942e83877.bindPopup%28popup_8dee5ca7f69c4f45aad424fe9101e470%29%0A%20%20%20%20%20%20%20%20%3B%0A%0A%20%20%20%20%20%20%20%20%0A%20%20%20%20%0A%20%20%20%20%0A%20%20%20%20%20%20%20%20%20%20%20%20var%20marker_0a9f66c99fa345a09c447be822886cba%20%3D%20L.marker%28%0A%20%20%20%20%20%20%20%20%20%20%20%20%20%20%20%20%5B-30.06925687867531%2C%20-51.188324711123656%5D%2C%0A%20%20%20%20%20%20%20%20%20%20%20%20%20%20%20%20%7B%7D%0A%20%20%20%20%20%20%20%20%20%20%20%20%29.addTo%28map_c70ec8233814462c85007897579d6139%29%3B%0A%20%20%20%20%20%20%20%20%0A%20%20%20%20%0A%20%20%20%20%20%20%20%20var%20popup_f44ce8afb8dd4440b659bfae0c1751ec%20%3D%20L.popup%28%7B%22maxWidth%22%3A%20%22100%25%22%7D%29%3B%0A%0A%20%20%20%20%20%20%20%20%0A%20%20%20%20%20%20%20%20%20%20%20%20var%20html_6bae3f5de03b4777912111cfdbf12d17%20%3D%20%24%28%60%3Cdiv%20id%3D%22html_6bae3f5de03b4777912111cfdbf12d17%22%20style%3D%22width%3A%20100.0%25%3B%20height%3A%20100.0%25%3B%22%3EQUEDA%3C/div%3E%60%29%5B0%5D%3B%0A%20%20%20%20%20%20%20%20%20%20%20%20popup_f44ce8afb8dd4440b659bfae0c1751ec.setContent%28html_6bae3f5de03b4777912111cfdbf12d17%29%3B%0A%20%20%20%20%20%20%20%20%0A%0A%20%20%20%20%20%20%20%20marker_0a9f66c99fa345a09c447be822886cba.bindPopup%28popup_f44ce8afb8dd4440b659bfae0c1751ec%29%0A%20%20%20%20%20%20%20%20%3B%0A%0A%20%20%20%20%20%20%20%20%0A%20%20%20%20%0A%20%20%20%20%0A%20%20%20%20%20%20%20%20%20%20%20%20var%20marker_1e12d0b4d53a4a78a5938b981548e566%20%3D%20L.marker%28%0A%20%20%20%20%20%20%20%20%20%20%20%20%20%20%20%20%5B-30.0670132%2C%20-51.1834667%5D%2C%0A%20%20%20%20%20%20%20%20%20%20%20%20%20%20%20%20%7B%7D%0A%20%20%20%20%20%20%20%20%20%20%20%20%29.addTo%28map_c70ec8233814462c85007897579d6139%29%3B%0A%20%20%20%20%20%20%20%20%0A%20%20%20%20%0A%20%20%20%20%20%20%20%20var%20popup_0da4e2d1a79944c98f145999c4c01b8a%20%3D%20L.popup%28%7B%22maxWidth%22%3A%20%22100%25%22%7D%29%3B%0A%0A%20%20%20%20%20%20%20%20%0A%20%20%20%20%20%20%20%20%20%20%20%20var%20html_722967ab6f3f42bcac851f8ec76d6bd7%20%3D%20%24%28%60%3Cdiv%20id%3D%22html_722967ab6f3f42bcac851f8ec76d6bd7%22%20style%3D%22width%3A%20100.0%25%3B%20height%3A%20100.0%25%3B%22%3ECHOQUE%3C/div%3E%60%29%5B0%5D%3B%0A%20%20%20%20%20%20%20%20%20%20%20%20popup_0da4e2d1a79944c98f145999c4c01b8a.setContent%28html_722967ab6f3f42bcac851f8ec76d6bd7%29%3B%0A%20%20%20%20%20%20%20%20%0A%0A%20%20%20%20%20%20%20%20marker_1e12d0b4d53a4a78a5938b981548e566.bindPopup%28popup_0da4e2d1a79944c98f145999c4c01b8a%29%0A%20%20%20%20%20%20%20%20%3B%0A%0A%20%20%20%20%20%20%20%20%0A%20%20%20%20%0A%20%20%20%20%0A%20%20%20%20%20%20%20%20%20%20%20%20var%20marker_6b08eaff89b64076a9a696c33e780410%20%3D%20L.marker%28%0A%20%20%20%20%20%20%20%20%20%20%20%20%20%20%20%20%5B-30.03498277043656%2C%20-51.2408908488109%5D%2C%0A%20%20%20%20%20%20%20%20%20%20%20%20%20%20%20%20%7B%7D%0A%20%20%20%20%20%20%20%20%20%20%20%20%29.addTo%28map_c70ec8233814462c85007897579d6139%29%3B%0A%20%20%20%20%20%20%20%20%0A%20%20%20%20%0A%20%20%20%20%20%20%20%20var%20popup_97138fa5519e488bba50e360e4bc1559%20%3D%20L.popup%28%7B%22maxWidth%22%3A%20%22100%25%22%7D%29%3B%0A%0A%20%20%20%20%20%20%20%20%0A%20%20%20%20%20%20%20%20%20%20%20%20var%20html_c8ee5962a01a4335b24d78d38e855a5c%20%3D%20%24%28%60%3Cdiv%20id%3D%22html_c8ee5962a01a4335b24d78d38e855a5c%22%20style%3D%22width%3A%20100.0%25%3B%20height%3A%20100.0%25%3B%22%3ECOLIS%C3%83O%3C/div%3E%60%29%5B0%5D%3B%0A%20%20%20%20%20%20%20%20%20%20%20%20popup_97138fa5519e488bba50e360e4bc1559.setContent%28html_c8ee5962a01a4335b24d78d38e855a5c%29%3B%0A%20%20%20%20%20%20%20%20%0A%0A%20%20%20%20%20%20%20%20marker_6b08eaff89b64076a9a696c33e780410.bindPopup%28popup_97138fa5519e488bba50e360e4bc1559%29%0A%20%20%20%20%20%20%20%20%3B%0A%0A%20%20%20%20%20%20%20%20%0A%20%20%20%20%0A%20%20%20%20%0A%20%20%20%20%20%20%20%20%20%20%20%20var%20marker_fcf1ea28fda040658bf030a74373c3b0%20%3D%20L.marker%28%0A%20%20%20%20%20%20%20%20%20%20%20%20%20%20%20%20%5B-30.10137842832408%2C%20-51.138343771523104%5D%2C%0A%20%20%20%20%20%20%20%20%20%20%20%20%20%20%20%20%7B%7D%0A%20%20%20%20%20%20%20%20%20%20%20%20%29.addTo%28map_c70ec8233814462c85007897579d6139%29%3B%0A%20%20%20%20%20%20%20%20%0A%20%20%20%20%0A%20%20%20%20%20%20%20%20var%20popup_c127128c0130459190861e748ed1d231%20%3D%20L.popup%28%7B%22maxWidth%22%3A%20%22100%25%22%7D%29%3B%0A%0A%20%20%20%20%20%20%20%20%0A%20%20%20%20%20%20%20%20%20%20%20%20var%20html_376b62702b6945acbebe43b8845ed3ba%20%3D%20%24%28%60%3Cdiv%20id%3D%22html_376b62702b6945acbebe43b8845ed3ba%22%20style%3D%22width%3A%20100.0%25%3B%20height%3A%20100.0%25%3B%22%3EQUEDA%3C/div%3E%60%29%5B0%5D%3B%0A%20%20%20%20%20%20%20%20%20%20%20%20popup_c127128c0130459190861e748ed1d231.setContent%28html_376b62702b6945acbebe43b8845ed3ba%29%3B%0A%20%20%20%20%20%20%20%20%0A%0A%20%20%20%20%20%20%20%20marker_fcf1ea28fda040658bf030a74373c3b0.bindPopup%28popup_c127128c0130459190861e748ed1d231%29%0A%20%20%20%20%20%20%20%20%3B%0A%0A%20%20%20%20%20%20%20%20%0A%20%20%20%20%0A%20%20%20%20%0A%20%20%20%20%20%20%20%20%20%20%20%20var%20marker_a494ae61a0b24e498780125c42ed21aa%20%3D%20L.marker%28%0A%20%20%20%20%20%20%20%20%20%20%20%20%20%20%20%20%5B-30.1115072153763%2C%20-51.110132138005326%5D%2C%0A%20%20%20%20%20%20%20%20%20%20%20%20%20%20%20%20%7B%7D%0A%20%20%20%20%20%20%20%20%20%20%20%20%29.addTo%28map_c70ec8233814462c85007897579d6139%29%3B%0A%20%20%20%20%20%20%20%20%0A%20%20%20%20%0A%20%20%20%20%20%20%20%20var%20popup_b1f271dcdb43422dad915ab70c7f5ca2%20%3D%20L.popup%28%7B%22maxWidth%22%3A%20%22100%25%22%7D%29%3B%0A%0A%20%20%20%20%20%20%20%20%0A%20%20%20%20%20%20%20%20%20%20%20%20var%20html_f0096c91c53d4dbf8fa4e850c58ca9ef%20%3D%20%24%28%60%3Cdiv%20id%3D%22html_f0096c91c53d4dbf8fa4e850c58ca9ef%22%20style%3D%22width%3A%20100.0%25%3B%20height%3A%20100.0%25%3B%22%3ECOLIS%C3%83O%3C/div%3E%60%29%5B0%5D%3B%0A%20%20%20%20%20%20%20%20%20%20%20%20popup_b1f271dcdb43422dad915ab70c7f5ca2.setContent%28html_f0096c91c53d4dbf8fa4e850c58ca9ef%29%3B%0A%20%20%20%20%20%20%20%20%0A%0A%20%20%20%20%20%20%20%20marker_a494ae61a0b24e498780125c42ed21aa.bindPopup%28popup_b1f271dcdb43422dad915ab70c7f5ca2%29%0A%20%20%20%20%20%20%20%20%3B%0A%0A%20%20%20%20%20%20%20%20%0A%20%20%20%20%0A%20%20%20%20%0A%20%20%20%20%20%20%20%20%20%20%20%20var%20marker_3cd92a48f3044754b5c9d6d08ac3430b%20%3D%20L.marker%28%0A%20%20%20%20%20%20%20%20%20%20%20%20%20%20%20%20%5B-30.022475592913977%2C%20-51.15159938520793%5D%2C%0A%20%20%20%20%20%20%20%20%20%20%20%20%20%20%20%20%7B%7D%0A%20%20%20%20%20%20%20%20%20%20%20%20%29.addTo%28map_c70ec8233814462c85007897579d6139%29%3B%0A%20%20%20%20%20%20%20%20%0A%20%20%20%20%0A%20%20%20%20%20%20%20%20var%20popup_31601a5d12ea474cbe22605f528c768f%20%3D%20L.popup%28%7B%22maxWidth%22%3A%20%22100%25%22%7D%29%3B%0A%0A%20%20%20%20%20%20%20%20%0A%20%20%20%20%20%20%20%20%20%20%20%20var%20html_09f3a9fb8d87436c92d9d6808203b462%20%3D%20%24%28%60%3Cdiv%20id%3D%22html_09f3a9fb8d87436c92d9d6808203b462%22%20style%3D%22width%3A%20100.0%25%3B%20height%3A%20100.0%25%3B%22%3EABALROAMENTO%3C/div%3E%60%29%5B0%5D%3B%0A%20%20%20%20%20%20%20%20%20%20%20%20popup_31601a5d12ea474cbe22605f528c768f.setContent%28html_09f3a9fb8d87436c92d9d6808203b462%29%3B%0A%20%20%20%20%20%20%20%20%0A%0A%20%20%20%20%20%20%20%20marker_3cd92a48f3044754b5c9d6d08ac3430b.bindPopup%28popup_31601a5d12ea474cbe22605f528c768f%29%0A%20%20%20%20%20%20%20%20%3B%0A%0A%20%20%20%20%20%20%20%20%0A%20%20%20%20%0A%20%20%20%20%0A%20%20%20%20%20%20%20%20%20%20%20%20var%20marker_a416ae964b3744c688de6a38e0f44a06%20%3D%20L.marker%28%0A%20%20%20%20%20%20%20%20%20%20%20%20%20%20%20%20%5B-30.018126724276257%2C%20-51.17873485450062%5D%2C%0A%20%20%20%20%20%20%20%20%20%20%20%20%20%20%20%20%7B%7D%0A%20%20%20%20%20%20%20%20%20%20%20%20%29.addTo%28map_c70ec8233814462c85007897579d6139%29%3B%0A%20%20%20%20%20%20%20%20%0A%20%20%20%20%0A%20%20%20%20%20%20%20%20var%20popup_6c5a69b3ee4d4f8ca9d7ed60334ff2d8%20%3D%20L.popup%28%7B%22maxWidth%22%3A%20%22100%25%22%7D%29%3B%0A%0A%20%20%20%20%20%20%20%20%0A%20%20%20%20%20%20%20%20%20%20%20%20var%20html_256daa5afe7e475a9b8a5ac668d03400%20%3D%20%24%28%60%3Cdiv%20id%3D%22html_256daa5afe7e475a9b8a5ac668d03400%22%20style%3D%22width%3A%20100.0%25%3B%20height%3A%20100.0%25%3B%22%3ECHOQUE%3C/div%3E%60%29%5B0%5D%3B%0A%20%20%20%20%20%20%20%20%20%20%20%20popup_6c5a69b3ee4d4f8ca9d7ed60334ff2d8.setContent%28html_256daa5afe7e475a9b8a5ac668d03400%29%3B%0A%20%20%20%20%20%20%20%20%0A%0A%20%20%20%20%20%20%20%20marker_a416ae964b3744c688de6a38e0f44a06.bindPopup%28popup_6c5a69b3ee4d4f8ca9d7ed60334ff2d8%29%0A%20%20%20%20%20%20%20%20%3B%0A%0A%20%20%20%20%20%20%20%20%0A%20%20%20%20%0A%20%20%20%20%0A%20%20%20%20%20%20%20%20%20%20%20%20var%20marker_6c5769ccfbe54f49bdee2b65d566d642%20%3D%20L.marker%28%0A%20%20%20%20%20%20%20%20%20%20%20%20%20%20%20%20%5B-30.117406632357607%2C%20-51.11114832513388%5D%2C%0A%20%20%20%20%20%20%20%20%20%20%20%20%20%20%20%20%7B%7D%0A%20%20%20%20%20%20%20%20%20%20%20%20%29.addTo%28map_c70ec8233814462c85007897579d6139%29%3B%0A%20%20%20%20%20%20%20%20%0A%20%20%20%20%0A%20%20%20%20%20%20%20%20var%20popup_8d4cafd5393445e0890bc47e6a652b01%20%3D%20L.popup%28%7B%22maxWidth%22%3A%20%22100%25%22%7D%29%3B%0A%0A%20%20%20%20%20%20%20%20%0A%20%20%20%20%20%20%20%20%20%20%20%20var%20html_39a1ad5dfb034ecb97ee8f17d0d0df93%20%3D%20%24%28%60%3Cdiv%20id%3D%22html_39a1ad5dfb034ecb97ee8f17d0d0df93%22%20style%3D%22width%3A%20100.0%25%3B%20height%3A%20100.0%25%3B%22%3EATROPELAMENTO%3C/div%3E%60%29%5B0%5D%3B%0A%20%20%20%20%20%20%20%20%20%20%20%20popup_8d4cafd5393445e0890bc47e6a652b01.setContent%28html_39a1ad5dfb034ecb97ee8f17d0d0df93%29%3B%0A%20%20%20%20%20%20%20%20%0A%0A%20%20%20%20%20%20%20%20marker_6c5769ccfbe54f49bdee2b65d566d642.bindPopup%28popup_8d4cafd5393445e0890bc47e6a652b01%29%0A%20%20%20%20%20%20%20%20%3B%0A%0A%20%20%20%20%20%20%20%20%0A%20%20%20%20%0A%20%20%20%20%0A%20%20%20%20%20%20%20%20%20%20%20%20var%20marker_e140430369a94c658f27207f9a2bc14a%20%3D%20L.marker%28%0A%20%20%20%20%20%20%20%20%20%20%20%20%20%20%20%20%5B-30.0739747%2C%20-51.2412853%5D%2C%0A%20%20%20%20%20%20%20%20%20%20%20%20%20%20%20%20%7B%7D%0A%20%20%20%20%20%20%20%20%20%20%20%20%29.addTo%28map_c70ec8233814462c85007897579d6139%29%3B%0A%20%20%20%20%20%20%20%20%0A%20%20%20%20%0A%20%20%20%20%20%20%20%20var%20popup_5117f0b9d05c474681c1b84a7cf79816%20%3D%20L.popup%28%7B%22maxWidth%22%3A%20%22100%25%22%7D%29%3B%0A%0A%20%20%20%20%20%20%20%20%0A%20%20%20%20%20%20%20%20%20%20%20%20var%20html_66a7912e6c6f40feb7d299c320be0c0f%20%3D%20%24%28%60%3Cdiv%20id%3D%22html_66a7912e6c6f40feb7d299c320be0c0f%22%20style%3D%22width%3A%20100.0%25%3B%20height%3A%20100.0%25%3B%22%3EABALROAMENTO%3C/div%3E%60%29%5B0%5D%3B%0A%20%20%20%20%20%20%20%20%20%20%20%20popup_5117f0b9d05c474681c1b84a7cf79816.setContent%28html_66a7912e6c6f40feb7d299c320be0c0f%29%3B%0A%20%20%20%20%20%20%20%20%0A%0A%20%20%20%20%20%20%20%20marker_e140430369a94c658f27207f9a2bc14a.bindPopup%28popup_5117f0b9d05c474681c1b84a7cf79816%29%0A%20%20%20%20%20%20%20%20%3B%0A%0A%20%20%20%20%20%20%20%20%0A%20%20%20%20%0A%20%20%20%20%0A%20%20%20%20%20%20%20%20%20%20%20%20var%20marker_f64c97d89d7041feafb21373b9bce6b7%20%3D%20L.marker%28%0A%20%20%20%20%20%20%20%20%20%20%20%20%20%20%20%20%5B-30.080933912474155%2C%20-51.24633640050888%5D%2C%0A%20%20%20%20%20%20%20%20%20%20%20%20%20%20%20%20%7B%7D%0A%20%20%20%20%20%20%20%20%20%20%20%20%29.addTo%28map_c70ec8233814462c85007897579d6139%29%3B%0A%20%20%20%20%20%20%20%20%0A%20%20%20%20%0A%20%20%20%20%20%20%20%20var%20popup_d08cc25ec2814b1db364eddb13ff7b4a%20%3D%20L.popup%28%7B%22maxWidth%22%3A%20%22100%25%22%7D%29%3B%0A%0A%20%20%20%20%20%20%20%20%0A%20%20%20%20%20%20%20%20%20%20%20%20var%20html_a3a40b1c1fee4c6b886240bba8324879%20%3D%20%24%28%60%3Cdiv%20id%3D%22html_a3a40b1c1fee4c6b886240bba8324879%22%20style%3D%22width%3A%20100.0%25%3B%20height%3A%20100.0%25%3B%22%3EATROPELAMENTO%3C/div%3E%60%29%5B0%5D%3B%0A%20%20%20%20%20%20%20%20%20%20%20%20popup_d08cc25ec2814b1db364eddb13ff7b4a.setContent%28html_a3a40b1c1fee4c6b886240bba8324879%29%3B%0A%20%20%20%20%20%20%20%20%0A%0A%20%20%20%20%20%20%20%20marker_f64c97d89d7041feafb21373b9bce6b7.bindPopup%28popup_d08cc25ec2814b1db364eddb13ff7b4a%29%0A%20%20%20%20%20%20%20%20%3B%0A%0A%20%20%20%20%20%20%20%20%0A%20%20%20%20%0A%20%20%20%20%0A%20%20%20%20%20%20%20%20%20%20%20%20var%20marker_75e7d41b9b5545bd86df152891fb648e%20%3D%20L.marker%28%0A%20%20%20%20%20%20%20%20%20%20%20%20%20%20%20%20%5B-30.093603439907767%2C%20-51.22380587139073%5D%2C%0A%20%20%20%20%20%20%20%20%20%20%20%20%20%20%20%20%7B%7D%0A%20%20%20%20%20%20%20%20%20%20%20%20%29.addTo%28map_c70ec8233814462c85007897579d6139%29%3B%0A%20%20%20%20%20%20%20%20%0A%20%20%20%20%0A%20%20%20%20%20%20%20%20var%20popup_2f97f50c88dd4074899387ce43ad8a10%20%3D%20L.popup%28%7B%22maxWidth%22%3A%20%22100%25%22%7D%29%3B%0A%0A%20%20%20%20%20%20%20%20%0A%20%20%20%20%20%20%20%20%20%20%20%20var%20html_2c60c5f508834593a5bb8a9cee79bf5a%20%3D%20%24%28%60%3Cdiv%20id%3D%22html_2c60c5f508834593a5bb8a9cee79bf5a%22%20style%3D%22width%3A%20100.0%25%3B%20height%3A%20100.0%25%3B%22%3ECHOQUE%3C/div%3E%60%29%5B0%5D%3B%0A%20%20%20%20%20%20%20%20%20%20%20%20popup_2f97f50c88dd4074899387ce43ad8a10.setContent%28html_2c60c5f508834593a5bb8a9cee79bf5a%29%3B%0A%20%20%20%20%20%20%20%20%0A%0A%20%20%20%20%20%20%20%20marker_75e7d41b9b5545bd86df152891fb648e.bindPopup%28popup_2f97f50c88dd4074899387ce43ad8a10%29%0A%20%20%20%20%20%20%20%20%3B%0A%0A%20%20%20%20%20%20%20%20%0A%20%20%20%20%0A%20%20%20%20%0A%20%20%20%20%20%20%20%20%20%20%20%20var%20marker_e1de8ca90e0c4343844a15c5ee3a7b2e%20%3D%20L.marker%28%0A%20%20%20%20%20%20%20%20%20%20%20%20%20%20%20%20%5B-30.01737014689401%2C%20-51.10947400331498%5D%2C%0A%20%20%20%20%20%20%20%20%20%20%20%20%20%20%20%20%7B%7D%0A%20%20%20%20%20%20%20%20%20%20%20%20%29.addTo%28map_c70ec8233814462c85007897579d6139%29%3B%0A%20%20%20%20%20%20%20%20%0A%20%20%20%20%0A%20%20%20%20%20%20%20%20var%20popup_c85285d074c2432d88b7a68fe48e0385%20%3D%20L.popup%28%7B%22maxWidth%22%3A%20%22100%25%22%7D%29%3B%0A%0A%20%20%20%20%20%20%20%20%0A%20%20%20%20%20%20%20%20%20%20%20%20var%20html_b304063fb16349ef8029454426161b7f%20%3D%20%24%28%60%3Cdiv%20id%3D%22html_b304063fb16349ef8029454426161b7f%22%20style%3D%22width%3A%20100.0%25%3B%20height%3A%20100.0%25%3B%22%3EABALROAMENTO%3C/div%3E%60%29%5B0%5D%3B%0A%20%20%20%20%20%20%20%20%20%20%20%20popup_c85285d074c2432d88b7a68fe48e0385.setContent%28html_b304063fb16349ef8029454426161b7f%29%3B%0A%20%20%20%20%20%20%20%20%0A%0A%20%20%20%20%20%20%20%20marker_e1de8ca90e0c4343844a15c5ee3a7b2e.bindPopup%28popup_c85285d074c2432d88b7a68fe48e0385%29%0A%20%20%20%20%20%20%20%20%3B%0A%0A%20%20%20%20%20%20%20%20%0A%20%20%20%20%0A%20%20%20%20%0A%20%20%20%20%20%20%20%20%20%20%20%20var%20marker_3bbdf19c4e9a4771a9524729ea4eb33b%20%3D%20L.marker%28%0A%20%20%20%20%20%20%20%20%20%20%20%20%20%20%20%20%5B-30.03614541333986%2C%20-51.17568165063859%5D%2C%0A%20%20%20%20%20%20%20%20%20%20%20%20%20%20%20%20%7B%7D%0A%20%20%20%20%20%20%20%20%20%20%20%20%29.addTo%28map_c70ec8233814462c85007897579d6139%29%3B%0A%20%20%20%20%20%20%20%20%0A%20%20%20%20%0A%20%20%20%20%20%20%20%20var%20popup_a2c598e86bd24dd99aa9862c742c6cc4%20%3D%20L.popup%28%7B%22maxWidth%22%3A%20%22100%25%22%7D%29%3B%0A%0A%20%20%20%20%20%20%20%20%0A%20%20%20%20%20%20%20%20%20%20%20%20var%20html_d22522aa085348549316fa504edc0659%20%3D%20%24%28%60%3Cdiv%20id%3D%22html_d22522aa085348549316fa504edc0659%22%20style%3D%22width%3A%20100.0%25%3B%20height%3A%20100.0%25%3B%22%3ECOLIS%C3%83O%3C/div%3E%60%29%5B0%5D%3B%0A%20%20%20%20%20%20%20%20%20%20%20%20popup_a2c598e86bd24dd99aa9862c742c6cc4.setContent%28html_d22522aa085348549316fa504edc0659%29%3B%0A%20%20%20%20%20%20%20%20%0A%0A%20%20%20%20%20%20%20%20marker_3bbdf19c4e9a4771a9524729ea4eb33b.bindPopup%28popup_a2c598e86bd24dd99aa9862c742c6cc4%29%0A%20%20%20%20%20%20%20%20%3B%0A%0A%20%20%20%20%20%20%20%20%0A%20%20%20%20%0A%20%20%20%20%0A%20%20%20%20%20%20%20%20%20%20%20%20var%20marker_00b22ed243bf49d58ed411581f099a0d%20%3D%20L.marker%28%0A%20%20%20%20%20%20%20%20%20%20%20%20%20%20%20%20%5B-29.994735246015203%2C%20-51.13421738147736%5D%2C%0A%20%20%20%20%20%20%20%20%20%20%20%20%20%20%20%20%7B%7D%0A%20%20%20%20%20%20%20%20%20%20%20%20%29.addTo%28map_c70ec8233814462c85007897579d6139%29%3B%0A%20%20%20%20%20%20%20%20%0A%20%20%20%20%0A%20%20%20%20%20%20%20%20var%20popup_bf26d055485846cfa5b2443b6b407ead%20%3D%20L.popup%28%7B%22maxWidth%22%3A%20%22100%25%22%7D%29%3B%0A%0A%20%20%20%20%20%20%20%20%0A%20%20%20%20%20%20%20%20%20%20%20%20var%20html_0eb4da4b96644651ba52a5475073b1b1%20%3D%20%24%28%60%3Cdiv%20id%3D%22html_0eb4da4b96644651ba52a5475073b1b1%22%20style%3D%22width%3A%20100.0%25%3B%20height%3A%20100.0%25%3B%22%3EABALROAMENTO%3C/div%3E%60%29%5B0%5D%3B%0A%20%20%20%20%20%20%20%20%20%20%20%20popup_bf26d055485846cfa5b2443b6b407ead.setContent%28html_0eb4da4b96644651ba52a5475073b1b1%29%3B%0A%20%20%20%20%20%20%20%20%0A%0A%20%20%20%20%20%20%20%20marker_00b22ed243bf49d58ed411581f099a0d.bindPopup%28popup_bf26d055485846cfa5b2443b6b407ead%29%0A%20%20%20%20%20%20%20%20%3B%0A%0A%20%20%20%20%20%20%20%20%0A%20%20%20%20%0A%20%20%20%20%0A%20%20%20%20%20%20%20%20%20%20%20%20var%20marker_df0d3856d2864a2ca9e688c1965b2c2e%20%3D%20L.marker%28%0A%20%20%20%20%20%20%20%20%20%20%20%20%20%20%20%20%5B-30.05154497855585%2C%20-51.21324062347412%5D%2C%0A%20%20%20%20%20%20%20%20%20%20%20%20%20%20%20%20%7B%7D%0A%20%20%20%20%20%20%20%20%20%20%20%20%29.addTo%28map_c70ec8233814462c85007897579d6139%29%3B%0A%20%20%20%20%20%20%20%20%0A%20%20%20%20%0A%20%20%20%20%20%20%20%20var%20popup_037a6abb16fd4a64bc9e67406272bbac%20%3D%20L.popup%28%7B%22maxWidth%22%3A%20%22100%25%22%7D%29%3B%0A%0A%20%20%20%20%20%20%20%20%0A%20%20%20%20%20%20%20%20%20%20%20%20var%20html_ec07060b03f740f9a073c9cfedc6ed08%20%3D%20%24%28%60%3Cdiv%20id%3D%22html_ec07060b03f740f9a073c9cfedc6ed08%22%20style%3D%22width%3A%20100.0%25%3B%20height%3A%20100.0%25%3B%22%3EABALROAMENTO%3C/div%3E%60%29%5B0%5D%3B%0A%20%20%20%20%20%20%20%20%20%20%20%20popup_037a6abb16fd4a64bc9e67406272bbac.setContent%28html_ec07060b03f740f9a073c9cfedc6ed08%29%3B%0A%20%20%20%20%20%20%20%20%0A%0A%20%20%20%20%20%20%20%20marker_df0d3856d2864a2ca9e688c1965b2c2e.bindPopup%28popup_037a6abb16fd4a64bc9e67406272bbac%29%0A%20%20%20%20%20%20%20%20%3B%0A%0A%20%20%20%20%20%20%20%20%0A%20%20%20%20%0A%20%20%20%20%0A%20%20%20%20%20%20%20%20%20%20%20%20var%20marker_799d4839c3ce4a2b94d67eb4cdbe08e6%20%3D%20L.marker%28%0A%20%20%20%20%20%20%20%20%20%20%20%20%20%20%20%20%5B-30.031719988929936%2C%20-51.2057144633109%5D%2C%0A%20%20%20%20%20%20%20%20%20%20%20%20%20%20%20%20%7B%7D%0A%20%20%20%20%20%20%20%20%20%20%20%20%29.addTo%28map_c70ec8233814462c85007897579d6139%29%3B%0A%20%20%20%20%20%20%20%20%0A%20%20%20%20%0A%20%20%20%20%20%20%20%20var%20popup_a1b56eabfb5f458ebca1e17d4f7caad1%20%3D%20L.popup%28%7B%22maxWidth%22%3A%20%22100%25%22%7D%29%3B%0A%0A%20%20%20%20%20%20%20%20%0A%20%20%20%20%20%20%20%20%20%20%20%20var%20html_06c42a14aadc4de08f9dd0ac3eece2b5%20%3D%20%24%28%60%3Cdiv%20id%3D%22html_06c42a14aadc4de08f9dd0ac3eece2b5%22%20style%3D%22width%3A%20100.0%25%3B%20height%3A%20100.0%25%3B%22%3EQUEDA%3C/div%3E%60%29%5B0%5D%3B%0A%20%20%20%20%20%20%20%20%20%20%20%20popup_a1b56eabfb5f458ebca1e17d4f7caad1.setContent%28html_06c42a14aadc4de08f9dd0ac3eece2b5%29%3B%0A%20%20%20%20%20%20%20%20%0A%0A%20%20%20%20%20%20%20%20marker_799d4839c3ce4a2b94d67eb4cdbe08e6.bindPopup%28popup_a1b56eabfb5f458ebca1e17d4f7caad1%29%0A%20%20%20%20%20%20%20%20%3B%0A%0A%20%20%20%20%20%20%20%20%0A%20%20%20%20%0A%20%20%20%20%0A%20%20%20%20%20%20%20%20%20%20%20%20var%20marker_c0f8cfe9244f4eb0ae0525caa3ff8e20%20%3D%20L.marker%28%0A%20%20%20%20%20%20%20%20%20%20%20%20%20%20%20%20%5B-30.026194175083088%2C%20-51.22698622134112%5D%2C%0A%20%20%20%20%20%20%20%20%20%20%20%20%20%20%20%20%7B%7D%0A%20%20%20%20%20%20%20%20%20%20%20%20%29.addTo%28map_c70ec8233814462c85007897579d6139%29%3B%0A%20%20%20%20%20%20%20%20%0A%20%20%20%20%0A%20%20%20%20%20%20%20%20var%20popup_f95c612eaf9a495fa05b3b7dee9d0890%20%3D%20L.popup%28%7B%22maxWidth%22%3A%20%22100%25%22%7D%29%3B%0A%0A%20%20%20%20%20%20%20%20%0A%20%20%20%20%20%20%20%20%20%20%20%20var%20html_c7ef7a7f52854b41a4a4c438745b5eec%20%3D%20%24%28%60%3Cdiv%20id%3D%22html_c7ef7a7f52854b41a4a4c438745b5eec%22%20style%3D%22width%3A%20100.0%25%3B%20height%3A%20100.0%25%3B%22%3EEVENTUAL%3C/div%3E%60%29%5B0%5D%3B%0A%20%20%20%20%20%20%20%20%20%20%20%20popup_f95c612eaf9a495fa05b3b7dee9d0890.setContent%28html_c7ef7a7f52854b41a4a4c438745b5eec%29%3B%0A%20%20%20%20%20%20%20%20%0A%0A%20%20%20%20%20%20%20%20marker_c0f8cfe9244f4eb0ae0525caa3ff8e20.bindPopup%28popup_f95c612eaf9a495fa05b3b7dee9d0890%29%0A%20%20%20%20%20%20%20%20%3B%0A%0A%20%20%20%20%20%20%20%20%0A%20%20%20%20%0A%20%20%20%20%0A%20%20%20%20%20%20%20%20%20%20%20%20var%20marker_b62916476db845a0b831ead44296ce5a%20%3D%20L.marker%28%0A%20%20%20%20%20%20%20%20%20%20%20%20%20%20%20%20%5B-30.01041531316636%2C%20-51.14932358264924%5D%2C%0A%20%20%20%20%20%20%20%20%20%20%20%20%20%20%20%20%7B%7D%0A%20%20%20%20%20%20%20%20%20%20%20%20%29.addTo%28map_c70ec8233814462c85007897579d6139%29%3B%0A%20%20%20%20%20%20%20%20%0A%20%20%20%20%0A%20%20%20%20%20%20%20%20var%20popup_3f48f8f0a8984fc3b736ce781a38e230%20%3D%20L.popup%28%7B%22maxWidth%22%3A%20%22100%25%22%7D%29%3B%0A%0A%20%20%20%20%20%20%20%20%0A%20%20%20%20%20%20%20%20%20%20%20%20var%20html_2dc8be33a93540bc9b03d43da5a25148%20%3D%20%24%28%60%3Cdiv%20id%3D%22html_2dc8be33a93540bc9b03d43da5a25148%22%20style%3D%22width%3A%20100.0%25%3B%20height%3A%20100.0%25%3B%22%3ECOLIS%C3%83O%3C/div%3E%60%29%5B0%5D%3B%0A%20%20%20%20%20%20%20%20%20%20%20%20popup_3f48f8f0a8984fc3b736ce781a38e230.setContent%28html_2dc8be33a93540bc9b03d43da5a25148%29%3B%0A%20%20%20%20%20%20%20%20%0A%0A%20%20%20%20%20%20%20%20marker_b62916476db845a0b831ead44296ce5a.bindPopup%28popup_3f48f8f0a8984fc3b736ce781a38e230%29%0A%20%20%20%20%20%20%20%20%3B%0A%0A%20%20%20%20%20%20%20%20%0A%20%20%20%20%0A%20%20%20%20%0A%20%20%20%20%20%20%20%20%20%20%20%20var%20marker_9dcc5eddc6cc407eb6c7230421daf908%20%3D%20L.marker%28%0A%20%20%20%20%20%20%20%20%20%20%20%20%20%20%20%20%5B-30.02205524279348%2C%20-51.19396637736167%5D%2C%0A%20%20%20%20%20%20%20%20%20%20%20%20%20%20%20%20%7B%7D%0A%20%20%20%20%20%20%20%20%20%20%20%20%29.addTo%28map_c70ec8233814462c85007897579d6139%29%3B%0A%20%20%20%20%20%20%20%20%0A%20%20%20%20%0A%20%20%20%20%20%20%20%20var%20popup_d4f39ef14ce04881ac6701648ca822d8%20%3D%20L.popup%28%7B%22maxWidth%22%3A%20%22100%25%22%7D%29%3B%0A%0A%20%20%20%20%20%20%20%20%0A%20%20%20%20%20%20%20%20%20%20%20%20var%20html_0d58ec20912a4fe8a897ce05da398931%20%3D%20%24%28%60%3Cdiv%20id%3D%22html_0d58ec20912a4fe8a897ce05da398931%22%20style%3D%22width%3A%20100.0%25%3B%20height%3A%20100.0%25%3B%22%3EABALROAMENTO%3C/div%3E%60%29%5B0%5D%3B%0A%20%20%20%20%20%20%20%20%20%20%20%20popup_d4f39ef14ce04881ac6701648ca822d8.setContent%28html_0d58ec20912a4fe8a897ce05da398931%29%3B%0A%20%20%20%20%20%20%20%20%0A%0A%20%20%20%20%20%20%20%20marker_9dcc5eddc6cc407eb6c7230421daf908.bindPopup%28popup_d4f39ef14ce04881ac6701648ca822d8%29%0A%20%20%20%20%20%20%20%20%3B%0A%0A%20%20%20%20%20%20%20%20%0A%20%20%20%20%0A%20%20%20%20%0A%20%20%20%20%20%20%20%20%20%20%20%20var%20marker_a85098a43e5d4003a5d1fafe67744622%20%3D%20L.marker%28%0A%20%20%20%20%20%20%20%20%20%20%20%20%20%20%20%20%5B-30.039230166838426%2C%20-51.19155295252826%5D%2C%0A%20%20%20%20%20%20%20%20%20%20%20%20%20%20%20%20%7B%7D%0A%20%20%20%20%20%20%20%20%20%20%20%20%29.addTo%28map_c70ec8233814462c85007897579d6139%29%3B%0A%20%20%20%20%20%20%20%20%0A%20%20%20%20%0A%20%20%20%20%20%20%20%20var%20popup_862413f2c12146baa18d527eeee58d52%20%3D%20L.popup%28%7B%22maxWidth%22%3A%20%22100%25%22%7D%29%3B%0A%0A%20%20%20%20%20%20%20%20%0A%20%20%20%20%20%20%20%20%20%20%20%20var%20html_65ceb0152e504794a1e6a3fb4d10479f%20%3D%20%24%28%60%3Cdiv%20id%3D%22html_65ceb0152e504794a1e6a3fb4d10479f%22%20style%3D%22width%3A%20100.0%25%3B%20height%3A%20100.0%25%3B%22%3EABALROAMENTO%3C/div%3E%60%29%5B0%5D%3B%0A%20%20%20%20%20%20%20%20%20%20%20%20popup_862413f2c12146baa18d527eeee58d52.setContent%28html_65ceb0152e504794a1e6a3fb4d10479f%29%3B%0A%20%20%20%20%20%20%20%20%0A%0A%20%20%20%20%20%20%20%20marker_a85098a43e5d4003a5d1fafe67744622.bindPopup%28popup_862413f2c12146baa18d527eeee58d52%29%0A%20%20%20%20%20%20%20%20%3B%0A%0A%20%20%20%20%20%20%20%20%0A%20%20%20%20%0A%20%20%20%20%0A%20%20%20%20%20%20%20%20%20%20%20%20var%20marker_23a69b9a355b4a08a1cee0df057011ff%20%3D%20L.marker%28%0A%20%20%20%20%20%20%20%20%20%20%20%20%20%20%20%20%5B-29.99394463210447%2C%20-51.13067773463226%5D%2C%0A%20%20%20%20%20%20%20%20%20%20%20%20%20%20%20%20%7B%7D%0A%20%20%20%20%20%20%20%20%20%20%20%20%29.addTo%28map_c70ec8233814462c85007897579d6139%29%3B%0A%20%20%20%20%20%20%20%20%0A%20%20%20%20%0A%20%20%20%20%20%20%20%20var%20popup_60e238a62e514f5caf2ff1db45117367%20%3D%20L.popup%28%7B%22maxWidth%22%3A%20%22100%25%22%7D%29%3B%0A%0A%20%20%20%20%20%20%20%20%0A%20%20%20%20%20%20%20%20%20%20%20%20var%20html_6108bf7b68da4e0aaee520b237bf1e19%20%3D%20%24%28%60%3Cdiv%20id%3D%22html_6108bf7b68da4e0aaee520b237bf1e19%22%20style%3D%22width%3A%20100.0%25%3B%20height%3A%20100.0%25%3B%22%3EABALROAMENTO%3C/div%3E%60%29%5B0%5D%3B%0A%20%20%20%20%20%20%20%20%20%20%20%20popup_60e238a62e514f5caf2ff1db45117367.setContent%28html_6108bf7b68da4e0aaee520b237bf1e19%29%3B%0A%20%20%20%20%20%20%20%20%0A%0A%20%20%20%20%20%20%20%20marker_23a69b9a355b4a08a1cee0df057011ff.bindPopup%28popup_60e238a62e514f5caf2ff1db45117367%29%0A%20%20%20%20%20%20%20%20%3B%0A%0A%20%20%20%20%20%20%20%20%0A%20%20%20%20%0A%20%20%20%20%0A%20%20%20%20%20%20%20%20%20%20%20%20var%20marker_19185d808efa45e3b94f099db2ae08b8%20%3D%20L.marker%28%0A%20%20%20%20%20%20%20%20%20%20%20%20%20%20%20%20%5B-30.01699098204713%2C%20-51.12250356097245%5D%2C%0A%20%20%20%20%20%20%20%20%20%20%20%20%20%20%20%20%7B%7D%0A%20%20%20%20%20%20%20%20%20%20%20%20%29.addTo%28map_c70ec8233814462c85007897579d6139%29%3B%0A%20%20%20%20%20%20%20%20%0A%20%20%20%20%0A%20%20%20%20%20%20%20%20var%20popup_cc8dc056bfbf496bb8587aa07d389be6%20%3D%20L.popup%28%7B%22maxWidth%22%3A%20%22100%25%22%7D%29%3B%0A%0A%20%20%20%20%20%20%20%20%0A%20%20%20%20%20%20%20%20%20%20%20%20var%20html_2ee64a2a23744ab19464da5612ed4c0f%20%3D%20%24%28%60%3Cdiv%20id%3D%22html_2ee64a2a23744ab19464da5612ed4c0f%22%20style%3D%22width%3A%20100.0%25%3B%20height%3A%20100.0%25%3B%22%3ECOLIS%C3%83O%3C/div%3E%60%29%5B0%5D%3B%0A%20%20%20%20%20%20%20%20%20%20%20%20popup_cc8dc056bfbf496bb8587aa07d389be6.setContent%28html_2ee64a2a23744ab19464da5612ed4c0f%29%3B%0A%20%20%20%20%20%20%20%20%0A%0A%20%20%20%20%20%20%20%20marker_19185d808efa45e3b94f099db2ae08b8.bindPopup%28popup_cc8dc056bfbf496bb8587aa07d389be6%29%0A%20%20%20%20%20%20%20%20%3B%0A%0A%20%20%20%20%20%20%20%20%0A%20%20%20%20%0A%20%20%20%20%0A%20%20%20%20%20%20%20%20%20%20%20%20var%20marker_417cedf7f16a430fb3b7b904b5c08bb4%20%3D%20L.marker%28%0A%20%20%20%20%20%20%20%20%20%20%20%20%20%20%20%20%5B-29.9861906%2C%20-51.1294979%5D%2C%0A%20%20%20%20%20%20%20%20%20%20%20%20%20%20%20%20%7B%7D%0A%20%20%20%20%20%20%20%20%20%20%20%20%29.addTo%28map_c70ec8233814462c85007897579d6139%29%3B%0A%20%20%20%20%20%20%20%20%0A%20%20%20%20%0A%20%20%20%20%20%20%20%20var%20popup_6b4f65c001524b74a297e8666378687b%20%3D%20L.popup%28%7B%22maxWidth%22%3A%20%22100%25%22%7D%29%3B%0A%0A%20%20%20%20%20%20%20%20%0A%20%20%20%20%20%20%20%20%20%20%20%20var%20html_f3fc9a12d59345ac91d6f388f44b6670%20%3D%20%24%28%60%3Cdiv%20id%3D%22html_f3fc9a12d59345ac91d6f388f44b6670%22%20style%3D%22width%3A%20100.0%25%3B%20height%3A%20100.0%25%3B%22%3ENAO%20CADASTRADO%3C/div%3E%60%29%5B0%5D%3B%0A%20%20%20%20%20%20%20%20%20%20%20%20popup_6b4f65c001524b74a297e8666378687b.setContent%28html_f3fc9a12d59345ac91d6f388f44b6670%29%3B%0A%20%20%20%20%20%20%20%20%0A%0A%20%20%20%20%20%20%20%20marker_417cedf7f16a430fb3b7b904b5c08bb4.bindPopup%28popup_6b4f65c001524b74a297e8666378687b%29%0A%20%20%20%20%20%20%20%20%3B%0A%0A%20%20%20%20%20%20%20%20%0A%20%20%20%20%0A%20%20%20%20%0A%20%20%20%20%20%20%20%20%20%20%20%20var%20marker_84ff1646bc684aff8e6171548247f265%20%3D%20L.marker%28%0A%20%20%20%20%20%20%20%20%20%20%20%20%20%20%20%20%5B-30.135111260813552%2C%20-51.22443616390228%5D%2C%0A%20%20%20%20%20%20%20%20%20%20%20%20%20%20%20%20%7B%7D%0A%20%20%20%20%20%20%20%20%20%20%20%20%29.addTo%28map_c70ec8233814462c85007897579d6139%29%3B%0A%20%20%20%20%20%20%20%20%0A%20%20%20%20%0A%20%20%20%20%20%20%20%20var%20popup_6efcf36757c04c30ba8e6db0f6d8224c%20%3D%20L.popup%28%7B%22maxWidth%22%3A%20%22100%25%22%7D%29%3B%0A%0A%20%20%20%20%20%20%20%20%0A%20%20%20%20%20%20%20%20%20%20%20%20var%20html_0ef018d47d2a43f2b1535fbc58cc75c4%20%3D%20%24%28%60%3Cdiv%20id%3D%22html_0ef018d47d2a43f2b1535fbc58cc75c4%22%20style%3D%22width%3A%20100.0%25%3B%20height%3A%20100.0%25%3B%22%3ECOLIS%C3%83O%3C/div%3E%60%29%5B0%5D%3B%0A%20%20%20%20%20%20%20%20%20%20%20%20popup_6efcf36757c04c30ba8e6db0f6d8224c.setContent%28html_0ef018d47d2a43f2b1535fbc58cc75c4%29%3B%0A%20%20%20%20%20%20%20%20%0A%0A%20%20%20%20%20%20%20%20marker_84ff1646bc684aff8e6171548247f265.bindPopup%28popup_6efcf36757c04c30ba8e6db0f6d8224c%29%0A%20%20%20%20%20%20%20%20%3B%0A%0A%20%20%20%20%20%20%20%20%0A%20%20%20%20%0A%20%20%20%20%0A%20%20%20%20%20%20%20%20%20%20%20%20var%20marker_6c5d88654ae54e85b501214fee451787%20%3D%20L.marker%28%0A%20%20%20%20%20%20%20%20%20%20%20%20%20%20%20%20%5B-30.020183054819917%2C%20-51.2018857538243%5D%2C%0A%20%20%20%20%20%20%20%20%20%20%20%20%20%20%20%20%7B%7D%0A%20%20%20%20%20%20%20%20%20%20%20%20%29.addTo%28map_c70ec8233814462c85007897579d6139%29%3B%0A%20%20%20%20%20%20%20%20%0A%20%20%20%20%0A%20%20%20%20%20%20%20%20var%20popup_bcb7bffb2e75487092a7e379cf7073c1%20%3D%20L.popup%28%7B%22maxWidth%22%3A%20%22100%25%22%7D%29%3B%0A%0A%20%20%20%20%20%20%20%20%0A%20%20%20%20%20%20%20%20%20%20%20%20var%20html_291c444d80634f23a76a53518779a388%20%3D%20%24%28%60%3Cdiv%20id%3D%22html_291c444d80634f23a76a53518779a388%22%20style%3D%22width%3A%20100.0%25%3B%20height%3A%20100.0%25%3B%22%3ECOLIS%C3%83O%3C/div%3E%60%29%5B0%5D%3B%0A%20%20%20%20%20%20%20%20%20%20%20%20popup_bcb7bffb2e75487092a7e379cf7073c1.setContent%28html_291c444d80634f23a76a53518779a388%29%3B%0A%20%20%20%20%20%20%20%20%0A%0A%20%20%20%20%20%20%20%20marker_6c5d88654ae54e85b501214fee451787.bindPopup%28popup_bcb7bffb2e75487092a7e379cf7073c1%29%0A%20%20%20%20%20%20%20%20%3B%0A%0A%20%20%20%20%20%20%20%20%0A%20%20%20%20%0A%20%20%20%20%0A%20%20%20%20%20%20%20%20%20%20%20%20var%20marker_8e32c76686054d28b77dd4cd82923d36%20%3D%20L.marker%28%0A%20%20%20%20%20%20%20%20%20%20%20%20%20%20%20%20%5B-30.109976516708794%2C%20-51.25411748886109%5D%2C%0A%20%20%20%20%20%20%20%20%20%20%20%20%20%20%20%20%7B%7D%0A%20%20%20%20%20%20%20%20%20%20%20%20%29.addTo%28map_c70ec8233814462c85007897579d6139%29%3B%0A%20%20%20%20%20%20%20%20%0A%20%20%20%20%0A%20%20%20%20%20%20%20%20var%20popup_33f5e472617a447787e7752d98c17060%20%3D%20L.popup%28%7B%22maxWidth%22%3A%20%22100%25%22%7D%29%3B%0A%0A%20%20%20%20%20%20%20%20%0A%20%20%20%20%20%20%20%20%20%20%20%20var%20html_f95a5b677a6e4e63b54f620cb673390d%20%3D%20%24%28%60%3Cdiv%20id%3D%22html_f95a5b677a6e4e63b54f620cb673390d%22%20style%3D%22width%3A%20100.0%25%3B%20height%3A%20100.0%25%3B%22%3ECOLIS%C3%83O%3C/div%3E%60%29%5B0%5D%3B%0A%20%20%20%20%20%20%20%20%20%20%20%20popup_33f5e472617a447787e7752d98c17060.setContent%28html_f95a5b677a6e4e63b54f620cb673390d%29%3B%0A%20%20%20%20%20%20%20%20%0A%0A%20%20%20%20%20%20%20%20marker_8e32c76686054d28b77dd4cd82923d36.bindPopup%28popup_33f5e472617a447787e7752d98c17060%29%0A%20%20%20%20%20%20%20%20%3B%0A%0A%20%20%20%20%20%20%20%20%0A%20%20%20%20%0A%20%20%20%20%0A%20%20%20%20%20%20%20%20%20%20%20%20var%20marker_e4d5f4f23eff434eab7a89efa7393a74%20%3D%20L.marker%28%0A%20%20%20%20%20%20%20%20%20%20%20%20%20%20%20%20%5B-29.99094764850949%2C%20-51.10001752922569%5D%2C%0A%20%20%20%20%20%20%20%20%20%20%20%20%20%20%20%20%7B%7D%0A%20%20%20%20%20%20%20%20%20%20%20%20%29.addTo%28map_c70ec8233814462c85007897579d6139%29%3B%0A%20%20%20%20%20%20%20%20%0A%20%20%20%20%0A%20%20%20%20%20%20%20%20var%20popup_84f539f9bc9348fd9e5b301d45c1bfc5%20%3D%20L.popup%28%7B%22maxWidth%22%3A%20%22100%25%22%7D%29%3B%0A%0A%20%20%20%20%20%20%20%20%0A%20%20%20%20%20%20%20%20%20%20%20%20var%20html_066edaff4f424b8caa2fd445ef4a8868%20%3D%20%24%28%60%3Cdiv%20id%3D%22html_066edaff4f424b8caa2fd445ef4a8868%22%20style%3D%22width%3A%20100.0%25%3B%20height%3A%20100.0%25%3B%22%3ENAO%20CADASTRADO%3C/div%3E%60%29%5B0%5D%3B%0A%20%20%20%20%20%20%20%20%20%20%20%20popup_84f539f9bc9348fd9e5b301d45c1bfc5.setContent%28html_066edaff4f424b8caa2fd445ef4a8868%29%3B%0A%20%20%20%20%20%20%20%20%0A%0A%20%20%20%20%20%20%20%20marker_e4d5f4f23eff434eab7a89efa7393a74.bindPopup%28popup_84f539f9bc9348fd9e5b301d45c1bfc5%29%0A%20%20%20%20%20%20%20%20%3B%0A%0A%20%20%20%20%20%20%20%20%0A%20%20%20%20%0A%20%20%20%20%0A%20%20%20%20%20%20%20%20%20%20%20%20var%20marker_5a23ada3f7ec4d8bb4fbd868c38ea30b%20%3D%20L.marker%28%0A%20%20%20%20%20%20%20%20%20%20%20%20%20%20%20%20%5B-29.992054485858528%2C%20-51.1086130142212%5D%2C%0A%20%20%20%20%20%20%20%20%20%20%20%20%20%20%20%20%7B%7D%0A%20%20%20%20%20%20%20%20%20%20%20%20%29.addTo%28map_c70ec8233814462c85007897579d6139%29%3B%0A%20%20%20%20%20%20%20%20%0A%20%20%20%20%0A%20%20%20%20%20%20%20%20var%20popup_7a1806e716704a3fb415d5eb0133e573%20%3D%20L.popup%28%7B%22maxWidth%22%3A%20%22100%25%22%7D%29%3B%0A%0A%20%20%20%20%20%20%20%20%0A%20%20%20%20%20%20%20%20%20%20%20%20var%20html_b35f0f591e8342f7838a774f5bf19e3c%20%3D%20%24%28%60%3Cdiv%20id%3D%22html_b35f0f591e8342f7838a774f5bf19e3c%22%20style%3D%22width%3A%20100.0%25%3B%20height%3A%20100.0%25%3B%22%3EABALROAMENTO%3C/div%3E%60%29%5B0%5D%3B%0A%20%20%20%20%20%20%20%20%20%20%20%20popup_7a1806e716704a3fb415d5eb0133e573.setContent%28html_b35f0f591e8342f7838a774f5bf19e3c%29%3B%0A%20%20%20%20%20%20%20%20%0A%0A%20%20%20%20%20%20%20%20marker_5a23ada3f7ec4d8bb4fbd868c38ea30b.bindPopup%28popup_7a1806e716704a3fb415d5eb0133e573%29%0A%20%20%20%20%20%20%20%20%3B%0A%0A%20%20%20%20%20%20%20%20%0A%20%20%20%20%0A%20%20%20%20%0A%20%20%20%20%20%20%20%20%20%20%20%20var%20marker_7023f400a362464fa322e3c102abd3d7%20%3D%20L.marker%28%0A%20%20%20%20%20%20%20%20%20%20%20%20%20%20%20%20%5B-30.20310207171264%2C%20-51.17884614953158%5D%2C%0A%20%20%20%20%20%20%20%20%20%20%20%20%20%20%20%20%7B%7D%0A%20%20%20%20%20%20%20%20%20%20%20%20%29.addTo%28map_c70ec8233814462c85007897579d6139%29%3B%0A%20%20%20%20%20%20%20%20%0A%20%20%20%20%0A%20%20%20%20%20%20%20%20var%20popup_a0bba1abb8a140e390ab6d34da7f6fd6%20%3D%20L.popup%28%7B%22maxWidth%22%3A%20%22100%25%22%7D%29%3B%0A%0A%20%20%20%20%20%20%20%20%0A%20%20%20%20%20%20%20%20%20%20%20%20var%20html_fc9aa2f8d5a14f04926cc9ce1d2514bd%20%3D%20%24%28%60%3Cdiv%20id%3D%22html_fc9aa2f8d5a14f04926cc9ce1d2514bd%22%20style%3D%22width%3A%20100.0%25%3B%20height%3A%20100.0%25%3B%22%3EABALROAMENTO%3C/div%3E%60%29%5B0%5D%3B%0A%20%20%20%20%20%20%20%20%20%20%20%20popup_a0bba1abb8a140e390ab6d34da7f6fd6.setContent%28html_fc9aa2f8d5a14f04926cc9ce1d2514bd%29%3B%0A%20%20%20%20%20%20%20%20%0A%0A%20%20%20%20%20%20%20%20marker_7023f400a362464fa322e3c102abd3d7.bindPopup%28popup_a0bba1abb8a140e390ab6d34da7f6fd6%29%0A%20%20%20%20%20%20%20%20%3B%0A%0A%20%20%20%20%20%20%20%20%0A%20%20%20%20%0A%20%20%20%20%0A%20%20%20%20%20%20%20%20%20%20%20%20var%20marker_cf4d0ee1263c40eaba71c4ae4e820114%20%3D%20L.marker%28%0A%20%20%20%20%20%20%20%20%20%20%20%20%20%20%20%20%5B-30.069120658720514%2C%20-51.204924434423454%5D%2C%0A%20%20%20%20%20%20%20%20%20%20%20%20%20%20%20%20%7B%7D%0A%20%20%20%20%20%20%20%20%20%20%20%20%29.addTo%28map_c70ec8233814462c85007897579d6139%29%3B%0A%20%20%20%20%20%20%20%20%0A%20%20%20%20%0A%20%20%20%20%20%20%20%20var%20popup_97a02577eb13461b90bab280f5a253f9%20%3D%20L.popup%28%7B%22maxWidth%22%3A%20%22100%25%22%7D%29%3B%0A%0A%20%20%20%20%20%20%20%20%0A%20%20%20%20%20%20%20%20%20%20%20%20var%20html_49444a7ee8ac4241b92c886689e7f231%20%3D%20%24%28%60%3Cdiv%20id%3D%22html_49444a7ee8ac4241b92c886689e7f231%22%20style%3D%22width%3A%20100.0%25%3B%20height%3A%20100.0%25%3B%22%3EABALROAMENTO%3C/div%3E%60%29%5B0%5D%3B%0A%20%20%20%20%20%20%20%20%20%20%20%20popup_97a02577eb13461b90bab280f5a253f9.setContent%28html_49444a7ee8ac4241b92c886689e7f231%29%3B%0A%20%20%20%20%20%20%20%20%0A%0A%20%20%20%20%20%20%20%20marker_cf4d0ee1263c40eaba71c4ae4e820114.bindPopup%28popup_97a02577eb13461b90bab280f5a253f9%29%0A%20%20%20%20%20%20%20%20%3B%0A%0A%20%20%20%20%20%20%20%20%0A%20%20%20%20%0A%20%20%20%20%0A%20%20%20%20%20%20%20%20%20%20%20%20var%20marker_ccc1bb16586641558cbfbc969ea0d637%20%3D%20L.marker%28%0A%20%20%20%20%20%20%20%20%20%20%20%20%20%20%20%20%5B-30.055653059581065%2C%20-51.15933895111084%5D%2C%0A%20%20%20%20%20%20%20%20%20%20%20%20%20%20%20%20%7B%7D%0A%20%20%20%20%20%20%20%20%20%20%20%20%29.addTo%28map_c70ec8233814462c85007897579d6139%29%3B%0A%20%20%20%20%20%20%20%20%0A%20%20%20%20%0A%20%20%20%20%20%20%20%20var%20popup_34d65541d22443ce919f7a9dbb1a6824%20%3D%20L.popup%28%7B%22maxWidth%22%3A%20%22100%25%22%7D%29%3B%0A%0A%20%20%20%20%20%20%20%20%0A%20%20%20%20%20%20%20%20%20%20%20%20var%20html_2c2fbb6f365d4b63b4af60f48b9bfd64%20%3D%20%24%28%60%3Cdiv%20id%3D%22html_2c2fbb6f365d4b63b4af60f48b9bfd64%22%20style%3D%22width%3A%20100.0%25%3B%20height%3A%20100.0%25%3B%22%3EINC%C3%8ANDIO%3C/div%3E%60%29%5B0%5D%3B%0A%20%20%20%20%20%20%20%20%20%20%20%20popup_34d65541d22443ce919f7a9dbb1a6824.setContent%28html_2c2fbb6f365d4b63b4af60f48b9bfd64%29%3B%0A%20%20%20%20%20%20%20%20%0A%0A%20%20%20%20%20%20%20%20marker_ccc1bb16586641558cbfbc969ea0d637.bindPopup%28popup_34d65541d22443ce919f7a9dbb1a6824%29%0A%20%20%20%20%20%20%20%20%3B%0A%0A%20%20%20%20%20%20%20%20%0A%20%20%20%20%0A%20%20%20%20%0A%20%20%20%20%20%20%20%20%20%20%20%20var%20marker_3a88238f133942089357462944ed1513%20%3D%20L.marker%28%0A%20%20%20%20%20%20%20%20%20%20%20%20%20%20%20%20%5B-30.02355465026159%2C%20-51.22010171413422%5D%2C%0A%20%20%20%20%20%20%20%20%20%20%20%20%20%20%20%20%7B%7D%0A%20%20%20%20%20%20%20%20%20%20%20%20%29.addTo%28map_c70ec8233814462c85007897579d6139%29%3B%0A%20%20%20%20%20%20%20%20%0A%20%20%20%20%0A%20%20%20%20%20%20%20%20var%20popup_0592999299114ec189a1ba0f8cec22ee%20%3D%20L.popup%28%7B%22maxWidth%22%3A%20%22100%25%22%7D%29%3B%0A%0A%20%20%20%20%20%20%20%20%0A%20%20%20%20%20%20%20%20%20%20%20%20var%20html_2e3da556286f47f4b0889da258ed2ed5%20%3D%20%24%28%60%3Cdiv%20id%3D%22html_2e3da556286f47f4b0889da258ed2ed5%22%20style%3D%22width%3A%20100.0%25%3B%20height%3A%20100.0%25%3B%22%3ECOLIS%C3%83O%3C/div%3E%60%29%5B0%5D%3B%0A%20%20%20%20%20%20%20%20%20%20%20%20popup_0592999299114ec189a1ba0f8cec22ee.setContent%28html_2e3da556286f47f4b0889da258ed2ed5%29%3B%0A%20%20%20%20%20%20%20%20%0A%0A%20%20%20%20%20%20%20%20marker_3a88238f133942089357462944ed1513.bindPopup%28popup_0592999299114ec189a1ba0f8cec22ee%29%0A%20%20%20%20%20%20%20%20%3B%0A%0A%20%20%20%20%20%20%20%20%0A%20%20%20%20%0A%20%20%20%20%0A%20%20%20%20%20%20%20%20%20%20%20%20var%20marker_bda0c4bc323d41fc8c96e3cbaa602301%20%3D%20L.marker%28%0A%20%20%20%20%20%20%20%20%20%20%20%20%20%20%20%20%5B-30.036218949927925%2C%20-51.12189247742418%5D%2C%0A%20%20%20%20%20%20%20%20%20%20%20%20%20%20%20%20%7B%7D%0A%20%20%20%20%20%20%20%20%20%20%20%20%29.addTo%28map_c70ec8233814462c85007897579d6139%29%3B%0A%20%20%20%20%20%20%20%20%0A%20%20%20%20%0A%20%20%20%20%20%20%20%20var%20popup_cb53020f2915448180a862cb20538647%20%3D%20L.popup%28%7B%22maxWidth%22%3A%20%22100%25%22%7D%29%3B%0A%0A%20%20%20%20%20%20%20%20%0A%20%20%20%20%20%20%20%20%20%20%20%20var%20html_c495380ba14d4df3a038e3fed2b9a4ac%20%3D%20%24%28%60%3Cdiv%20id%3D%22html_c495380ba14d4df3a038e3fed2b9a4ac%22%20style%3D%22width%3A%20100.0%25%3B%20height%3A%20100.0%25%3B%22%3EABALROAMENTO%3C/div%3E%60%29%5B0%5D%3B%0A%20%20%20%20%20%20%20%20%20%20%20%20popup_cb53020f2915448180a862cb20538647.setContent%28html_c495380ba14d4df3a038e3fed2b9a4ac%29%3B%0A%20%20%20%20%20%20%20%20%0A%0A%20%20%20%20%20%20%20%20marker_bda0c4bc323d41fc8c96e3cbaa602301.bindPopup%28popup_cb53020f2915448180a862cb20538647%29%0A%20%20%20%20%20%20%20%20%3B%0A%0A%20%20%20%20%20%20%20%20%0A%20%20%20%20%0A%20%20%20%20%0A%20%20%20%20%20%20%20%20%20%20%20%20var%20marker_b7b8e50343504cb4b1db440602e9f692%20%3D%20L.marker%28%0A%20%20%20%20%20%20%20%20%20%20%20%20%20%20%20%20%5B-29.994221886122773%2C%20-51.10705135458984%5D%2C%0A%20%20%20%20%20%20%20%20%20%20%20%20%20%20%20%20%7B%7D%0A%20%20%20%20%20%20%20%20%20%20%20%20%29.addTo%28map_c70ec8233814462c85007897579d6139%29%3B%0A%20%20%20%20%20%20%20%20%0A%20%20%20%20%0A%20%20%20%20%20%20%20%20var%20popup_d7a1d557ff494ee5a96f2ed3f00ff278%20%3D%20L.popup%28%7B%22maxWidth%22%3A%20%22100%25%22%7D%29%3B%0A%0A%20%20%20%20%20%20%20%20%0A%20%20%20%20%20%20%20%20%20%20%20%20var%20html_6f1dc982284440e79cc66961a5f4a67e%20%3D%20%24%28%60%3Cdiv%20id%3D%22html_6f1dc982284440e79cc66961a5f4a67e%22%20style%3D%22width%3A%20100.0%25%3B%20height%3A%20100.0%25%3B%22%3E%5B%27ABALROAMENTO%27%2C%20Timestamp%28%272021-06-01%2000%3A00%3A00%27%29%5D%3C/div%3E%60%29%5B0%5D%3B%0A%20%20%20%20%20%20%20%20%20%20%20%20popup_d7a1d557ff494ee5a96f2ed3f00ff278.setContent%28html_6f1dc982284440e79cc66961a5f4a67e%29%3B%0A%20%20%20%20%20%20%20%20%0A%0A%20%20%20%20%20%20%20%20marker_b7b8e50343504cb4b1db440602e9f692.bindPopup%28popup_d7a1d557ff494ee5a96f2ed3f00ff278%29%0A%20%20%20%20%20%20%20%20%3B%0A%0A%20%20%20%20%20%20%20%20%0A%20%20%20%20%0A%20%20%20%20%0A%20%20%20%20%20%20%20%20%20%20%20%20var%20marker_2ed05a2da5e24e0e9fb4194eaa28e6d6%20%3D%20L.marker%28%0A%20%20%20%20%20%20%20%20%20%20%20%20%20%20%20%20%5B-30.11267084558557%2C%20-51.176853770172144%5D%2C%0A%20%20%20%20%20%20%20%20%20%20%20%20%20%20%20%20%7B%7D%0A%20%20%20%20%20%20%20%20%20%20%20%20%29.addTo%28map_c70ec8233814462c85007897579d6139%29%3B%0A%20%20%20%20%20%20%20%20%0A%20%20%20%20%0A%20%20%20%20%20%20%20%20var%20popup_aa1201e537094faf9f42835324ed6d7b%20%3D%20L.popup%28%7B%22maxWidth%22%3A%20%22100%25%22%7D%29%3B%0A%0A%20%20%20%20%20%20%20%20%0A%20%20%20%20%20%20%20%20%20%20%20%20var%20html_5ae91db415094781a7ac71ba2e011a60%20%3D%20%24%28%60%3Cdiv%20id%3D%22html_5ae91db415094781a7ac71ba2e011a60%22%20style%3D%22width%3A%20100.0%25%3B%20height%3A%20100.0%25%3B%22%3E%5B%27COLIS%C3%83O%27%2C%20Timestamp%28%272021-02-26%2000%3A00%3A00%27%29%5D%3C/div%3E%60%29%5B0%5D%3B%0A%20%20%20%20%20%20%20%20%20%20%20%20popup_aa1201e537094faf9f42835324ed6d7b.setContent%28html_5ae91db415094781a7ac71ba2e011a60%29%3B%0A%20%20%20%20%20%20%20%20%0A%0A%20%20%20%20%20%20%20%20marker_2ed05a2da5e24e0e9fb4194eaa28e6d6.bindPopup%28popup_aa1201e537094faf9f42835324ed6d7b%29%0A%20%20%20%20%20%20%20%20%3B%0A%0A%20%20%20%20%20%20%20%20%0A%20%20%20%20%0A%20%20%20%20%0A%20%20%20%20%20%20%20%20%20%20%20%20var%20marker_023294cd584f48aba672bb0b13c1adbe%20%3D%20L.marker%28%0A%20%20%20%20%20%20%20%20%20%20%20%20%20%20%20%20%5B-30.0264449%2C%20-51.2172206%5D%2C%0A%20%20%20%20%20%20%20%20%20%20%20%20%20%20%20%20%7B%7D%0A%20%20%20%20%20%20%20%20%20%20%20%20%29.addTo%28map_c70ec8233814462c85007897579d6139%29%3B%0A%20%20%20%20%20%20%20%20%0A%20%20%20%20%0A%20%20%20%20%20%20%20%20var%20popup_51bd7438720d4f7f91f4ac4098699697%20%3D%20L.popup%28%7B%22maxWidth%22%3A%20%22100%25%22%7D%29%3B%0A%0A%20%20%20%20%20%20%20%20%0A%20%20%20%20%20%20%20%20%20%20%20%20var%20html_10437c1e42e3442a90608905f7d242b7%20%3D%20%24%28%60%3Cdiv%20id%3D%22html_10437c1e42e3442a90608905f7d242b7%22%20style%3D%22width%3A%20100.0%25%3B%20height%3A%20100.0%25%3B%22%3E%5B%27ABALROAMENTO%27%2C%20Timestamp%28%272021-11-03%2000%3A00%3A00%27%29%5D%3C/div%3E%60%29%5B0%5D%3B%0A%20%20%20%20%20%20%20%20%20%20%20%20popup_51bd7438720d4f7f91f4ac4098699697.setContent%28html_10437c1e42e3442a90608905f7d242b7%29%3B%0A%20%20%20%20%20%20%20%20%0A%0A%20%20%20%20%20%20%20%20marker_023294cd584f48aba672bb0b13c1adbe.bindPopup%28popup_51bd7438720d4f7f91f4ac4098699697%29%0A%20%20%20%20%20%20%20%20%3B%0A%0A%20%20%20%20%20%20%20%20%0A%20%20%20%20%0A%20%20%20%20%0A%20%20%20%20%20%20%20%20%20%20%20%20var%20marker_8ca80864b4484dcebc4eb25109f7506f%20%3D%20L.marker%28%0A%20%20%20%20%20%20%20%20%20%20%20%20%20%20%20%20%5B-30.03877389904889%2C%20-51.228314638137824%5D%2C%0A%20%20%20%20%20%20%20%20%20%20%20%20%20%20%20%20%7B%7D%0A%20%20%20%20%20%20%20%20%20%20%20%20%29.addTo%28map_c70ec8233814462c85007897579d6139%29%3B%0A%20%20%20%20%20%20%20%20%0A%20%20%20%20%0A%20%20%20%20%20%20%20%20var%20popup_fa567e30a0dd4e048ac6fb2294414443%20%3D%20L.popup%28%7B%22maxWidth%22%3A%20%22100%25%22%7D%29%3B%0A%0A%20%20%20%20%20%20%20%20%0A%20%20%20%20%20%20%20%20%20%20%20%20var%20html_dd9bcd43d3ea462a992055101aef1d02%20%3D%20%24%28%60%3Cdiv%20id%3D%22html_dd9bcd43d3ea462a992055101aef1d02%22%20style%3D%22width%3A%20100.0%25%3B%20height%3A%20100.0%25%3B%22%3E%5B%27COLIS%C3%83O%27%2C%20Timestamp%28%272021-06-10%2000%3A00%3A00%27%29%5D%3C/div%3E%60%29%5B0%5D%3B%0A%20%20%20%20%20%20%20%20%20%20%20%20popup_fa567e30a0dd4e048ac6fb2294414443.setContent%28html_dd9bcd43d3ea462a992055101aef1d02%29%3B%0A%20%20%20%20%20%20%20%20%0A%0A%20%20%20%20%20%20%20%20marker_8ca80864b4484dcebc4eb25109f7506f.bindPopup%28popup_fa567e30a0dd4e048ac6fb2294414443%29%0A%20%20%20%20%20%20%20%20%3B%0A%0A%20%20%20%20%20%20%20%20%0A%20%20%20%20%0A%20%20%20%20%0A%20%20%20%20%20%20%20%20%20%20%20%20var%20marker_e1b6b2c6d62a4808a81a8959fd35b993%20%3D%20L.marker%28%0A%20%20%20%20%20%20%20%20%20%20%20%20%20%20%20%20%5B-29.99675157596461%2C%20-51.188234388828285%5D%2C%0A%20%20%20%20%20%20%20%20%20%20%20%20%20%20%20%20%7B%7D%0A%20%20%20%20%20%20%20%20%20%20%20%20%29.addTo%28map_c70ec8233814462c85007897579d6139%29%3B%0A%20%20%20%20%20%20%20%20%0A%20%20%20%20%0A%20%20%20%20%20%20%20%20var%20popup_14d1bb3803b24ee39785d50fed5a7679%20%3D%20L.popup%28%7B%22maxWidth%22%3A%20%22100%25%22%7D%29%3B%0A%0A%20%20%20%20%20%20%20%20%0A%20%20%20%20%20%20%20%20%20%20%20%20var%20html_243c006eaea34b4bb7edce290fa5c8dd%20%3D%20%24%28%60%3Cdiv%20id%3D%22html_243c006eaea34b4bb7edce290fa5c8dd%22%20style%3D%22width%3A%20100.0%25%3B%20height%3A%20100.0%25%3B%22%3E%5B%27ABALROAMENTO%27%2C%20Timestamp%28%272021-07-02%2000%3A00%3A00%27%29%5D%3C/div%3E%60%29%5B0%5D%3B%0A%20%20%20%20%20%20%20%20%20%20%20%20popup_14d1bb3803b24ee39785d50fed5a7679.setContent%28html_243c006eaea34b4bb7edce290fa5c8dd%29%3B%0A%20%20%20%20%20%20%20%20%0A%0A%20%20%20%20%20%20%20%20marker_e1b6b2c6d62a4808a81a8959fd35b993.bindPopup%28popup_14d1bb3803b24ee39785d50fed5a7679%29%0A%20%20%20%20%20%20%20%20%3B%0A%0A%20%20%20%20%20%20%20%20%0A%20%20%20%20%0A%20%20%20%20%0A%20%20%20%20%20%20%20%20%20%20%20%20var%20marker_03b2e8e8b4ff4cd3be79a3779471f9d4%20%3D%20L.marker%28%0A%20%20%20%20%20%20%20%20%20%20%20%20%20%20%20%20%5B-30.07309570507031%2C%20-51.19863331317902%5D%2C%0A%20%20%20%20%20%20%20%20%20%20%20%20%20%20%20%20%7B%7D%0A%20%20%20%20%20%20%20%20%20%20%20%20%29.addTo%28map_c70ec8233814462c85007897579d6139%29%3B%0A%20%20%20%20%20%20%20%20%0A%20%20%20%20%0A%20%20%20%20%20%20%20%20var%20popup_4fc7206372274577846a96ff91aab731%20%3D%20L.popup%28%7B%22maxWidth%22%3A%20%22100%25%22%7D%29%3B%0A%0A%20%20%20%20%20%20%20%20%0A%20%20%20%20%20%20%20%20%20%20%20%20var%20html_5c394ce9a9e74f668ac521587d026e83%20%3D%20%24%28%60%3Cdiv%20id%3D%22html_5c394ce9a9e74f668ac521587d026e83%22%20style%3D%22width%3A%20100.0%25%3B%20height%3A%20100.0%25%3B%22%3E%5B%27ABALROAMENTO%27%2C%20Timestamp%28%272021-11-11%2000%3A00%3A00%27%29%5D%3C/div%3E%60%29%5B0%5D%3B%0A%20%20%20%20%20%20%20%20%20%20%20%20popup_4fc7206372274577846a96ff91aab731.setContent%28html_5c394ce9a9e74f668ac521587d026e83%29%3B%0A%20%20%20%20%20%20%20%20%0A%0A%20%20%20%20%20%20%20%20marker_03b2e8e8b4ff4cd3be79a3779471f9d4.bindPopup%28popup_4fc7206372274577846a96ff91aab731%29%0A%20%20%20%20%20%20%20%20%3B%0A%0A%20%20%20%20%20%20%20%20%0A%20%20%20%20%0A%20%20%20%20%0A%20%20%20%20%20%20%20%20%20%20%20%20var%20marker_7447fadc34ed4281bf29d2b539536338%20%3D%20L.marker%28%0A%20%20%20%20%20%20%20%20%20%20%20%20%20%20%20%20%5B-30.041490546867603%2C%20-51.15399062633515%5D%2C%0A%20%20%20%20%20%20%20%20%20%20%20%20%20%20%20%20%7B%7D%0A%20%20%20%20%20%20%20%20%20%20%20%20%29.addTo%28map_c70ec8233814462c85007897579d6139%29%3B%0A%20%20%20%20%20%20%20%20%0A%20%20%20%20%0A%20%20%20%20%20%20%20%20var%20popup_a3a619d3e8a54eab9d46ed1f50628ab2%20%3D%20L.popup%28%7B%22maxWidth%22%3A%20%22100%25%22%7D%29%3B%0A%0A%20%20%20%20%20%20%20%20%0A%20%20%20%20%20%20%20%20%20%20%20%20var%20html_13b0a2aebbbe447d92e60c4747b9254e%20%3D%20%24%28%60%3Cdiv%20id%3D%22html_13b0a2aebbbe447d92e60c4747b9254e%22%20style%3D%22width%3A%20100.0%25%3B%20height%3A%20100.0%25%3B%22%3E%5B%27ABALROAMENTO%27%2C%20Timestamp%28%272021-05-31%2000%3A00%3A00%27%29%5D%3C/div%3E%60%29%5B0%5D%3B%0A%20%20%20%20%20%20%20%20%20%20%20%20popup_a3a619d3e8a54eab9d46ed1f50628ab2.setContent%28html_13b0a2aebbbe447d92e60c4747b9254e%29%3B%0A%20%20%20%20%20%20%20%20%0A%0A%20%20%20%20%20%20%20%20marker_7447fadc34ed4281bf29d2b539536338.bindPopup%28popup_a3a619d3e8a54eab9d46ed1f50628ab2%29%0A%20%20%20%20%20%20%20%20%3B%0A%0A%20%20%20%20%20%20%20%20%0A%20%20%20%20%0A%20%20%20%20%0A%20%20%20%20%20%20%20%20%20%20%20%20var%20marker_4e2fe359a4d14460b9e990a8baf87e0c%20%3D%20L.marker%28%0A%20%20%20%20%20%20%20%20%20%20%20%20%20%20%20%20%5B-30.0386356%2C%20-51.1738196%5D%2C%0A%20%20%20%20%20%20%20%20%20%20%20%20%20%20%20%20%7B%7D%0A%20%20%20%20%20%20%20%20%20%20%20%20%29.addTo%28map_c70ec8233814462c85007897579d6139%29%3B%0A%20%20%20%20%20%20%20%20%0A%20%20%20%20%0A%20%20%20%20%20%20%20%20var%20popup_a957992547bd42daa668bb720e21e9af%20%3D%20L.popup%28%7B%22maxWidth%22%3A%20%22100%25%22%7D%29%3B%0A%0A%20%20%20%20%20%20%20%20%0A%20%20%20%20%20%20%20%20%20%20%20%20var%20html_ca36eb02f00841c48e9b8fa8d09708d7%20%3D%20%24%28%60%3Cdiv%20id%3D%22html_ca36eb02f00841c48e9b8fa8d09708d7%22%20style%3D%22width%3A%20100.0%25%3B%20height%3A%20100.0%25%3B%22%3E%5B%27COLIS%C3%83O%27%2C%20Timestamp%28%272021-06-08%2000%3A00%3A00%27%29%5D%3C/div%3E%60%29%5B0%5D%3B%0A%20%20%20%20%20%20%20%20%20%20%20%20popup_a957992547bd42daa668bb720e21e9af.setContent%28html_ca36eb02f00841c48e9b8fa8d09708d7%29%3B%0A%20%20%20%20%20%20%20%20%0A%0A%20%20%20%20%20%20%20%20marker_4e2fe359a4d14460b9e990a8baf87e0c.bindPopup%28popup_a957992547bd42daa668bb720e21e9af%29%0A%20%20%20%20%20%20%20%20%3B%0A%0A%20%20%20%20%20%20%20%20%0A%20%20%20%20%0A%20%20%20%20%0A%20%20%20%20%20%20%20%20%20%20%20%20var%20marker_81bf09b2adb846f3b667948683d6002b%20%3D%20L.marker%28%0A%20%20%20%20%20%20%20%20%20%20%20%20%20%20%20%20%5B-30.21924736054125%2C%20-51.07153539969953%5D%2C%0A%20%20%20%20%20%20%20%20%20%20%20%20%20%20%20%20%7B%7D%0A%20%20%20%20%20%20%20%20%20%20%20%20%29.addTo%28map_c70ec8233814462c85007897579d6139%29%3B%0A%20%20%20%20%20%20%20%20%0A%20%20%20%20%0A%20%20%20%20%20%20%20%20var%20popup_6f45e7941e6a4ae6843a206931a4b73b%20%3D%20L.popup%28%7B%22maxWidth%22%3A%20%22100%25%22%7D%29%3B%0A%0A%20%20%20%20%20%20%20%20%0A%20%20%20%20%20%20%20%20%20%20%20%20var%20html_fdc0abd4275c490dae3c649515b52dfb%20%3D%20%24%28%60%3Cdiv%20id%3D%22html_fdc0abd4275c490dae3c649515b52dfb%22%20style%3D%22width%3A%20100.0%25%3B%20height%3A%20100.0%25%3B%22%3E%5B%27CAPOTAGEM%27%2C%20Timestamp%28%272021-01-16%2000%3A00%3A00%27%29%5D%3C/div%3E%60%29%5B0%5D%3B%0A%20%20%20%20%20%20%20%20%20%20%20%20popup_6f45e7941e6a4ae6843a206931a4b73b.setContent%28html_fdc0abd4275c490dae3c649515b52dfb%29%3B%0A%20%20%20%20%20%20%20%20%0A%0A%20%20%20%20%20%20%20%20marker_81bf09b2adb846f3b667948683d6002b.bindPopup%28popup_6f45e7941e6a4ae6843a206931a4b73b%29%0A%20%20%20%20%20%20%20%20%3B%0A%0A%20%20%20%20%20%20%20%20%0A%20%20%20%20%0A%20%20%20%20%0A%20%20%20%20%20%20%20%20%20%20%20%20var%20marker_f323a17a8acc404ab7ad43b5ae9a32d2%20%3D%20L.marker%28%0A%20%20%20%20%20%20%20%20%20%20%20%20%20%20%20%20%5B-30.02876867880441%2C%20-51.21945329010487%5D%2C%0A%20%20%20%20%20%20%20%20%20%20%20%20%20%20%20%20%7B%7D%0A%20%20%20%20%20%20%20%20%20%20%20%20%29.addTo%28map_c70ec8233814462c85007897579d6139%29%3B%0A%20%20%20%20%20%20%20%20%0A%20%20%20%20%0A%20%20%20%20%20%20%20%20var%20popup_3e11453215884b16bfb40596c85207f2%20%3D%20L.popup%28%7B%22maxWidth%22%3A%20%22100%25%22%7D%29%3B%0A%0A%20%20%20%20%20%20%20%20%0A%20%20%20%20%20%20%20%20%20%20%20%20var%20html_6c739a0ccaad491cb870405b941b8cf8%20%3D%20%24%28%60%3Cdiv%20id%3D%22html_6c739a0ccaad491cb870405b941b8cf8%22%20style%3D%22width%3A%20100.0%25%3B%20height%3A%20100.0%25%3B%22%3E%5B%27COLIS%C3%83O%27%2C%20Timestamp%28%272021-11-19%2000%3A00%3A00%27%29%5D%3C/div%3E%60%29%5B0%5D%3B%0A%20%20%20%20%20%20%20%20%20%20%20%20popup_3e11453215884b16bfb40596c85207f2.setContent%28html_6c739a0ccaad491cb870405b941b8cf8%29%3B%0A%20%20%20%20%20%20%20%20%0A%0A%20%20%20%20%20%20%20%20marker_f323a17a8acc404ab7ad43b5ae9a32d2.bindPopup%28popup_3e11453215884b16bfb40596c85207f2%29%0A%20%20%20%20%20%20%20%20%3B%0A%0A%20%20%20%20%20%20%20%20%0A%20%20%20%20%0A%20%20%20%20%0A%20%20%20%20%20%20%20%20%20%20%20%20var%20marker_7f0d7e4944ec45a3a6432ad28a70c025%20%3D%20L.marker%28%0A%20%20%20%20%20%20%20%20%20%20%20%20%20%20%20%20%5B-30.02474422827213%2C%20-51.13146371673835%5D%2C%0A%20%20%20%20%20%20%20%20%20%20%20%20%20%20%20%20%7B%7D%0A%20%20%20%20%20%20%20%20%20%20%20%20%29.addTo%28map_c70ec8233814462c85007897579d6139%29%3B%0A%20%20%20%20%20%20%20%20%0A%20%20%20%20%0A%20%20%20%20%20%20%20%20var%20popup_1ee6a3c101c3473eb674710ef335a530%20%3D%20L.popup%28%7B%22maxWidth%22%3A%20%22100%25%22%7D%29%3B%0A%0A%20%20%20%20%20%20%20%20%0A%20%20%20%20%20%20%20%20%20%20%20%20var%20html_9b31e2ce291d4534a494011121e47865%20%3D%20%24%28%60%3Cdiv%20id%3D%22html_9b31e2ce291d4534a494011121e47865%22%20style%3D%22width%3A%20100.0%25%3B%20height%3A%20100.0%25%3B%22%3E%5B%27ABALROAMENTO%27%2C%20Timestamp%28%272021-06-22%2000%3A00%3A00%27%29%5D%3C/div%3E%60%29%5B0%5D%3B%0A%20%20%20%20%20%20%20%20%20%20%20%20popup_1ee6a3c101c3473eb674710ef335a530.setContent%28html_9b31e2ce291d4534a494011121e47865%29%3B%0A%20%20%20%20%20%20%20%20%0A%0A%20%20%20%20%20%20%20%20marker_7f0d7e4944ec45a3a6432ad28a70c025.bindPopup%28popup_1ee6a3c101c3473eb674710ef335a530%29%0A%20%20%20%20%20%20%20%20%3B%0A%0A%20%20%20%20%20%20%20%20%0A%20%20%20%20%0A%20%20%20%20%0A%20%20%20%20%20%20%20%20%20%20%20%20var%20marker_dab2f8d99acb4a129f579f6ea1410086%20%3D%20L.marker%28%0A%20%20%20%20%20%20%20%20%20%20%20%20%20%20%20%20%5B-30.002453056486203%2C%20-51.16657914082019%5D%2C%0A%20%20%20%20%20%20%20%20%20%20%20%20%20%20%20%20%7B%7D%0A%20%20%20%20%20%20%20%20%20%20%20%20%29.addTo%28map_c70ec8233814462c85007897579d6139%29%3B%0A%20%20%20%20%20%20%20%20%0A%20%20%20%20%0A%20%20%20%20%20%20%20%20var%20popup_0cd4ab9e4e954ae58481354cd75d1ce1%20%3D%20L.popup%28%7B%22maxWidth%22%3A%20%22100%25%22%7D%29%3B%0A%0A%20%20%20%20%20%20%20%20%0A%20%20%20%20%20%20%20%20%20%20%20%20var%20html_3ba62f3d21bb4550ae5df3b4d1e01925%20%3D%20%24%28%60%3Cdiv%20id%3D%22html_3ba62f3d21bb4550ae5df3b4d1e01925%22%20style%3D%22width%3A%20100.0%25%3B%20height%3A%20100.0%25%3B%22%3E%5B%27CHOQUE%27%2C%20Timestamp%28%272021-09-02%2000%3A00%3A00%27%29%5D%3C/div%3E%60%29%5B0%5D%3B%0A%20%20%20%20%20%20%20%20%20%20%20%20popup_0cd4ab9e4e954ae58481354cd75d1ce1.setContent%28html_3ba62f3d21bb4550ae5df3b4d1e01925%29%3B%0A%20%20%20%20%20%20%20%20%0A%0A%20%20%20%20%20%20%20%20marker_dab2f8d99acb4a129f579f6ea1410086.bindPopup%28popup_0cd4ab9e4e954ae58481354cd75d1ce1%29%0A%20%20%20%20%20%20%20%20%3B%0A%0A%20%20%20%20%20%20%20%20%0A%20%20%20%20%0A%20%20%20%20%0A%20%20%20%20%20%20%20%20%20%20%20%20var%20marker_36e80d9faa0f4ac9898f6d55246fe090%20%3D%20L.marker%28%0A%20%20%20%20%20%20%20%20%20%20%20%20%20%20%20%20%5B-30.0023938%2C%20-51.2085367%5D%2C%0A%20%20%20%20%20%20%20%20%20%20%20%20%20%20%20%20%7B%7D%0A%20%20%20%20%20%20%20%20%20%20%20%20%29.addTo%28map_c70ec8233814462c85007897579d6139%29%3B%0A%20%20%20%20%20%20%20%20%0A%20%20%20%20%0A%20%20%20%20%20%20%20%20var%20popup_3a549fdd178a43afb1f4cbdc567b6811%20%3D%20L.popup%28%7B%22maxWidth%22%3A%20%22100%25%22%7D%29%3B%0A%0A%20%20%20%20%20%20%20%20%0A%20%20%20%20%20%20%20%20%20%20%20%20var%20html_5567c3afd83e431fb12a657b6b20941b%20%3D%20%24%28%60%3Cdiv%20id%3D%22html_5567c3afd83e431fb12a657b6b20941b%22%20style%3D%22width%3A%20100.0%25%3B%20height%3A%20100.0%25%3B%22%3E%5B%27QUEDA%27%2C%20Timestamp%28%272021-05-21%2000%3A00%3A00%27%29%5D%3C/div%3E%60%29%5B0%5D%3B%0A%20%20%20%20%20%20%20%20%20%20%20%20popup_3a549fdd178a43afb1f4cbdc567b6811.setContent%28html_5567c3afd83e431fb12a657b6b20941b%29%3B%0A%20%20%20%20%20%20%20%20%0A%0A%20%20%20%20%20%20%20%20marker_36e80d9faa0f4ac9898f6d55246fe090.bindPopup%28popup_3a549fdd178a43afb1f4cbdc567b6811%29%0A%20%20%20%20%20%20%20%20%3B%0A%0A%20%20%20%20%20%20%20%20%0A%20%20%20%20%0A%20%20%20%20%0A%20%20%20%20%20%20%20%20%20%20%20%20var%20marker_57c812f3a29a40e98e94917b64ede6d3%20%3D%20L.marker%28%0A%20%20%20%20%20%20%20%20%20%20%20%20%20%20%20%20%5B-30.047331%2C%20-51.2137029%5D%2C%0A%20%20%20%20%20%20%20%20%20%20%20%20%20%20%20%20%7B%7D%0A%20%20%20%20%20%20%20%20%20%20%20%20%29.addTo%28map_c70ec8233814462c85007897579d6139%29%3B%0A%20%20%20%20%20%20%20%20%0A%20%20%20%20%0A%20%20%20%20%20%20%20%20var%20popup_6a4f5c8417ae4d42b56ffb448c81fc7a%20%3D%20L.popup%28%7B%22maxWidth%22%3A%20%22100%25%22%7D%29%3B%0A%0A%20%20%20%20%20%20%20%20%0A%20%20%20%20%20%20%20%20%20%20%20%20var%20html_fd159b803b424c2bb1af6e8a7255403f%20%3D%20%24%28%60%3Cdiv%20id%3D%22html_fd159b803b424c2bb1af6e8a7255403f%22%20style%3D%22width%3A%20100.0%25%3B%20height%3A%20100.0%25%3B%22%3E%5B%27NAO%20CADASTRADO%27%2C%20Timestamp%28%272021-09-23%2000%3A00%3A00%27%29%5D%3C/div%3E%60%29%5B0%5D%3B%0A%20%20%20%20%20%20%20%20%20%20%20%20popup_6a4f5c8417ae4d42b56ffb448c81fc7a.setContent%28html_fd159b803b424c2bb1af6e8a7255403f%29%3B%0A%20%20%20%20%20%20%20%20%0A%0A%20%20%20%20%20%20%20%20marker_57c812f3a29a40e98e94917b64ede6d3.bindPopup%28popup_6a4f5c8417ae4d42b56ffb448c81fc7a%29%0A%20%20%20%20%20%20%20%20%3B%0A%0A%20%20%20%20%20%20%20%20%0A%20%20%20%20%0A%20%20%20%20%0A%20%20%20%20%20%20%20%20%20%20%20%20var%20marker_a35124ed6b5046d4a9dced37aec9a18e%20%3D%20L.marker%28%0A%20%20%20%20%20%20%20%20%20%20%20%20%20%20%20%20%5B-30.01817859381667%2C%20-51.13617999545269%5D%2C%0A%20%20%20%20%20%20%20%20%20%20%20%20%20%20%20%20%7B%7D%0A%20%20%20%20%20%20%20%20%20%20%20%20%29.addTo%28map_c70ec8233814462c85007897579d6139%29%3B%0A%20%20%20%20%20%20%20%20%0A%20%20%20%20%0A%20%20%20%20%20%20%20%20var%20popup_cb2ca6935eed4250bcd4bc035f1a0b88%20%3D%20L.popup%28%7B%22maxWidth%22%3A%20%22100%25%22%7D%29%3B%0A%0A%20%20%20%20%20%20%20%20%0A%20%20%20%20%20%20%20%20%20%20%20%20var%20html_edac461a0f8f45f39fcc5605f4f712f4%20%3D%20%24%28%60%3Cdiv%20id%3D%22html_edac461a0f8f45f39fcc5605f4f712f4%22%20style%3D%22width%3A%20100.0%25%3B%20height%3A%20100.0%25%3B%22%3E%5B%27ABALROAMENTO%27%2C%20Timestamp%28%272021-03-03%2000%3A00%3A00%27%29%5D%3C/div%3E%60%29%5B0%5D%3B%0A%20%20%20%20%20%20%20%20%20%20%20%20popup_cb2ca6935eed4250bcd4bc035f1a0b88.setContent%28html_edac461a0f8f45f39fcc5605f4f712f4%29%3B%0A%20%20%20%20%20%20%20%20%0A%0A%20%20%20%20%20%20%20%20marker_a35124ed6b5046d4a9dced37aec9a18e.bindPopup%28popup_cb2ca6935eed4250bcd4bc035f1a0b88%29%0A%20%20%20%20%20%20%20%20%3B%0A%0A%20%20%20%20%20%20%20%20%0A%20%20%20%20%0A%20%20%20%20%0A%20%20%20%20%20%20%20%20%20%20%20%20var%20marker_83e5d1b08cd848a5bb455ff5ded5602d%20%3D%20L.marker%28%0A%20%20%20%20%20%20%20%20%20%20%20%20%20%20%20%20%5B-30.03872087305288%2C%20-51.1223851007912%5D%2C%0A%20%20%20%20%20%20%20%20%20%20%20%20%20%20%20%20%7B%7D%0A%20%20%20%20%20%20%20%20%20%20%20%20%29.addTo%28map_c70ec8233814462c85007897579d6139%29%3B%0A%20%20%20%20%20%20%20%20%0A%20%20%20%20%0A%20%20%20%20%20%20%20%20var%20popup_d1e7f879672a423a8f2d67045ec5dba7%20%3D%20L.popup%28%7B%22maxWidth%22%3A%20%22100%25%22%7D%29%3B%0A%0A%20%20%20%20%20%20%20%20%0A%20%20%20%20%20%20%20%20%20%20%20%20var%20html_16e2d9863a5246a0b7d2761fb9c5a76e%20%3D%20%24%28%60%3Cdiv%20id%3D%22html_16e2d9863a5246a0b7d2761fb9c5a76e%22%20style%3D%22width%3A%20100.0%25%3B%20height%3A%20100.0%25%3B%22%3E%5B%27COLIS%C3%83O%27%2C%20Timestamp%28%272021-06-11%2000%3A00%3A00%27%29%5D%3C/div%3E%60%29%5B0%5D%3B%0A%20%20%20%20%20%20%20%20%20%20%20%20popup_d1e7f879672a423a8f2d67045ec5dba7.setContent%28html_16e2d9863a5246a0b7d2761fb9c5a76e%29%3B%0A%20%20%20%20%20%20%20%20%0A%0A%20%20%20%20%20%20%20%20marker_83e5d1b08cd848a5bb455ff5ded5602d.bindPopup%28popup_d1e7f879672a423a8f2d67045ec5dba7%29%0A%20%20%20%20%20%20%20%20%3B%0A%0A%20%20%20%20%20%20%20%20%0A%20%20%20%20%0A%20%20%20%20%0A%20%20%20%20%20%20%20%20%20%20%20%20var%20marker_5ae0a5fb0c47495eb1d0d4fd8f352567%20%3D%20L.marker%28%0A%20%20%20%20%20%20%20%20%20%20%20%20%20%20%20%20%5B-29.998173203335003%2C%20-51.15359097719193%5D%2C%0A%20%20%20%20%20%20%20%20%20%20%20%20%20%20%20%20%7B%7D%0A%20%20%20%20%20%20%20%20%20%20%20%20%29.addTo%28map_c70ec8233814462c85007897579d6139%29%3B%0A%20%20%20%20%20%20%20%20%0A%20%20%20%20%0A%20%20%20%20%20%20%20%20var%20popup_4074f71a32334c37b426e041233eb4d2%20%3D%20L.popup%28%7B%22maxWidth%22%3A%20%22100%25%22%7D%29%3B%0A%0A%20%20%20%20%20%20%20%20%0A%20%20%20%20%20%20%20%20%20%20%20%20var%20html_c8937c114ec44cc087f92d305ebc4da9%20%3D%20%24%28%60%3Cdiv%20id%3D%22html_c8937c114ec44cc087f92d305ebc4da9%22%20style%3D%22width%3A%20100.0%25%3B%20height%3A%20100.0%25%3B%22%3E%5B%27COLIS%C3%83O%27%2C%20Timestamp%28%272021-01-23%2000%3A00%3A00%27%29%5D%3C/div%3E%60%29%5B0%5D%3B%0A%20%20%20%20%20%20%20%20%20%20%20%20popup_4074f71a32334c37b426e041233eb4d2.setContent%28html_c8937c114ec44cc087f92d305ebc4da9%29%3B%0A%20%20%20%20%20%20%20%20%0A%0A%20%20%20%20%20%20%20%20marker_5ae0a5fb0c47495eb1d0d4fd8f352567.bindPopup%28popup_4074f71a32334c37b426e041233eb4d2%29%0A%20%20%20%20%20%20%20%20%3B%0A%0A%20%20%20%20%20%20%20%20%0A%20%20%20%20%0A%20%20%20%20%0A%20%20%20%20%20%20%20%20%20%20%20%20var%20marker_80bc431e0ffe4a038c266969e5cd16c5%20%3D%20L.marker%28%0A%20%20%20%20%20%20%20%20%20%20%20%20%20%20%20%20%5B-30.06925687867531%2C%20-51.188324711123656%5D%2C%0A%20%20%20%20%20%20%20%20%20%20%20%20%20%20%20%20%7B%7D%0A%20%20%20%20%20%20%20%20%20%20%20%20%29.addTo%28map_c70ec8233814462c85007897579d6139%29%3B%0A%20%20%20%20%20%20%20%20%0A%20%20%20%20%0A%20%20%20%20%20%20%20%20var%20popup_7d6300ddd30d4c6aa30abc8707ae4979%20%3D%20L.popup%28%7B%22maxWidth%22%3A%20%22100%25%22%7D%29%3B%0A%0A%20%20%20%20%20%20%20%20%0A%20%20%20%20%20%20%20%20%20%20%20%20var%20html_77e20e96cb1444aa82465315d2f18fb4%20%3D%20%24%28%60%3Cdiv%20id%3D%22html_77e20e96cb1444aa82465315d2f18fb4%22%20style%3D%22width%3A%20100.0%25%3B%20height%3A%20100.0%25%3B%22%3E%5B%27QUEDA%27%2C%20Timestamp%28%272021-02-19%2000%3A00%3A00%27%29%5D%3C/div%3E%60%29%5B0%5D%3B%0A%20%20%20%20%20%20%20%20%20%20%20%20popup_7d6300ddd30d4c6aa30abc8707ae4979.setContent%28html_77e20e96cb1444aa82465315d2f18fb4%29%3B%0A%20%20%20%20%20%20%20%20%0A%0A%20%20%20%20%20%20%20%20marker_80bc431e0ffe4a038c266969e5cd16c5.bindPopup%28popup_7d6300ddd30d4c6aa30abc8707ae4979%29%0A%20%20%20%20%20%20%20%20%3B%0A%0A%20%20%20%20%20%20%20%20%0A%20%20%20%20%0A%20%20%20%20%0A%20%20%20%20%20%20%20%20%20%20%20%20var%20marker_1b8f7516370443758e871f615f62c86f%20%3D%20L.marker%28%0A%20%20%20%20%20%20%20%20%20%20%20%20%20%20%20%20%5B-30.0670132%2C%20-51.1834667%5D%2C%0A%20%20%20%20%20%20%20%20%20%20%20%20%20%20%20%20%7B%7D%0A%20%20%20%20%20%20%20%20%20%20%20%20%29.addTo%28map_c70ec8233814462c85007897579d6139%29%3B%0A%20%20%20%20%20%20%20%20%0A%20%20%20%20%0A%20%20%20%20%20%20%20%20var%20popup_bc57c9014fd34f8b970ab6657ea5b849%20%3D%20L.popup%28%7B%22maxWidth%22%3A%20%22100%25%22%7D%29%3B%0A%0A%20%20%20%20%20%20%20%20%0A%20%20%20%20%20%20%20%20%20%20%20%20var%20html_740edd92e1d74c139b4180aa788d3f00%20%3D%20%24%28%60%3Cdiv%20id%3D%22html_740edd92e1d74c139b4180aa788d3f00%22%20style%3D%22width%3A%20100.0%25%3B%20height%3A%20100.0%25%3B%22%3E%5B%27CHOQUE%27%2C%20Timestamp%28%272021-09-22%2000%3A00%3A00%27%29%5D%3C/div%3E%60%29%5B0%5D%3B%0A%20%20%20%20%20%20%20%20%20%20%20%20popup_bc57c9014fd34f8b970ab6657ea5b849.setContent%28html_740edd92e1d74c139b4180aa788d3f00%29%3B%0A%20%20%20%20%20%20%20%20%0A%0A%20%20%20%20%20%20%20%20marker_1b8f7516370443758e871f615f62c86f.bindPopup%28popup_bc57c9014fd34f8b970ab6657ea5b849%29%0A%20%20%20%20%20%20%20%20%3B%0A%0A%20%20%20%20%20%20%20%20%0A%20%20%20%20%0A%20%20%20%20%0A%20%20%20%20%20%20%20%20%20%20%20%20var%20marker_c6038541378345bc93a18ca80c5332e2%20%3D%20L.marker%28%0A%20%20%20%20%20%20%20%20%20%20%20%20%20%20%20%20%5B-30.03498277043656%2C%20-51.2408908488109%5D%2C%0A%20%20%20%20%20%20%20%20%20%20%20%20%20%20%20%20%7B%7D%0A%20%20%20%20%20%20%20%20%20%20%20%20%29.addTo%28map_c70ec8233814462c85007897579d6139%29%3B%0A%20%20%20%20%20%20%20%20%0A%20%20%20%20%0A%20%20%20%20%20%20%20%20var%20popup_36c7c3745a114ebdb3c73187e91c28be%20%3D%20L.popup%28%7B%22maxWidth%22%3A%20%22100%25%22%7D%29%3B%0A%0A%20%20%20%20%20%20%20%20%0A%20%20%20%20%20%20%20%20%20%20%20%20var%20html_89cbed09a6ce4314b254f4bb89ac8fb2%20%3D%20%24%28%60%3Cdiv%20id%3D%22html_89cbed09a6ce4314b254f4bb89ac8fb2%22%20style%3D%22width%3A%20100.0%25%3B%20height%3A%20100.0%25%3B%22%3E%5B%27COLIS%C3%83O%27%2C%20Timestamp%28%272021-03-24%2000%3A00%3A00%27%29%5D%3C/div%3E%60%29%5B0%5D%3B%0A%20%20%20%20%20%20%20%20%20%20%20%20popup_36c7c3745a114ebdb3c73187e91c28be.setContent%28html_89cbed09a6ce4314b254f4bb89ac8fb2%29%3B%0A%20%20%20%20%20%20%20%20%0A%0A%20%20%20%20%20%20%20%20marker_c6038541378345bc93a18ca80c5332e2.bindPopup%28popup_36c7c3745a114ebdb3c73187e91c28be%29%0A%20%20%20%20%20%20%20%20%3B%0A%0A%20%20%20%20%20%20%20%20%0A%20%20%20%20%0A%20%20%20%20%0A%20%20%20%20%20%20%20%20%20%20%20%20var%20marker_1541e70d02ea4d99b6118314d5443803%20%3D%20L.marker%28%0A%20%20%20%20%20%20%20%20%20%20%20%20%20%20%20%20%5B-30.10137842832408%2C%20-51.138343771523104%5D%2C%0A%20%20%20%20%20%20%20%20%20%20%20%20%20%20%20%20%7B%7D%0A%20%20%20%20%20%20%20%20%20%20%20%20%29.addTo%28map_c70ec8233814462c85007897579d6139%29%3B%0A%20%20%20%20%20%20%20%20%0A%20%20%20%20%0A%20%20%20%20%20%20%20%20var%20popup_5b002f922941481c8f7c69e35a183600%20%3D%20L.popup%28%7B%22maxWidth%22%3A%20%22100%25%22%7D%29%3B%0A%0A%20%20%20%20%20%20%20%20%0A%20%20%20%20%20%20%20%20%20%20%20%20var%20html_1d6718db0225481da4c69457321345ae%20%3D%20%24%28%60%3Cdiv%20id%3D%22html_1d6718db0225481da4c69457321345ae%22%20style%3D%22width%3A%20100.0%25%3B%20height%3A%20100.0%25%3B%22%3E%5B%27QUEDA%27%2C%20Timestamp%28%272021-07-04%2000%3A00%3A00%27%29%5D%3C/div%3E%60%29%5B0%5D%3B%0A%20%20%20%20%20%20%20%20%20%20%20%20popup_5b002f922941481c8f7c69e35a183600.setContent%28html_1d6718db0225481da4c69457321345ae%29%3B%0A%20%20%20%20%20%20%20%20%0A%0A%20%20%20%20%20%20%20%20marker_1541e70d02ea4d99b6118314d5443803.bindPopup%28popup_5b002f922941481c8f7c69e35a183600%29%0A%20%20%20%20%20%20%20%20%3B%0A%0A%20%20%20%20%20%20%20%20%0A%20%20%20%20%0A%20%20%20%20%0A%20%20%20%20%20%20%20%20%20%20%20%20var%20marker_8f2c4879f5974b928d5fcbbfb978d91e%20%3D%20L.marker%28%0A%20%20%20%20%20%20%20%20%20%20%20%20%20%20%20%20%5B-30.1115072153763%2C%20-51.110132138005326%5D%2C%0A%20%20%20%20%20%20%20%20%20%20%20%20%20%20%20%20%7B%7D%0A%20%20%20%20%20%20%20%20%20%20%20%20%29.addTo%28map_c70ec8233814462c85007897579d6139%29%3B%0A%20%20%20%20%20%20%20%20%0A%20%20%20%20%0A%20%20%20%20%20%20%20%20var%20popup_b2f87df93fd84486af939150cc354126%20%3D%20L.popup%28%7B%22maxWidth%22%3A%20%22100%25%22%7D%29%3B%0A%0A%20%20%20%20%20%20%20%20%0A%20%20%20%20%20%20%20%20%20%20%20%20var%20html_571526d95f1b4562905d437b544a1ee2%20%3D%20%24%28%60%3Cdiv%20id%3D%22html_571526d95f1b4562905d437b544a1ee2%22%20style%3D%22width%3A%20100.0%25%3B%20height%3A%20100.0%25%3B%22%3E%5B%27COLIS%C3%83O%27%2C%20Timestamp%28%272021-07-15%2000%3A00%3A00%27%29%5D%3C/div%3E%60%29%5B0%5D%3B%0A%20%20%20%20%20%20%20%20%20%20%20%20popup_b2f87df93fd84486af939150cc354126.setContent%28html_571526d95f1b4562905d437b544a1ee2%29%3B%0A%20%20%20%20%20%20%20%20%0A%0A%20%20%20%20%20%20%20%20marker_8f2c4879f5974b928d5fcbbfb978d91e.bindPopup%28popup_b2f87df93fd84486af939150cc354126%29%0A%20%20%20%20%20%20%20%20%3B%0A%0A%20%20%20%20%20%20%20%20%0A%20%20%20%20%0A%20%20%20%20%0A%20%20%20%20%20%20%20%20%20%20%20%20var%20marker_bec89343236045c7a52cec527f9afeaa%20%3D%20L.marker%28%0A%20%20%20%20%20%20%20%20%20%20%20%20%20%20%20%20%5B-30.022475592913977%2C%20-51.15159938520793%5D%2C%0A%20%20%20%20%20%20%20%20%20%20%20%20%20%20%20%20%7B%7D%0A%20%20%20%20%20%20%20%20%20%20%20%20%29.addTo%28map_c70ec8233814462c85007897579d6139%29%3B%0A%20%20%20%20%20%20%20%20%0A%20%20%20%20%0A%20%20%20%20%20%20%20%20var%20popup_5e2946836e1544c296479218488d401d%20%3D%20L.popup%28%7B%22maxWidth%22%3A%20%22100%25%22%7D%29%3B%0A%0A%20%20%20%20%20%20%20%20%0A%20%20%20%20%20%20%20%20%20%20%20%20var%20html_ba3db00abea64998b90b56aee94b47d2%20%3D%20%24%28%60%3Cdiv%20id%3D%22html_ba3db00abea64998b90b56aee94b47d2%22%20style%3D%22width%3A%20100.0%25%3B%20height%3A%20100.0%25%3B%22%3E%5B%27ABALROAMENTO%27%2C%20Timestamp%28%272021-05-23%2000%3A00%3A00%27%29%5D%3C/div%3E%60%29%5B0%5D%3B%0A%20%20%20%20%20%20%20%20%20%20%20%20popup_5e2946836e1544c296479218488d401d.setContent%28html_ba3db00abea64998b90b56aee94b47d2%29%3B%0A%20%20%20%20%20%20%20%20%0A%0A%20%20%20%20%20%20%20%20marker_bec89343236045c7a52cec527f9afeaa.bindPopup%28popup_5e2946836e1544c296479218488d401d%29%0A%20%20%20%20%20%20%20%20%3B%0A%0A%20%20%20%20%20%20%20%20%0A%20%20%20%20%0A%20%20%20%20%0A%20%20%20%20%20%20%20%20%20%20%20%20var%20marker_a37c1bc2ed8a49d4bb87356215b6df76%20%3D%20L.marker%28%0A%20%20%20%20%20%20%20%20%20%20%20%20%20%20%20%20%5B-30.018126724276257%2C%20-51.17873485450062%5D%2C%0A%20%20%20%20%20%20%20%20%20%20%20%20%20%20%20%20%7B%7D%0A%20%20%20%20%20%20%20%20%20%20%20%20%29.addTo%28map_c70ec8233814462c85007897579d6139%29%3B%0A%20%20%20%20%20%20%20%20%0A%20%20%20%20%0A%20%20%20%20%20%20%20%20var%20popup_ba2566c26bd5427196d09e752774cdc0%20%3D%20L.popup%28%7B%22maxWidth%22%3A%20%22100%25%22%7D%29%3B%0A%0A%20%20%20%20%20%20%20%20%0A%20%20%20%20%20%20%20%20%20%20%20%20var%20html_247206ec3c3a4892ac637020c0d86201%20%3D%20%24%28%60%3Cdiv%20id%3D%22html_247206ec3c3a4892ac637020c0d86201%22%20style%3D%22width%3A%20100.0%25%3B%20height%3A%20100.0%25%3B%22%3E%5B%27CHOQUE%27%2C%20Timestamp%28%272021-10-19%2000%3A00%3A00%27%29%5D%3C/div%3E%60%29%5B0%5D%3B%0A%20%20%20%20%20%20%20%20%20%20%20%20popup_ba2566c26bd5427196d09e752774cdc0.setContent%28html_247206ec3c3a4892ac637020c0d86201%29%3B%0A%20%20%20%20%20%20%20%20%0A%0A%20%20%20%20%20%20%20%20marker_a37c1bc2ed8a49d4bb87356215b6df76.bindPopup%28popup_ba2566c26bd5427196d09e752774cdc0%29%0A%20%20%20%20%20%20%20%20%3B%0A%0A%20%20%20%20%20%20%20%20%0A%20%20%20%20%0A%20%20%20%20%0A%20%20%20%20%20%20%20%20%20%20%20%20var%20marker_cf36aa04ab694eed866f375715e8e9e6%20%3D%20L.marker%28%0A%20%20%20%20%20%20%20%20%20%20%20%20%20%20%20%20%5B-30.117406632357607%2C%20-51.11114832513388%5D%2C%0A%20%20%20%20%20%20%20%20%20%20%20%20%20%20%20%20%7B%7D%0A%20%20%20%20%20%20%20%20%20%20%20%20%29.addTo%28map_c70ec8233814462c85007897579d6139%29%3B%0A%20%20%20%20%20%20%20%20%0A%20%20%20%20%0A%20%20%20%20%20%20%20%20var%20popup_ea88e55c778045d9a27039c1946505fc%20%3D%20L.popup%28%7B%22maxWidth%22%3A%20%22100%25%22%7D%29%3B%0A%0A%20%20%20%20%20%20%20%20%0A%20%20%20%20%20%20%20%20%20%20%20%20var%20html_2c8418a1be8847acb703c5362ecb9c71%20%3D%20%24%28%60%3Cdiv%20id%3D%22html_2c8418a1be8847acb703c5362ecb9c71%22%20style%3D%22width%3A%20100.0%25%3B%20height%3A%20100.0%25%3B%22%3E%5B%27ATROPELAMENTO%27%2C%20Timestamp%28%272021-04-09%2000%3A00%3A00%27%29%5D%3C/div%3E%60%29%5B0%5D%3B%0A%20%20%20%20%20%20%20%20%20%20%20%20popup_ea88e55c778045d9a27039c1946505fc.setContent%28html_2c8418a1be8847acb703c5362ecb9c71%29%3B%0A%20%20%20%20%20%20%20%20%0A%0A%20%20%20%20%20%20%20%20marker_cf36aa04ab694eed866f375715e8e9e6.bindPopup%28popup_ea88e55c778045d9a27039c1946505fc%29%0A%20%20%20%20%20%20%20%20%3B%0A%0A%20%20%20%20%20%20%20%20%0A%20%20%20%20%0A%20%20%20%20%0A%20%20%20%20%20%20%20%20%20%20%20%20var%20marker_5edce02537ff4026850b07fcec3e037c%20%3D%20L.marker%28%0A%20%20%20%20%20%20%20%20%20%20%20%20%20%20%20%20%5B-30.0739747%2C%20-51.2412853%5D%2C%0A%20%20%20%20%20%20%20%20%20%20%20%20%20%20%20%20%7B%7D%0A%20%20%20%20%20%20%20%20%20%20%20%20%29.addTo%28map_c70ec8233814462c85007897579d6139%29%3B%0A%20%20%20%20%20%20%20%20%0A%20%20%20%20%0A%20%20%20%20%20%20%20%20var%20popup_9731e6706aa146a88d9a92d7e60670d3%20%3D%20L.popup%28%7B%22maxWidth%22%3A%20%22100%25%22%7D%29%3B%0A%0A%20%20%20%20%20%20%20%20%0A%20%20%20%20%20%20%20%20%20%20%20%20var%20html_62e867cd8a2648fd862354feb67961f8%20%3D%20%24%28%60%3Cdiv%20id%3D%22html_62e867cd8a2648fd862354feb67961f8%22%20style%3D%22width%3A%20100.0%25%3B%20height%3A%20100.0%25%3B%22%3E%5B%27ABALROAMENTO%27%2C%20Timestamp%28%272021-10-22%2000%3A00%3A00%27%29%5D%3C/div%3E%60%29%5B0%5D%3B%0A%20%20%20%20%20%20%20%20%20%20%20%20popup_9731e6706aa146a88d9a92d7e60670d3.setContent%28html_62e867cd8a2648fd862354feb67961f8%29%3B%0A%20%20%20%20%20%20%20%20%0A%0A%20%20%20%20%20%20%20%20marker_5edce02537ff4026850b07fcec3e037c.bindPopup%28popup_9731e6706aa146a88d9a92d7e60670d3%29%0A%20%20%20%20%20%20%20%20%3B%0A%0A%20%20%20%20%20%20%20%20%0A%20%20%20%20%0A%20%20%20%20%0A%20%20%20%20%20%20%20%20%20%20%20%20var%20marker_49b709fad6b747518eedb6696436ef16%20%3D%20L.marker%28%0A%20%20%20%20%20%20%20%20%20%20%20%20%20%20%20%20%5B-30.080933912474155%2C%20-51.24633640050888%5D%2C%0A%20%20%20%20%20%20%20%20%20%20%20%20%20%20%20%20%7B%7D%0A%20%20%20%20%20%20%20%20%20%20%20%20%29.addTo%28map_c70ec8233814462c85007897579d6139%29%3B%0A%20%20%20%20%20%20%20%20%0A%20%20%20%20%0A%20%20%20%20%20%20%20%20var%20popup_6518fa9c26064963b0e43142f22e07c9%20%3D%20L.popup%28%7B%22maxWidth%22%3A%20%22100%25%22%7D%29%3B%0A%0A%20%20%20%20%20%20%20%20%0A%20%20%20%20%20%20%20%20%20%20%20%20var%20html_159a9b33487e4ba2909e461440ea32f2%20%3D%20%24%28%60%3Cdiv%20id%3D%22html_159a9b33487e4ba2909e461440ea32f2%22%20style%3D%22width%3A%20100.0%25%3B%20height%3A%20100.0%25%3B%22%3E%5B%27ATROPELAMENTO%27%2C%20Timestamp%28%272021-09-28%2000%3A00%3A00%27%29%5D%3C/div%3E%60%29%5B0%5D%3B%0A%20%20%20%20%20%20%20%20%20%20%20%20popup_6518fa9c26064963b0e43142f22e07c9.setContent%28html_159a9b33487e4ba2909e461440ea32f2%29%3B%0A%20%20%20%20%20%20%20%20%0A%0A%20%20%20%20%20%20%20%20marker_49b709fad6b747518eedb6696436ef16.bindPopup%28popup_6518fa9c26064963b0e43142f22e07c9%29%0A%20%20%20%20%20%20%20%20%3B%0A%0A%20%20%20%20%20%20%20%20%0A%20%20%20%20%0A%20%20%20%20%0A%20%20%20%20%20%20%20%20%20%20%20%20var%20marker_0a914cd1f733410aa06fe18d47684e4e%20%3D%20L.marker%28%0A%20%20%20%20%20%20%20%20%20%20%20%20%20%20%20%20%5B-30.093603439907767%2C%20-51.22380587139073%5D%2C%0A%20%20%20%20%20%20%20%20%20%20%20%20%20%20%20%20%7B%7D%0A%20%20%20%20%20%20%20%20%20%20%20%20%29.addTo%28map_c70ec8233814462c85007897579d6139%29%3B%0A%20%20%20%20%20%20%20%20%0A%20%20%20%20%0A%20%20%20%20%20%20%20%20var%20popup_8dbd39d10acc4fa3919b7ff3cecf7d60%20%3D%20L.popup%28%7B%22maxWidth%22%3A%20%22100%25%22%7D%29%3B%0A%0A%20%20%20%20%20%20%20%20%0A%20%20%20%20%20%20%20%20%20%20%20%20var%20html_1bf26b4c6788454483b557f5461f0189%20%3D%20%24%28%60%3Cdiv%20id%3D%22html_1bf26b4c6788454483b557f5461f0189%22%20style%3D%22width%3A%20100.0%25%3B%20height%3A%20100.0%25%3B%22%3E%5B%27CHOQUE%27%2C%20Timestamp%28%272021-01-17%2000%3A00%3A00%27%29%5D%3C/div%3E%60%29%5B0%5D%3B%0A%20%20%20%20%20%20%20%20%20%20%20%20popup_8dbd39d10acc4fa3919b7ff3cecf7d60.setContent%28html_1bf26b4c6788454483b557f5461f0189%29%3B%0A%20%20%20%20%20%20%20%20%0A%0A%20%20%20%20%20%20%20%20marker_0a914cd1f733410aa06fe18d47684e4e.bindPopup%28popup_8dbd39d10acc4fa3919b7ff3cecf7d60%29%0A%20%20%20%20%20%20%20%20%3B%0A%0A%20%20%20%20%20%20%20%20%0A%20%20%20%20%0A%20%20%20%20%0A%20%20%20%20%20%20%20%20%20%20%20%20var%20marker_c3faa70da0fc41fdbbbe7bf30506df13%20%3D%20L.marker%28%0A%20%20%20%20%20%20%20%20%20%20%20%20%20%20%20%20%5B-30.01737014689401%2C%20-51.10947400331498%5D%2C%0A%20%20%20%20%20%20%20%20%20%20%20%20%20%20%20%20%7B%7D%0A%20%20%20%20%20%20%20%20%20%20%20%20%29.addTo%28map_c70ec8233814462c85007897579d6139%29%3B%0A%20%20%20%20%20%20%20%20%0A%20%20%20%20%0A%20%20%20%20%20%20%20%20var%20popup_85308a0d780447148fbf49bff7a8bb58%20%3D%20L.popup%28%7B%22maxWidth%22%3A%20%22100%25%22%7D%29%3B%0A%0A%20%20%20%20%20%20%20%20%0A%20%20%20%20%20%20%20%20%20%20%20%20var%20html_22133ba9c7e44f668b887ab6ba559abc%20%3D%20%24%28%60%3Cdiv%20id%3D%22html_22133ba9c7e44f668b887ab6ba559abc%22%20style%3D%22width%3A%20100.0%25%3B%20height%3A%20100.0%25%3B%22%3E%5B%27ABALROAMENTO%27%2C%20Timestamp%28%272021-09-05%2000%3A00%3A00%27%29%5D%3C/div%3E%60%29%5B0%5D%3B%0A%20%20%20%20%20%20%20%20%20%20%20%20popup_85308a0d780447148fbf49bff7a8bb58.setContent%28html_22133ba9c7e44f668b887ab6ba559abc%29%3B%0A%20%20%20%20%20%20%20%20%0A%0A%20%20%20%20%20%20%20%20marker_c3faa70da0fc41fdbbbe7bf30506df13.bindPopup%28popup_85308a0d780447148fbf49bff7a8bb58%29%0A%20%20%20%20%20%20%20%20%3B%0A%0A%20%20%20%20%20%20%20%20%0A%20%20%20%20%0A%20%20%20%20%0A%20%20%20%20%20%20%20%20%20%20%20%20var%20marker_07362399ef0145859cbb200359ac015f%20%3D%20L.marker%28%0A%20%20%20%20%20%20%20%20%20%20%20%20%20%20%20%20%5B-30.03614541333986%2C%20-51.17568165063859%5D%2C%0A%20%20%20%20%20%20%20%20%20%20%20%20%20%20%20%20%7B%7D%0A%20%20%20%20%20%20%20%20%20%20%20%20%29.addTo%28map_c70ec8233814462c85007897579d6139%29%3B%0A%20%20%20%20%20%20%20%20%0A%20%20%20%20%0A%20%20%20%20%20%20%20%20var%20popup_d16bf26ea9f4409a9a5048a8ca4d5426%20%3D%20L.popup%28%7B%22maxWidth%22%3A%20%22100%25%22%7D%29%3B%0A%0A%20%20%20%20%20%20%20%20%0A%20%20%20%20%20%20%20%20%20%20%20%20var%20html_3d27180a017f4c6cb637f48ea95a1bd8%20%3D%20%24%28%60%3Cdiv%20id%3D%22html_3d27180a017f4c6cb637f48ea95a1bd8%22%20style%3D%22width%3A%20100.0%25%3B%20height%3A%20100.0%25%3B%22%3E%5B%27COLIS%C3%83O%27%2C%20Timestamp%28%272021-10-11%2000%3A00%3A00%27%29%5D%3C/div%3E%60%29%5B0%5D%3B%0A%20%20%20%20%20%20%20%20%20%20%20%20popup_d16bf26ea9f4409a9a5048a8ca4d5426.setContent%28html_3d27180a017f4c6cb637f48ea95a1bd8%29%3B%0A%20%20%20%20%20%20%20%20%0A%0A%20%20%20%20%20%20%20%20marker_07362399ef0145859cbb200359ac015f.bindPopup%28popup_d16bf26ea9f4409a9a5048a8ca4d5426%29%0A%20%20%20%20%20%20%20%20%3B%0A%0A%20%20%20%20%20%20%20%20%0A%20%20%20%20%0A%20%20%20%20%0A%20%20%20%20%20%20%20%20%20%20%20%20var%20marker_993a059dc369476aa1c2fb2c06044f81%20%3D%20L.marker%28%0A%20%20%20%20%20%20%20%20%20%20%20%20%20%20%20%20%5B-29.994735246015203%2C%20-51.13421738147736%5D%2C%0A%20%20%20%20%20%20%20%20%20%20%20%20%20%20%20%20%7B%7D%0A%20%20%20%20%20%20%20%20%20%20%20%20%29.addTo%28map_c70ec8233814462c85007897579d6139%29%3B%0A%20%20%20%20%20%20%20%20%0A%20%20%20%20%0A%20%20%20%20%20%20%20%20var%20popup_598a9df9b30648f4b175d724534cc5d5%20%3D%20L.popup%28%7B%22maxWidth%22%3A%20%22100%25%22%7D%29%3B%0A%0A%20%20%20%20%20%20%20%20%0A%20%20%20%20%20%20%20%20%20%20%20%20var%20html_8e4916c9c6d74c83b18810d5afb464cc%20%3D%20%24%28%60%3Cdiv%20id%3D%22html_8e4916c9c6d74c83b18810d5afb464cc%22%20style%3D%22width%3A%20100.0%25%3B%20height%3A%20100.0%25%3B%22%3E%5B%27ABALROAMENTO%27%2C%20Timestamp%28%272021-07-31%2000%3A00%3A00%27%29%5D%3C/div%3E%60%29%5B0%5D%3B%0A%20%20%20%20%20%20%20%20%20%20%20%20popup_598a9df9b30648f4b175d724534cc5d5.setContent%28html_8e4916c9c6d74c83b18810d5afb464cc%29%3B%0A%20%20%20%20%20%20%20%20%0A%0A%20%20%20%20%20%20%20%20marker_993a059dc369476aa1c2fb2c06044f81.bindPopup%28popup_598a9df9b30648f4b175d724534cc5d5%29%0A%20%20%20%20%20%20%20%20%3B%0A%0A%20%20%20%20%20%20%20%20%0A%20%20%20%20%0A%20%20%20%20%0A%20%20%20%20%20%20%20%20%20%20%20%20var%20marker_d3adf392eff14df9a050cff31a995c5c%20%3D%20L.marker%28%0A%20%20%20%20%20%20%20%20%20%20%20%20%20%20%20%20%5B-30.05154497855585%2C%20-51.21324062347412%5D%2C%0A%20%20%20%20%20%20%20%20%20%20%20%20%20%20%20%20%7B%7D%0A%20%20%20%20%20%20%20%20%20%20%20%20%29.addTo%28map_c70ec8233814462c85007897579d6139%29%3B%0A%20%20%20%20%20%20%20%20%0A%20%20%20%20%0A%20%20%20%20%20%20%20%20var%20popup_b1fe21d6069d47c89feef726e05eddc3%20%3D%20L.popup%28%7B%22maxWidth%22%3A%20%22100%25%22%7D%29%3B%0A%0A%20%20%20%20%20%20%20%20%0A%20%20%20%20%20%20%20%20%20%20%20%20var%20html_a35af5b3fcea4f969fb47fa515553e0d%20%3D%20%24%28%60%3Cdiv%20id%3D%22html_a35af5b3fcea4f969fb47fa515553e0d%22%20style%3D%22width%3A%20100.0%25%3B%20height%3A%20100.0%25%3B%22%3E%5B%27ABALROAMENTO%27%2C%20Timestamp%28%272021-09-29%2000%3A00%3A00%27%29%5D%3C/div%3E%60%29%5B0%5D%3B%0A%20%20%20%20%20%20%20%20%20%20%20%20popup_b1fe21d6069d47c89feef726e05eddc3.setContent%28html_a35af5b3fcea4f969fb47fa515553e0d%29%3B%0A%20%20%20%20%20%20%20%20%0A%0A%20%20%20%20%20%20%20%20marker_d3adf392eff14df9a050cff31a995c5c.bindPopup%28popup_b1fe21d6069d47c89feef726e05eddc3%29%0A%20%20%20%20%20%20%20%20%3B%0A%0A%20%20%20%20%20%20%20%20%0A%20%20%20%20%0A%20%20%20%20%0A%20%20%20%20%20%20%20%20%20%20%20%20var%20marker_05293b086410436a9497f6be73df8324%20%3D%20L.marker%28%0A%20%20%20%20%20%20%20%20%20%20%20%20%20%20%20%20%5B-30.031719988929936%2C%20-51.2057144633109%5D%2C%0A%20%20%20%20%20%20%20%20%20%20%20%20%20%20%20%20%7B%7D%0A%20%20%20%20%20%20%20%20%20%20%20%20%29.addTo%28map_c70ec8233814462c85007897579d6139%29%3B%0A%20%20%20%20%20%20%20%20%0A%20%20%20%20%0A%20%20%20%20%20%20%20%20var%20popup_308a9669888f4522870c37403b12dadb%20%3D%20L.popup%28%7B%22maxWidth%22%3A%20%22100%25%22%7D%29%3B%0A%0A%20%20%20%20%20%20%20%20%0A%20%20%20%20%20%20%20%20%20%20%20%20var%20html_35f31c11423a42689e4cd2bb58eea397%20%3D%20%24%28%60%3Cdiv%20id%3D%22html_35f31c11423a42689e4cd2bb58eea397%22%20style%3D%22width%3A%20100.0%25%3B%20height%3A%20100.0%25%3B%22%3E%5B%27QUEDA%27%2C%20Timestamp%28%272021-11-08%2000%3A00%3A00%27%29%5D%3C/div%3E%60%29%5B0%5D%3B%0A%20%20%20%20%20%20%20%20%20%20%20%20popup_308a9669888f4522870c37403b12dadb.setContent%28html_35f31c11423a42689e4cd2bb58eea397%29%3B%0A%20%20%20%20%20%20%20%20%0A%0A%20%20%20%20%20%20%20%20marker_05293b086410436a9497f6be73df8324.bindPopup%28popup_308a9669888f4522870c37403b12dadb%29%0A%20%20%20%20%20%20%20%20%3B%0A%0A%20%20%20%20%20%20%20%20%0A%20%20%20%20%0A%20%20%20%20%0A%20%20%20%20%20%20%20%20%20%20%20%20var%20marker_dcd6fb17de264c3e8ca78ca0b20dd8a0%20%3D%20L.marker%28%0A%20%20%20%20%20%20%20%20%20%20%20%20%20%20%20%20%5B-30.026194175083088%2C%20-51.22698622134112%5D%2C%0A%20%20%20%20%20%20%20%20%20%20%20%20%20%20%20%20%7B%7D%0A%20%20%20%20%20%20%20%20%20%20%20%20%29.addTo%28map_c70ec8233814462c85007897579d6139%29%3B%0A%20%20%20%20%20%20%20%20%0A%20%20%20%20%0A%20%20%20%20%20%20%20%20var%20popup_4c691352c8a14ee7b0d7b34a53d17137%20%3D%20L.popup%28%7B%22maxWidth%22%3A%20%22100%25%22%7D%29%3B%0A%0A%20%20%20%20%20%20%20%20%0A%20%20%20%20%20%20%20%20%20%20%20%20var%20html_05fb62389f0a4d94b56e834fb5ca8d00%20%3D%20%24%28%60%3Cdiv%20id%3D%22html_05fb62389f0a4d94b56e834fb5ca8d00%22%20style%3D%22width%3A%20100.0%25%3B%20height%3A%20100.0%25%3B%22%3E%5B%27EVENTUAL%27%2C%20Timestamp%28%272021-01-19%2000%3A00%3A00%27%29%5D%3C/div%3E%60%29%5B0%5D%3B%0A%20%20%20%20%20%20%20%20%20%20%20%20popup_4c691352c8a14ee7b0d7b34a53d17137.setContent%28html_05fb62389f0a4d94b56e834fb5ca8d00%29%3B%0A%20%20%20%20%20%20%20%20%0A%0A%20%20%20%20%20%20%20%20marker_dcd6fb17de264c3e8ca78ca0b20dd8a0.bindPopup%28popup_4c691352c8a14ee7b0d7b34a53d17137%29%0A%20%20%20%20%20%20%20%20%3B%0A%0A%20%20%20%20%20%20%20%20%0A%20%20%20%20%0A%20%20%20%20%0A%20%20%20%20%20%20%20%20%20%20%20%20var%20marker_65dddfddfc244704aa8a1250b7d44ad9%20%3D%20L.marker%28%0A%20%20%20%20%20%20%20%20%20%20%20%20%20%20%20%20%5B-30.01041531316636%2C%20-51.14932358264924%5D%2C%0A%20%20%20%20%20%20%20%20%20%20%20%20%20%20%20%20%7B%7D%0A%20%20%20%20%20%20%20%20%20%20%20%20%29.addTo%28map_c70ec8233814462c85007897579d6139%29%3B%0A%20%20%20%20%20%20%20%20%0A%20%20%20%20%0A%20%20%20%20%20%20%20%20var%20popup_fa10381283fa45c8bdd6e2699c891d1e%20%3D%20L.popup%28%7B%22maxWidth%22%3A%20%22100%25%22%7D%29%3B%0A%0A%20%20%20%20%20%20%20%20%0A%20%20%20%20%20%20%20%20%20%20%20%20var%20html_1597392512c84666817bb965f790a8f8%20%3D%20%24%28%60%3Cdiv%20id%3D%22html_1597392512c84666817bb965f790a8f8%22%20style%3D%22width%3A%20100.0%25%3B%20height%3A%20100.0%25%3B%22%3E%5B%27COLIS%C3%83O%27%2C%20Timestamp%28%272021-05-17%2000%3A00%3A00%27%29%5D%3C/div%3E%60%29%5B0%5D%3B%0A%20%20%20%20%20%20%20%20%20%20%20%20popup_fa10381283fa45c8bdd6e2699c891d1e.setContent%28html_1597392512c84666817bb965f790a8f8%29%3B%0A%20%20%20%20%20%20%20%20%0A%0A%20%20%20%20%20%20%20%20marker_65dddfddfc244704aa8a1250b7d44ad9.bindPopup%28popup_fa10381283fa45c8bdd6e2699c891d1e%29%0A%20%20%20%20%20%20%20%20%3B%0A%0A%20%20%20%20%20%20%20%20%0A%20%20%20%20%0A%20%20%20%20%0A%20%20%20%20%20%20%20%20%20%20%20%20var%20marker_73246641fee34e5aa300f40c478b8b46%20%3D%20L.marker%28%0A%20%20%20%20%20%20%20%20%20%20%20%20%20%20%20%20%5B-30.02205524279348%2C%20-51.19396637736167%5D%2C%0A%20%20%20%20%20%20%20%20%20%20%20%20%20%20%20%20%7B%7D%0A%20%20%20%20%20%20%20%20%20%20%20%20%29.addTo%28map_c70ec8233814462c85007897579d6139%29%3B%0A%20%20%20%20%20%20%20%20%0A%20%20%20%20%0A%20%20%20%20%20%20%20%20var%20popup_a3267a94e1a2425c9834f95c57f7b38d%20%3D%20L.popup%28%7B%22maxWidth%22%3A%20%22100%25%22%7D%29%3B%0A%0A%20%20%20%20%20%20%20%20%0A%20%20%20%20%20%20%20%20%20%20%20%20var%20html_000a19a6686f4b90af03a84d5656a1b6%20%3D%20%24%28%60%3Cdiv%20id%3D%22html_000a19a6686f4b90af03a84d5656a1b6%22%20style%3D%22width%3A%20100.0%25%3B%20height%3A%20100.0%25%3B%22%3E%5B%27ABALROAMENTO%27%2C%20Timestamp%28%272021-01-10%2000%3A00%3A00%27%29%5D%3C/div%3E%60%29%5B0%5D%3B%0A%20%20%20%20%20%20%20%20%20%20%20%20popup_a3267a94e1a2425c9834f95c57f7b38d.setContent%28html_000a19a6686f4b90af03a84d5656a1b6%29%3B%0A%20%20%20%20%20%20%20%20%0A%0A%20%20%20%20%20%20%20%20marker_73246641fee34e5aa300f40c478b8b46.bindPopup%28popup_a3267a94e1a2425c9834f95c57f7b38d%29%0A%20%20%20%20%20%20%20%20%3B%0A%0A%20%20%20%20%20%20%20%20%0A%20%20%20%20%0A%20%20%20%20%0A%20%20%20%20%20%20%20%20%20%20%20%20var%20marker_98b974580c1b457d93015923e4c5a17a%20%3D%20L.marker%28%0A%20%20%20%20%20%20%20%20%20%20%20%20%20%20%20%20%5B-30.039230166838426%2C%20-51.19155295252826%5D%2C%0A%20%20%20%20%20%20%20%20%20%20%20%20%20%20%20%20%7B%7D%0A%20%20%20%20%20%20%20%20%20%20%20%20%29.addTo%28map_c70ec8233814462c85007897579d6139%29%3B%0A%20%20%20%20%20%20%20%20%0A%20%20%20%20%0A%20%20%20%20%20%20%20%20var%20popup_58ba30179a5d41b9bd51eb4db84fe98c%20%3D%20L.popup%28%7B%22maxWidth%22%3A%20%22100%25%22%7D%29%3B%0A%0A%20%20%20%20%20%20%20%20%0A%20%20%20%20%20%20%20%20%20%20%20%20var%20html_aad6cf75491f4d21bf16eedaa106bf19%20%3D%20%24%28%60%3Cdiv%20id%3D%22html_aad6cf75491f4d21bf16eedaa106bf19%22%20style%3D%22width%3A%20100.0%25%3B%20height%3A%20100.0%25%3B%22%3E%5B%27ABALROAMENTO%27%2C%20Timestamp%28%272021-04-12%2000%3A00%3A00%27%29%5D%3C/div%3E%60%29%5B0%5D%3B%0A%20%20%20%20%20%20%20%20%20%20%20%20popup_58ba30179a5d41b9bd51eb4db84fe98c.setContent%28html_aad6cf75491f4d21bf16eedaa106bf19%29%3B%0A%20%20%20%20%20%20%20%20%0A%0A%20%20%20%20%20%20%20%20marker_98b974580c1b457d93015923e4c5a17a.bindPopup%28popup_58ba30179a5d41b9bd51eb4db84fe98c%29%0A%20%20%20%20%20%20%20%20%3B%0A%0A%20%20%20%20%20%20%20%20%0A%20%20%20%20%0A%20%20%20%20%0A%20%20%20%20%20%20%20%20%20%20%20%20var%20marker_0ac73f11f7834d8284bef4124c155d3a%20%3D%20L.marker%28%0A%20%20%20%20%20%20%20%20%20%20%20%20%20%20%20%20%5B-29.99394463210447%2C%20-51.13067773463226%5D%2C%0A%20%20%20%20%20%20%20%20%20%20%20%20%20%20%20%20%7B%7D%0A%20%20%20%20%20%20%20%20%20%20%20%20%29.addTo%28map_c70ec8233814462c85007897579d6139%29%3B%0A%20%20%20%20%20%20%20%20%0A%20%20%20%20%0A%20%20%20%20%20%20%20%20var%20popup_97f295575acb47cb8d4822edfc1857f8%20%3D%20L.popup%28%7B%22maxWidth%22%3A%20%22100%25%22%7D%29%3B%0A%0A%20%20%20%20%20%20%20%20%0A%20%20%20%20%20%20%20%20%20%20%20%20var%20html_a0ddab6537ca4d44be17dbcc1c8996d1%20%3D%20%24%28%60%3Cdiv%20id%3D%22html_a0ddab6537ca4d44be17dbcc1c8996d1%22%20style%3D%22width%3A%20100.0%25%3B%20height%3A%20100.0%25%3B%22%3E%5B%27ABALROAMENTO%27%2C%20Timestamp%28%272021-01-01%2000%3A00%3A00%27%29%5D%3C/div%3E%60%29%5B0%5D%3B%0A%20%20%20%20%20%20%20%20%20%20%20%20popup_97f295575acb47cb8d4822edfc1857f8.setContent%28html_a0ddab6537ca4d44be17dbcc1c8996d1%29%3B%0A%20%20%20%20%20%20%20%20%0A%0A%20%20%20%20%20%20%20%20marker_0ac73f11f7834d8284bef4124c155d3a.bindPopup%28popup_97f295575acb47cb8d4822edfc1857f8%29%0A%20%20%20%20%20%20%20%20%3B%0A%0A%20%20%20%20%20%20%20%20%0A%20%20%20%20%0A%20%20%20%20%0A%20%20%20%20%20%20%20%20%20%20%20%20var%20marker_77eba1987301455e9a272e2e86725996%20%3D%20L.marker%28%0A%20%20%20%20%20%20%20%20%20%20%20%20%20%20%20%20%5B-30.01699098204713%2C%20-51.12250356097245%5D%2C%0A%20%20%20%20%20%20%20%20%20%20%20%20%20%20%20%20%7B%7D%0A%20%20%20%20%20%20%20%20%20%20%20%20%29.addTo%28map_c70ec8233814462c85007897579d6139%29%3B%0A%20%20%20%20%20%20%20%20%0A%20%20%20%20%0A%20%20%20%20%20%20%20%20var%20popup_c15e65e95aef4035afd8adc4c24144fc%20%3D%20L.popup%28%7B%22maxWidth%22%3A%20%22100%25%22%7D%29%3B%0A%0A%20%20%20%20%20%20%20%20%0A%20%20%20%20%20%20%20%20%20%20%20%20var%20html_3f338566203245439380eb2cdc8f72ff%20%3D%20%24%28%60%3Cdiv%20id%3D%22html_3f338566203245439380eb2cdc8f72ff%22%20style%3D%22width%3A%20100.0%25%3B%20height%3A%20100.0%25%3B%22%3E%5B%27COLIS%C3%83O%27%2C%20Timestamp%28%272021-01-29%2000%3A00%3A00%27%29%5D%3C/div%3E%60%29%5B0%5D%3B%0A%20%20%20%20%20%20%20%20%20%20%20%20popup_c15e65e95aef4035afd8adc4c24144fc.setContent%28html_3f338566203245439380eb2cdc8f72ff%29%3B%0A%20%20%20%20%20%20%20%20%0A%0A%20%20%20%20%20%20%20%20marker_77eba1987301455e9a272e2e86725996.bindPopup%28popup_c15e65e95aef4035afd8adc4c24144fc%29%0A%20%20%20%20%20%20%20%20%3B%0A%0A%20%20%20%20%20%20%20%20%0A%20%20%20%20%0A%20%20%20%20%0A%20%20%20%20%20%20%20%20%20%20%20%20var%20marker_b701753a0f394c0396164ae8748b1d8d%20%3D%20L.marker%28%0A%20%20%20%20%20%20%20%20%20%20%20%20%20%20%20%20%5B-29.9861906%2C%20-51.1294979%5D%2C%0A%20%20%20%20%20%20%20%20%20%20%20%20%20%20%20%20%7B%7D%0A%20%20%20%20%20%20%20%20%20%20%20%20%29.addTo%28map_c70ec8233814462c85007897579d6139%29%3B%0A%20%20%20%20%20%20%20%20%0A%20%20%20%20%0A%20%20%20%20%20%20%20%20var%20popup_824020e9cd9845609a8bd20a02629364%20%3D%20L.popup%28%7B%22maxWidth%22%3A%20%22100%25%22%7D%29%3B%0A%0A%20%20%20%20%20%20%20%20%0A%20%20%20%20%20%20%20%20%20%20%20%20var%20html_6442f1d7c33e46fa8bc30b49d5c76aa7%20%3D%20%24%28%60%3Cdiv%20id%3D%22html_6442f1d7c33e46fa8bc30b49d5c76aa7%22%20style%3D%22width%3A%20100.0%25%3B%20height%3A%20100.0%25%3B%22%3E%5B%27NAO%20CADASTRADO%27%2C%20Timestamp%28%272021-10-14%2000%3A00%3A00%27%29%5D%3C/div%3E%60%29%5B0%5D%3B%0A%20%20%20%20%20%20%20%20%20%20%20%20popup_824020e9cd9845609a8bd20a02629364.setContent%28html_6442f1d7c33e46fa8bc30b49d5c76aa7%29%3B%0A%20%20%20%20%20%20%20%20%0A%0A%20%20%20%20%20%20%20%20marker_b701753a0f394c0396164ae8748b1d8d.bindPopup%28popup_824020e9cd9845609a8bd20a02629364%29%0A%20%20%20%20%20%20%20%20%3B%0A%0A%20%20%20%20%20%20%20%20%0A%20%20%20%20%0A%20%20%20%20%0A%20%20%20%20%20%20%20%20%20%20%20%20var%20marker_0ac7663f14364265ba72b16f35873ff3%20%3D%20L.marker%28%0A%20%20%20%20%20%20%20%20%20%20%20%20%20%20%20%20%5B-30.135111260813552%2C%20-51.22443616390228%5D%2C%0A%20%20%20%20%20%20%20%20%20%20%20%20%20%20%20%20%7B%7D%0A%20%20%20%20%20%20%20%20%20%20%20%20%29.addTo%28map_c70ec8233814462c85007897579d6139%29%3B%0A%20%20%20%20%20%20%20%20%0A%20%20%20%20%0A%20%20%20%20%20%20%20%20var%20popup_914021b6208240eba54aa543df352da8%20%3D%20L.popup%28%7B%22maxWidth%22%3A%20%22100%25%22%7D%29%3B%0A%0A%20%20%20%20%20%20%20%20%0A%20%20%20%20%20%20%20%20%20%20%20%20var%20html_c1a1c5be171e4240b85fe9ed376f972d%20%3D%20%24%28%60%3Cdiv%20id%3D%22html_c1a1c5be171e4240b85fe9ed376f972d%22%20style%3D%22width%3A%20100.0%25%3B%20height%3A%20100.0%25%3B%22%3E%5B%27COLIS%C3%83O%27%2C%20Timestamp%28%272021-06-29%2000%3A00%3A00%27%29%5D%3C/div%3E%60%29%5B0%5D%3B%0A%20%20%20%20%20%20%20%20%20%20%20%20popup_914021b6208240eba54aa543df352da8.setContent%28html_c1a1c5be171e4240b85fe9ed376f972d%29%3B%0A%20%20%20%20%20%20%20%20%0A%0A%20%20%20%20%20%20%20%20marker_0ac7663f14364265ba72b16f35873ff3.bindPopup%28popup_914021b6208240eba54aa543df352da8%29%0A%20%20%20%20%20%20%20%20%3B%0A%0A%20%20%20%20%20%20%20%20%0A%20%20%20%20%0A%20%20%20%20%0A%20%20%20%20%20%20%20%20%20%20%20%20var%20marker_c17ec54b449e4464a6adec829356b105%20%3D%20L.marker%28%0A%20%20%20%20%20%20%20%20%20%20%20%20%20%20%20%20%5B-30.020183054819917%2C%20-51.2018857538243%5D%2C%0A%20%20%20%20%20%20%20%20%20%20%20%20%20%20%20%20%7B%7D%0A%20%20%20%20%20%20%20%20%20%20%20%20%29.addTo%28map_c70ec8233814462c85007897579d6139%29%3B%0A%20%20%20%20%20%20%20%20%0A%20%20%20%20%0A%20%20%20%20%20%20%20%20var%20popup_69614b379c3f40d98c2b3c6050a6cbd1%20%3D%20L.popup%28%7B%22maxWidth%22%3A%20%22100%25%22%7D%29%3B%0A%0A%20%20%20%20%20%20%20%20%0A%20%20%20%20%20%20%20%20%20%20%20%20var%20html_c36b3152b96f4417aa3bf50753f74600%20%3D%20%24%28%60%3Cdiv%20id%3D%22html_c36b3152b96f4417aa3bf50753f74600%22%20style%3D%22width%3A%20100.0%25%3B%20height%3A%20100.0%25%3B%22%3E%5B%27COLIS%C3%83O%27%2C%20Timestamp%28%272021-07-09%2000%3A00%3A00%27%29%5D%3C/div%3E%60%29%5B0%5D%3B%0A%20%20%20%20%20%20%20%20%20%20%20%20popup_69614b379c3f40d98c2b3c6050a6cbd1.setContent%28html_c36b3152b96f4417aa3bf50753f74600%29%3B%0A%20%20%20%20%20%20%20%20%0A%0A%20%20%20%20%20%20%20%20marker_c17ec54b449e4464a6adec829356b105.bindPopup%28popup_69614b379c3f40d98c2b3c6050a6cbd1%29%0A%20%20%20%20%20%20%20%20%3B%0A%0A%20%20%20%20%20%20%20%20%0A%20%20%20%20%0A%20%20%20%20%0A%20%20%20%20%20%20%20%20%20%20%20%20var%20marker_1bdc89a93bb64766a89841af37f7e726%20%3D%20L.marker%28%0A%20%20%20%20%20%20%20%20%20%20%20%20%20%20%20%20%5B-30.109976516708794%2C%20-51.25411748886109%5D%2C%0A%20%20%20%20%20%20%20%20%20%20%20%20%20%20%20%20%7B%7D%0A%20%20%20%20%20%20%20%20%20%20%20%20%29.addTo%28map_c70ec8233814462c85007897579d6139%29%3B%0A%20%20%20%20%20%20%20%20%0A%20%20%20%20%0A%20%20%20%20%20%20%20%20var%20popup_e1427cb9891d405399e70e810656aab3%20%3D%20L.popup%28%7B%22maxWidth%22%3A%20%22100%25%22%7D%29%3B%0A%0A%20%20%20%20%20%20%20%20%0A%20%20%20%20%20%20%20%20%20%20%20%20var%20html_6580b87ce9414cdbb0d1f8d951adc600%20%3D%20%24%28%60%3Cdiv%20id%3D%22html_6580b87ce9414cdbb0d1f8d951adc600%22%20style%3D%22width%3A%20100.0%25%3B%20height%3A%20100.0%25%3B%22%3E%5B%27COLIS%C3%83O%27%2C%20Timestamp%28%272021-10-26%2000%3A00%3A00%27%29%5D%3C/div%3E%60%29%5B0%5D%3B%0A%20%20%20%20%20%20%20%20%20%20%20%20popup_e1427cb9891d405399e70e810656aab3.setContent%28html_6580b87ce9414cdbb0d1f8d951adc600%29%3B%0A%20%20%20%20%20%20%20%20%0A%0A%20%20%20%20%20%20%20%20marker_1bdc89a93bb64766a89841af37f7e726.bindPopup%28popup_e1427cb9891d405399e70e810656aab3%29%0A%20%20%20%20%20%20%20%20%3B%0A%0A%20%20%20%20%20%20%20%20%0A%20%20%20%20%0A%20%20%20%20%0A%20%20%20%20%20%20%20%20%20%20%20%20var%20marker_ec88bbb4055a4f1199a893f4a7f6b46d%20%3D%20L.marker%28%0A%20%20%20%20%20%20%20%20%20%20%20%20%20%20%20%20%5B-29.99094764850949%2C%20-51.10001752922569%5D%2C%0A%20%20%20%20%20%20%20%20%20%20%20%20%20%20%20%20%7B%7D%0A%20%20%20%20%20%20%20%20%20%20%20%20%29.addTo%28map_c70ec8233814462c85007897579d6139%29%3B%0A%20%20%20%20%20%20%20%20%0A%20%20%20%20%0A%20%20%20%20%20%20%20%20var%20popup_3f60d0f731df476cbd461fb9918c45a7%20%3D%20L.popup%28%7B%22maxWidth%22%3A%20%22100%25%22%7D%29%3B%0A%0A%20%20%20%20%20%20%20%20%0A%20%20%20%20%20%20%20%20%20%20%20%20var%20html_ca5462c50f5140aaac6c5ce551d12782%20%3D%20%24%28%60%3Cdiv%20id%3D%22html_ca5462c50f5140aaac6c5ce551d12782%22%20style%3D%22width%3A%20100.0%25%3B%20height%3A%20100.0%25%3B%22%3E%5B%27NAO%20CADASTRADO%27%2C%20Timestamp%28%272021-10-24%2000%3A00%3A00%27%29%5D%3C/div%3E%60%29%5B0%5D%3B%0A%20%20%20%20%20%20%20%20%20%20%20%20popup_3f60d0f731df476cbd461fb9918c45a7.setContent%28html_ca5462c50f5140aaac6c5ce551d12782%29%3B%0A%20%20%20%20%20%20%20%20%0A%0A%20%20%20%20%20%20%20%20marker_ec88bbb4055a4f1199a893f4a7f6b46d.bindPopup%28popup_3f60d0f731df476cbd461fb9918c45a7%29%0A%20%20%20%20%20%20%20%20%3B%0A%0A%20%20%20%20%20%20%20%20%0A%20%20%20%20%0A%20%20%20%20%0A%20%20%20%20%20%20%20%20%20%20%20%20var%20marker_c16de8e37c27413f89d2371f1f5ba266%20%3D%20L.marker%28%0A%20%20%20%20%20%20%20%20%20%20%20%20%20%20%20%20%5B-29.992054485858528%2C%20-51.1086130142212%5D%2C%0A%20%20%20%20%20%20%20%20%20%20%20%20%20%20%20%20%7B%7D%0A%20%20%20%20%20%20%20%20%20%20%20%20%29.addTo%28map_c70ec8233814462c85007897579d6139%29%3B%0A%20%20%20%20%20%20%20%20%0A%20%20%20%20%0A%20%20%20%20%20%20%20%20var%20popup_e883f4ee54e643df995e71d6c87f43db%20%3D%20L.popup%28%7B%22maxWidth%22%3A%20%22100%25%22%7D%29%3B%0A%0A%20%20%20%20%20%20%20%20%0A%20%20%20%20%20%20%20%20%20%20%20%20var%20html_9ebf48bd60614920b2dcc63bf9b483c0%20%3D%20%24%28%60%3Cdiv%20id%3D%22html_9ebf48bd60614920b2dcc63bf9b483c0%22%20style%3D%22width%3A%20100.0%25%3B%20height%3A%20100.0%25%3B%22%3E%5B%27ABALROAMENTO%27%2C%20Timestamp%28%272021-05-15%2000%3A00%3A00%27%29%5D%3C/div%3E%60%29%5B0%5D%3B%0A%20%20%20%20%20%20%20%20%20%20%20%20popup_e883f4ee54e643df995e71d6c87f43db.setContent%28html_9ebf48bd60614920b2dcc63bf9b483c0%29%3B%0A%20%20%20%20%20%20%20%20%0A%0A%20%20%20%20%20%20%20%20marker_c16de8e37c27413f89d2371f1f5ba266.bindPopup%28popup_e883f4ee54e643df995e71d6c87f43db%29%0A%20%20%20%20%20%20%20%20%3B%0A%0A%20%20%20%20%20%20%20%20%0A%20%20%20%20%0A%20%20%20%20%0A%20%20%20%20%20%20%20%20%20%20%20%20var%20marker_1a58ad03a3c94447b21f7d86c963b743%20%3D%20L.marker%28%0A%20%20%20%20%20%20%20%20%20%20%20%20%20%20%20%20%5B-30.20310207171264%2C%20-51.17884614953158%5D%2C%0A%20%20%20%20%20%20%20%20%20%20%20%20%20%20%20%20%7B%7D%0A%20%20%20%20%20%20%20%20%20%20%20%20%29.addTo%28map_c70ec8233814462c85007897579d6139%29%3B%0A%20%20%20%20%20%20%20%20%0A%20%20%20%20%0A%20%20%20%20%20%20%20%20var%20popup_15721ca492134fa5b955dd2fa0f0aab3%20%3D%20L.popup%28%7B%22maxWidth%22%3A%20%22100%25%22%7D%29%3B%0A%0A%20%20%20%20%20%20%20%20%0A%20%20%20%20%20%20%20%20%20%20%20%20var%20html_703c9a8d81c24dcdaf4a8425d1d0e3f9%20%3D%20%24%28%60%3Cdiv%20id%3D%22html_703c9a8d81c24dcdaf4a8425d1d0e3f9%22%20style%3D%22width%3A%20100.0%25%3B%20height%3A%20100.0%25%3B%22%3E%5B%27ABALROAMENTO%27%2C%20Timestamp%28%272021-10-12%2000%3A00%3A00%27%29%5D%3C/div%3E%60%29%5B0%5D%3B%0A%20%20%20%20%20%20%20%20%20%20%20%20popup_15721ca492134fa5b955dd2fa0f0aab3.setContent%28html_703c9a8d81c24dcdaf4a8425d1d0e3f9%29%3B%0A%20%20%20%20%20%20%20%20%0A%0A%20%20%20%20%20%20%20%20marker_1a58ad03a3c94447b21f7d86c963b743.bindPopup%28popup_15721ca492134fa5b955dd2fa0f0aab3%29%0A%20%20%20%20%20%20%20%20%3B%0A%0A%20%20%20%20%20%20%20%20%0A%20%20%20%20%0A%20%20%20%20%0A%20%20%20%20%20%20%20%20%20%20%20%20var%20marker_13ce4b5d97384e75b61e898d8fefaa89%20%3D%20L.marker%28%0A%20%20%20%20%20%20%20%20%20%20%20%20%20%20%20%20%5B-30.069120658720514%2C%20-51.204924434423454%5D%2C%0A%20%20%20%20%20%20%20%20%20%20%20%20%20%20%20%20%7B%7D%0A%20%20%20%20%20%20%20%20%20%20%20%20%29.addTo%28map_c70ec8233814462c85007897579d6139%29%3B%0A%20%20%20%20%20%20%20%20%0A%20%20%20%20%0A%20%20%20%20%20%20%20%20var%20popup_447074c08fd34b21bd83691b05ee1a54%20%3D%20L.popup%28%7B%22maxWidth%22%3A%20%22100%25%22%7D%29%3B%0A%0A%20%20%20%20%20%20%20%20%0A%20%20%20%20%20%20%20%20%20%20%20%20var%20html_7ce55bfb665b4556a1dcdad27fd5cf32%20%3D%20%24%28%60%3Cdiv%20id%3D%22html_7ce55bfb665b4556a1dcdad27fd5cf32%22%20style%3D%22width%3A%20100.0%25%3B%20height%3A%20100.0%25%3B%22%3E%5B%27ABALROAMENTO%27%2C%20Timestamp%28%272021-09-26%2000%3A00%3A00%27%29%5D%3C/div%3E%60%29%5B0%5D%3B%0A%20%20%20%20%20%20%20%20%20%20%20%20popup_447074c08fd34b21bd83691b05ee1a54.setContent%28html_7ce55bfb665b4556a1dcdad27fd5cf32%29%3B%0A%20%20%20%20%20%20%20%20%0A%0A%20%20%20%20%20%20%20%20marker_13ce4b5d97384e75b61e898d8fefaa89.bindPopup%28popup_447074c08fd34b21bd83691b05ee1a54%29%0A%20%20%20%20%20%20%20%20%3B%0A%0A%20%20%20%20%20%20%20%20%0A%20%20%20%20%0A%20%20%20%20%0A%20%20%20%20%20%20%20%20%20%20%20%20var%20marker_0f083ec6c6114891a9dd790bdf0544b5%20%3D%20L.marker%28%0A%20%20%20%20%20%20%20%20%20%20%20%20%20%20%20%20%5B-30.055653059581065%2C%20-51.15933895111084%5D%2C%0A%20%20%20%20%20%20%20%20%20%20%20%20%20%20%20%20%7B%7D%0A%20%20%20%20%20%20%20%20%20%20%20%20%29.addTo%28map_c70ec8233814462c85007897579d6139%29%3B%0A%20%20%20%20%20%20%20%20%0A%20%20%20%20%0A%20%20%20%20%20%20%20%20var%20popup_f3e59e12a7354acb942727e6aa3ef849%20%3D%20L.popup%28%7B%22maxWidth%22%3A%20%22100%25%22%7D%29%3B%0A%0A%20%20%20%20%20%20%20%20%0A%20%20%20%20%20%20%20%20%20%20%20%20var%20html_4c830de26f984a16ac0a5480a1d67d28%20%3D%20%24%28%60%3Cdiv%20id%3D%22html_4c830de26f984a16ac0a5480a1d67d28%22%20style%3D%22width%3A%20100.0%25%3B%20height%3A%20100.0%25%3B%22%3E%5B%27INC%C3%8ANDIO%27%2C%20Timestamp%28%272021-10-19%2000%3A00%3A00%27%29%5D%3C/div%3E%60%29%5B0%5D%3B%0A%20%20%20%20%20%20%20%20%20%20%20%20popup_f3e59e12a7354acb942727e6aa3ef849.setContent%28html_4c830de26f984a16ac0a5480a1d67d28%29%3B%0A%20%20%20%20%20%20%20%20%0A%0A%20%20%20%20%20%20%20%20marker_0f083ec6c6114891a9dd790bdf0544b5.bindPopup%28popup_f3e59e12a7354acb942727e6aa3ef849%29%0A%20%20%20%20%20%20%20%20%3B%0A%0A%20%20%20%20%20%20%20%20%0A%20%20%20%20%0A%20%20%20%20%0A%20%20%20%20%20%20%20%20%20%20%20%20var%20marker_df9d782211a2469388665d3028a583c1%20%3D%20L.marker%28%0A%20%20%20%20%20%20%20%20%20%20%20%20%20%20%20%20%5B-30.02355465026159%2C%20-51.22010171413422%5D%2C%0A%20%20%20%20%20%20%20%20%20%20%20%20%20%20%20%20%7B%7D%0A%20%20%20%20%20%20%20%20%20%20%20%20%29.addTo%28map_c70ec8233814462c85007897579d6139%29%3B%0A%20%20%20%20%20%20%20%20%0A%20%20%20%20%0A%20%20%20%20%20%20%20%20var%20popup_05f860d1855f41478844694ddf12b271%20%3D%20L.popup%28%7B%22maxWidth%22%3A%20%22100%25%22%7D%29%3B%0A%0A%20%20%20%20%20%20%20%20%0A%20%20%20%20%20%20%20%20%20%20%20%20var%20html_c42f2020c8e245f19619094acfab20dc%20%3D%20%24%28%60%3Cdiv%20id%3D%22html_c42f2020c8e245f19619094acfab20dc%22%20style%3D%22width%3A%20100.0%25%3B%20height%3A%20100.0%25%3B%22%3E%5B%27COLIS%C3%83O%27%2C%20Timestamp%28%272021-01-27%2000%3A00%3A00%27%29%5D%3C/div%3E%60%29%5B0%5D%3B%0A%20%20%20%20%20%20%20%20%20%20%20%20popup_05f860d1855f41478844694ddf12b271.setContent%28html_c42f2020c8e245f19619094acfab20dc%29%3B%0A%20%20%20%20%20%20%20%20%0A%0A%20%20%20%20%20%20%20%20marker_df9d782211a2469388665d3028a583c1.bindPopup%28popup_05f860d1855f41478844694ddf12b271%29%0A%20%20%20%20%20%20%20%20%3B%0A%0A%20%20%20%20%20%20%20%20%0A%20%20%20%20%0A%20%20%20%20%0A%20%20%20%20%20%20%20%20%20%20%20%20var%20marker_d1d8c5f263fc451aa34f930074ec565d%20%3D%20L.marker%28%0A%20%20%20%20%20%20%20%20%20%20%20%20%20%20%20%20%5B-30.036218949927925%2C%20-51.12189247742418%5D%2C%0A%20%20%20%20%20%20%20%20%20%20%20%20%20%20%20%20%7B%7D%0A%20%20%20%20%20%20%20%20%20%20%20%20%29.addTo%28map_c70ec8233814462c85007897579d6139%29%3B%0A%20%20%20%20%20%20%20%20%0A%20%20%20%20%0A%20%20%20%20%20%20%20%20var%20popup_aa3d945090944a2d8f08d9c98f9eb384%20%3D%20L.popup%28%7B%22maxWidth%22%3A%20%22100%25%22%7D%29%3B%0A%0A%20%20%20%20%20%20%20%20%0A%20%20%20%20%20%20%20%20%20%20%20%20var%20html_05d3cb585f6840cdb504c1f11df726a1%20%3D%20%24%28%60%3Cdiv%20id%3D%22html_05d3cb585f6840cdb504c1f11df726a1%22%20style%3D%22width%3A%20100.0%25%3B%20height%3A%20100.0%25%3B%22%3E%5B%27ABALROAMENTO%27%2C%20Timestamp%28%272021-08-20%2000%3A00%3A00%27%29%5D%3C/div%3E%60%29%5B0%5D%3B%0A%20%20%20%20%20%20%20%20%20%20%20%20popup_aa3d945090944a2d8f08d9c98f9eb384.setContent%28html_05d3cb585f6840cdb504c1f11df726a1%29%3B%0A%20%20%20%20%20%20%20%20%0A%0A%20%20%20%20%20%20%20%20marker_d1d8c5f263fc451aa34f930074ec565d.bindPopup%28popup_aa3d945090944a2d8f08d9c98f9eb384%29%0A%20%20%20%20%20%20%20%20%3B%0A%0A%20%20%20%20%20%20%20%20%0A%20%20%20%20%0A%3C/script%3E onload=\"this.contentDocument.open();this.contentDocument.write(    decodeURIComponent(this.getAttribute('data-html')));this.contentDocument.close();\" allowfullscreen webkitallowfullscreen mozallowfullscreen></iframe></div></div>"
      ],
      "text/plain": [
       "<folium.folium.Map at 0x7f1ee8832820>"
      ]
     },
     "execution_count": 76,
     "metadata": {},
     "output_type": "execute_result"
    }
   ],
   "source": [
    "poa"
   ]
  },
  {
   "cell_type": "code",
   "execution_count": null,
   "id": "1d5b3688",
   "metadata": {},
   "outputs": [],
   "source": []
  }
 ],
 "metadata": {
  "kernelspec": {
   "display_name": "Python 3 (ipykernel)",
   "language": "python",
   "name": "python3"
  },
  "language_info": {
   "codemirror_mode": {
    "name": "ipython",
    "version": 3
   },
   "file_extension": ".py",
   "mimetype": "text/x-python",
   "name": "python",
   "nbconvert_exporter": "python",
   "pygments_lexer": "ipython3",
   "version": "3.8.8"
  }
 },
 "nbformat": 4,
 "nbformat_minor": 5
}
