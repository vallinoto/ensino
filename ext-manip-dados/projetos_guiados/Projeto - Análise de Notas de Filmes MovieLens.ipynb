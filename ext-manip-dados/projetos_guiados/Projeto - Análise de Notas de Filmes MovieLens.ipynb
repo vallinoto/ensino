{
 "cells": [
  {
   "cell_type": "markdown",
   "id": "d731db2b",
   "metadata": {},
   "source": [
    "# Projeto - Análise de Notas de Filmes MovieLens"
   ]
  },
  {
   "cell_type": "markdown",
   "id": "3158463a",
   "metadata": {},
   "source": [
    "## Objetivo"
   ]
  },
  {
   "cell_type": "markdown",
   "id": "320c9abf",
   "metadata": {},
   "source": [
    "Você atua no departamento de análise de dados em um Estúdio de Gravações Cinematográficas. O time de gestores(as) precisa de algumas informações sobre os votos do público a cerca dos últimos filmes. Existe uma pressão dos acionistas para que os próximos lançamentos tenham notas altas e uma aceitação grande pelo público geral.\n",
    "\n",
    "Assim, com base nos registros disponibilizados, você terá que responder as seguintes perguntas:"
   ]
  },
  {
   "cell_type": "markdown",
   "id": "0f48f19c",
   "metadata": {},
   "source": [
    "**Perguntas**\n",
    "\n",
    "    1. Quantos filmes por gênero estamos incluindo nesse levantamento?\n",
    "    2. Quais são os títulos com maiores notas de avaliação pelo público?\n",
    "    3. Qual a média de votos por filme?\n",
    "    4. 20% dos filmes possuem nota superior a qual valor?\n",
    "    5. Quantos filmes por gênero estamos incluindo nesse levantamento?\n",
    "    6. Qual a popularidade dos filmes, considerando como regra o número de votos dividido pelo número de filmes?\n",
    "    7. Quais os gêneros mais indicados para investir, considerando a audiência? Se olhar as notas, ainda seriam esses os filmes?"
   ]
  },
  {
   "cell_type": "markdown",
   "id": "5bc64564",
   "metadata": {},
   "source": []
  },
  {
   "cell_type": "markdown",
   "id": "cc1d78ca",
   "metadata": {},
   "source": []
  },
  {
   "cell_type": "code",
   "execution_count": null,
   "id": "f9645757",
   "metadata": {},
   "outputs": [],
   "source": []
  },
  {
   "cell_type": "code",
   "execution_count": 1,
   "id": "9455bdeb",
   "metadata": {},
   "outputs": [],
   "source": [
    "import pandas as pd"
   ]
  },
  {
   "cell_type": "code",
   "execution_count": 5,
   "id": "10602f5e",
   "metadata": {},
   "outputs": [],
   "source": [
    "URL_FILMES = 'https://raw.githubusercontent.com/alura-cursos/formacao-data-science/master/movies.csv'\n",
    "URL_NOTAS = 'https://raw.githubusercontent.com/alura-cursos/formacao-data-science/master/ratings.csv'"
   ]
  },
  {
   "cell_type": "code",
   "execution_count": 6,
   "id": "44fad2de",
   "metadata": {},
   "outputs": [],
   "source": [
    "filmes = pd.read_csv(URL_FILMES)"
   ]
  },
  {
   "cell_type": "code",
   "execution_count": 7,
   "id": "5cd4e88b",
   "metadata": {},
   "outputs": [
    {
     "data": {
      "text/html": [
       "<div>\n",
       "<style scoped>\n",
       "    .dataframe tbody tr th:only-of-type {\n",
       "        vertical-align: middle;\n",
       "    }\n",
       "\n",
       "    .dataframe tbody tr th {\n",
       "        vertical-align: top;\n",
       "    }\n",
       "\n",
       "    .dataframe thead th {\n",
       "        text-align: right;\n",
       "    }\n",
       "</style>\n",
       "<table border=\"1\" class=\"dataframe\">\n",
       "  <thead>\n",
       "    <tr style=\"text-align: right;\">\n",
       "      <th></th>\n",
       "      <th>movieId</th>\n",
       "      <th>title</th>\n",
       "      <th>genres</th>\n",
       "    </tr>\n",
       "  </thead>\n",
       "  <tbody>\n",
       "    <tr>\n",
       "      <th>0</th>\n",
       "      <td>1</td>\n",
       "      <td>Toy Story (1995)</td>\n",
       "      <td>Adventure|Animation|Children|Comedy|Fantasy</td>\n",
       "    </tr>\n",
       "    <tr>\n",
       "      <th>1</th>\n",
       "      <td>2</td>\n",
       "      <td>Jumanji (1995)</td>\n",
       "      <td>Adventure|Children|Fantasy</td>\n",
       "    </tr>\n",
       "    <tr>\n",
       "      <th>2</th>\n",
       "      <td>3</td>\n",
       "      <td>Grumpier Old Men (1995)</td>\n",
       "      <td>Comedy|Romance</td>\n",
       "    </tr>\n",
       "    <tr>\n",
       "      <th>3</th>\n",
       "      <td>4</td>\n",
       "      <td>Waiting to Exhale (1995)</td>\n",
       "      <td>Comedy|Drama|Romance</td>\n",
       "    </tr>\n",
       "    <tr>\n",
       "      <th>4</th>\n",
       "      <td>5</td>\n",
       "      <td>Father of the Bride Part II (1995)</td>\n",
       "      <td>Comedy</td>\n",
       "    </tr>\n",
       "  </tbody>\n",
       "</table>\n",
       "</div>"
      ],
      "text/plain": [
       "   movieId                               title  \\\n",
       "0        1                    Toy Story (1995)   \n",
       "1        2                      Jumanji (1995)   \n",
       "2        3             Grumpier Old Men (1995)   \n",
       "3        4            Waiting to Exhale (1995)   \n",
       "4        5  Father of the Bride Part II (1995)   \n",
       "\n",
       "                                        genres  \n",
       "0  Adventure|Animation|Children|Comedy|Fantasy  \n",
       "1                   Adventure|Children|Fantasy  \n",
       "2                               Comedy|Romance  \n",
       "3                         Comedy|Drama|Romance  \n",
       "4                                       Comedy  "
      ]
     },
     "execution_count": 7,
     "metadata": {},
     "output_type": "execute_result"
    }
   ],
   "source": [
    "filmes.head()"
   ]
  },
  {
   "cell_type": "code",
   "execution_count": 8,
   "id": "b4aea5ef",
   "metadata": {},
   "outputs": [],
   "source": [
    "notas = pd.read_csv(URL_NOTAS)"
   ]
  },
  {
   "cell_type": "code",
   "execution_count": 9,
   "id": "71c52825",
   "metadata": {},
   "outputs": [
    {
     "data": {
      "text/html": [
       "<div>\n",
       "<style scoped>\n",
       "    .dataframe tbody tr th:only-of-type {\n",
       "        vertical-align: middle;\n",
       "    }\n",
       "\n",
       "    .dataframe tbody tr th {\n",
       "        vertical-align: top;\n",
       "    }\n",
       "\n",
       "    .dataframe thead th {\n",
       "        text-align: right;\n",
       "    }\n",
       "</style>\n",
       "<table border=\"1\" class=\"dataframe\">\n",
       "  <thead>\n",
       "    <tr style=\"text-align: right;\">\n",
       "      <th></th>\n",
       "      <th>userId</th>\n",
       "      <th>movieId</th>\n",
       "      <th>rating</th>\n",
       "      <th>timestamp</th>\n",
       "    </tr>\n",
       "  </thead>\n",
       "  <tbody>\n",
       "    <tr>\n",
       "      <th>0</th>\n",
       "      <td>1</td>\n",
       "      <td>1</td>\n",
       "      <td>4.0</td>\n",
       "      <td>964982703</td>\n",
       "    </tr>\n",
       "    <tr>\n",
       "      <th>1</th>\n",
       "      <td>1</td>\n",
       "      <td>3</td>\n",
       "      <td>4.0</td>\n",
       "      <td>964981247</td>\n",
       "    </tr>\n",
       "    <tr>\n",
       "      <th>2</th>\n",
       "      <td>1</td>\n",
       "      <td>6</td>\n",
       "      <td>4.0</td>\n",
       "      <td>964982224</td>\n",
       "    </tr>\n",
       "    <tr>\n",
       "      <th>3</th>\n",
       "      <td>1</td>\n",
       "      <td>47</td>\n",
       "      <td>5.0</td>\n",
       "      <td>964983815</td>\n",
       "    </tr>\n",
       "    <tr>\n",
       "      <th>4</th>\n",
       "      <td>1</td>\n",
       "      <td>50</td>\n",
       "      <td>5.0</td>\n",
       "      <td>964982931</td>\n",
       "    </tr>\n",
       "  </tbody>\n",
       "</table>\n",
       "</div>"
      ],
      "text/plain": [
       "   userId  movieId  rating  timestamp\n",
       "0       1        1     4.0  964982703\n",
       "1       1        3     4.0  964981247\n",
       "2       1        6     4.0  964982224\n",
       "3       1       47     5.0  964983815\n",
       "4       1       50     5.0  964982931"
      ]
     },
     "execution_count": 9,
     "metadata": {},
     "output_type": "execute_result"
    }
   ],
   "source": [
    "notas.head()"
   ]
  },
  {
   "cell_type": "markdown",
   "id": "c7d233e6",
   "metadata": {},
   "source": [
    "Pergunta: gere uma nova feature, a média dos votos por filme\n",
    "crie uma nova coluna chamada nota_media dentro do dataframe filmes\n",
    "Dicas:\n",
    "\n",
    "como filmeId já é o indice de seu dataframe filmes, se você possui uma série com o número de votos por filme, basta atribuir uma nova coluna normalmente que será usado o mesmo índice"
   ]
  },
  {
   "cell_type": "markdown",
   "id": "581ec78e",
   "metadata": {},
   "source": [
    "Pergunta: remova os filmes com menos de 50 avaliações\n",
    "conte o número de notas por filme\n",
    "adicione uma coluna nova chamada total_de_votos a filmes que representa o número de avaliações que aquele filme teve no conjunto de dados\n",
    "remova os que tem 49 ou menos de filmes"
   ]
  },
  {
   "cell_type": "markdown",
   "id": "cb08749c",
   "metadata": {},
   "source": [
    "Pergunta: 20% dos filmes do dataframe tem nota maior que?"
   ]
  },
  {
   "cell_type": "markdown",
   "id": "52548f6a",
   "metadata": {},
   "source": [
    "\n",
    "visualização de quantos filmes existem por genero\n",
    "Para cada um dos generos você deve agrupar o número de filmes\n",
    "Ordene as barras, na esquerda o genero com mais filmes, na direita o que tem menos filmes"
   ]
  },
  {
   "cell_type": "markdown",
   "id": "cfaad3f4",
   "metadata": {},
   "source": [
    "Quais são os 5 generos com mais filmes?"
   ]
  },
  {
   "cell_type": "code",
   "execution_count": null,
   "id": "18831cef",
   "metadata": {},
   "outputs": [],
   "source": []
  }
 ],
 "metadata": {
  "kernelspec": {
   "display_name": "Python 3 (ipykernel)",
   "language": "python",
   "name": "python3"
  },
  "language_info": {
   "codemirror_mode": {
    "name": "ipython",
    "version": 3
   },
   "file_extension": ".py",
   "mimetype": "text/x-python",
   "name": "python",
   "nbconvert_exporter": "python",
   "pygments_lexer": "ipython3",
   "version": "3.8.8"
  }
 },
 "nbformat": 4,
 "nbformat_minor": 5
}
