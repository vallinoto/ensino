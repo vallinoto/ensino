{
  "nbformat": 4,
  "nbformat_minor": 0,
  "metadata": {
    "kernelspec": {
      "display_name": "Python 3",
      "language": "python",
      "name": "python3"
    },
    "language_info": {
      "codemirror_mode": {
        "name": "ipython",
        "version": 3
      },
      "file_extension": ".py",
      "mimetype": "text/x-python",
      "name": "python",
      "nbconvert_exporter": "python",
      "pygments_lexer": "ipython3",
      "version": "3.6.1"
    },
    "colab": {
      "name": "Cópia de Exercícios Aula 08.ipynb",
      "provenance": []
    }
  },
  "cells": [
    {
      "cell_type": "markdown",
      "metadata": {
        "id": "aXJg9L8cax39"
      },
      "source": [
        "#Ex01\n",
        "Trate o erro abaixo usando os blocos try e except."
      ]
    },
    {
      "cell_type": "code",
      "metadata": {
        "id": "UfDQDpMgax3-",
        "colab": {
          "base_uri": "https://localhost:8080/",
          "height": 183
        },
        "outputId": "f317fe7d-3c8e-4545-fc37-247c147aeb8c"
      },
      "source": [
        "for i in ['a','b','c']:\n",
        "    print(i**2)"
      ],
      "execution_count": null,
      "outputs": [
        {
          "output_type": "error",
          "ename": "TypeError",
          "evalue": "ignored",
          "traceback": [
            "\u001b[0;31m---------------------------------------------------------------------------\u001b[0m",
            "\u001b[0;31mTypeError\u001b[0m                                 Traceback (most recent call last)",
            "\u001b[0;32m<ipython-input-1-c35f41ad7311>\u001b[0m in \u001b[0;36m<module>\u001b[0;34m()\u001b[0m\n\u001b[1;32m      1\u001b[0m \u001b[0;32mfor\u001b[0m \u001b[0mi\u001b[0m \u001b[0;32min\u001b[0m \u001b[0;34m[\u001b[0m\u001b[0;34m'a'\u001b[0m\u001b[0;34m,\u001b[0m\u001b[0;34m'b'\u001b[0m\u001b[0;34m,\u001b[0m\u001b[0;34m'c'\u001b[0m\u001b[0;34m]\u001b[0m\u001b[0;34m:\u001b[0m\u001b[0;34m\u001b[0m\u001b[0;34m\u001b[0m\u001b[0m\n\u001b[0;32m----> 2\u001b[0;31m     \u001b[0mprint\u001b[0m\u001b[0;34m(\u001b[0m\u001b[0mi\u001b[0m\u001b[0;34m**\u001b[0m\u001b[0;36m2\u001b[0m\u001b[0;34m)\u001b[0m\u001b[0;34m\u001b[0m\u001b[0;34m\u001b[0m\u001b[0m\n\u001b[0m",
            "\u001b[0;31mTypeError\u001b[0m: unsupported operand type(s) for ** or pow(): 'str' and 'int'"
          ]
        }
      ]
    },
    {
      "cell_type": "code",
      "metadata": {
        "id": "yLhS4lUDbHya",
        "colab": {
          "base_uri": "https://localhost:8080/"
        },
        "outputId": "47d7bd34-bfe4-4aaf-8396-a335a2b85c91"
      },
      "source": [
        "try:\n",
        "\n",
        "  for i in ['a','b','c']:\n",
        "    print(i**2)\n",
        "\n",
        "except:\n",
        "  print(\"Erro na funcao matematica. Revise se os dados da lista estao corretos.\")"
      ],
      "execution_count": null,
      "outputs": [
        {
          "output_type": "stream",
          "name": "stdout",
          "text": [
            "Erro na funcao matematica. Revise se os dados da lista estao corretos.\n"
          ]
        }
      ]
    },
    {
      "cell_type": "markdown",
      "metadata": {
        "id": "AH31EIVlax4A"
      },
      "source": [
        "#Ex02\n",
        "Trate o erro abaixo usando os blocos **try** e **except**. Em seguida, use um bloco **finally** para imprimir 'All Done'."
      ]
    },
    {
      "cell_type": "code",
      "metadata": {
        "id": "3QNsPCIxax4B",
        "outputId": "3156ebb8-bd9d-48fb-be46-0348e01fbbc2"
      },
      "source": [
        "x = 5\n",
        "y = 0\n",
        "\n",
        "z = x/y"
      ],
      "execution_count": null,
      "outputs": [
        {
          "ename": "ZeroDivisionError",
          "evalue": "division by zero",
          "output_type": "error",
          "traceback": [
            "\u001b[1;31m---------------------------------------------------------------------------\u001b[0m",
            "\u001b[1;31mZeroDivisionError\u001b[0m                         Traceback (most recent call last)",
            "\u001b[1;32m<ipython-input-1-6f985c4c80dd>\u001b[0m in \u001b[0;36m<module>\u001b[1;34m()\u001b[0m\n\u001b[0;32m      2\u001b[0m \u001b[0my\u001b[0m \u001b[1;33m=\u001b[0m \u001b[1;36m0\u001b[0m\u001b[1;33m\u001b[0m\u001b[0m\n\u001b[0;32m      3\u001b[0m \u001b[1;33m\u001b[0m\u001b[0m\n\u001b[1;32m----> 4\u001b[1;33m \u001b[0mz\u001b[0m \u001b[1;33m=\u001b[0m \u001b[0mx\u001b[0m\u001b[1;33m/\u001b[0m\u001b[0my\u001b[0m\u001b[1;33m\u001b[0m\u001b[0m\n\u001b[0m",
            "\u001b[1;31mZeroDivisionError\u001b[0m: division by zero"
          ]
        }
      ]
    },
    {
      "cell_type": "markdown",
      "metadata": {
        "id": "iCt97VwRax4B"
      },
      "source": [
        "#Ex03\n",
        "Escreva uma função que solicite um número inteiro e imprima o quadrado dele. Use um loop while com  um try, except e else para contabilizar as entradas incorretas."
      ]
    },
    {
      "cell_type": "code",
      "metadata": {
        "collapsed": true,
        "id": "joGZS6vYax4C"
      },
      "source": [
        "def ask():\n",
        "    pass()"
      ],
      "execution_count": null,
      "outputs": []
    },
    {
      "cell_type": "code",
      "metadata": {
        "id": "RJ6bHDDQax4D",
        "outputId": "c52089ed-7f2a-4daa-f177-b9534140e69f"
      },
      "source": [
        "ask()"
      ],
      "execution_count": null,
      "outputs": [
        {
          "name": "stdout",
          "output_type": "stream",
          "text": [
            "Input an integer: null\n",
            "An error occurred! Please try again!\n",
            "Input an integer: 2\n",
            "Thank you, you number squared is:  4\n"
          ]
        }
      ]
    },
    {
      "cell_type": "code",
      "metadata": {
        "collapsed": true,
        "id": "R7jRHPRQax4E"
      },
      "source": [
        ""
      ],
      "execution_count": null,
      "outputs": []
    }
  ]
}