{
 "cells": [
  {
   "cell_type": "code",
   "execution_count": 1,
   "id": "866ea41a",
   "metadata": {},
   "outputs": [],
   "source": [
    "from sqlalchemy import create_engine"
   ]
  },
  {
   "cell_type": "code",
   "execution_count": 2,
   "id": "c1c13155",
   "metadata": {},
   "outputs": [],
   "source": [
    "engine = create_engine('sqlite:///dados/getninjas.db')"
   ]
  },
  {
   "cell_type": "code",
   "execution_count": 3,
   "id": "5ee37a54",
   "metadata": {},
   "outputs": [],
   "source": [
    "conn = engine.connect()"
   ]
  },
  {
   "cell_type": "code",
   "execution_count": 4,
   "id": "e1e4a37a",
   "metadata": {},
   "outputs": [],
   "source": [
    "import pandas as pd"
   ]
  },
  {
   "cell_type": "code",
   "execution_count": 5,
   "id": "da3eb285",
   "metadata": {},
   "outputs": [],
   "source": [
    "dados_getninjas = pd.read_sql_table('users', conn)"
   ]
  },
  {
   "cell_type": "code",
   "execution_count": 6,
   "id": "bbe7df30",
   "metadata": {},
   "outputs": [
    {
     "data": {
      "text/html": [
       "<div><div id=305ee806-3c7a-4b8a-a74a-b38814078c3d style=\"display:none; background-color:#9D6CFF; color:white; width:200px; height:30px; padding-left:5px; border-radius:4px; flex-direction:row; justify-content:space-around; align-items:center;\" onmouseover=\"this.style.backgroundColor='#BA9BF8'\" onmouseout=\"this.style.backgroundColor='#9D6CFF'\" onclick=\"window.commands?.execute('create-mitosheet-from-dataframe-output');\">See Full Dataframe in Mito</div> <script> if (window.commands.hasCommand('create-mitosheet-from-dataframe-output')) document.getElementById('305ee806-3c7a-4b8a-a74a-b38814078c3d').style.display = 'flex' </script> <table border=\"1\" class=\"dataframe\">\n",
       "  <thead>\n",
       "    <tr style=\"text-align: right;\">\n",
       "      <th></th>\n",
       "      <th>id</th>\n",
       "      <th>created_at</th>\n",
       "      <th>updated_at</th>\n",
       "      <th>confirmed_at</th>\n",
       "      <th>name</th>\n",
       "      <th>email</th>\n",
       "      <th>cpf</th>\n",
       "      <th>admin</th>\n",
       "      <th>sign_in_count</th>\n",
       "      <th>last_sign_in_at</th>\n",
       "    </tr>\n",
       "  </thead>\n",
       "  <tbody>\n",
       "    <tr>\n",
       "      <th>0</th>\n",
       "      <td>4442066</td>\n",
       "      <td>2018-01-01 12:14:14.000000</td>\n",
       "      <td>2018-01-01 12:14:14.000000</td>\n",
       "      <td>None</td>\n",
       "      <td>Tarcila</td>\n",
       "      <td>4442066@getninjas.example</td>\n",
       "      <td>224.962.961-50</td>\n",
       "      <td>0</td>\n",
       "      <td>1</td>\n",
       "      <td>2018-01-01 12:14:14.000000</td>\n",
       "    </tr>\n",
       "    <tr>\n",
       "      <th>1</th>\n",
       "      <td>4442106</td>\n",
       "      <td>2018-01-01 12:46:35.000000</td>\n",
       "      <td>2018-01-02 00:40:03.000000</td>\n",
       "      <td>2018-01-02 00:40:03.000000</td>\n",
       "      <td>Daniel</td>\n",
       "      <td>4442106@getninjas.example</td>\n",
       "      <td>972.910.251-46</td>\n",
       "      <td>0</td>\n",
       "      <td>2</td>\n",
       "      <td>2018-01-01 12:46:35.000000</td>\n",
       "    </tr>\n",
       "    <tr>\n",
       "      <th>2</th>\n",
       "      <td>4443684</td>\n",
       "      <td>2018-01-02 00:01:28.000000</td>\n",
       "      <td>2018-01-02 00:01:28.000000</td>\n",
       "      <td>None</td>\n",
       "      <td>Karla</td>\n",
       "      <td>4443684@getninjas.example</td>\n",
       "      <td>558.559.398-43</td>\n",
       "      <td>0</td>\n",
       "      <td>1</td>\n",
       "      <td>2018-01-02 00:01:28.000000</td>\n",
       "    </tr>\n",
       "    <tr>\n",
       "      <th>3</th>\n",
       "      <td>4445440</td>\n",
       "      <td>2018-01-02 13:03:20.000000</td>\n",
       "      <td>2018-01-02 13:03:20.000000</td>\n",
       "      <td>None</td>\n",
       "      <td>Breno</td>\n",
       "      <td>4445440@getninjas.example</td>\n",
       "      <td>173.636.200-92</td>\n",
       "      <td>0</td>\n",
       "      <td>1</td>\n",
       "      <td>2018-01-02 13:03:20.000000</td>\n",
       "    </tr>\n",
       "    <tr>\n",
       "      <th>4</th>\n",
       "      <td>4445592</td>\n",
       "      <td>2018-01-02 13:22:24.000000</td>\n",
       "      <td>2018-01-02 13:22:24.000000</td>\n",
       "      <td>None</td>\n",
       "      <td>Cláudia</td>\n",
       "      <td>4445592@getninjas.example</td>\n",
       "      <td>414.380.424-38</td>\n",
       "      <td>0</td>\n",
       "      <td>1</td>\n",
       "      <td>2018-01-02 13:22:24.000000</td>\n",
       "    </tr>\n",
       "  </tbody>\n",
       "</table></div>"
      ],
      "text/plain": [
       "        id                  created_at                  updated_at  \\\n",
       "0  4442066  2018-01-01 12:14:14.000000  2018-01-01 12:14:14.000000   \n",
       "1  4442106  2018-01-01 12:46:35.000000  2018-01-02 00:40:03.000000   \n",
       "2  4443684  2018-01-02 00:01:28.000000  2018-01-02 00:01:28.000000   \n",
       "3  4445440  2018-01-02 13:03:20.000000  2018-01-02 13:03:20.000000   \n",
       "4  4445592  2018-01-02 13:22:24.000000  2018-01-02 13:22:24.000000   \n",
       "\n",
       "                 confirmed_at     name                      email  \\\n",
       "0                        None  Tarcila  4442066@getninjas.example   \n",
       "1  2018-01-02 00:40:03.000000   Daniel  4442106@getninjas.example   \n",
       "2                        None    Karla  4443684@getninjas.example   \n",
       "3                        None    Breno  4445440@getninjas.example   \n",
       "4                        None  Cláudia  4445592@getninjas.example   \n",
       "\n",
       "              cpf  admin  sign_in_count             last_sign_in_at  \n",
       "0  224.962.961-50      0              1  2018-01-01 12:14:14.000000  \n",
       "1  972.910.251-46      0              2  2018-01-01 12:46:35.000000  \n",
       "2  558.559.398-43      0              1  2018-01-02 00:01:28.000000  \n",
       "3  173.636.200-92      0              1  2018-01-02 13:03:20.000000  \n",
       "4  414.380.424-38      0              1  2018-01-02 13:22:24.000000  "
      ]
     },
     "execution_count": 6,
     "metadata": {},
     "output_type": "execute_result"
    }
   ],
   "source": [
    "dados_getninjas.head()"
   ]
  },
  {
   "cell_type": "code",
   "execution_count": 7,
   "id": "5a2a126f",
   "metadata": {},
   "outputs": [],
   "source": [
    "dados_req = pd.read_sql_table('requests', conn)"
   ]
  },
  {
   "cell_type": "code",
   "execution_count": 8,
   "id": "f370163a",
   "metadata": {},
   "outputs": [
    {
     "data": {
      "text/html": [
       "<div><div id=d0a18be6-0863-4ace-89e5-cdbf55a3ef2b style=\"display:none; background-color:#9D6CFF; color:white; width:200px; height:30px; padding-left:5px; border-radius:4px; flex-direction:row; justify-content:space-around; align-items:center;\" onmouseover=\"this.style.backgroundColor='#BA9BF8'\" onmouseout=\"this.style.backgroundColor='#9D6CFF'\" onclick=\"window.commands?.execute('create-mitosheet-from-dataframe-output');\">See Full Dataframe in Mito</div> <script> if (window.commands.hasCommand('create-mitosheet-from-dataframe-output')) document.getElementById('d0a18be6-0863-4ace-89e5-cdbf55a3ef2b').style.display = 'flex' </script> <table border=\"1\" class=\"dataframe\">\n",
       "  <thead>\n",
       "    <tr style=\"text-align: right;\">\n",
       "      <th></th>\n",
       "      <th>id</th>\n",
       "      <th>user_id</th>\n",
       "      <th>category_id</th>\n",
       "      <th>internal_status</th>\n",
       "      <th>num_leads</th>\n",
       "      <th>request_revenue</th>\n",
       "    </tr>\n",
       "  </thead>\n",
       "  <tbody>\n",
       "    <tr>\n",
       "      <th>0</th>\n",
       "      <td>5140020</td>\n",
       "      <td>4446527</td>\n",
       "      <td>2</td>\n",
       "      <td>Encerrada</td>\n",
       "      <td>5</td>\n",
       "      <td>11.62</td>\n",
       "    </tr>\n",
       "    <tr>\n",
       "      <th>1</th>\n",
       "      <td>5555745</td>\n",
       "      <td>5055515</td>\n",
       "      <td>6</td>\n",
       "      <td>Encerrada</td>\n",
       "      <td>4</td>\n",
       "      <td>14.80</td>\n",
       "    </tr>\n",
       "    <tr>\n",
       "      <th>2</th>\n",
       "      <td>5829527</td>\n",
       "      <td>5218363</td>\n",
       "      <td>6</td>\n",
       "      <td>Encerrada</td>\n",
       "      <td>6</td>\n",
       "      <td>15.98</td>\n",
       "    </tr>\n",
       "    <tr>\n",
       "      <th>3</th>\n",
       "      <td>5819994</td>\n",
       "      <td>5299930</td>\n",
       "      <td>6</td>\n",
       "      <td>Encerrada</td>\n",
       "      <td>5</td>\n",
       "      <td>0.29</td>\n",
       "    </tr>\n",
       "    <tr>\n",
       "      <th>4</th>\n",
       "      <td>5719354</td>\n",
       "      <td>5211681</td>\n",
       "      <td>6</td>\n",
       "      <td>Encerrada</td>\n",
       "      <td>5</td>\n",
       "      <td>22.60</td>\n",
       "    </tr>\n",
       "  </tbody>\n",
       "</table></div>"
      ],
      "text/plain": [
       "        id  user_id  category_id internal_status  num_leads  request_revenue\n",
       "0  5140020  4446527            2       Encerrada          5            11.62\n",
       "1  5555745  5055515            6       Encerrada          4            14.80\n",
       "2  5829527  5218363            6       Encerrada          6            15.98\n",
       "3  5819994  5299930            6       Encerrada          5             0.29\n",
       "4  5719354  5211681            6       Encerrada          5            22.60"
      ]
     },
     "execution_count": 8,
     "metadata": {},
     "output_type": "execute_result"
    }
   ],
   "source": [
    "dados_req.head()"
   ]
  },
  {
   "cell_type": "code",
   "execution_count": 9,
   "id": "77fc2df0",
   "metadata": {},
   "outputs": [],
   "source": [
    "dados_cat = pd.read_sql_table('categories', conn)"
   ]
  },
  {
   "cell_type": "code",
   "execution_count": 10,
   "id": "21f79a39",
   "metadata": {},
   "outputs": [
    {
     "data": {
      "text/html": [
       "<div><div id=e29fa2cf-4171-4399-8109-7cfdf30bd533 style=\"display:none; background-color:#9D6CFF; color:white; width:200px; height:30px; padding-left:5px; border-radius:4px; flex-direction:row; justify-content:space-around; align-items:center;\" onmouseover=\"this.style.backgroundColor='#BA9BF8'\" onmouseout=\"this.style.backgroundColor='#9D6CFF'\" onclick=\"window.commands?.execute('create-mitosheet-from-dataframe-output');\">See Full Dataframe in Mito</div> <script> if (window.commands.hasCommand('create-mitosheet-from-dataframe-output')) document.getElementById('e29fa2cf-4171-4399-8109-7cfdf30bd533').style.display = 'flex' </script> <table border=\"1\" class=\"dataframe\">\n",
       "  <thead>\n",
       "    <tr style=\"text-align: right;\">\n",
       "      <th></th>\n",
       "      <th>id</th>\n",
       "      <th>name</th>\n",
       "      <th>friendly_name</th>\n",
       "      <th>url</th>\n",
       "      <th>level</th>\n",
       "    </tr>\n",
       "  </thead>\n",
       "  <tbody>\n",
       "    <tr>\n",
       "      <th>0</th>\n",
       "      <td>5</td>\n",
       "      <td>Esportes</td>\n",
       "      <td>Professores para Esportes</td>\n",
       "      <td>aulas/esportes</td>\n",
       "      <td>1</td>\n",
       "    </tr>\n",
       "    <tr>\n",
       "      <th>1</th>\n",
       "      <td>35</td>\n",
       "      <td>Cabeleireiros</td>\n",
       "      <td>Cabeleireiros</td>\n",
       "      <td>moda-e-beleza/cabeleireiros</td>\n",
       "      <td>1</td>\n",
       "    </tr>\n",
       "    <tr>\n",
       "      <th>2</th>\n",
       "      <td>98</td>\n",
       "      <td>Gesso e DryWall</td>\n",
       "      <td>Gesseiros</td>\n",
       "      <td>reformas-e-reparos/gesso-e-drywall</td>\n",
       "      <td>1</td>\n",
       "    </tr>\n",
       "    <tr>\n",
       "      <th>3</th>\n",
       "      <td>118</td>\n",
       "      <td>Convites</td>\n",
       "      <td>Designers de convites</td>\n",
       "      <td>design-e-tecnologia/convites</td>\n",
       "      <td>1</td>\n",
       "    </tr>\n",
       "    <tr>\n",
       "      <th>4</th>\n",
       "      <td>181</td>\n",
       "      <td>Fora da Garantia</td>\n",
       "      <td>Assistências Técnicas para Lava Roupa LG</td>\n",
       "      <td>assistencia-tecnica/lava-roupa/lg/fora-da-garantia</td>\n",
       "      <td>3</td>\n",
       "    </tr>\n",
       "  </tbody>\n",
       "</table></div>"
      ],
      "text/plain": [
       "    id              name                             friendly_name  \\\n",
       "0    5          Esportes                 Professores para Esportes   \n",
       "1   35     Cabeleireiros                             Cabeleireiros   \n",
       "2   98   Gesso e DryWall                                 Gesseiros   \n",
       "3  118          Convites                     Designers de convites   \n",
       "4  181  Fora da Garantia  Assistências Técnicas para Lava Roupa LG   \n",
       "\n",
       "                                                 url  level  \n",
       "0                                     aulas/esportes      1  \n",
       "1                        moda-e-beleza/cabeleireiros      1  \n",
       "2                 reformas-e-reparos/gesso-e-drywall      1  \n",
       "3                       design-e-tecnologia/convites      1  \n",
       "4  assistencia-tecnica/lava-roupa/lg/fora-da-gara...      3  "
      ]
     },
     "execution_count": 10,
     "metadata": {},
     "output_type": "execute_result"
    }
   ],
   "source": [
    "dados_cat.head()"
   ]
  },
  {
   "cell_type": "code",
   "execution_count": 13,
   "id": "18fa10fe",
   "metadata": {},
   "outputs": [],
   "source": [
    "dados_all = pd.merge(dados_req, dados_cat, left_on='category_id', right_on='id', suffixes=['_requests', '_categories'])"
   ]
  },
  {
   "cell_type": "code",
   "execution_count": 14,
   "id": "f31b4111",
   "metadata": {},
   "outputs": [
    {
     "data": {
      "text/html": [
       "<div><div id=724a12ee-cfa8-4546-b243-a8eed98633a4 style=\"display:none; background-color:#9D6CFF; color:white; width:200px; height:30px; padding-left:5px; border-radius:4px; flex-direction:row; justify-content:space-around; align-items:center;\" onmouseover=\"this.style.backgroundColor='#BA9BF8'\" onmouseout=\"this.style.backgroundColor='#9D6CFF'\" onclick=\"window.commands?.execute('create-mitosheet-from-dataframe-output');\">See Full Dataframe in Mito</div> <script> if (window.commands.hasCommand('create-mitosheet-from-dataframe-output')) document.getElementById('724a12ee-cfa8-4546-b243-a8eed98633a4').style.display = 'flex' </script> <table border=\"1\" class=\"dataframe\">\n",
       "  <thead>\n",
       "    <tr style=\"text-align: right;\">\n",
       "      <th></th>\n",
       "      <th>id_requests</th>\n",
       "      <th>user_id</th>\n",
       "      <th>category_id</th>\n",
       "      <th>internal_status</th>\n",
       "      <th>num_leads</th>\n",
       "      <th>request_revenue</th>\n",
       "      <th>id_categories</th>\n",
       "      <th>name</th>\n",
       "      <th>friendly_name</th>\n",
       "      <th>url</th>\n",
       "      <th>level</th>\n",
       "    </tr>\n",
       "  </thead>\n",
       "  <tbody>\n",
       "    <tr>\n",
       "      <th>0</th>\n",
       "      <td>5140020</td>\n",
       "      <td>4446527</td>\n",
       "      <td>2</td>\n",
       "      <td>Encerrada</td>\n",
       "      <td>5</td>\n",
       "      <td>11.62</td>\n",
       "      <td>2</td>\n",
       "      <td>Escolares e Reforço</td>\n",
       "      <td>Professores para Reforço</td>\n",
       "      <td>aulas/escolares-e-reforco</td>\n",
       "      <td>1</td>\n",
       "    </tr>\n",
       "    <tr>\n",
       "      <th>1</th>\n",
       "      <td>5482407</td>\n",
       "      <td>4961047</td>\n",
       "      <td>2</td>\n",
       "      <td>Encerrada</td>\n",
       "      <td>8</td>\n",
       "      <td>16.31</td>\n",
       "      <td>2</td>\n",
       "      <td>Escolares e Reforço</td>\n",
       "      <td>Professores para Reforço</td>\n",
       "      <td>aulas/escolares-e-reforco</td>\n",
       "      <td>1</td>\n",
       "    </tr>\n",
       "    <tr>\n",
       "      <th>2</th>\n",
       "      <td>5555745</td>\n",
       "      <td>5055515</td>\n",
       "      <td>6</td>\n",
       "      <td>Encerrada</td>\n",
       "      <td>4</td>\n",
       "      <td>14.80</td>\n",
       "      <td>6</td>\n",
       "      <td>Outros</td>\n",
       "      <td>Professores Particulares</td>\n",
       "      <td>aulas/outros</td>\n",
       "      <td>1</td>\n",
       "    </tr>\n",
       "    <tr>\n",
       "      <th>3</th>\n",
       "      <td>5829527</td>\n",
       "      <td>5218363</td>\n",
       "      <td>6</td>\n",
       "      <td>Encerrada</td>\n",
       "      <td>6</td>\n",
       "      <td>15.98</td>\n",
       "      <td>6</td>\n",
       "      <td>Outros</td>\n",
       "      <td>Professores Particulares</td>\n",
       "      <td>aulas/outros</td>\n",
       "      <td>1</td>\n",
       "    </tr>\n",
       "    <tr>\n",
       "      <th>4</th>\n",
       "      <td>5819994</td>\n",
       "      <td>5299930</td>\n",
       "      <td>6</td>\n",
       "      <td>Encerrada</td>\n",
       "      <td>5</td>\n",
       "      <td>0.29</td>\n",
       "      <td>6</td>\n",
       "      <td>Outros</td>\n",
       "      <td>Professores Particulares</td>\n",
       "      <td>aulas/outros</td>\n",
       "      <td>1</td>\n",
       "    </tr>\n",
       "  </tbody>\n",
       "</table></div>"
      ],
      "text/plain": [
       "   id_requests  user_id  category_id internal_status  num_leads  \\\n",
       "0      5140020  4446527            2       Encerrada          5   \n",
       "1      5482407  4961047            2       Encerrada          8   \n",
       "2      5555745  5055515            6       Encerrada          4   \n",
       "3      5829527  5218363            6       Encerrada          6   \n",
       "4      5819994  5299930            6       Encerrada          5   \n",
       "\n",
       "   request_revenue  id_categories                 name  \\\n",
       "0            11.62              2  Escolares e Reforço   \n",
       "1            16.31              2  Escolares e Reforço   \n",
       "2            14.80              6               Outros   \n",
       "3            15.98              6               Outros   \n",
       "4             0.29              6               Outros   \n",
       "\n",
       "              friendly_name                        url  level  \n",
       "0  Professores para Reforço  aulas/escolares-e-reforco      1  \n",
       "1  Professores para Reforço  aulas/escolares-e-reforco      1  \n",
       "2  Professores Particulares               aulas/outros      1  \n",
       "3  Professores Particulares               aulas/outros      1  \n",
       "4  Professores Particulares               aulas/outros      1  "
      ]
     },
     "execution_count": 14,
     "metadata": {},
     "output_type": "execute_result"
    }
   ],
   "source": [
    "dados_all.head()"
   ]
  },
  {
   "cell_type": "code",
   "execution_count": 18,
   "id": "46f8cdb7",
   "metadata": {},
   "outputs": [],
   "source": [
    "consulta = \"\"\"\n",
    "            SELECT c.name as nome_categoria, count(*) as qtd_pedidos\n",
    "            FROM requests r\n",
    "            INNER JOIN categories c\n",
    "            ON r.category_id = c.id\n",
    "            GROUP BY c.name\n",
    "            ORDER BY qtd_pedidos DESC\n",
    "            LIMIT 10\n",
    "\"\"\""
   ]
  },
  {
   "cell_type": "code",
   "execution_count": 23,
   "id": "8e011919",
   "metadata": {},
   "outputs": [
    {
     "data": {
      "text/plain": [
       "<AxesSubplot:>"
      ]
     },
     "execution_count": 23,
     "metadata": {},
     "output_type": "execute_result"
    },
    {
     "data": {
      "image/png": "[encoded data removed]",
      "text/plain": [
       "<Figure size 432x288 with 1 Axes>"
      ]
     },
     "metadata": {
      "needs_background": "light"
     },
     "output_type": "display_data"
    }
   ],
   "source": [
    "pd.read_sql_query(consulta, conn).plot(kind='bar')"
   ]
  },
  {
   "cell_type": "code",
   "execution_count": null,
   "id": "3d35f0ce",
   "metadata": {},
   "outputs": [],
   "source": [
    "DataFrame + SQLAlchemy"
   ]
  }
 ],
 "metadata": {
  "kernelspec": {
   "display_name": "Python 3 (ipykernel)",
   "language": "python",
   "name": "python3"
  },
  "language_info": {
   "codemirror_mode": {
    "name": "ipython",
    "version": 3
   },
   "file_extension": ".py",
   "mimetype": "text/x-python",
   "name": "python",
   "nbconvert_exporter": "python",
   "pygments_lexer": "ipython3",
   "version": "3.9.7"
  }
 },
 "nbformat": 4,
 "nbformat_minor": 5
}
