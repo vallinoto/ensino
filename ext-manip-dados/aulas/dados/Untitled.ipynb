{
 "cells": [
  {
   "cell_type": "code",
   "execution_count": 1,
   "id": "dc4aaf6e",
   "metadata": {},
   "outputs": [],
   "source": [
    "import pandas as pd"
   ]
  },
  {
   "cell_type": "code",
   "execution_count": 2,
   "id": "c77b3904",
   "metadata": {},
   "outputs": [],
   "source": [
    "df_POA = pd.read_csv('POAvoos08_11_2021.csv', sep=';')"
   ]
  },
  {
   "cell_type": "code",
   "execution_count": 3,
   "id": "e25d2a8c",
   "metadata": {},
   "outputs": [
    {
     "data": {
      "text/plain": [
       "Index(['transaction_datetime', 'transaction_workstation', 'transaction_date',\n",
       "       'transaction_class', 'transaction_airline', 'transaction_flightnumber',\n",
       "       'transaction_seat', 'transaction_from', 'transaction_to',\n",
       "       'transaction_status', 'transaction_crossed_on'],\n",
       "      dtype='object')"
      ]
     },
     "execution_count": 3,
     "metadata": {},
     "output_type": "execute_result"
    }
   ],
   "source": [
    "df_POA.columns"
   ]
  },
  {
   "cell_type": "code",
   "execution_count": 4,
   "id": "bb123b20",
   "metadata": {},
   "outputs": [],
   "source": [
    "df_FOR = pd.read_csv('FORvoos 08_11_2021.csv', sep=';')"
   ]
  },
  {
   "cell_type": "code",
   "execution_count": 5,
   "id": "78201041",
   "metadata": {},
   "outputs": [
    {
     "data": {
      "text/plain": [
       "Index(['transaction_datetime', 'transaction_workstation', 'transaction_date',\n",
       "       'transaction_class', 'transaction_airline', 'transaction_flightnumber',\n",
       "       'transaction_seat', 'transaction_from', 'transaction_to',\n",
       "       'transaction_status', 'transaction_crossed_on'],\n",
       "      dtype='object')"
      ]
     },
     "execution_count": 5,
     "metadata": {},
     "output_type": "execute_result"
    }
   ],
   "source": [
    "df_FOR.columns"
   ]
  },
  {
   "cell_type": "code",
   "execution_count": 10,
   "id": "595ea2c1",
   "metadata": {},
   "outputs": [],
   "source": [
    "df_voos = pd.concat([df_POA, df_FOR])"
   ]
  },
  {
   "cell_type": "code",
   "execution_count": 11,
   "id": "4818580c",
   "metadata": {},
   "outputs": [],
   "source": [
    "df_voos['m'] = df_voos['transaction_date'].apply(lambda x : x.split('/')[0])\n",
    "df_voos['d'] = df_voos['transaction_date'].apply(lambda x : x.split('/')[1])\n",
    "df_voos['a'] = df_voos['transaction_date'].apply(lambda x : x.split('/')[2])"
   ]
  },
  {
   "cell_type": "code",
   "execution_count": 14,
   "id": "afac2a08",
   "metadata": {},
   "outputs": [],
   "source": [
    "partidas = df_voos[['transaction_date', 'transaction_flightnumber', 'transaction_from', 'd','m','a' ]]"
   ]
  },
  {
   "cell_type": "code",
   "execution_count": 15,
   "id": "1acd9b3b",
   "metadata": {},
   "outputs": [
    {
     "data": {
      "text/html": [
       "<div>\n",
       "<style scoped>\n",
       "    .dataframe tbody tr th:only-of-type {\n",
       "        vertical-align: middle;\n",
       "    }\n",
       "\n",
       "    .dataframe tbody tr th {\n",
       "        vertical-align: top;\n",
       "    }\n",
       "\n",
       "    .dataframe thead th {\n",
       "        text-align: right;\n",
       "    }\n",
       "</style>\n",
       "<table border=\"1\" class=\"dataframe\">\n",
       "  <thead>\n",
       "    <tr style=\"text-align: right;\">\n",
       "      <th></th>\n",
       "      <th>transaction_date</th>\n",
       "      <th>transaction_flightnumber</th>\n",
       "      <th>transaction_from</th>\n",
       "      <th>d</th>\n",
       "      <th>m</th>\n",
       "      <th>a</th>\n",
       "    </tr>\n",
       "  </thead>\n",
       "  <tbody>\n",
       "    <tr>\n",
       "      <th>0</th>\n",
       "      <td>08/01/2021</td>\n",
       "      <td>1213</td>\n",
       "      <td>POA</td>\n",
       "      <td>01</td>\n",
       "      <td>08</td>\n",
       "      <td>2021</td>\n",
       "    </tr>\n",
       "    <tr>\n",
       "      <th>1</th>\n",
       "      <td>08/01/2021</td>\n",
       "      <td>1213</td>\n",
       "      <td>POA</td>\n",
       "      <td>01</td>\n",
       "      <td>08</td>\n",
       "      <td>2021</td>\n",
       "    </tr>\n",
       "    <tr>\n",
       "      <th>2</th>\n",
       "      <td>08/01/2021</td>\n",
       "      <td>1213</td>\n",
       "      <td>POA</td>\n",
       "      <td>01</td>\n",
       "      <td>08</td>\n",
       "      <td>2021</td>\n",
       "    </tr>\n",
       "    <tr>\n",
       "      <th>3</th>\n",
       "      <td>08/01/2021</td>\n",
       "      <td>4030</td>\n",
       "      <td>POA</td>\n",
       "      <td>01</td>\n",
       "      <td>08</td>\n",
       "      <td>2021</td>\n",
       "    </tr>\n",
       "    <tr>\n",
       "      <th>4</th>\n",
       "      <td>08/01/2021</td>\n",
       "      <td>1213</td>\n",
       "      <td>POA</td>\n",
       "      <td>01</td>\n",
       "      <td>08</td>\n",
       "      <td>2021</td>\n",
       "    </tr>\n",
       "    <tr>\n",
       "      <th>...</th>\n",
       "      <td>...</td>\n",
       "      <td>...</td>\n",
       "      <td>...</td>\n",
       "      <td>...</td>\n",
       "      <td>...</td>\n",
       "      <td>...</td>\n",
       "    </tr>\n",
       "    <tr>\n",
       "      <th>795678</th>\n",
       "      <td>12/01/2021</td>\n",
       "      <td>4247</td>\n",
       "      <td>FOR</td>\n",
       "      <td>01</td>\n",
       "      <td>12</td>\n",
       "      <td>2021</td>\n",
       "    </tr>\n",
       "    <tr>\n",
       "      <th>795679</th>\n",
       "      <td>12/01/2021</td>\n",
       "      <td>4745</td>\n",
       "      <td>FOR</td>\n",
       "      <td>01</td>\n",
       "      <td>12</td>\n",
       "      <td>2021</td>\n",
       "    </tr>\n",
       "    <tr>\n",
       "      <th>795680</th>\n",
       "      <td>12/01/2021</td>\n",
       "      <td>4745</td>\n",
       "      <td>FOR</td>\n",
       "      <td>01</td>\n",
       "      <td>12</td>\n",
       "      <td>2021</td>\n",
       "    </tr>\n",
       "    <tr>\n",
       "      <th>795681</th>\n",
       "      <td>12/01/2021</td>\n",
       "      <td>4745</td>\n",
       "      <td>FOR</td>\n",
       "      <td>01</td>\n",
       "      <td>12</td>\n",
       "      <td>2021</td>\n",
       "    </tr>\n",
       "    <tr>\n",
       "      <th>795682</th>\n",
       "      <td>12/01/2021</td>\n",
       "      <td>4745</td>\n",
       "      <td>FOR</td>\n",
       "      <td>01</td>\n",
       "      <td>12</td>\n",
       "      <td>2021</td>\n",
       "    </tr>\n",
       "  </tbody>\n",
       "</table>\n",
       "<p>1663595 rows × 6 columns</p>\n",
       "</div>"
      ],
      "text/plain": [
       "       transaction_date  transaction_flightnumber transaction_from   d   m  \\\n",
       "0            08/01/2021                      1213              POA  01  08   \n",
       "1            08/01/2021                      1213              POA  01  08   \n",
       "2            08/01/2021                      1213              POA  01  08   \n",
       "3            08/01/2021                      4030              POA  01  08   \n",
       "4            08/01/2021                      1213              POA  01  08   \n",
       "...                 ...                       ...              ...  ..  ..   \n",
       "795678       12/01/2021                      4247              FOR  01  12   \n",
       "795679       12/01/2021                      4745              FOR  01  12   \n",
       "795680       12/01/2021                      4745              FOR  01  12   \n",
       "795681       12/01/2021                      4745              FOR  01  12   \n",
       "795682       12/01/2021                      4745              FOR  01  12   \n",
       "\n",
       "           a  \n",
       "0       2021  \n",
       "1       2021  \n",
       "2       2021  \n",
       "3       2021  \n",
       "4       2021  \n",
       "...      ...  \n",
       "795678  2021  \n",
       "795679  2021  \n",
       "795680  2021  \n",
       "795681  2021  \n",
       "795682  2021  \n",
       "\n",
       "[1663595 rows x 6 columns]"
      ]
     },
     "execution_count": 15,
     "metadata": {},
     "output_type": "execute_result"
    }
   ],
   "source": [
    "partidas"
   ]
  },
  {
   "cell_type": "code",
   "execution_count": 16,
   "id": "f712b372",
   "metadata": {},
   "outputs": [
    {
     "name": "stderr",
     "output_type": "stream",
     "text": [
      "/home/valli/anaconda3/lib/python3.8/site-packages/pandas/util/_decorators.py:311: SettingWithCopyWarning: \n",
      "A value is trying to be set on a copy of a slice from a DataFrame\n",
      "\n",
      "See the caveats in the documentation: https://pandas.pydata.org/pandas-docs/stable/user_guide/indexing.html#returning-a-view-versus-a-copy\n",
      "  return func(*args, **kwargs)\n"
     ]
    }
   ],
   "source": [
    "partidas.drop_duplicates(inplace=True)"
   ]
  },
  {
   "cell_type": "code",
   "execution_count": 17,
   "id": "1173ce61",
   "metadata": {},
   "outputs": [
    {
     "data": {
      "text/html": [
       "<div>\n",
       "<style scoped>\n",
       "    .dataframe tbody tr th:only-of-type {\n",
       "        vertical-align: middle;\n",
       "    }\n",
       "\n",
       "    .dataframe tbody tr th {\n",
       "        vertical-align: top;\n",
       "    }\n",
       "\n",
       "    .dataframe thead th {\n",
       "        text-align: right;\n",
       "    }\n",
       "</style>\n",
       "<table border=\"1\" class=\"dataframe\">\n",
       "  <thead>\n",
       "    <tr style=\"text-align: right;\">\n",
       "      <th></th>\n",
       "      <th>transaction_date</th>\n",
       "      <th>transaction_flightnumber</th>\n",
       "      <th>transaction_from</th>\n",
       "      <th>d</th>\n",
       "      <th>m</th>\n",
       "      <th>a</th>\n",
       "    </tr>\n",
       "  </thead>\n",
       "  <tbody>\n",
       "    <tr>\n",
       "      <th>0</th>\n",
       "      <td>08/01/2021</td>\n",
       "      <td>1213</td>\n",
       "      <td>POA</td>\n",
       "      <td>01</td>\n",
       "      <td>08</td>\n",
       "      <td>2021</td>\n",
       "    </tr>\n",
       "    <tr>\n",
       "      <th>3</th>\n",
       "      <td>08/01/2021</td>\n",
       "      <td>4030</td>\n",
       "      <td>POA</td>\n",
       "      <td>01</td>\n",
       "      <td>08</td>\n",
       "      <td>2021</td>\n",
       "    </tr>\n",
       "    <tr>\n",
       "      <th>6</th>\n",
       "      <td>08/01/2021</td>\n",
       "      <td>4651</td>\n",
       "      <td>POA</td>\n",
       "      <td>01</td>\n",
       "      <td>08</td>\n",
       "      <td>2021</td>\n",
       "    </tr>\n",
       "    <tr>\n",
       "      <th>17</th>\n",
       "      <td>08/01/2021</td>\n",
       "      <td>3274</td>\n",
       "      <td>POA</td>\n",
       "      <td>01</td>\n",
       "      <td>08</td>\n",
       "      <td>2021</td>\n",
       "    </tr>\n",
       "    <tr>\n",
       "      <th>20</th>\n",
       "      <td>08/01/2021</td>\n",
       "      <td>4514</td>\n",
       "      <td>POA</td>\n",
       "      <td>01</td>\n",
       "      <td>08</td>\n",
       "      <td>2021</td>\n",
       "    </tr>\n",
       "  </tbody>\n",
       "</table>\n",
       "</div>"
      ],
      "text/plain": [
       "   transaction_date  transaction_flightnumber transaction_from   d   m     a\n",
       "0        08/01/2021                      1213              POA  01  08  2021\n",
       "3        08/01/2021                      4030              POA  01  08  2021\n",
       "6        08/01/2021                      4651              POA  01  08  2021\n",
       "17       08/01/2021                      3274              POA  01  08  2021\n",
       "20       08/01/2021                      4514              POA  01  08  2021"
      ]
     },
     "execution_count": 17,
     "metadata": {},
     "output_type": "execute_result"
    }
   ],
   "source": [
    "partidas.head()"
   ]
  },
  {
   "cell_type": "code",
   "execution_count": 29,
   "id": "1ae2c893",
   "metadata": {},
   "outputs": [
    {
     "data": {
      "text/html": [
       "<div>\n",
       "<style scoped>\n",
       "    .dataframe tbody tr th:only-of-type {\n",
       "        vertical-align: middle;\n",
       "    }\n",
       "\n",
       "    .dataframe tbody tr th {\n",
       "        vertical-align: top;\n",
       "    }\n",
       "\n",
       "    .dataframe thead th {\n",
       "        text-align: right;\n",
       "    }\n",
       "</style>\n",
       "<table border=\"1\" class=\"dataframe\">\n",
       "  <thead>\n",
       "    <tr style=\"text-align: right;\">\n",
       "      <th></th>\n",
       "      <th>transaction_date</th>\n",
       "      <th>transaction_flightnumber</th>\n",
       "      <th>transaction_from</th>\n",
       "      <th>d</th>\n",
       "      <th>m</th>\n",
       "      <th>a</th>\n",
       "    </tr>\n",
       "  </thead>\n",
       "  <tbody>\n",
       "  </tbody>\n",
       "</table>\n",
       "</div>"
      ],
      "text/plain": [
       "Empty DataFrame\n",
       "Columns: [transaction_date, transaction_flightnumber, transaction_from, d, m, a]\n",
       "Index: []"
      ]
     },
     "execution_count": 29,
     "metadata": {},
     "output_type": "execute_result"
    }
   ],
   "source": [
    "partidas[partidas['m'] == 1]"
   ]
  },
  {
   "cell_type": "code",
   "execution_count": null,
   "id": "7d745b20",
   "metadata": {},
   "outputs": [],
   "source": []
  },
  {
   "cell_type": "code",
   "execution_count": null,
   "id": "a2989a8a",
   "metadata": {},
   "outputs": [],
   "source": [
    "partidas['transaction_flightnumber'].count()"
   ]
  },
  {
   "cell_type": "code",
   "execution_count": 18,
   "id": "bd24d144",
   "metadata": {},
   "outputs": [
    {
     "data": {
      "text/html": [
       "<div>\n",
       "<style scoped>\n",
       "    .dataframe tbody tr th:only-of-type {\n",
       "        vertical-align: middle;\n",
       "    }\n",
       "\n",
       "    .dataframe tbody tr th {\n",
       "        vertical-align: top;\n",
       "    }\n",
       "\n",
       "    .dataframe thead th {\n",
       "        text-align: right;\n",
       "    }\n",
       "</style>\n",
       "<table border=\"1\" class=\"dataframe\">\n",
       "  <thead>\n",
       "    <tr style=\"text-align: right;\">\n",
       "      <th></th>\n",
       "      <th></th>\n",
       "      <th></th>\n",
       "      <th>transaction_date</th>\n",
       "      <th>transaction_flightnumber</th>\n",
       "      <th>a</th>\n",
       "    </tr>\n",
       "    <tr>\n",
       "      <th>m</th>\n",
       "      <th>d</th>\n",
       "      <th>transaction_from</th>\n",
       "      <th></th>\n",
       "      <th></th>\n",
       "      <th></th>\n",
       "    </tr>\n",
       "  </thead>\n",
       "  <tbody>\n",
       "    <tr>\n",
       "      <th rowspan=\"5\" valign=\"top\">01</th>\n",
       "      <th>02</th>\n",
       "      <th>FOR</th>\n",
       "      <td>1</td>\n",
       "      <td>1</td>\n",
       "      <td>1</td>\n",
       "    </tr>\n",
       "    <tr>\n",
       "      <th>03</th>\n",
       "      <th>FOR</th>\n",
       "      <td>29</td>\n",
       "      <td>29</td>\n",
       "      <td>29</td>\n",
       "    </tr>\n",
       "    <tr>\n",
       "      <th>04</th>\n",
       "      <th>FOR</th>\n",
       "      <td>53</td>\n",
       "      <td>53</td>\n",
       "      <td>53</td>\n",
       "    </tr>\n",
       "    <tr>\n",
       "      <th>05</th>\n",
       "      <th>FOR</th>\n",
       "      <td>51</td>\n",
       "      <td>51</td>\n",
       "      <td>51</td>\n",
       "    </tr>\n",
       "    <tr>\n",
       "      <th>06</th>\n",
       "      <th>FOR</th>\n",
       "      <td>53</td>\n",
       "      <td>53</td>\n",
       "      <td>53</td>\n",
       "    </tr>\n",
       "    <tr>\n",
       "      <th>...</th>\n",
       "      <th>...</th>\n",
       "      <th>...</th>\n",
       "      <td>...</td>\n",
       "      <td>...</td>\n",
       "      <td>...</td>\n",
       "    </tr>\n",
       "    <tr>\n",
       "      <th rowspan=\"5\" valign=\"top\">9</th>\n",
       "      <th>28</th>\n",
       "      <th>POA</th>\n",
       "      <td>65</td>\n",
       "      <td>65</td>\n",
       "      <td>65</td>\n",
       "    </tr>\n",
       "    <tr>\n",
       "      <th rowspan=\"2\" valign=\"top\">29</th>\n",
       "      <th>FOR</th>\n",
       "      <td>40</td>\n",
       "      <td>40</td>\n",
       "      <td>40</td>\n",
       "    </tr>\n",
       "    <tr>\n",
       "      <th>POA</th>\n",
       "      <td>66</td>\n",
       "      <td>66</td>\n",
       "      <td>66</td>\n",
       "    </tr>\n",
       "    <tr>\n",
       "      <th rowspan=\"2\" valign=\"top\">30</th>\n",
       "      <th>FOR</th>\n",
       "      <td>41</td>\n",
       "      <td>41</td>\n",
       "      <td>41</td>\n",
       "    </tr>\n",
       "    <tr>\n",
       "      <th>POA</th>\n",
       "      <td>65</td>\n",
       "      <td>65</td>\n",
       "      <td>65</td>\n",
       "    </tr>\n",
       "  </tbody>\n",
       "</table>\n",
       "<p>280 rows × 3 columns</p>\n",
       "</div>"
      ],
      "text/plain": [
       "                        transaction_date  transaction_flightnumber   a\n",
       "m  d  transaction_from                                                \n",
       "01 02 FOR                              1                         1   1\n",
       "   03 FOR                             29                        29  29\n",
       "   04 FOR                             53                        53  53\n",
       "   05 FOR                             51                        51  51\n",
       "   06 FOR                             53                        53  53\n",
       "...                                  ...                       ...  ..\n",
       "9  28 POA                             65                        65  65\n",
       "   29 FOR                             40                        40  40\n",
       "      POA                             66                        66  66\n",
       "   30 FOR                             41                        41  41\n",
       "      POA                             65                        65  65\n",
       "\n",
       "[280 rows x 3 columns]"
      ]
     },
     "execution_count": 18,
     "metadata": {},
     "output_type": "execute_result"
    }
   ],
   "source": [
    "partidas.groupby(by=['m','d', 'transaction_from']).count()"
   ]
  },
  {
   "cell_type": "code",
   "execution_count": null,
   "id": "d4304ae5",
   "metadata": {},
   "outputs": [],
   "source": []
  }
 ],
 "metadata": {
  "kernelspec": {
   "display_name": "Python 3 (ipykernel)",
   "language": "python",
   "name": "python3"
  },
  "language_info": {
   "codemirror_mode": {
    "name": "ipython",
    "version": 3
   },
   "file_extension": ".py",
   "mimetype": "text/x-python",
   "name": "python",
   "nbconvert_exporter": "python",
   "pygments_lexer": "ipython3",
   "version": "3.8.8"
  }
 },
 "nbformat": 4,
 "nbformat_minor": 5
}
