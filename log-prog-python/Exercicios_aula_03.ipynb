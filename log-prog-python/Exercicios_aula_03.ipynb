{
  "nbformat": 4,
  "nbformat_minor": 0,
  "metadata": {
    "colab": {
      "name": "Cópia de Exercicios aula 3.ipynb",
      "provenance": []
    },
    "kernelspec": {
      "name": "python3",
      "display_name": "Python 3"
    },
    "language_info": {
      "name": "python"
    }
  },
  "cells": [
    {
      "cell_type": "markdown",
      "metadata": {
        "id": "tyPq9sGZHPkd"
      },
      "source": [
        "Algoritmo conta de 10 a 20, de 2 em 2\n"
      ]
    },
    {
      "cell_type": "code",
      "metadata": {
        "colab": {
          "base_uri": "https://localhost:8080/"
        },
        "id": "jGtNekPjHH9K",
        "outputId": "770c54a5-a28c-4bd6-97ac-40c560a35f78"
      },
      "source": [
        "for numero in range(10, 21, 2):\n",
        "  print(numero, end=' ')"
      ],
      "execution_count": null,
      "outputs": [
        {
          "output_type": "stream",
          "name": "stdout",
          "text": [
            "10 12 14 16 18 20 "
          ]
        }
      ]
    },
    {
      "cell_type": "markdown",
      "metadata": {
        "id": "-MXDq9TXI7E-"
      },
      "source": [
        "Algoritmo para imprimir numeros primos entre 2 e 50:"
      ]
    },
    {
      "cell_type": "code",
      "metadata": {
        "colab": {
          "base_uri": "https://localhost:8080/"
        },
        "id": "a6eXKqX8JDL-",
        "outputId": "33b5b31c-203c-4763-aeef-abea87c025ef"
      },
      "source": [
        "for numero in range(2, 51):\n",
        "  # essa variavel controlando a qtd de div, \n",
        "  # uma vez que sabemos que um nro primo é divisivel por 1 e por ele mesmo\n",
        "  quantidade_divisoes = 0\n",
        "\n",
        "  # vai percorrer de 1 até o proprio numero\n",
        "  for divisor in range(1, numero + 1):\n",
        "    # testa se o resto da div é igual a zero, se for incrementa em 1 a variavel de controle\n",
        "    if numero % divisor == 0:\n",
        "      quantidade_divisoes += 1\n",
        " \n",
        "  # aplica o teste para assegurar que somente os numeros que tiverem apenas duas \n",
        "  # divisoes por zero sejam impressos para o usuario\n",
        "  if quantidade_divisoes == 2:\n",
        "    print(numero, end=' ')"
      ],
      "execution_count": null,
      "outputs": [
        {
          "output_type": "stream",
          "name": "stdout",
          "text": [
            "2 3 5 7 11 13 17 19 23 29 31 37 41 43 47 "
          ]
        }
      ]
    },
    {
      "cell_type": "markdown",
      "metadata": {
        "id": "bKBXGNOkPd96"
      },
      "source": [
        "Imprimir quais anos são bissextos entre duas datas.\n",
        "\n",
        "Regras gerais para achar anos bissextos:\n",
        "*   De 4 em 4 anos é ano bissexto.\n",
        "*   De 100 em 100 anos não é ano bissexto.\n",
        "*   De 400 em 400 anos é ano bissexto.\n",
        "*   Prevalecem as últimas regras sobre as primeiras.\n",
        "\n",
        "https://mundoeducacao.uol.com.br/matematica/anos-bissextos.htm"
      ]
    },
    {
      "cell_type": "code",
      "metadata": {
        "colab": {
          "base_uri": "https://localhost:8080/"
        },
        "id": "NWHlu9wBPdR8",
        "outputId": "119a6233-74f0-48d6-a925-62066f59faa8"
      },
      "source": [
        "ano_ini = int(input('ano de inicio: '))\n",
        "ano_fim = int(input('ano de fim   : '))"
      ],
      "execution_count": null,
      "outputs": [
        {
          "name": "stdout",
          "output_type": "stream",
          "text": [
            "ano de inicio: 2000\n",
            "ano de fim   : 2008\n"
          ]
        }
      ]
    },
    {
      "cell_type": "code",
      "metadata": {
        "colab": {
          "base_uri": "https://localhost:8080/"
        },
        "id": "SmqT4cbpRNGa",
        "outputId": "fa6e930c-6933-4428-8697-3126f2c7161e"
      },
      "source": [
        "contador = 0\n",
        "for ano in range(ano_ini, ano_fim + 1):\n",
        "  if (ano % 4 == 0 and ano % 100 != 0) or ano % 400 == 0:\n",
        "    print(ano, end=' ')\n",
        "    contador +=1\n",
        "print('\\nDentre as datas, temos um total de', contador, 'anos bissextos')"
      ],
      "execution_count": null,
      "outputs": [
        {
          "output_type": "stream",
          "name": "stdout",
          "text": [
            "2000 2004 2008 \n",
            "Dentre as datas, temos um total de 3 anos bissextos\n"
          ]
        }
      ]
    },
    {
      "cell_type": "markdown",
      "metadata": {
        "id": "_38tbRh8jl2y"
      },
      "source": [
        "Receber uma entrada de texto e substituir todas as vogais por um _, seja a vogal minuscula ou maiuscula."
      ]
    },
    {
      "cell_type": "code",
      "metadata": {
        "colab": {
          "base_uri": "https://localhost:8080/"
        },
        "id": "0nvrHpCDjxrr",
        "outputId": "288eb2fb-386a-4dce-ee0e-e56235dd1f71"
      },
      "source": [
        "palavra = input('Digite uma frase: ')"
      ],
      "execution_count": null,
      "outputs": [
        {
          "name": "stdout",
          "output_type": "stream",
          "text": [
            "Digite uma frase: Eu quero aprender Python\n"
          ]
        }
      ]
    },
    {
      "cell_type": "code",
      "metadata": {
        "colab": {
          "base_uri": "https://localhost:8080/"
        },
        "id": "M3XsjPLIj_Xg",
        "outputId": "fab9b4fe-3008-41af-c2dc-7256097580b3"
      },
      "source": [
        "print(palavra)"
      ],
      "execution_count": null,
      "outputs": [
        {
          "output_type": "stream",
          "name": "stdout",
          "text": [
            "Eu quero aprender Python\n"
          ]
        }
      ]
    },
    {
      "cell_type": "code",
      "metadata": {
        "colab": {
          "base_uri": "https://localhost:8080/"
        },
        "id": "8dEzy2dGkE-Q",
        "outputId": "9127669d-00be-4430-e587-623088452f58"
      },
      "source": [
        "nova_palavra = ''\n",
        "vogais = 'aeiou'\n",
        "\n",
        "for letra in palavra:\n",
        "  if (letra in vogais) or (letra in vogais.upper()):\n",
        "    nova_palavra += '_'\n",
        "  else:\n",
        "    nova_palavra += letra\n",
        "print(nova_palavra)"
      ],
      "execution_count": null,
      "outputs": [
        {
          "output_type": "stream",
          "name": "stdout",
          "text": [
            "__ q__r_ _pr_nd_r Pyth_n\n"
          ]
        }
      ]
    }
  ]
}