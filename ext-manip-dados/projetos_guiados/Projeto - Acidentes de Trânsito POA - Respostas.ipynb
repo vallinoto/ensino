{
 "cells": [
  {
   "cell_type": "markdown",
   "id": "7a938254",
   "metadata": {},
   "source": [
    "# Análise dos acidentes de trânsito de Porto Alegre"
   ]
  },
  {
   "cell_type": "markdown",
   "id": "71c10d40",
   "metadata": {},
   "source": [
    "## Objetivo"
   ]
  },
  {
   "cell_type": "markdown",
   "id": "2b90f0ce",
   "metadata": {},
   "source": [
    "Você atua no departamento de análise de dados da EPTC e o time de gestores(as) precisa de algumas informações sobre os acidentes para avaliar necessidades de ações para evitar novas ocorrências.\n",
    "\n",
    "Assim, com base nos registros disponibilizados, você terá que responder as seguintes perguntas:"
   ]
  },
  {
   "cell_type": "markdown",
   "id": "7f43567d",
   "metadata": {},
   "source": [
    "**Perguntas**\n",
    "\n",
    "\n",
    "1.   Como está a evolução dos acidentes nos últimos anos?\n",
    "2.   O número de acidentes diminuiu de 2019 para 2020?\n",
    "3.   Quais são os tipos de acidentes com maior ocorrência?\n",
    "4.   Qual a frequência de óbitos em acidentes nos últimos anos?\n",
    "5.   Qual o tipo de acidente com maior número de óbitos?\n"
   ]
  },
  {
   "cell_type": "markdown",
   "id": "228de317",
   "metadata": {},
   "source": [
    "Adicionalmente, você é instigado a realizar uma apresentação, com os locais dos acidentes ocorridos ao longo desse ano.\n",
    "\n",
    "**Nota**\n",
    "\n",
    "Abuse das visões gráficas para embasar sua análise.\n",
    "https://dadosabertos.poa.br/dataset/acidentes-de-transito-acidentes"
   ]
  },
  {
   "cell_type": "code",
   "execution_count": 1,
   "id": "fe2e2ebd",
   "metadata": {},
   "outputs": [],
   "source": [
    "import warnings\n",
    "warnings.filterwarnings('ignore')"
   ]
  },
  {
   "cell_type": "code",
   "execution_count": 2,
   "id": "51734cb1",
   "metadata": {},
   "outputs": [],
   "source": [
    "import pandas as pd"
   ]
  },
  {
   "cell_type": "code",
   "execution_count": 3,
   "id": "eabaebc8",
   "metadata": {},
   "outputs": [],
   "source": [
    "URL = 'https://dadosabertos.poa.br/dataset/d6cfbe48-ee1f-450f-87f5-9426f6a09328/resource/b56f8123-716a-4893-9348-23945f1ea1b9/download/cat_acidentes.csv'\n",
    "\n",
    "df_raw = pd.read_csv(URL, sep=';')"
   ]
  },
  {
   "cell_type": "code",
   "execution_count": 4,
   "id": "d7f98559",
   "metadata": {},
   "outputs": [
    {
     "data": {
      "text/plain": [
       "Index(['data_extracao', 'predial1', 'queda_arr', 'data', 'feridos',\n",
       "       'feridos_gr', 'mortes', 'morte_post', 'fatais', 'auto', 'taxi',\n",
       "       'lotacao', 'onibus_urb', 'onibus_met', 'onibus_int', 'caminhao', 'moto',\n",
       "       'carroca', 'bicicleta', 'outro', 'cont_vit', 'ups', 'patinete',\n",
       "       'idacidente', 'longitude', 'latitude', 'log1', 'log2', 'tipo_acid',\n",
       "       'dia_sem', 'hora', 'noite_dia', 'regiao', 'consorcio'],\n",
       "      dtype='object')"
      ]
     },
     "execution_count": 4,
     "metadata": {},
     "output_type": "execute_result"
    }
   ],
   "source": [
    "df_raw.columns"
   ]
  },
  {
   "cell_type": "code",
   "execution_count": 6,
   "id": "842eab53",
   "metadata": {},
   "outputs": [
    {
     "data": {
      "text/plain": [
       "data_extracao     object\n",
       "predial1           int64\n",
       "queda_arr        float64\n",
       "data              object\n",
       "feridos            int64\n",
       "feridos_gr         int64\n",
       "mortes             int64\n",
       "morte_post         int64\n",
       "fatais             int64\n",
       "auto               int64\n",
       "taxi               int64\n",
       "lotacao            int64\n",
       "onibus_urb         int64\n",
       "onibus_met         int64\n",
       "onibus_int         int64\n",
       "caminhao           int64\n",
       "moto               int64\n",
       "carroca            int64\n",
       "bicicleta          int64\n",
       "outro              int64\n",
       "cont_vit           int64\n",
       "ups                int64\n",
       "patinete           int64\n",
       "idacidente         int64\n",
       "longitude        float64\n",
       "latitude         float64\n",
       "log1              object\n",
       "log2              object\n",
       "tipo_acid         object\n",
       "dia_sem           object\n",
       "hora              object\n",
       "noite_dia         object\n",
       "regiao            object\n",
       "consorcio         object\n",
       "dtype: object"
      ]
     },
     "execution_count": 6,
     "metadata": {},
     "output_type": "execute_result"
    }
   ],
   "source": [
    "df_raw.dtypes"
   ]
  },
  {
   "cell_type": "code",
   "execution_count": 7,
   "id": "410a3619",
   "metadata": {},
   "outputs": [
    {
     "data": {
      "text/plain": [
       "2016-08-29 00:00:00    69\n",
       "2016-04-11 00:00:00    67\n",
       "2018-11-19 00:00:00    67\n",
       "2016-03-18 00:00:00    66\n",
       "2016-10-06 00:00:00    66\n",
       "                       ..\n",
       "2021-12-14 00:00:00     1\n",
       "2021-12-19 00:00:00     1\n",
       "2018-11-04 01:00:00     1\n",
       "3031-04-03 00:00:00     1\n",
       "5021-08-06 00:00:00     1\n",
       "Name: data, Length: 2166, dtype: int64"
      ]
     },
     "execution_count": 7,
     "metadata": {},
     "output_type": "execute_result"
    }
   ],
   "source": [
    "df_raw['data'].value_counts()"
   ]
  },
  {
   "cell_type": "code",
   "execution_count": 8,
   "id": "9be6f7ea",
   "metadata": {},
   "outputs": [
    {
     "data": {
      "text/html": [
       "<div>\n",
       "<style scoped>\n",
       "    .dataframe tbody tr th:only-of-type {\n",
       "        vertical-align: middle;\n",
       "    }\n",
       "\n",
       "    .dataframe tbody tr th {\n",
       "        vertical-align: top;\n",
       "    }\n",
       "\n",
       "    .dataframe thead th {\n",
       "        text-align: right;\n",
       "    }\n",
       "</style>\n",
       "<table border=\"1\" class=\"dataframe\">\n",
       "  <thead>\n",
       "    <tr style=\"text-align: right;\">\n",
       "      <th></th>\n",
       "      <th>data_extracao</th>\n",
       "      <th>predial1</th>\n",
       "      <th>queda_arr</th>\n",
       "      <th>data</th>\n",
       "      <th>feridos</th>\n",
       "      <th>feridos_gr</th>\n",
       "      <th>mortes</th>\n",
       "      <th>morte_post</th>\n",
       "      <th>fatais</th>\n",
       "      <th>auto</th>\n",
       "      <th>...</th>\n",
       "      <th>longitude</th>\n",
       "      <th>latitude</th>\n",
       "      <th>log1</th>\n",
       "      <th>log2</th>\n",
       "      <th>tipo_acid</th>\n",
       "      <th>dia_sem</th>\n",
       "      <th>hora</th>\n",
       "      <th>noite_dia</th>\n",
       "      <th>regiao</th>\n",
       "      <th>consorcio</th>\n",
       "    </tr>\n",
       "  </thead>\n",
       "  <tbody>\n",
       "    <tr>\n",
       "      <th>62986</th>\n",
       "      <td>2021-12-01 01:35:32</td>\n",
       "      <td>745</td>\n",
       "      <td>0.0</td>\n",
       "      <td>3031-04-03 00:00:00</td>\n",
       "      <td>1</td>\n",
       "      <td>0</td>\n",
       "      <td>0</td>\n",
       "      <td>0</td>\n",
       "      <td>0</td>\n",
       "      <td>1</td>\n",
       "      <td>...</td>\n",
       "      <td>-51.191227</td>\n",
       "      <td>-30.189580</td>\n",
       "      <td>ESTR PONTA GROSSA</td>\n",
       "      <td>NaN</td>\n",
       "      <td>ABALROAMENTO</td>\n",
       "      <td>DOMINGO</td>\n",
       "      <td>17:30:00.0000000</td>\n",
       "      <td>DIA</td>\n",
       "      <td>SUL</td>\n",
       "      <td>NaN</td>\n",
       "    </tr>\n",
       "    <tr>\n",
       "      <th>67888</th>\n",
       "      <td>2021-12-01 01:35:32</td>\n",
       "      <td>12</td>\n",
       "      <td>0.0</td>\n",
       "      <td>5021-08-06 00:00:00</td>\n",
       "      <td>0</td>\n",
       "      <td>0</td>\n",
       "      <td>0</td>\n",
       "      <td>0</td>\n",
       "      <td>0</td>\n",
       "      <td>1</td>\n",
       "      <td>...</td>\n",
       "      <td>-51.176658</td>\n",
       "      <td>-30.039595</td>\n",
       "      <td>AV PALMEIRA</td>\n",
       "      <td>NaN</td>\n",
       "      <td>ABALROAMENTO</td>\n",
       "      <td>SEGUNDA-FEIRA</td>\n",
       "      <td>12:00:00.0000000</td>\n",
       "      <td>DIA</td>\n",
       "      <td>LESTE</td>\n",
       "      <td>NaN</td>\n",
       "    </tr>\n",
       "    <tr>\n",
       "      <th>69795</th>\n",
       "      <td>2021-12-01 01:35:32</td>\n",
       "      <td>250</td>\n",
       "      <td>0.0</td>\n",
       "      <td>2202-09-30 00:00:00</td>\n",
       "      <td>0</td>\n",
       "      <td>0</td>\n",
       "      <td>0</td>\n",
       "      <td>0</td>\n",
       "      <td>0</td>\n",
       "      <td>1</td>\n",
       "      <td>...</td>\n",
       "      <td>-51.150160</td>\n",
       "      <td>-30.063864</td>\n",
       "      <td>AV ANTONIO CARVALHO</td>\n",
       "      <td>AV IPIRANGA</td>\n",
       "      <td>ABALROAMENTO</td>\n",
       "      <td>QUINTA-FEIRA</td>\n",
       "      <td>08:40:00.0000000</td>\n",
       "      <td>DIA</td>\n",
       "      <td>LESTE</td>\n",
       "      <td>NaN</td>\n",
       "    </tr>\n",
       "  </tbody>\n",
       "</table>\n",
       "<p>3 rows × 34 columns</p>\n",
       "</div>"
      ],
      "text/plain": [
       "             data_extracao  predial1  queda_arr                 data  feridos  \\\n",
       "62986  2021-12-01 01:35:32       745        0.0  3031-04-03 00:00:00        1   \n",
       "67888  2021-12-01 01:35:32        12        0.0  5021-08-06 00:00:00        0   \n",
       "69795  2021-12-01 01:35:32       250        0.0  2202-09-30 00:00:00        0   \n",
       "\n",
       "       feridos_gr  mortes  morte_post  fatais  auto  ...  longitude  \\\n",
       "62986           0       0           0       0     1  ... -51.191227   \n",
       "67888           0       0           0       0     1  ... -51.176658   \n",
       "69795           0       0           0       0     1  ... -51.150160   \n",
       "\n",
       "        latitude                  log1         log2     tipo_acid  \\\n",
       "62986 -30.189580    ESTR PONTA GROSSA           NaN  ABALROAMENTO   \n",
       "67888 -30.039595          AV PALMEIRA           NaN  ABALROAMENTO   \n",
       "69795 -30.063864  AV ANTONIO CARVALHO   AV IPIRANGA  ABALROAMENTO   \n",
       "\n",
       "             dia_sem              hora  noite_dia  regiao  consorcio  \n",
       "62986        DOMINGO  17:30:00.0000000        DIA     SUL        NaN  \n",
       "67888  SEGUNDA-FEIRA  12:00:00.0000000        DIA   LESTE        NaN  \n",
       "69795   QUINTA-FEIRA  08:40:00.0000000        DIA   LESTE        NaN  \n",
       "\n",
       "[3 rows x 34 columns]"
      ]
     },
     "execution_count": 8,
     "metadata": {},
     "output_type": "execute_result"
    }
   ],
   "source": [
    "df_raw[ (df_raw['data'] == '3031-04-03 00:00:00') | (df_raw['data'] == '5021-08-06 00:00:00' ) | \\\n",
    "        (df_raw['data'] == '2202-09-30 00:00:00') ]"
   ]
  },
  {
   "cell_type": "code",
   "execution_count": 9,
   "id": "f6b01769",
   "metadata": {},
   "outputs": [],
   "source": [
    "drop_lines = df_raw[ (df_raw['data'] == '3031-04-03 00:00:00') | (df_raw['data'] == '5021-08-06 00:00:00' ) | \\\n",
    "                     (df_raw['data'] == '2202-09-30 00:00:00') ].index"
   ]
  },
  {
   "cell_type": "code",
   "execution_count": 10,
   "id": "d8c105bd",
   "metadata": {},
   "outputs": [],
   "source": [
    "df_analise = df_raw.drop(index=drop_lines, axis=0)"
   ]
  },
  {
   "cell_type": "code",
   "execution_count": 11,
   "id": "659c198d",
   "metadata": {},
   "outputs": [
    {
     "data": {
      "text/html": [
       "<div>\n",
       "<style scoped>\n",
       "    .dataframe tbody tr th:only-of-type {\n",
       "        vertical-align: middle;\n",
       "    }\n",
       "\n",
       "    .dataframe tbody tr th {\n",
       "        vertical-align: top;\n",
       "    }\n",
       "\n",
       "    .dataframe thead th {\n",
       "        text-align: right;\n",
       "    }\n",
       "</style>\n",
       "<table border=\"1\" class=\"dataframe\">\n",
       "  <thead>\n",
       "    <tr style=\"text-align: right;\">\n",
       "      <th></th>\n",
       "      <th>data_extracao</th>\n",
       "      <th>predial1</th>\n",
       "      <th>queda_arr</th>\n",
       "      <th>data</th>\n",
       "      <th>feridos</th>\n",
       "      <th>feridos_gr</th>\n",
       "      <th>mortes</th>\n",
       "      <th>morte_post</th>\n",
       "      <th>fatais</th>\n",
       "      <th>auto</th>\n",
       "      <th>...</th>\n",
       "      <th>longitude</th>\n",
       "      <th>latitude</th>\n",
       "      <th>log1</th>\n",
       "      <th>log2</th>\n",
       "      <th>tipo_acid</th>\n",
       "      <th>dia_sem</th>\n",
       "      <th>hora</th>\n",
       "      <th>noite_dia</th>\n",
       "      <th>regiao</th>\n",
       "      <th>consorcio</th>\n",
       "    </tr>\n",
       "  </thead>\n",
       "  <tbody>\n",
       "    <tr>\n",
       "      <th>0</th>\n",
       "      <td>2021-12-01 01:35:32</td>\n",
       "      <td>0</td>\n",
       "      <td>0.0</td>\n",
       "      <td>2020-10-17 00:00:00</td>\n",
       "      <td>1</td>\n",
       "      <td>0</td>\n",
       "      <td>0</td>\n",
       "      <td>0</td>\n",
       "      <td>0</td>\n",
       "      <td>3</td>\n",
       "      <td>...</td>\n",
       "      <td>0.000000</td>\n",
       "      <td>0.000000</td>\n",
       "      <td>R MARCOS MOREIRA</td>\n",
       "      <td>R GASTON ENGLERT</td>\n",
       "      <td>ABALROAMENTO</td>\n",
       "      <td>SÁBADO</td>\n",
       "      <td>19:00:00.0000000</td>\n",
       "      <td>NOITE</td>\n",
       "      <td>NORTE</td>\n",
       "      <td>NaN</td>\n",
       "    </tr>\n",
       "    <tr>\n",
       "      <th>1</th>\n",
       "      <td>2021-12-01 01:35:32</td>\n",
       "      <td>8487</td>\n",
       "      <td>0.0</td>\n",
       "      <td>2016-01-01 00:00:00</td>\n",
       "      <td>0</td>\n",
       "      <td>0</td>\n",
       "      <td>0</td>\n",
       "      <td>1</td>\n",
       "      <td>1</td>\n",
       "      <td>1</td>\n",
       "      <td>...</td>\n",
       "      <td>-51.095216</td>\n",
       "      <td>-30.134588</td>\n",
       "      <td>ESTR JOAO DE OLIVEIRA REMIAO</td>\n",
       "      <td>NaN</td>\n",
       "      <td>CHOQUE</td>\n",
       "      <td>SEXTA-FEIRA</td>\n",
       "      <td>12:00:00.0000000</td>\n",
       "      <td>DIA</td>\n",
       "      <td>LESTE</td>\n",
       "      <td>NaN</td>\n",
       "    </tr>\n",
       "    <tr>\n",
       "      <th>2</th>\n",
       "      <td>2021-12-01 01:35:32</td>\n",
       "      <td>0</td>\n",
       "      <td>0.0</td>\n",
       "      <td>2016-01-02 00:00:00</td>\n",
       "      <td>1</td>\n",
       "      <td>0</td>\n",
       "      <td>0</td>\n",
       "      <td>0</td>\n",
       "      <td>0</td>\n",
       "      <td>0</td>\n",
       "      <td>...</td>\n",
       "      <td>-51.200627</td>\n",
       "      <td>-30.004450</td>\n",
       "      <td>AV EDVALDO PEREIRA PAIVA</td>\n",
       "      <td>NaN</td>\n",
       "      <td>QUEDA</td>\n",
       "      <td>SÁBADO</td>\n",
       "      <td>06:30:00.0000000</td>\n",
       "      <td>DIA</td>\n",
       "      <td>NORTE</td>\n",
       "      <td>NaN</td>\n",
       "    </tr>\n",
       "    <tr>\n",
       "      <th>3</th>\n",
       "      <td>2021-12-01 01:35:32</td>\n",
       "      <td>240</td>\n",
       "      <td>0.0</td>\n",
       "      <td>2016-01-02 00:00:00</td>\n",
       "      <td>1</td>\n",
       "      <td>0</td>\n",
       "      <td>0</td>\n",
       "      <td>0</td>\n",
       "      <td>0</td>\n",
       "      <td>0</td>\n",
       "      <td>...</td>\n",
       "      <td>-51.218421</td>\n",
       "      <td>-30.046960</td>\n",
       "      <td>AV ERICO VERISSIMO</td>\n",
       "      <td>NaN</td>\n",
       "      <td>ABALROAMENTO</td>\n",
       "      <td>SÁBADO</td>\n",
       "      <td>18:30:00.0000000</td>\n",
       "      <td>NOITE</td>\n",
       "      <td>CENTRO</td>\n",
       "      <td>STS</td>\n",
       "    </tr>\n",
       "    <tr>\n",
       "      <th>4</th>\n",
       "      <td>2021-12-01 01:35:32</td>\n",
       "      <td>2084</td>\n",
       "      <td>0.0</td>\n",
       "      <td>2016-01-02 00:00:00</td>\n",
       "      <td>3</td>\n",
       "      <td>0</td>\n",
       "      <td>0</td>\n",
       "      <td>0</td>\n",
       "      <td>0</td>\n",
       "      <td>1</td>\n",
       "      <td>...</td>\n",
       "      <td>-51.129850</td>\n",
       "      <td>-30.093210</td>\n",
       "      <td>ESTR JOAO DE OLIVEIRA REMIAO</td>\n",
       "      <td>NaN</td>\n",
       "      <td>CHOQUE</td>\n",
       "      <td>SÁBADO</td>\n",
       "      <td>20:15:00.0000000</td>\n",
       "      <td>NOITE</td>\n",
       "      <td>LESTE</td>\n",
       "      <td>NaN</td>\n",
       "    </tr>\n",
       "    <tr>\n",
       "      <th>...</th>\n",
       "      <td>...</td>\n",
       "      <td>...</td>\n",
       "      <td>...</td>\n",
       "      <td>...</td>\n",
       "      <td>...</td>\n",
       "      <td>...</td>\n",
       "      <td>...</td>\n",
       "      <td>...</td>\n",
       "      <td>...</td>\n",
       "      <td>...</td>\n",
       "      <td>...</td>\n",
       "      <td>...</td>\n",
       "      <td>...</td>\n",
       "      <td>...</td>\n",
       "      <td>...</td>\n",
       "      <td>...</td>\n",
       "      <td>...</td>\n",
       "      <td>...</td>\n",
       "      <td>...</td>\n",
       "      <td>...</td>\n",
       "      <td>...</td>\n",
       "    </tr>\n",
       "    <tr>\n",
       "      <th>72244</th>\n",
       "      <td>2021-12-01 01:35:32</td>\n",
       "      <td>1300</td>\n",
       "      <td>0.0</td>\n",
       "      <td>2021-11-19 00:00:00</td>\n",
       "      <td>0</td>\n",
       "      <td>0</td>\n",
       "      <td>0</td>\n",
       "      <td>0</td>\n",
       "      <td>0</td>\n",
       "      <td>2</td>\n",
       "      <td>...</td>\n",
       "      <td>-51.213743</td>\n",
       "      <td>-30.047274</td>\n",
       "      <td>AV IPIRANGA</td>\n",
       "      <td>AV AZENHA</td>\n",
       "      <td>ABALROAMENTO</td>\n",
       "      <td>SEXTA-FEIRA</td>\n",
       "      <td>14:40:00.0000000</td>\n",
       "      <td>DIA</td>\n",
       "      <td>CENTRO</td>\n",
       "      <td>NaN</td>\n",
       "    </tr>\n",
       "    <tr>\n",
       "      <th>72245</th>\n",
       "      <td>2021-12-01 01:35:32</td>\n",
       "      <td>0</td>\n",
       "      <td>0.0</td>\n",
       "      <td>2021-11-25 00:00:00</td>\n",
       "      <td>0</td>\n",
       "      <td>0</td>\n",
       "      <td>0</td>\n",
       "      <td>0</td>\n",
       "      <td>0</td>\n",
       "      <td>2</td>\n",
       "      <td>...</td>\n",
       "      <td>-51.158859</td>\n",
       "      <td>-30.027660</td>\n",
       "      <td>AV VERISSIMO DE AMARAL</td>\n",
       "      <td>R JUNCAL</td>\n",
       "      <td>ABALROAMENTO</td>\n",
       "      <td>QUINTA-FEIRA</td>\n",
       "      <td>12:30:00.0000000</td>\n",
       "      <td>DIA</td>\n",
       "      <td>NORTE</td>\n",
       "      <td>NaN</td>\n",
       "    </tr>\n",
       "    <tr>\n",
       "      <th>72246</th>\n",
       "      <td>2021-12-01 01:35:32</td>\n",
       "      <td>8207</td>\n",
       "      <td>0.0</td>\n",
       "      <td>2021-11-24 00:00:00</td>\n",
       "      <td>0</td>\n",
       "      <td>0</td>\n",
       "      <td>0</td>\n",
       "      <td>0</td>\n",
       "      <td>0</td>\n",
       "      <td>2</td>\n",
       "      <td>...</td>\n",
       "      <td>-51.116371</td>\n",
       "      <td>-29.982895</td>\n",
       "      <td>AV ASSIS BRASIL</td>\n",
       "      <td>NaN</td>\n",
       "      <td>ABALROAMENTO</td>\n",
       "      <td>QUARTA-FEIRA</td>\n",
       "      <td>17:40:00.0000000</td>\n",
       "      <td>DIA</td>\n",
       "      <td>NORTE</td>\n",
       "      <td>NaN</td>\n",
       "    </tr>\n",
       "    <tr>\n",
       "      <th>72247</th>\n",
       "      <td>2021-12-01 01:35:32</td>\n",
       "      <td>124</td>\n",
       "      <td>0.0</td>\n",
       "      <td>2021-11-23 00:00:00</td>\n",
       "      <td>0</td>\n",
       "      <td>0</td>\n",
       "      <td>0</td>\n",
       "      <td>0</td>\n",
       "      <td>0</td>\n",
       "      <td>2</td>\n",
       "      <td>...</td>\n",
       "      <td>-51.197213</td>\n",
       "      <td>-29.995971</td>\n",
       "      <td>AV A J RENNER</td>\n",
       "      <td>NaN</td>\n",
       "      <td>COLISÃO</td>\n",
       "      <td>TERÇA-FEIRA</td>\n",
       "      <td>17:00:00.0000000</td>\n",
       "      <td>DIA</td>\n",
       "      <td>NORTE</td>\n",
       "      <td>NaN</td>\n",
       "    </tr>\n",
       "    <tr>\n",
       "      <th>72248</th>\n",
       "      <td>2021-12-01 01:35:32</td>\n",
       "      <td>2960</td>\n",
       "      <td>0.0</td>\n",
       "      <td>2021-11-22 00:00:00</td>\n",
       "      <td>0</td>\n",
       "      <td>0</td>\n",
       "      <td>0</td>\n",
       "      <td>0</td>\n",
       "      <td>0</td>\n",
       "      <td>2</td>\n",
       "      <td>...</td>\n",
       "      <td>-51.161144</td>\n",
       "      <td>-30.027987</td>\n",
       "      <td>AV DR NILO PECANHA</td>\n",
       "      <td>R ANTONIO CARLOS BERTA</td>\n",
       "      <td>ABALROAMENTO</td>\n",
       "      <td>SEGUNDA-FEIRA</td>\n",
       "      <td>21:50:00.0000000</td>\n",
       "      <td>NOITE</td>\n",
       "      <td>LESTE</td>\n",
       "      <td>NaN</td>\n",
       "    </tr>\n",
       "  </tbody>\n",
       "</table>\n",
       "<p>72246 rows × 34 columns</p>\n",
       "</div>"
      ],
      "text/plain": [
       "             data_extracao  predial1  queda_arr                 data  feridos  \\\n",
       "0      2021-12-01 01:35:32         0        0.0  2020-10-17 00:00:00        1   \n",
       "1      2021-12-01 01:35:32      8487        0.0  2016-01-01 00:00:00        0   \n",
       "2      2021-12-01 01:35:32         0        0.0  2016-01-02 00:00:00        1   \n",
       "3      2021-12-01 01:35:32       240        0.0  2016-01-02 00:00:00        1   \n",
       "4      2021-12-01 01:35:32      2084        0.0  2016-01-02 00:00:00        3   \n",
       "...                    ...       ...        ...                  ...      ...   \n",
       "72244  2021-12-01 01:35:32      1300        0.0  2021-11-19 00:00:00        0   \n",
       "72245  2021-12-01 01:35:32         0        0.0  2021-11-25 00:00:00        0   \n",
       "72246  2021-12-01 01:35:32      8207        0.0  2021-11-24 00:00:00        0   \n",
       "72247  2021-12-01 01:35:32       124        0.0  2021-11-23 00:00:00        0   \n",
       "72248  2021-12-01 01:35:32      2960        0.0  2021-11-22 00:00:00        0   \n",
       "\n",
       "       feridos_gr  mortes  morte_post  fatais  auto  ...  longitude  \\\n",
       "0               0       0           0       0     3  ...   0.000000   \n",
       "1               0       0           1       1     1  ... -51.095216   \n",
       "2               0       0           0       0     0  ... -51.200627   \n",
       "3               0       0           0       0     0  ... -51.218421   \n",
       "4               0       0           0       0     1  ... -51.129850   \n",
       "...           ...     ...         ...     ...   ...  ...        ...   \n",
       "72244           0       0           0       0     2  ... -51.213743   \n",
       "72245           0       0           0       0     2  ... -51.158859   \n",
       "72246           0       0           0       0     2  ... -51.116371   \n",
       "72247           0       0           0       0     2  ... -51.197213   \n",
       "72248           0       0           0       0     2  ... -51.161144   \n",
       "\n",
       "        latitude                          log1                    log2  \\\n",
       "0       0.000000              R MARCOS MOREIRA        R GASTON ENGLERT   \n",
       "1     -30.134588  ESTR JOAO DE OLIVEIRA REMIAO                     NaN   \n",
       "2     -30.004450      AV EDVALDO PEREIRA PAIVA                     NaN   \n",
       "3     -30.046960            AV ERICO VERISSIMO                     NaN   \n",
       "4     -30.093210  ESTR JOAO DE OLIVEIRA REMIAO                     NaN   \n",
       "...          ...                           ...                     ...   \n",
       "72244 -30.047274                  AV IPIRANGA                AV AZENHA   \n",
       "72245 -30.027660       AV VERISSIMO DE AMARAL                 R JUNCAL   \n",
       "72246 -29.982895              AV ASSIS BRASIL                      NaN   \n",
       "72247 -29.995971                AV A J RENNER                      NaN   \n",
       "72248 -30.027987           AV DR NILO PECANHA   R ANTONIO CARLOS BERTA   \n",
       "\n",
       "          tipo_acid        dia_sem              hora  noite_dia  regiao  \\\n",
       "0      ABALROAMENTO         SÁBADO  19:00:00.0000000      NOITE   NORTE   \n",
       "1            CHOQUE    SEXTA-FEIRA  12:00:00.0000000        DIA   LESTE   \n",
       "2             QUEDA         SÁBADO  06:30:00.0000000        DIA   NORTE   \n",
       "3      ABALROAMENTO         SÁBADO  18:30:00.0000000      NOITE  CENTRO   \n",
       "4            CHOQUE         SÁBADO  20:15:00.0000000      NOITE   LESTE   \n",
       "...             ...            ...               ...        ...     ...   \n",
       "72244  ABALROAMENTO    SEXTA-FEIRA  14:40:00.0000000        DIA  CENTRO   \n",
       "72245  ABALROAMENTO   QUINTA-FEIRA  12:30:00.0000000        DIA   NORTE   \n",
       "72246  ABALROAMENTO   QUARTA-FEIRA  17:40:00.0000000        DIA   NORTE   \n",
       "72247       COLISÃO    TERÇA-FEIRA  17:00:00.0000000        DIA   NORTE   \n",
       "72248  ABALROAMENTO  SEGUNDA-FEIRA  21:50:00.0000000      NOITE   LESTE   \n",
       "\n",
       "       consorcio  \n",
       "0            NaN  \n",
       "1            NaN  \n",
       "2            NaN  \n",
       "3            STS  \n",
       "4            NaN  \n",
       "...          ...  \n",
       "72244        NaN  \n",
       "72245        NaN  \n",
       "72246        NaN  \n",
       "72247        NaN  \n",
       "72248        NaN  \n",
       "\n",
       "[72246 rows x 34 columns]"
      ]
     },
     "execution_count": 11,
     "metadata": {},
     "output_type": "execute_result"
    }
   ],
   "source": [
    "df_analise"
   ]
  },
  {
   "cell_type": "code",
   "execution_count": 12,
   "id": "c9245d7a",
   "metadata": {},
   "outputs": [
    {
     "data": {
      "text/plain": [
       "2016-08-29 00:00:00    69\n",
       "2016-04-11 00:00:00    67\n",
       "2018-11-19 00:00:00    67\n",
       "2016-03-18 00:00:00    66\n",
       "2016-10-06 00:00:00    66\n",
       "                       ..\n",
       "2021-11-29 00:00:00     2\n",
       "2021-11-28 00:00:00     2\n",
       "2021-12-14 00:00:00     1\n",
       "2018-11-04 01:00:00     1\n",
       "2021-12-19 00:00:00     1\n",
       "Name: data, Length: 2163, dtype: int64"
      ]
     },
     "execution_count": 12,
     "metadata": {},
     "output_type": "execute_result"
    }
   ],
   "source": [
    "df_analise['data'].value_counts(ascending=False)"
   ]
  },
  {
   "cell_type": "code",
   "execution_count": 13,
   "id": "bf137525",
   "metadata": {},
   "outputs": [],
   "source": [
    " df_analise['data'] = pd.to_datetime(df_analise['data'])"
   ]
  },
  {
   "cell_type": "code",
   "execution_count": 108,
   "id": "cc7bb0c3",
   "metadata": {},
   "outputs": [
    {
     "data": {
      "text/plain": [
       "<AxesSubplot:xlabel='data'>"
      ]
     },
     "execution_count": 108,
     "metadata": {},
     "output_type": "execute_result"
    },
    {
     "data": {
      "image/png": "[encoded data removed]",
      "text/plain": [
       "<Figure size 432x288 with 1 Axes>"
      ]
     },
     "metadata": {},
     "output_type": "display_data"
    }
   ],
   "source": [
    "df_analise.groupby(pd.Grouper(key='data',freq='y'))['idacidente'].count().plot(kind='area', alpha = .2)"
   ]
  },
  {
   "cell_type": "code",
   "execution_count": 15,
   "id": "e419d6b0",
   "metadata": {},
   "outputs": [
    {
     "data": {
      "text/plain": [
       "consorcio        69014\n",
       "log2             51396\n",
       "longitude        12054\n",
       "latitude         12054\n",
       "hora               103\n",
       "log1                66\n",
       "regiao              11\n",
       "tipo_acid            0\n",
       "dia_sem              0\n",
       "predial1             0\n",
       "noite_dia            0\n",
       "idacidente           0\n",
       "patinete             0\n",
       "ups                  0\n",
       "cont_vit             0\n",
       "outro                0\n",
       "bicicleta            0\n",
       "data_extracao        0\n",
       "moto                 0\n",
       "caminhao             0\n",
       "onibus_int           0\n",
       "onibus_met           0\n",
       "onibus_urb           0\n",
       "lotacao              0\n",
       "taxi                 0\n",
       "auto                 0\n",
       "fatais               0\n",
       "morte_post           0\n",
       "mortes               0\n",
       "feridos_gr           0\n",
       "feridos              0\n",
       "data                 0\n",
       "queda_arr            0\n",
       "carroca              0\n",
       "dtype: int64"
      ]
     },
     "execution_count": 15,
     "metadata": {},
     "output_type": "execute_result"
    }
   ],
   "source": [
    "df_analise.isnull().sum().sort_values(ascending = False)"
   ]
  },
  {
   "cell_type": "code",
   "execution_count": 102,
   "id": "5dee5b60",
   "metadata": {},
   "outputs": [
    {
     "data": {
      "text/plain": [
       "data        tipo_acid     \n",
       "2016-12-31  ABALROAMENTO      6631\n",
       "            ATROPELAMENTO     1073\n",
       "            CAPOTAGEM           43\n",
       "            CHOQUE            1111\n",
       "            COLISÃO           4192\n",
       "            EVENTUAL           156\n",
       "            INCÊNDIO             5\n",
       "            QUEDA              577\n",
       "            TOMBAMENTO          12\n",
       "2017-12-31  ABALROAMENTO      6331\n",
       "            ATROPELAMENTO      889\n",
       "            CAPOTAGEM           40\n",
       "            CHOQUE             975\n",
       "            COLISÃO           3819\n",
       "            EVENTUAL           185\n",
       "            INCÊNDIO             3\n",
       "            NAO CADASTRADO       1\n",
       "            QUEDA              412\n",
       "            TOMBAMENTO          16\n",
       "2018-12-31  ABALROAMENTO      5911\n",
       "            ATROPELAMENTO      830\n",
       "            CAPOTAGEM           51\n",
       "            CHOQUE             982\n",
       "            COLISÃO           3834\n",
       "            EVENTUAL           191\n",
       "            INCÊNDIO             4\n",
       "            NAO CADASTRADO      13\n",
       "            QUEDA              417\n",
       "            TOMBAMENTO          30\n",
       "2019-12-31  ABALROAMENTO      6743\n",
       "            ATROPELAMENTO      848\n",
       "            CAPOTAGEM           52\n",
       "            CHOQUE            1063\n",
       "            COLISÃO           3852\n",
       "            EVENTUAL           190\n",
       "            INCÊNDIO             7\n",
       "            NAO CADASTRADO       5\n",
       "            QUEDA              421\n",
       "            TOMBAMENTO          48\n",
       "2020-12-31  ABALROAMENTO      4551\n",
       "            ATROPELAMENTO      522\n",
       "            CAPOTAGEM           51\n",
       "            CHOQUE             819\n",
       "            COLISÃO           2771\n",
       "            EVENTUAL           154\n",
       "            INCÊNDIO             1\n",
       "            NAO CADASTRADO       6\n",
       "            QUEDA              351\n",
       "            TOMBAMENTO          61\n",
       "2021-12-31  ABALROAMENTO      4885\n",
       "            ATROPELAMENTO      578\n",
       "            CAPOTAGEM           57\n",
       "            CHOQUE            1192\n",
       "            COLISÃO           3347\n",
       "            EVENTUAL           173\n",
       "            INCÊNDIO             7\n",
       "            NAO CADASTRADO     392\n",
       "            QUEDA              292\n",
       "            TOMBAMENTO          73\n",
       "Name: idacidente, dtype: int64"
      ]
     },
     "execution_count": 102,
     "metadata": {},
     "output_type": "execute_result"
    }
   ],
   "source": [
    "df_analise.groupby([pd.Grouper(key='data',freq='Y'), 'tipo_acid'])['idacidente'].count()"
   ]
  },
  {
   "cell_type": "code",
   "execution_count": 100,
   "id": "17409490",
   "metadata": {},
   "outputs": [
    {
     "data": {
      "text/plain": [
       "<AxesSubplot:xlabel='data'>"
      ]
     },
     "execution_count": 100,
     "metadata": {},
     "output_type": "execute_result"
    },
    {
     "data": {
      "image/png": "[encoded data removed]",
      "text/plain": [
       "<Figure size 432x288 with 1 Axes>"
      ]
     },
     "metadata": {},
     "output_type": "display_data"
    }
   ],
   "source": [
    "df_analise.groupby(pd.Grouper(key='data',freq='y'))['fatais'].sum().plot(kind='line')"
   ]
  },
  {
   "cell_type": "code",
   "execution_count": 64,
   "id": "bdf64f32",
   "metadata": {},
   "outputs": [],
   "source": [
    "import seaborn as sns\n",
    "import matplotlib.pyplot as plt"
   ]
  },
  {
   "cell_type": "code",
   "execution_count": 77,
   "id": "4e6d3acd",
   "metadata": {},
   "outputs": [],
   "source": [
    "fatalidades = df_analise.groupby([pd.Grouper(key='data',freq='y'), 'tipo_acid'])['fatais'].sum()\n",
    "fatalidades = pd.DataFrame(fatalidades)\n",
    "\n"
   ]
  },
  {
   "cell_type": "code",
   "execution_count": 80,
   "id": "910f37a1",
   "metadata": {},
   "outputs": [],
   "source": [
    "fatalidades.reset_index(inplace=True)\n",
    "fatalidades['ano'] = pd.DatetimeIndex(fatalidades['data']).year"
   ]
  },
  {
   "cell_type": "code",
   "execution_count": 99,
   "id": "5af985a3",
   "metadata": {},
   "outputs": [
    {
     "data": {
      "text/plain": [
       "<Figure size 1440x360 with 0 Axes>"
      ]
     },
     "metadata": {},
     "output_type": "display_data"
    },
    {
     "data": {
      "image/png": "[encoded data removed]",
      "text/plain": [
       "<Figure size 427.6x360 with 1 Axes>"
      ]
     },
     "metadata": {},
     "output_type": "display_data"
    }
   ],
   "source": [
    "plt.figure(figsize=(20,5))\n",
    "\n",
    "sns.set_theme(style=\"whitegrid\")\n",
    "sns.catplot(data=fatalidades, x='tipo_acid',hue='ano', y='fatais',palette=\"tab10\",kind=\"point\", linewidth=1.5)\n",
    "\n",
    "plt.title('Fatalidades x Tipo de Acidente Ano a Ano')\n",
    "plt.xlabel('Tipo de Acidente')\n",
    "plt.ylabel('Qtd de óbitos')\n",
    "\n",
    "plt.xticks(rotation=45)\n",
    "plt.show()\n",
    "\n",
    "\n"
   ]
  },
  {
   "cell_type": "code",
   "execution_count": 83,
   "id": "81bfe1e2",
   "metadata": {},
   "outputs": [],
   "source": [
    "df_2021 = df_analise[df_analise['data'] > '2021-01-01 00:00:00']"
   ]
  },
  {
   "cell_type": "code",
   "execution_count": 20,
   "id": "385df094",
   "metadata": {},
   "outputs": [
    {
     "data": {
      "text/plain": [
       "(10980, 34)"
      ]
     },
     "execution_count": 20,
     "metadata": {},
     "output_type": "execute_result"
    }
   ],
   "source": [
    "df_2021.shape"
   ]
  },
  {
   "cell_type": "code",
   "execution_count": 21,
   "id": "0ce9606e",
   "metadata": {},
   "outputs": [],
   "source": [
    "from geopy.geocoders import Nominatim\n",
    "from geopy.extra.rate_limiter import RateLimiter\n",
    "\n",
    "geolocator = Nominatim(user_agent=\"tt_coordenadas_poa\")\n",
    "\n",
    "geocode    = RateLimiter(geolocator.geocode, min_delay_seconds=1)"
   ]
  },
  {
   "cell_type": "code",
   "execution_count": 22,
   "id": "d584759d",
   "metadata": {},
   "outputs": [],
   "source": [
    "df_mapa = df_2021[['tipo_acid','log1', 'latitude', 'longitude']]"
   ]
  },
  {
   "cell_type": "code",
   "execution_count": 23,
   "id": "97ddb204",
   "metadata": {},
   "outputs": [
    {
     "data": {
      "text/plain": [
       "(10980, 4)"
      ]
     },
     "execution_count": 23,
     "metadata": {},
     "output_type": "execute_result"
    }
   ],
   "source": [
    "df_mapa.shape"
   ]
  },
  {
   "cell_type": "code",
   "execution_count": 24,
   "id": "d2e8952f",
   "metadata": {},
   "outputs": [],
   "source": [
    "enderecos = df_mapa[df_mapa['latitude'].isnull()]"
   ]
  },
  {
   "cell_type": "code",
   "execution_count": 25,
   "id": "46a5942f",
   "metadata": {},
   "outputs": [
    {
     "data": {
      "text/plain": [
       "(664, 4)"
      ]
     },
     "execution_count": 25,
     "metadata": {},
     "output_type": "execute_result"
    }
   ],
   "source": [
    "enderecos.shape"
   ]
  },
  {
   "cell_type": "code",
   "execution_count": 26,
   "id": "fa997dc9",
   "metadata": {},
   "outputs": [],
   "source": [
    "def inserir_cidade_estado(endereco):\n",
    "  return str(endereco) + ' Porto Alegre Brasil'"
   ]
  },
  {
   "cell_type": "code",
   "execution_count": 27,
   "id": "9796a0a1",
   "metadata": {},
   "outputs": [],
   "source": [
    "def ajustar_prefixo(endereco):\n",
    "    x = str(endereco)\n",
    "   \n",
    "    if x[:2] == 'R ':\n",
    "        return 'Rua ' + x[2:]\n",
    "  \n",
    "    elif x[:3] == 'AV ':\n",
    "        return 'Avenida ' + x[3:]\n",
    " \n",
    "    elif x[:5] == 'ESTR ':\n",
    "        return 'Estrada ' + x[5:]\n",
    "\n",
    "    elif x[:3] == 'TN ':\n",
    "        return 'Tunel ' + x[3:]\n",
    "\n",
    "    return x"
   ]
  },
  {
   "cell_type": "code",
   "execution_count": 28,
   "id": "a00dd72d",
   "metadata": {},
   "outputs": [],
   "source": [
    "from tqdm import tqdm\n",
    "tqdm.pandas()"
   ]
  },
  {
   "cell_type": "code",
   "execution_count": 29,
   "id": "9cb330f6",
   "metadata": {},
   "outputs": [
    {
     "name": "stderr",
     "output_type": "stream",
     "text": [
      "100%|█████████████████████████████████████████████████████████████████████████████████████████████████████████████████████████████████████████████████████████████████████████████████████████████████| 664/664 [00:00<00:00, 190611.04it/s]\n"
     ]
    }
   ],
   "source": [
    "enderecos['log1'] = enderecos['log1'].progress_apply(inserir_cidade_estado)"
   ]
  },
  {
   "cell_type": "code",
   "execution_count": 30,
   "id": "243a7607",
   "metadata": {},
   "outputs": [
    {
     "name": "stderr",
     "output_type": "stream",
     "text": [
      "100%|█████████████████████████████████████████████████████████████████████████████████████████████████████████████████████████████████████████████████████████████████████████████████████████████████| 664/664 [00:00<00:00, 344084.24it/s]\n"
     ]
    }
   ],
   "source": [
    "enderecos['log1'] = enderecos['log1'].progress_apply(ajustar_prefixo)"
   ]
  },
  {
   "cell_type": "code",
   "execution_count": 32,
   "id": "5c7b8ebc",
   "metadata": {},
   "outputs": [
    {
     "name": "stderr",
     "output_type": "stream",
     "text": [
      "100%|█████████████████████████████████████████████████████████████████████████████████████████████████████████████████████████████████████████████████████████████████████████████████████████████████████| 664/664 [11:06<00:00,  1.00s/it]"
     ]
    },
    {
     "name": "stdout",
     "output_type": "stream",
     "text": [
      "CPU times: user 6.14 s, sys: 1.04 s, total: 7.18 s\n",
      "Wall time: 11min 6s\n"
     ]
    },
    {
     "name": "stderr",
     "output_type": "stream",
     "text": [
      "\n"
     ]
    }
   ],
   "source": [
    "%%time\n",
    "\n",
    "enderecos['coordenadas'] = enderecos['log1'].progress_apply(geocode)"
   ]
  },
  {
   "cell_type": "code",
   "execution_count": 34,
   "id": "132d2dcb",
   "metadata": {},
   "outputs": [],
   "source": [
    "enderecos['latitude'] = enderecos['coordenadas'].apply(lambda loc: loc.point[0] if loc else None)\n",
    "enderecos['longitude'] = enderecos['coordenadas'].apply(lambda loc: loc.point[1] if loc else None)"
   ]
  },
  {
   "cell_type": "code",
   "execution_count": 35,
   "id": "408498c2",
   "metadata": {},
   "outputs": [
    {
     "data": {
      "text/plain": [
       "43"
      ]
     },
     "execution_count": 35,
     "metadata": {},
     "output_type": "execute_result"
    }
   ],
   "source": [
    "enderecos['latitude'].isnull().sum()"
   ]
  },
  {
   "cell_type": "code",
   "execution_count": 36,
   "id": "41304efd",
   "metadata": {},
   "outputs": [
    {
     "data": {
      "text/html": [
       "<div>\n",
       "<style scoped>\n",
       "    .dataframe tbody tr th:only-of-type {\n",
       "        vertical-align: middle;\n",
       "    }\n",
       "\n",
       "    .dataframe tbody tr th {\n",
       "        vertical-align: top;\n",
       "    }\n",
       "\n",
       "    .dataframe thead th {\n",
       "        text-align: right;\n",
       "    }\n",
       "</style>\n",
       "<table border=\"1\" class=\"dataframe\">\n",
       "  <thead>\n",
       "    <tr style=\"text-align: right;\">\n",
       "      <th></th>\n",
       "      <th>tipo_acid</th>\n",
       "      <th>log1</th>\n",
       "      <th>latitude</th>\n",
       "      <th>longitude</th>\n",
       "    </tr>\n",
       "  </thead>\n",
       "  <tbody>\n",
       "    <tr>\n",
       "      <th>60799</th>\n",
       "      <td>COLISÃO</td>\n",
       "      <td>Avenida PRESIDENTE CASTELO BRANCO  Porto Alegr...</td>\n",
       "      <td>-30.016269</td>\n",
       "      <td>-51.214217</td>\n",
       "    </tr>\n",
       "    <tr>\n",
       "      <th>60841</th>\n",
       "      <td>ABALROAMENTO</td>\n",
       "      <td>Rua DOM PEDRO II  Porto Alegre Brasil</td>\n",
       "      <td>-30.016137</td>\n",
       "      <td>-51.186717</td>\n",
       "    </tr>\n",
       "    <tr>\n",
       "      <th>60918</th>\n",
       "      <td>COLISÃO</td>\n",
       "      <td>Avenida BORGES DE MEDEIROS  Porto Alegre Brasil</td>\n",
       "      <td>-29.657825</td>\n",
       "      <td>-50.578725</td>\n",
       "    </tr>\n",
       "    <tr>\n",
       "      <th>60937</th>\n",
       "      <td>QUEDA</td>\n",
       "      <td>nossa sra aparecida Porto Alegre Brasil</td>\n",
       "      <td>-29.911510</td>\n",
       "      <td>-51.134428</td>\n",
       "    </tr>\n",
       "    <tr>\n",
       "      <th>60998</th>\n",
       "      <td>CHOQUE</td>\n",
       "      <td>Avenida JOAO PESSOA  Porto Alegre Brasil</td>\n",
       "      <td>-30.046772</td>\n",
       "      <td>-51.211942</td>\n",
       "    </tr>\n",
       "    <tr>\n",
       "      <th>...</th>\n",
       "      <td>...</td>\n",
       "      <td>...</td>\n",
       "      <td>...</td>\n",
       "      <td>...</td>\n",
       "    </tr>\n",
       "    <tr>\n",
       "      <th>72084</th>\n",
       "      <td>ABALROAMENTO</td>\n",
       "      <td>Avenida ANTONIO CARVALHO  Porto Alegre Brasil</td>\n",
       "      <td>-30.063167</td>\n",
       "      <td>-51.149637</td>\n",
       "    </tr>\n",
       "    <tr>\n",
       "      <th>72100</th>\n",
       "      <td>ABALROAMENTO</td>\n",
       "      <td>Avenida PROF OSCAR PEREIRA  Porto Alegre Brasil</td>\n",
       "      <td>-30.054156</td>\n",
       "      <td>-51.211379</td>\n",
       "    </tr>\n",
       "    <tr>\n",
       "      <th>72135</th>\n",
       "      <td>ABALROAMENTO</td>\n",
       "      <td>Rua FRANCISCA PREZZI BOLOGNESI  Porto Alegre B...</td>\n",
       "      <td>-30.158621</td>\n",
       "      <td>-51.176262</td>\n",
       "    </tr>\n",
       "    <tr>\n",
       "      <th>72137</th>\n",
       "      <td>ATROPELAMENTO</td>\n",
       "      <td>Estrada BARRO VERMELHO  Porto Alegre Brasil</td>\n",
       "      <td>-30.162507</td>\n",
       "      <td>-51.133409</td>\n",
       "    </tr>\n",
       "    <tr>\n",
       "      <th>72194</th>\n",
       "      <td>ABALROAMENTO</td>\n",
       "      <td>Avenida FARRAPOS  Porto Alegre Brasil</td>\n",
       "      <td>-29.996040</td>\n",
       "      <td>-51.189771</td>\n",
       "    </tr>\n",
       "  </tbody>\n",
       "</table>\n",
       "<p>621 rows × 4 columns</p>\n",
       "</div>"
      ],
      "text/plain": [
       "           tipo_acid                                               log1  \\\n",
       "60799        COLISÃO  Avenida PRESIDENTE CASTELO BRANCO  Porto Alegr...   \n",
       "60841   ABALROAMENTO              Rua DOM PEDRO II  Porto Alegre Brasil   \n",
       "60918        COLISÃO    Avenida BORGES DE MEDEIROS  Porto Alegre Brasil   \n",
       "60937          QUEDA            nossa sra aparecida Porto Alegre Brasil   \n",
       "60998         CHOQUE           Avenida JOAO PESSOA  Porto Alegre Brasil   \n",
       "...              ...                                                ...   \n",
       "72084   ABALROAMENTO      Avenida ANTONIO CARVALHO  Porto Alegre Brasil   \n",
       "72100   ABALROAMENTO    Avenida PROF OSCAR PEREIRA  Porto Alegre Brasil   \n",
       "72135   ABALROAMENTO  Rua FRANCISCA PREZZI BOLOGNESI  Porto Alegre B...   \n",
       "72137  ATROPELAMENTO        Estrada BARRO VERMELHO  Porto Alegre Brasil   \n",
       "72194   ABALROAMENTO              Avenida FARRAPOS  Porto Alegre Brasil   \n",
       "\n",
       "        latitude  longitude  \n",
       "60799 -30.016269 -51.214217  \n",
       "60841 -30.016137 -51.186717  \n",
       "60918 -29.657825 -50.578725  \n",
       "60937 -29.911510 -51.134428  \n",
       "60998 -30.046772 -51.211942  \n",
       "...          ...        ...  \n",
       "72084 -30.063167 -51.149637  \n",
       "72100 -30.054156 -51.211379  \n",
       "72135 -30.158621 -51.176262  \n",
       "72137 -30.162507 -51.133409  \n",
       "72194 -29.996040 -51.189771  \n",
       "\n",
       "[621 rows x 4 columns]"
      ]
     },
     "execution_count": 36,
     "metadata": {},
     "output_type": "execute_result"
    }
   ],
   "source": [
    "faltantes = enderecos[enderecos['latitude'].isnull()]\n",
    "enderecos.dropna(inplace=True)\n",
    "enderecos.drop(columns='coordenadas')"
   ]
  },
  {
   "cell_type": "code",
   "execution_count": 37,
   "id": "3da3db74",
   "metadata": {},
   "outputs": [],
   "source": [
    "enderecos2 = df_mapa[~df_mapa['latitude'].isnull()]"
   ]
  },
  {
   "cell_type": "code",
   "execution_count": null,
   "id": "40a5325d",
   "metadata": {},
   "outputs": [],
   "source": []
  },
  {
   "cell_type": "code",
   "execution_count": 38,
   "id": "a4612462",
   "metadata": {},
   "outputs": [],
   "source": [
    "mapa = pd.concat([enderecos, enderecos2])"
   ]
  },
  {
   "cell_type": "code",
   "execution_count": 44,
   "id": "0c20c847",
   "metadata": {},
   "outputs": [],
   "source": [
    "mapa\n",
    "mapa_reduzido = mapa.sample(50)"
   ]
  },
  {
   "cell_type": "code",
   "execution_count": 45,
   "id": "8636dcd2",
   "metadata": {},
   "outputs": [],
   "source": [
    "import folium"
   ]
  },
  {
   "cell_type": "code",
   "execution_count": 46,
   "id": "43169887",
   "metadata": {},
   "outputs": [],
   "source": [
    "poa = folium.Map(\n",
    "        location=[-30.06, -51.17],\n",
    "        zoom_start=12\n",
    ")"
   ]
  },
  {
   "cell_type": "code",
   "execution_count": 47,
   "id": "f5eb979d",
   "metadata": {},
   "outputs": [],
   "source": [
    "for i, linha in mapa_reduzido.iterrows():\n",
    "  folium.Marker([linha['latitude'], linha['longitude']], popup=linha['tipo_acid'] ).add_to(poa)"
   ]
  },
  {
   "cell_type": "code",
   "execution_count": 48,
   "id": "c855f708",
   "metadata": {},
   "outputs": [
    {
     "data": {
      "text/html": [
       "<div style=\"width:100%;\"><div style=\"position:relative;width:100%;height:0;padding-bottom:60%;\"><span style=\"color:#565656\">Make this Notebook Trusted to load map: File -> Trust Notebook</span><iframe src=\"about:blank\" style=\"position:absolute;width:100%;height:100%;left:0;top:0;border:none !important;\" data-html=%3C%21DOCTYPE%20html%3E%0A%3Chead%3E%20%20%20%20%0A%20%20%20%20%3Cmeta%20http-equiv%3D%22content-type%22%20content%3D%22text/html%3B%20charset%3DUTF-8%22%20/%3E%0A%20%20%20%20%0A%20%20%20%20%20%20%20%20%3Cscript%3E%0A%20%20%20%20%20%20%20%20%20%20%20%20L_NO_TOUCH%20%3D%20false%3B%0A%20%20%20%20%20%20%20%20%20%20%20%20L_DISABLE_3D%20%3D%20false%3B%0A%20%20%20%20%20%20%20%20%3C/script%3E%0A%20%20%20%20%0A%20%20%20%20%3Cstyle%3Ehtml%2C%20body%20%7Bwidth%3A%20100%25%3Bheight%3A%20100%25%3Bmargin%3A%200%3Bpadding%3A%200%3B%7D%3C/style%3E%0A%20%20%20%20%3Cstyle%3E%23map%20%7Bposition%3Aabsolute%3Btop%3A0%3Bbottom%3A0%3Bright%3A0%3Bleft%3A0%3B%7D%3C/style%3E%0A%20%20%20%20%3Cscript%20src%3D%22https%3A//cdn.jsdelivr.net/npm/leaflet%401.6.0/dist/leaflet.js%22%3E%3C/script%3E%0A%20%20%20%20%3Cscript%20src%3D%22https%3A//code.jquery.com/jquery-1.12.4.min.js%22%3E%3C/script%3E%0A%20%20%20%20%3Cscript%20src%3D%22https%3A//maxcdn.bootstrapcdn.com/bootstrap/3.2.0/js/bootstrap.min.js%22%3E%3C/script%3E%0A%20%20%20%20%3Cscript%20src%3D%22https%3A//cdnjs.cloudflare.com/ajax/libs/Leaflet.awesome-markers/2.0.2/leaflet.awesome-markers.js%22%3E%3C/script%3E%0A%20%20%20%20%3Clink%20rel%3D%22stylesheet%22%20href%3D%22https%3A//cdn.jsdelivr.net/npm/leaflet%401.6.0/dist/leaflet.css%22/%3E%0A%20%20%20%20%3Clink%20rel%3D%22stylesheet%22%20href%3D%22https%3A//maxcdn.bootstrapcdn.com/bootstrap/3.2.0/css/bootstrap.min.css%22/%3E%0A%20%20%20%20%3Clink%20rel%3D%22stylesheet%22%20href%3D%22https%3A//maxcdn.bootstrapcdn.com/bootstrap/3.2.0/css/bootstrap-theme.min.css%22/%3E%0A%20%20%20%20%3Clink%20rel%3D%22stylesheet%22%20href%3D%22https%3A//maxcdn.bootstrapcdn.com/font-awesome/4.6.3/css/font-awesome.min.css%22/%3E%0A%20%20%20%20%3Clink%20rel%3D%22stylesheet%22%20href%3D%22https%3A//cdnjs.cloudflare.com/ajax/libs/Leaflet.awesome-markers/2.0.2/leaflet.awesome-markers.css%22/%3E%0A%20%20%20%20%3Clink%20rel%3D%22stylesheet%22%20href%3D%22https%3A//cdn.jsdelivr.net/gh/python-visualization/folium/folium/templates/leaflet.awesome.rotate.min.css%22/%3E%0A%20%20%20%20%0A%20%20%20%20%20%20%20%20%20%20%20%20%3Cmeta%20name%3D%22viewport%22%20content%3D%22width%3Ddevice-width%2C%0A%20%20%20%20%20%20%20%20%20%20%20%20%20%20%20%20initial-scale%3D1.0%2C%20maximum-scale%3D1.0%2C%20user-scalable%3Dno%22%20/%3E%0A%20%20%20%20%20%20%20%20%20%20%20%20%3Cstyle%3E%0A%20%20%20%20%20%20%20%20%20%20%20%20%20%20%20%20%23map_efafb05ace4549f99509d2412a1de912%20%7B%0A%20%20%20%20%20%20%20%20%20%20%20%20%20%20%20%20%20%20%20%20position%3A%20relative%3B%0A%20%20%20%20%20%20%20%20%20%20%20%20%20%20%20%20%20%20%20%20width%3A%20100.0%25%3B%0A%20%20%20%20%20%20%20%20%20%20%20%20%20%20%20%20%20%20%20%20height%3A%20100.0%25%3B%0A%20%20%20%20%20%20%20%20%20%20%20%20%20%20%20%20%20%20%20%20left%3A%200.0%25%3B%0A%20%20%20%20%20%20%20%20%20%20%20%20%20%20%20%20%20%20%20%20top%3A%200.0%25%3B%0A%20%20%20%20%20%20%20%20%20%20%20%20%20%20%20%20%7D%0A%20%20%20%20%20%20%20%20%20%20%20%20%3C/style%3E%0A%20%20%20%20%20%20%20%20%0A%3C/head%3E%0A%3Cbody%3E%20%20%20%20%0A%20%20%20%20%0A%20%20%20%20%20%20%20%20%20%20%20%20%3Cdiv%20class%3D%22folium-map%22%20id%3D%22map_efafb05ace4549f99509d2412a1de912%22%20%3E%3C/div%3E%0A%20%20%20%20%20%20%20%20%0A%3C/body%3E%0A%3Cscript%3E%20%20%20%20%0A%20%20%20%20%0A%20%20%20%20%20%20%20%20%20%20%20%20var%20map_efafb05ace4549f99509d2412a1de912%20%3D%20L.map%28%0A%20%20%20%20%20%20%20%20%20%20%20%20%20%20%20%20%22map_efafb05ace4549f99509d2412a1de912%22%2C%0A%20%20%20%20%20%20%20%20%20%20%20%20%20%20%20%20%7B%0A%20%20%20%20%20%20%20%20%20%20%20%20%20%20%20%20%20%20%20%20center%3A%20%5B-30.06%2C%20-51.17%5D%2C%0A%20%20%20%20%20%20%20%20%20%20%20%20%20%20%20%20%20%20%20%20crs%3A%20L.CRS.EPSG3857%2C%0A%20%20%20%20%20%20%20%20%20%20%20%20%20%20%20%20%20%20%20%20zoom%3A%2012%2C%0A%20%20%20%20%20%20%20%20%20%20%20%20%20%20%20%20%20%20%20%20zoomControl%3A%20true%2C%0A%20%20%20%20%20%20%20%20%20%20%20%20%20%20%20%20%20%20%20%20preferCanvas%3A%20false%2C%0A%20%20%20%20%20%20%20%20%20%20%20%20%20%20%20%20%7D%0A%20%20%20%20%20%20%20%20%20%20%20%20%29%3B%0A%0A%20%20%20%20%20%20%20%20%20%20%20%20%0A%0A%20%20%20%20%20%20%20%20%0A%20%20%20%20%0A%20%20%20%20%20%20%20%20%20%20%20%20var%20tile_layer_259fd568083640109e7a58576ebd4d04%20%3D%20L.tileLayer%28%0A%20%20%20%20%20%20%20%20%20%20%20%20%20%20%20%20%22https%3A//%7Bs%7D.tile.openstreetmap.org/%7Bz%7D/%7Bx%7D/%7By%7D.png%22%2C%0A%20%20%20%20%20%20%20%20%20%20%20%20%20%20%20%20%7B%22attribution%22%3A%20%22Data%20by%20%5Cu0026copy%3B%20%5Cu003ca%20href%3D%5C%22http%3A//openstreetmap.org%5C%22%5Cu003eOpenStreetMap%5Cu003c/a%5Cu003e%2C%20under%20%5Cu003ca%20href%3D%5C%22http%3A//www.openstreetmap.org/copyright%5C%22%5Cu003eODbL%5Cu003c/a%5Cu003e.%22%2C%20%22detectRetina%22%3A%20false%2C%20%22maxNativeZoom%22%3A%2018%2C%20%22maxZoom%22%3A%2018%2C%20%22minZoom%22%3A%200%2C%20%22noWrap%22%3A%20false%2C%20%22opacity%22%3A%201%2C%20%22subdomains%22%3A%20%22abc%22%2C%20%22tms%22%3A%20false%7D%0A%20%20%20%20%20%20%20%20%20%20%20%20%29.addTo%28map_efafb05ace4549f99509d2412a1de912%29%3B%0A%20%20%20%20%20%20%20%20%0A%20%20%20%20%0A%20%20%20%20%20%20%20%20%20%20%20%20var%20marker_eb6f0bae8db243cda67068b06c35da83%20%3D%20L.marker%28%0A%20%20%20%20%20%20%20%20%20%20%20%20%20%20%20%20%5B-30.03049346854352%2C%20-51.21728003025055%5D%2C%0A%20%20%20%20%20%20%20%20%20%20%20%20%20%20%20%20%7B%7D%0A%20%20%20%20%20%20%20%20%20%20%20%20%29.addTo%28map_efafb05ace4549f99509d2412a1de912%29%3B%0A%20%20%20%20%20%20%20%20%0A%20%20%20%20%0A%20%20%20%20%20%20%20%20var%20popup_d472f0b4155e4b2180f9a3941c763f3f%20%3D%20L.popup%28%7B%22maxWidth%22%3A%20%22100%25%22%7D%29%3B%0A%0A%20%20%20%20%20%20%20%20%0A%20%20%20%20%20%20%20%20%20%20%20%20var%20html_ef2b640eaf3242ad880538fe1ad51bc8%20%3D%20%24%28%60%3Cdiv%20id%3D%22html_ef2b640eaf3242ad880538fe1ad51bc8%22%20style%3D%22width%3A%20100.0%25%3B%20height%3A%20100.0%25%3B%22%3EABALROAMENTO%3C/div%3E%60%29%5B0%5D%3B%0A%20%20%20%20%20%20%20%20%20%20%20%20popup_d472f0b4155e4b2180f9a3941c763f3f.setContent%28html_ef2b640eaf3242ad880538fe1ad51bc8%29%3B%0A%20%20%20%20%20%20%20%20%0A%0A%20%20%20%20%20%20%20%20marker_eb6f0bae8db243cda67068b06c35da83.bindPopup%28popup_d472f0b4155e4b2180f9a3941c763f3f%29%0A%20%20%20%20%20%20%20%20%3B%0A%0A%20%20%20%20%20%20%20%20%0A%20%20%20%20%0A%20%20%20%20%0A%20%20%20%20%20%20%20%20%20%20%20%20var%20marker_57c16359869e469ca1ac68b30774f663%20%3D%20L.marker%28%0A%20%20%20%20%20%20%20%20%20%20%20%20%20%20%20%20%5B-30.029414825362743%2C%20-51.21191980317237%5D%2C%0A%20%20%20%20%20%20%20%20%20%20%20%20%20%20%20%20%7B%7D%0A%20%20%20%20%20%20%20%20%20%20%20%20%29.addTo%28map_efafb05ace4549f99509d2412a1de912%29%3B%0A%20%20%20%20%20%20%20%20%0A%20%20%20%20%0A%20%20%20%20%20%20%20%20var%20popup_20bc4334558b4fdd9e4932d9a59898ac%20%3D%20L.popup%28%7B%22maxWidth%22%3A%20%22100%25%22%7D%29%3B%0A%0A%20%20%20%20%20%20%20%20%0A%20%20%20%20%20%20%20%20%20%20%20%20var%20html_f6eedb913d094b1eb30b337ce5bff4f4%20%3D%20%24%28%60%3Cdiv%20id%3D%22html_f6eedb913d094b1eb30b337ce5bff4f4%22%20style%3D%22width%3A%20100.0%25%3B%20height%3A%20100.0%25%3B%22%3ECOLIS%C3%83O%3C/div%3E%60%29%5B0%5D%3B%0A%20%20%20%20%20%20%20%20%20%20%20%20popup_20bc4334558b4fdd9e4932d9a59898ac.setContent%28html_f6eedb913d094b1eb30b337ce5bff4f4%29%3B%0A%20%20%20%20%20%20%20%20%0A%0A%20%20%20%20%20%20%20%20marker_57c16359869e469ca1ac68b30774f663.bindPopup%28popup_20bc4334558b4fdd9e4932d9a59898ac%29%0A%20%20%20%20%20%20%20%20%3B%0A%0A%20%20%20%20%20%20%20%20%0A%20%20%20%20%0A%20%20%20%20%0A%20%20%20%20%20%20%20%20%20%20%20%20var%20marker_9c84e061d07a4e529eb77013fe00ce20%20%3D%20L.marker%28%0A%20%20%20%20%20%20%20%20%20%20%20%20%20%20%20%20%5B-30.04398837922153%2C%20-51.1761217000584%5D%2C%0A%20%20%20%20%20%20%20%20%20%20%20%20%20%20%20%20%7B%7D%0A%20%20%20%20%20%20%20%20%20%20%20%20%29.addTo%28map_efafb05ace4549f99509d2412a1de912%29%3B%0A%20%20%20%20%20%20%20%20%0A%20%20%20%20%0A%20%20%20%20%20%20%20%20var%20popup_6a67b21eec4b4d3c90cf4e29e1fa59d6%20%3D%20L.popup%28%7B%22maxWidth%22%3A%20%22100%25%22%7D%29%3B%0A%0A%20%20%20%20%20%20%20%20%0A%20%20%20%20%20%20%20%20%20%20%20%20var%20html_9ab8f7d56f874997ba4c8848f9266c35%20%3D%20%24%28%60%3Cdiv%20id%3D%22html_9ab8f7d56f874997ba4c8848f9266c35%22%20style%3D%22width%3A%20100.0%25%3B%20height%3A%20100.0%25%3B%22%3EABALROAMENTO%3C/div%3E%60%29%5B0%5D%3B%0A%20%20%20%20%20%20%20%20%20%20%20%20popup_6a67b21eec4b4d3c90cf4e29e1fa59d6.setContent%28html_9ab8f7d56f874997ba4c8848f9266c35%29%3B%0A%20%20%20%20%20%20%20%20%0A%0A%20%20%20%20%20%20%20%20marker_9c84e061d07a4e529eb77013fe00ce20.bindPopup%28popup_6a67b21eec4b4d3c90cf4e29e1fa59d6%29%0A%20%20%20%20%20%20%20%20%3B%0A%0A%20%20%20%20%20%20%20%20%0A%20%20%20%20%0A%20%20%20%20%0A%20%20%20%20%20%20%20%20%20%20%20%20var%20marker_bb946e8cdb91466286ae3a0eeee50af5%20%3D%20L.marker%28%0A%20%20%20%20%20%20%20%20%20%20%20%20%20%20%20%20%5B-30.098157450081096%2C%20-51.23184308409692%5D%2C%0A%20%20%20%20%20%20%20%20%20%20%20%20%20%20%20%20%7B%7D%0A%20%20%20%20%20%20%20%20%20%20%20%20%29.addTo%28map_efafb05ace4549f99509d2412a1de912%29%3B%0A%20%20%20%20%20%20%20%20%0A%20%20%20%20%0A%20%20%20%20%20%20%20%20var%20popup_d2e6bcb7af4845e4a1d82c902892bd38%20%3D%20L.popup%28%7B%22maxWidth%22%3A%20%22100%25%22%7D%29%3B%0A%0A%20%20%20%20%20%20%20%20%0A%20%20%20%20%20%20%20%20%20%20%20%20var%20html_9865fbcfc18243938749ef80e09922cb%20%3D%20%24%28%60%3Cdiv%20id%3D%22html_9865fbcfc18243938749ef80e09922cb%22%20style%3D%22width%3A%20100.0%25%3B%20height%3A%20100.0%25%3B%22%3ECOLIS%C3%83O%3C/div%3E%60%29%5B0%5D%3B%0A%20%20%20%20%20%20%20%20%20%20%20%20popup_d2e6bcb7af4845e4a1d82c902892bd38.setContent%28html_9865fbcfc18243938749ef80e09922cb%29%3B%0A%20%20%20%20%20%20%20%20%0A%0A%20%20%20%20%20%20%20%20marker_bb946e8cdb91466286ae3a0eeee50af5.bindPopup%28popup_d2e6bcb7af4845e4a1d82c902892bd38%29%0A%20%20%20%20%20%20%20%20%3B%0A%0A%20%20%20%20%20%20%20%20%0A%20%20%20%20%0A%20%20%20%20%0A%20%20%20%20%20%20%20%20%20%20%20%20var%20marker_12604bf3bfef4c93988bfdc034d0a2a0%20%3D%20L.marker%28%0A%20%20%20%20%20%20%20%20%20%20%20%20%20%20%20%20%5B-30.06674367880841%2C%20-51.15045145154%5D%2C%0A%20%20%20%20%20%20%20%20%20%20%20%20%20%20%20%20%7B%7D%0A%20%20%20%20%20%20%20%20%20%20%20%20%29.addTo%28map_efafb05ace4549f99509d2412a1de912%29%3B%0A%20%20%20%20%20%20%20%20%0A%20%20%20%20%0A%20%20%20%20%20%20%20%20var%20popup_576f75c1354e44d48cbc39b3485afdff%20%3D%20L.popup%28%7B%22maxWidth%22%3A%20%22100%25%22%7D%29%3B%0A%0A%20%20%20%20%20%20%20%20%0A%20%20%20%20%20%20%20%20%20%20%20%20var%20html_9fffb0dd95484741846f0499c237146a%20%3D%20%24%28%60%3Cdiv%20id%3D%22html_9fffb0dd95484741846f0499c237146a%22%20style%3D%22width%3A%20100.0%25%3B%20height%3A%20100.0%25%3B%22%3ECHOQUE%3C/div%3E%60%29%5B0%5D%3B%0A%20%20%20%20%20%20%20%20%20%20%20%20popup_576f75c1354e44d48cbc39b3485afdff.setContent%28html_9fffb0dd95484741846f0499c237146a%29%3B%0A%20%20%20%20%20%20%20%20%0A%0A%20%20%20%20%20%20%20%20marker_12604bf3bfef4c93988bfdc034d0a2a0.bindPopup%28popup_576f75c1354e44d48cbc39b3485afdff%29%0A%20%20%20%20%20%20%20%20%3B%0A%0A%20%20%20%20%20%20%20%20%0A%20%20%20%20%0A%20%20%20%20%0A%20%20%20%20%20%20%20%20%20%20%20%20var%20marker_baca341301054017a08efc03c1d88dac%20%3D%20L.marker%28%0A%20%20%20%20%20%20%20%20%20%20%20%20%20%20%20%20%5B-30.06387103168704%2C%20-51.15016311407089%5D%2C%0A%20%20%20%20%20%20%20%20%20%20%20%20%20%20%20%20%7B%7D%0A%20%20%20%20%20%20%20%20%20%20%20%20%29.addTo%28map_efafb05ace4549f99509d2412a1de912%29%3B%0A%20%20%20%20%20%20%20%20%0A%20%20%20%20%0A%20%20%20%20%20%20%20%20var%20popup_b70517ba737148db89cf0565e4b7c998%20%3D%20L.popup%28%7B%22maxWidth%22%3A%20%22100%25%22%7D%29%3B%0A%0A%20%20%20%20%20%20%20%20%0A%20%20%20%20%20%20%20%20%20%20%20%20var%20html_cdd53d22db154355b27e80486977d8e6%20%3D%20%24%28%60%3Cdiv%20id%3D%22html_cdd53d22db154355b27e80486977d8e6%22%20style%3D%22width%3A%20100.0%25%3B%20height%3A%20100.0%25%3B%22%3EABALROAMENTO%3C/div%3E%60%29%5B0%5D%3B%0A%20%20%20%20%20%20%20%20%20%20%20%20popup_b70517ba737148db89cf0565e4b7c998.setContent%28html_cdd53d22db154355b27e80486977d8e6%29%3B%0A%20%20%20%20%20%20%20%20%0A%0A%20%20%20%20%20%20%20%20marker_baca341301054017a08efc03c1d88dac.bindPopup%28popup_b70517ba737148db89cf0565e4b7c998%29%0A%20%20%20%20%20%20%20%20%3B%0A%0A%20%20%20%20%20%20%20%20%0A%20%20%20%20%0A%20%20%20%20%0A%20%20%20%20%20%20%20%20%20%20%20%20var%20marker_16871d0654e940cc8de50a74c9cf02ff%20%3D%20L.marker%28%0A%20%20%20%20%20%20%20%20%20%20%20%20%20%20%20%20%5B-30.15634012056352%2C%20-51.19753544146752%5D%2C%0A%20%20%20%20%20%20%20%20%20%20%20%20%20%20%20%20%7B%7D%0A%20%20%20%20%20%20%20%20%20%20%20%20%29.addTo%28map_efafb05ace4549f99509d2412a1de912%29%3B%0A%20%20%20%20%20%20%20%20%0A%20%20%20%20%0A%20%20%20%20%20%20%20%20var%20popup_5cadcb4026194786b7ae3d79fb4d7a27%20%3D%20L.popup%28%7B%22maxWidth%22%3A%20%22100%25%22%7D%29%3B%0A%0A%20%20%20%20%20%20%20%20%0A%20%20%20%20%20%20%20%20%20%20%20%20var%20html_eda83d0d4e4f45aea7568dc77ba21b22%20%3D%20%24%28%60%3Cdiv%20id%3D%22html_eda83d0d4e4f45aea7568dc77ba21b22%22%20style%3D%22width%3A%20100.0%25%3B%20height%3A%20100.0%25%3B%22%3EABALROAMENTO%3C/div%3E%60%29%5B0%5D%3B%0A%20%20%20%20%20%20%20%20%20%20%20%20popup_5cadcb4026194786b7ae3d79fb4d7a27.setContent%28html_eda83d0d4e4f45aea7568dc77ba21b22%29%3B%0A%20%20%20%20%20%20%20%20%0A%0A%20%20%20%20%20%20%20%20marker_16871d0654e940cc8de50a74c9cf02ff.bindPopup%28popup_5cadcb4026194786b7ae3d79fb4d7a27%29%0A%20%20%20%20%20%20%20%20%3B%0A%0A%20%20%20%20%20%20%20%20%0A%20%20%20%20%0A%20%20%20%20%0A%20%20%20%20%20%20%20%20%20%20%20%20var%20marker_0eb654cebae14a0d8e04f7ded0e1e3df%20%3D%20L.marker%28%0A%20%20%20%20%20%20%20%20%20%20%20%20%20%20%20%20%5B-30.071543114570225%2C%20-51.20388033350719%5D%2C%0A%20%20%20%20%20%20%20%20%20%20%20%20%20%20%20%20%7B%7D%0A%20%20%20%20%20%20%20%20%20%20%20%20%29.addTo%28map_efafb05ace4549f99509d2412a1de912%29%3B%0A%20%20%20%20%20%20%20%20%0A%20%20%20%20%0A%20%20%20%20%20%20%20%20var%20popup_bf4252a1c90f44b9ba76a5c216e1f6c0%20%3D%20L.popup%28%7B%22maxWidth%22%3A%20%22100%25%22%7D%29%3B%0A%0A%20%20%20%20%20%20%20%20%0A%20%20%20%20%20%20%20%20%20%20%20%20var%20html_fb13bd2f315d4d56b44f476b5dfa7582%20%3D%20%24%28%60%3Cdiv%20id%3D%22html_fb13bd2f315d4d56b44f476b5dfa7582%22%20style%3D%22width%3A%20100.0%25%3B%20height%3A%20100.0%25%3B%22%3ECOLIS%C3%83O%3C/div%3E%60%29%5B0%5D%3B%0A%20%20%20%20%20%20%20%20%20%20%20%20popup_bf4252a1c90f44b9ba76a5c216e1f6c0.setContent%28html_fb13bd2f315d4d56b44f476b5dfa7582%29%3B%0A%20%20%20%20%20%20%20%20%0A%0A%20%20%20%20%20%20%20%20marker_0eb654cebae14a0d8e04f7ded0e1e3df.bindPopup%28popup_bf4252a1c90f44b9ba76a5c216e1f6c0%29%0A%20%20%20%20%20%20%20%20%3B%0A%0A%20%20%20%20%20%20%20%20%0A%20%20%20%20%0A%20%20%20%20%0A%20%20%20%20%20%20%20%20%20%20%20%20var%20marker_3ad733c1a9cf4ac7ac194bbbfd2b72d2%20%3D%20L.marker%28%0A%20%20%20%20%20%20%20%20%20%20%20%20%20%20%20%20%5B-30.1580996%2C%20-51.1614032%5D%2C%0A%20%20%20%20%20%20%20%20%20%20%20%20%20%20%20%20%7B%7D%0A%20%20%20%20%20%20%20%20%20%20%20%20%29.addTo%28map_efafb05ace4549f99509d2412a1de912%29%3B%0A%20%20%20%20%20%20%20%20%0A%20%20%20%20%0A%20%20%20%20%20%20%20%20var%20popup_632e4305b6ce4cba9cf2871b63e8ef4c%20%3D%20L.popup%28%7B%22maxWidth%22%3A%20%22100%25%22%7D%29%3B%0A%0A%20%20%20%20%20%20%20%20%0A%20%20%20%20%20%20%20%20%20%20%20%20var%20html_57fd1186e9f141f896a0fe0c1287613a%20%3D%20%24%28%60%3Cdiv%20id%3D%22html_57fd1186e9f141f896a0fe0c1287613a%22%20style%3D%22width%3A%20100.0%25%3B%20height%3A%20100.0%25%3B%22%3EABALROAMENTO%3C/div%3E%60%29%5B0%5D%3B%0A%20%20%20%20%20%20%20%20%20%20%20%20popup_632e4305b6ce4cba9cf2871b63e8ef4c.setContent%28html_57fd1186e9f141f896a0fe0c1287613a%29%3B%0A%20%20%20%20%20%20%20%20%0A%0A%20%20%20%20%20%20%20%20marker_3ad733c1a9cf4ac7ac194bbbfd2b72d2.bindPopup%28popup_632e4305b6ce4cba9cf2871b63e8ef4c%29%0A%20%20%20%20%20%20%20%20%3B%0A%0A%20%20%20%20%20%20%20%20%0A%20%20%20%20%0A%20%20%20%20%0A%20%20%20%20%20%20%20%20%20%20%20%20var%20marker_2c34c0f78d444da5bebb08d6cdbb7517%20%3D%20L.marker%28%0A%20%20%20%20%20%20%20%20%20%20%20%20%20%20%20%20%5B-30.024318705723967%2C%20-51.22326217400305%5D%2C%0A%20%20%20%20%20%20%20%20%20%20%20%20%20%20%20%20%7B%7D%0A%20%20%20%20%20%20%20%20%20%20%20%20%29.addTo%28map_efafb05ace4549f99509d2412a1de912%29%3B%0A%20%20%20%20%20%20%20%20%0A%20%20%20%20%0A%20%20%20%20%20%20%20%20var%20popup_eaba6db3685246de9df7f9a0e9bf3437%20%3D%20L.popup%28%7B%22maxWidth%22%3A%20%22100%25%22%7D%29%3B%0A%0A%20%20%20%20%20%20%20%20%0A%20%20%20%20%20%20%20%20%20%20%20%20var%20html_7275f964c5d242edbbfcf97a2c449a60%20%3D%20%24%28%60%3Cdiv%20id%3D%22html_7275f964c5d242edbbfcf97a2c449a60%22%20style%3D%22width%3A%20100.0%25%3B%20height%3A%20100.0%25%3B%22%3EABALROAMENTO%3C/div%3E%60%29%5B0%5D%3B%0A%20%20%20%20%20%20%20%20%20%20%20%20popup_eaba6db3685246de9df7f9a0e9bf3437.setContent%28html_7275f964c5d242edbbfcf97a2c449a60%29%3B%0A%20%20%20%20%20%20%20%20%0A%0A%20%20%20%20%20%20%20%20marker_2c34c0f78d444da5bebb08d6cdbb7517.bindPopup%28popup_eaba6db3685246de9df7f9a0e9bf3437%29%0A%20%20%20%20%20%20%20%20%3B%0A%0A%20%20%20%20%20%20%20%20%0A%20%20%20%20%0A%20%20%20%20%0A%20%20%20%20%20%20%20%20%20%20%20%20var%20marker_d452fe9330d34da28a69b5b2d8ddd775%20%3D%20L.marker%28%0A%20%20%20%20%20%20%20%20%20%20%20%20%20%20%20%20%5B-30.156985651142566%2C%20-51.22128529239836%5D%2C%0A%20%20%20%20%20%20%20%20%20%20%20%20%20%20%20%20%7B%7D%0A%20%20%20%20%20%20%20%20%20%20%20%20%29.addTo%28map_efafb05ace4549f99509d2412a1de912%29%3B%0A%20%20%20%20%20%20%20%20%0A%20%20%20%20%0A%20%20%20%20%20%20%20%20var%20popup_806abdf0c6cf45768a2a39ea00255455%20%3D%20L.popup%28%7B%22maxWidth%22%3A%20%22100%25%22%7D%29%3B%0A%0A%20%20%20%20%20%20%20%20%0A%20%20%20%20%20%20%20%20%20%20%20%20var%20html_5493907786e84970ab791154045f25a3%20%3D%20%24%28%60%3Cdiv%20id%3D%22html_5493907786e84970ab791154045f25a3%22%20style%3D%22width%3A%20100.0%25%3B%20height%3A%20100.0%25%3B%22%3ECHOQUE%3C/div%3E%60%29%5B0%5D%3B%0A%20%20%20%20%20%20%20%20%20%20%20%20popup_806abdf0c6cf45768a2a39ea00255455.setContent%28html_5493907786e84970ab791154045f25a3%29%3B%0A%20%20%20%20%20%20%20%20%0A%0A%20%20%20%20%20%20%20%20marker_d452fe9330d34da28a69b5b2d8ddd775.bindPopup%28popup_806abdf0c6cf45768a2a39ea00255455%29%0A%20%20%20%20%20%20%20%20%3B%0A%0A%20%20%20%20%20%20%20%20%0A%20%20%20%20%0A%20%20%20%20%0A%20%20%20%20%20%20%20%20%20%20%20%20var%20marker_7774a054a1e34082b6ccda947bdfc938%20%3D%20L.marker%28%0A%20%20%20%20%20%20%20%20%20%20%20%20%20%20%20%20%5B-29.974934492888444%2C%20-51.16798412101692%5D%2C%0A%20%20%20%20%20%20%20%20%20%20%20%20%20%20%20%20%7B%7D%0A%20%20%20%20%20%20%20%20%20%20%20%20%29.addTo%28map_efafb05ace4549f99509d2412a1de912%29%3B%0A%20%20%20%20%20%20%20%20%0A%20%20%20%20%0A%20%20%20%20%20%20%20%20var%20popup_104795e8f91445cc9df094f2c08c685d%20%3D%20L.popup%28%7B%22maxWidth%22%3A%20%22100%25%22%7D%29%3B%0A%0A%20%20%20%20%20%20%20%20%0A%20%20%20%20%20%20%20%20%20%20%20%20var%20html_1540fe46ffea4750b3262b95552fcaad%20%3D%20%24%28%60%3Cdiv%20id%3D%22html_1540fe46ffea4750b3262b95552fcaad%22%20style%3D%22width%3A%20100.0%25%3B%20height%3A%20100.0%25%3B%22%3ECHOQUE%3C/div%3E%60%29%5B0%5D%3B%0A%20%20%20%20%20%20%20%20%20%20%20%20popup_104795e8f91445cc9df094f2c08c685d.setContent%28html_1540fe46ffea4750b3262b95552fcaad%29%3B%0A%20%20%20%20%20%20%20%20%0A%0A%20%20%20%20%20%20%20%20marker_7774a054a1e34082b6ccda947bdfc938.bindPopup%28popup_104795e8f91445cc9df094f2c08c685d%29%0A%20%20%20%20%20%20%20%20%3B%0A%0A%20%20%20%20%20%20%20%20%0A%20%20%20%20%0A%20%20%20%20%0A%20%20%20%20%20%20%20%20%20%20%20%20var%20marker_111584bb442d4678982af8ac7fef0964%20%3D%20L.marker%28%0A%20%20%20%20%20%20%20%20%20%20%20%20%20%20%20%20%5B-29.999004799448294%2C%20-51.19073688983917%5D%2C%0A%20%20%20%20%20%20%20%20%20%20%20%20%20%20%20%20%7B%7D%0A%20%20%20%20%20%20%20%20%20%20%20%20%29.addTo%28map_efafb05ace4549f99509d2412a1de912%29%3B%0A%20%20%20%20%20%20%20%20%0A%20%20%20%20%0A%20%20%20%20%20%20%20%20var%20popup_9e054b2ed2fb45c481ac18002db989b9%20%3D%20L.popup%28%7B%22maxWidth%22%3A%20%22100%25%22%7D%29%3B%0A%0A%20%20%20%20%20%20%20%20%0A%20%20%20%20%20%20%20%20%20%20%20%20var%20html_7081347b234542d9a0ea2e019814f4b5%20%3D%20%24%28%60%3Cdiv%20id%3D%22html_7081347b234542d9a0ea2e019814f4b5%22%20style%3D%22width%3A%20100.0%25%3B%20height%3A%20100.0%25%3B%22%3EABALROAMENTO%3C/div%3E%60%29%5B0%5D%3B%0A%20%20%20%20%20%20%20%20%20%20%20%20popup_9e054b2ed2fb45c481ac18002db989b9.setContent%28html_7081347b234542d9a0ea2e019814f4b5%29%3B%0A%20%20%20%20%20%20%20%20%0A%0A%20%20%20%20%20%20%20%20marker_111584bb442d4678982af8ac7fef0964.bindPopup%28popup_9e054b2ed2fb45c481ac18002db989b9%29%0A%20%20%20%20%20%20%20%20%3B%0A%0A%20%20%20%20%20%20%20%20%0A%20%20%20%20%0A%20%20%20%20%0A%20%20%20%20%20%20%20%20%20%20%20%20var%20marker_54db6727221c4a59ba9e7abb462343e9%20%3D%20L.marker%28%0A%20%20%20%20%20%20%20%20%20%20%20%20%20%20%20%20%5B-30.163741957214693%2C%20-51.1550702452238%5D%2C%0A%20%20%20%20%20%20%20%20%20%20%20%20%20%20%20%20%7B%7D%0A%20%20%20%20%20%20%20%20%20%20%20%20%29.addTo%28map_efafb05ace4549f99509d2412a1de912%29%3B%0A%20%20%20%20%20%20%20%20%0A%20%20%20%20%0A%20%20%20%20%20%20%20%20var%20popup_32dcb5c7098340b7a16bbd9591a3f901%20%3D%20L.popup%28%7B%22maxWidth%22%3A%20%22100%25%22%7D%29%3B%0A%0A%20%20%20%20%20%20%20%20%0A%20%20%20%20%20%20%20%20%20%20%20%20var%20html_6a1bbabacc6d47b08764279334c48458%20%3D%20%24%28%60%3Cdiv%20id%3D%22html_6a1bbabacc6d47b08764279334c48458%22%20style%3D%22width%3A%20100.0%25%3B%20height%3A%20100.0%25%3B%22%3ECOLIS%C3%83O%3C/div%3E%60%29%5B0%5D%3B%0A%20%20%20%20%20%20%20%20%20%20%20%20popup_32dcb5c7098340b7a16bbd9591a3f901.setContent%28html_6a1bbabacc6d47b08764279334c48458%29%3B%0A%20%20%20%20%20%20%20%20%0A%0A%20%20%20%20%20%20%20%20marker_54db6727221c4a59ba9e7abb462343e9.bindPopup%28popup_32dcb5c7098340b7a16bbd9591a3f901%29%0A%20%20%20%20%20%20%20%20%3B%0A%0A%20%20%20%20%20%20%20%20%0A%20%20%20%20%0A%20%20%20%20%0A%20%20%20%20%20%20%20%20%20%20%20%20var%20marker_e447477491b3485bae8f84d452931ac8%20%3D%20L.marker%28%0A%20%20%20%20%20%20%20%20%20%20%20%20%20%20%20%20%5B-30.034774254209776%2C%20-51.20424181222917%5D%2C%0A%20%20%20%20%20%20%20%20%20%20%20%20%20%20%20%20%7B%7D%0A%20%20%20%20%20%20%20%20%20%20%20%20%29.addTo%28map_efafb05ace4549f99509d2412a1de912%29%3B%0A%20%20%20%20%20%20%20%20%0A%20%20%20%20%0A%20%20%20%20%20%20%20%20var%20popup_28eaf64d02644214b606473fc56c046d%20%3D%20L.popup%28%7B%22maxWidth%22%3A%20%22100%25%22%7D%29%3B%0A%0A%20%20%20%20%20%20%20%20%0A%20%20%20%20%20%20%20%20%20%20%20%20var%20html_2dd4580c574d4f29968589107e672eb7%20%3D%20%24%28%60%3Cdiv%20id%3D%22html_2dd4580c574d4f29968589107e672eb7%22%20style%3D%22width%3A%20100.0%25%3B%20height%3A%20100.0%25%3B%22%3ECOLIS%C3%83O%3C/div%3E%60%29%5B0%5D%3B%0A%20%20%20%20%20%20%20%20%20%20%20%20popup_28eaf64d02644214b606473fc56c046d.setContent%28html_2dd4580c574d4f29968589107e672eb7%29%3B%0A%20%20%20%20%20%20%20%20%0A%0A%20%20%20%20%20%20%20%20marker_e447477491b3485bae8f84d452931ac8.bindPopup%28popup_28eaf64d02644214b606473fc56c046d%29%0A%20%20%20%20%20%20%20%20%3B%0A%0A%20%20%20%20%20%20%20%20%0A%20%20%20%20%0A%20%20%20%20%0A%20%20%20%20%20%20%20%20%20%20%20%20var%20marker_681da06a43b04f41aa02a444aab0cf23%20%3D%20L.marker%28%0A%20%20%20%20%20%20%20%20%20%20%20%20%20%20%20%20%5B-30.03886202109924%2C%20-51.22768134171855%5D%2C%0A%20%20%20%20%20%20%20%20%20%20%20%20%20%20%20%20%7B%7D%0A%20%20%20%20%20%20%20%20%20%20%20%20%29.addTo%28map_efafb05ace4549f99509d2412a1de912%29%3B%0A%20%20%20%20%20%20%20%20%0A%20%20%20%20%0A%20%20%20%20%20%20%20%20var%20popup_2ed129c00fd249e4b266355c4458efae%20%3D%20L.popup%28%7B%22maxWidth%22%3A%20%22100%25%22%7D%29%3B%0A%0A%20%20%20%20%20%20%20%20%0A%20%20%20%20%20%20%20%20%20%20%20%20var%20html_1ffa607c82d14fbba52755876bf80b66%20%3D%20%24%28%60%3Cdiv%20id%3D%22html_1ffa607c82d14fbba52755876bf80b66%22%20style%3D%22width%3A%20100.0%25%3B%20height%3A%20100.0%25%3B%22%3EATROPELAMENTO%3C/div%3E%60%29%5B0%5D%3B%0A%20%20%20%20%20%20%20%20%20%20%20%20popup_2ed129c00fd249e4b266355c4458efae.setContent%28html_1ffa607c82d14fbba52755876bf80b66%29%3B%0A%20%20%20%20%20%20%20%20%0A%0A%20%20%20%20%20%20%20%20marker_681da06a43b04f41aa02a444aab0cf23.bindPopup%28popup_2ed129c00fd249e4b266355c4458efae%29%0A%20%20%20%20%20%20%20%20%3B%0A%0A%20%20%20%20%20%20%20%20%0A%20%20%20%20%0A%20%20%20%20%0A%20%20%20%20%20%20%20%20%20%20%20%20var%20marker_d153c546374443248417eed1d50279ba%20%3D%20L.marker%28%0A%20%20%20%20%20%20%20%20%20%20%20%20%20%20%20%20%5B-30.02656363329383%2C%20-51.18698368789438%5D%2C%0A%20%20%20%20%20%20%20%20%20%20%20%20%20%20%20%20%7B%7D%0A%20%20%20%20%20%20%20%20%20%20%20%20%29.addTo%28map_efafb05ace4549f99509d2412a1de912%29%3B%0A%20%20%20%20%20%20%20%20%0A%20%20%20%20%0A%20%20%20%20%20%20%20%20var%20popup_753334761ad24f30b76ad71748e1c1c5%20%3D%20L.popup%28%7B%22maxWidth%22%3A%20%22100%25%22%7D%29%3B%0A%0A%20%20%20%20%20%20%20%20%0A%20%20%20%20%20%20%20%20%20%20%20%20var%20html_3a958dc0de034d06bb38242c3a5741ea%20%3D%20%24%28%60%3Cdiv%20id%3D%22html_3a958dc0de034d06bb38242c3a5741ea%22%20style%3D%22width%3A%20100.0%25%3B%20height%3A%20100.0%25%3B%22%3ECOLIS%C3%83O%3C/div%3E%60%29%5B0%5D%3B%0A%20%20%20%20%20%20%20%20%20%20%20%20popup_753334761ad24f30b76ad71748e1c1c5.setContent%28html_3a958dc0de034d06bb38242c3a5741ea%29%3B%0A%20%20%20%20%20%20%20%20%0A%0A%20%20%20%20%20%20%20%20marker_d153c546374443248417eed1d50279ba.bindPopup%28popup_753334761ad24f30b76ad71748e1c1c5%29%0A%20%20%20%20%20%20%20%20%3B%0A%0A%20%20%20%20%20%20%20%20%0A%20%20%20%20%0A%20%20%20%20%0A%20%20%20%20%20%20%20%20%20%20%20%20var%20marker_7af4560ca13f40f5bc11d5e58d6eaafd%20%3D%20L.marker%28%0A%20%20%20%20%20%20%20%20%20%20%20%20%20%20%20%20%5B-30.03106232053788%2C%20-51.143587251763286%5D%2C%0A%20%20%20%20%20%20%20%20%20%20%20%20%20%20%20%20%7B%7D%0A%20%20%20%20%20%20%20%20%20%20%20%20%29.addTo%28map_efafb05ace4549f99509d2412a1de912%29%3B%0A%20%20%20%20%20%20%20%20%0A%20%20%20%20%0A%20%20%20%20%20%20%20%20var%20popup_8b2b0c18ea9b4031886dc2b7f9bcac7f%20%3D%20L.popup%28%7B%22maxWidth%22%3A%20%22100%25%22%7D%29%3B%0A%0A%20%20%20%20%20%20%20%20%0A%20%20%20%20%20%20%20%20%20%20%20%20var%20html_67be8c1cc4694d92a0899802e2813b7c%20%3D%20%24%28%60%3Cdiv%20id%3D%22html_67be8c1cc4694d92a0899802e2813b7c%22%20style%3D%22width%3A%20100.0%25%3B%20height%3A%20100.0%25%3B%22%3EABALROAMENTO%3C/div%3E%60%29%5B0%5D%3B%0A%20%20%20%20%20%20%20%20%20%20%20%20popup_8b2b0c18ea9b4031886dc2b7f9bcac7f.setContent%28html_67be8c1cc4694d92a0899802e2813b7c%29%3B%0A%20%20%20%20%20%20%20%20%0A%0A%20%20%20%20%20%20%20%20marker_7af4560ca13f40f5bc11d5e58d6eaafd.bindPopup%28popup_8b2b0c18ea9b4031886dc2b7f9bcac7f%29%0A%20%20%20%20%20%20%20%20%3B%0A%0A%20%20%20%20%20%20%20%20%0A%20%20%20%20%0A%20%20%20%20%0A%20%20%20%20%20%20%20%20%20%20%20%20var%20marker_0d0a0d273c924bc9ae2da33f2efd493b%20%3D%20L.marker%28%0A%20%20%20%20%20%20%20%20%20%20%20%20%20%20%20%20%5B-30.025212391981523%2C%20-51.21538042187425%5D%2C%0A%20%20%20%20%20%20%20%20%20%20%20%20%20%20%20%20%7B%7D%0A%20%20%20%20%20%20%20%20%20%20%20%20%29.addTo%28map_efafb05ace4549f99509d2412a1de912%29%3B%0A%20%20%20%20%20%20%20%20%0A%20%20%20%20%0A%20%20%20%20%20%20%20%20var%20popup_0ad25d373e8248eab83dbaa8d28423cd%20%3D%20L.popup%28%7B%22maxWidth%22%3A%20%22100%25%22%7D%29%3B%0A%0A%20%20%20%20%20%20%20%20%0A%20%20%20%20%20%20%20%20%20%20%20%20var%20html_6f155d5e3fa242199101916170a267b0%20%3D%20%24%28%60%3Cdiv%20id%3D%22html_6f155d5e3fa242199101916170a267b0%22%20style%3D%22width%3A%20100.0%25%3B%20height%3A%20100.0%25%3B%22%3ENAO%20CADASTRADO%3C/div%3E%60%29%5B0%5D%3B%0A%20%20%20%20%20%20%20%20%20%20%20%20popup_0ad25d373e8248eab83dbaa8d28423cd.setContent%28html_6f155d5e3fa242199101916170a267b0%29%3B%0A%20%20%20%20%20%20%20%20%0A%0A%20%20%20%20%20%20%20%20marker_0d0a0d273c924bc9ae2da33f2efd493b.bindPopup%28popup_0ad25d373e8248eab83dbaa8d28423cd%29%0A%20%20%20%20%20%20%20%20%3B%0A%0A%20%20%20%20%20%20%20%20%0A%20%20%20%20%0A%20%20%20%20%0A%20%20%20%20%20%20%20%20%20%20%20%20var%20marker_07d3e98b571943da8271847b21e93669%20%3D%20L.marker%28%0A%20%20%20%20%20%20%20%20%20%20%20%20%20%20%20%20%5B-29.997702814179863%2C%20-51.13772034645081%5D%2C%0A%20%20%20%20%20%20%20%20%20%20%20%20%20%20%20%20%7B%7D%0A%20%20%20%20%20%20%20%20%20%20%20%20%29.addTo%28map_efafb05ace4549f99509d2412a1de912%29%3B%0A%20%20%20%20%20%20%20%20%0A%20%20%20%20%0A%20%20%20%20%20%20%20%20var%20popup_0da0f949f69d433bbda6a7248db2ee0e%20%3D%20L.popup%28%7B%22maxWidth%22%3A%20%22100%25%22%7D%29%3B%0A%0A%20%20%20%20%20%20%20%20%0A%20%20%20%20%20%20%20%20%20%20%20%20var%20html_2757e8a5766844b8b7bad50a42f059b6%20%3D%20%24%28%60%3Cdiv%20id%3D%22html_2757e8a5766844b8b7bad50a42f059b6%22%20style%3D%22width%3A%20100.0%25%3B%20height%3A%20100.0%25%3B%22%3EABALROAMENTO%3C/div%3E%60%29%5B0%5D%3B%0A%20%20%20%20%20%20%20%20%20%20%20%20popup_0da0f949f69d433bbda6a7248db2ee0e.setContent%28html_2757e8a5766844b8b7bad50a42f059b6%29%3B%0A%20%20%20%20%20%20%20%20%0A%0A%20%20%20%20%20%20%20%20marker_07d3e98b571943da8271847b21e93669.bindPopup%28popup_0da0f949f69d433bbda6a7248db2ee0e%29%0A%20%20%20%20%20%20%20%20%3B%0A%0A%20%20%20%20%20%20%20%20%0A%20%20%20%20%0A%20%20%20%20%0A%20%20%20%20%20%20%20%20%20%20%20%20var%20marker_cf09f472060744ecb80b0e18fd6281f4%20%3D%20L.marker%28%0A%20%20%20%20%20%20%20%20%20%20%20%20%20%20%20%20%5B-30.04790571950518%2C%20-51.166377067565925%5D%2C%0A%20%20%20%20%20%20%20%20%20%20%20%20%20%20%20%20%7B%7D%0A%20%20%20%20%20%20%20%20%20%20%20%20%29.addTo%28map_efafb05ace4549f99509d2412a1de912%29%3B%0A%20%20%20%20%20%20%20%20%0A%20%20%20%20%0A%20%20%20%20%20%20%20%20var%20popup_13c2f3a16f1946b890ad832aa041c628%20%3D%20L.popup%28%7B%22maxWidth%22%3A%20%22100%25%22%7D%29%3B%0A%0A%20%20%20%20%20%20%20%20%0A%20%20%20%20%20%20%20%20%20%20%20%20var%20html_d014b5e48c7040f8ba0e943c08fdca4e%20%3D%20%24%28%60%3Cdiv%20id%3D%22html_d014b5e48c7040f8ba0e943c08fdca4e%22%20style%3D%22width%3A%20100.0%25%3B%20height%3A%20100.0%25%3B%22%3EABALROAMENTO%3C/div%3E%60%29%5B0%5D%3B%0A%20%20%20%20%20%20%20%20%20%20%20%20popup_13c2f3a16f1946b890ad832aa041c628.setContent%28html_d014b5e48c7040f8ba0e943c08fdca4e%29%3B%0A%20%20%20%20%20%20%20%20%0A%0A%20%20%20%20%20%20%20%20marker_cf09f472060744ecb80b0e18fd6281f4.bindPopup%28popup_13c2f3a16f1946b890ad832aa041c628%29%0A%20%20%20%20%20%20%20%20%3B%0A%0A%20%20%20%20%20%20%20%20%0A%20%20%20%20%0A%20%20%20%20%0A%20%20%20%20%20%20%20%20%20%20%20%20var%20marker_7c4f846a99184ea6a89c3e80b2a2c09e%20%3D%20L.marker%28%0A%20%20%20%20%20%20%20%20%20%20%20%20%20%20%20%20%5B-30.107976498874496%2C%20-51.24282480490819%5D%2C%0A%20%20%20%20%20%20%20%20%20%20%20%20%20%20%20%20%7B%7D%0A%20%20%20%20%20%20%20%20%20%20%20%20%29.addTo%28map_efafb05ace4549f99509d2412a1de912%29%3B%0A%20%20%20%20%20%20%20%20%0A%20%20%20%20%0A%20%20%20%20%20%20%20%20var%20popup_5eb6c0355c0d46028ae3dbd59ddb9cf5%20%3D%20L.popup%28%7B%22maxWidth%22%3A%20%22100%25%22%7D%29%3B%0A%0A%20%20%20%20%20%20%20%20%0A%20%20%20%20%20%20%20%20%20%20%20%20var%20html_f0ab3f84849b4ca0817083e9c9e310dd%20%3D%20%24%28%60%3Cdiv%20id%3D%22html_f0ab3f84849b4ca0817083e9c9e310dd%22%20style%3D%22width%3A%20100.0%25%3B%20height%3A%20100.0%25%3B%22%3ECHOQUE%3C/div%3E%60%29%5B0%5D%3B%0A%20%20%20%20%20%20%20%20%20%20%20%20popup_5eb6c0355c0d46028ae3dbd59ddb9cf5.setContent%28html_f0ab3f84849b4ca0817083e9c9e310dd%29%3B%0A%20%20%20%20%20%20%20%20%0A%0A%20%20%20%20%20%20%20%20marker_7c4f846a99184ea6a89c3e80b2a2c09e.bindPopup%28popup_5eb6c0355c0d46028ae3dbd59ddb9cf5%29%0A%20%20%20%20%20%20%20%20%3B%0A%0A%20%20%20%20%20%20%20%20%0A%20%20%20%20%0A%20%20%20%20%0A%20%20%20%20%20%20%20%20%20%20%20%20var%20marker_281fd2b2ffd14f8faeb471376501fdc6%20%3D%20L.marker%28%0A%20%20%20%20%20%20%20%20%20%20%20%20%20%20%20%20%5B-30.092499458033487%2C%20-51.22252877400455%5D%2C%0A%20%20%20%20%20%20%20%20%20%20%20%20%20%20%20%20%7B%7D%0A%20%20%20%20%20%20%20%20%20%20%20%20%29.addTo%28map_efafb05ace4549f99509d2412a1de912%29%3B%0A%20%20%20%20%20%20%20%20%0A%20%20%20%20%0A%20%20%20%20%20%20%20%20var%20popup_5cb929925b634772aeddffdc7b4ce509%20%3D%20L.popup%28%7B%22maxWidth%22%3A%20%22100%25%22%7D%29%3B%0A%0A%20%20%20%20%20%20%20%20%0A%20%20%20%20%20%20%20%20%20%20%20%20var%20html_5ce15e4a1230489db34891abda4ae8a4%20%3D%20%24%28%60%3Cdiv%20id%3D%22html_5ce15e4a1230489db34891abda4ae8a4%22%20style%3D%22width%3A%20100.0%25%3B%20height%3A%20100.0%25%3B%22%3ECOLIS%C3%83O%3C/div%3E%60%29%5B0%5D%3B%0A%20%20%20%20%20%20%20%20%20%20%20%20popup_5cb929925b634772aeddffdc7b4ce509.setContent%28html_5ce15e4a1230489db34891abda4ae8a4%29%3B%0A%20%20%20%20%20%20%20%20%0A%0A%20%20%20%20%20%20%20%20marker_281fd2b2ffd14f8faeb471376501fdc6.bindPopup%28popup_5cb929925b634772aeddffdc7b4ce509%29%0A%20%20%20%20%20%20%20%20%3B%0A%0A%20%20%20%20%20%20%20%20%0A%20%20%20%20%0A%20%20%20%20%0A%20%20%20%20%20%20%20%20%20%20%20%20var%20marker_08d67219fea5464faafd73eb415b0a9d%20%3D%20L.marker%28%0A%20%20%20%20%20%20%20%20%20%20%20%20%20%20%20%20%5B-30.045955828504116%2C%20-51.212619666855225%5D%2C%0A%20%20%20%20%20%20%20%20%20%20%20%20%20%20%20%20%7B%7D%0A%20%20%20%20%20%20%20%20%20%20%20%20%29.addTo%28map_efafb05ace4549f99509d2412a1de912%29%3B%0A%20%20%20%20%20%20%20%20%0A%20%20%20%20%0A%20%20%20%20%20%20%20%20var%20popup_9814914fe0ec419282d42b45be175c74%20%3D%20L.popup%28%7B%22maxWidth%22%3A%20%22100%25%22%7D%29%3B%0A%0A%20%20%20%20%20%20%20%20%0A%20%20%20%20%20%20%20%20%20%20%20%20var%20html_b8bc776b86074250aad44c48789617d0%20%3D%20%24%28%60%3Cdiv%20id%3D%22html_b8bc776b86074250aad44c48789617d0%22%20style%3D%22width%3A%20100.0%25%3B%20height%3A%20100.0%25%3B%22%3EABALROAMENTO%3C/div%3E%60%29%5B0%5D%3B%0A%20%20%20%20%20%20%20%20%20%20%20%20popup_9814914fe0ec419282d42b45be175c74.setContent%28html_b8bc776b86074250aad44c48789617d0%29%3B%0A%20%20%20%20%20%20%20%20%0A%0A%20%20%20%20%20%20%20%20marker_08d67219fea5464faafd73eb415b0a9d.bindPopup%28popup_9814914fe0ec419282d42b45be175c74%29%0A%20%20%20%20%20%20%20%20%3B%0A%0A%20%20%20%20%20%20%20%20%0A%20%20%20%20%0A%20%20%20%20%0A%20%20%20%20%20%20%20%20%20%20%20%20var%20marker_5417515638544c5db6b0af6569bc399b%20%3D%20L.marker%28%0A%20%20%20%20%20%20%20%20%20%20%20%20%20%20%20%20%5B-30.02388708591254%2C%20-51.21200323090762%5D%2C%0A%20%20%20%20%20%20%20%20%20%20%20%20%20%20%20%20%7B%7D%0A%20%20%20%20%20%20%20%20%20%20%20%20%29.addTo%28map_efafb05ace4549f99509d2412a1de912%29%3B%0A%20%20%20%20%20%20%20%20%0A%20%20%20%20%0A%20%20%20%20%20%20%20%20var%20popup_cbc90d66f9d6462b88d5d08d3c31eb14%20%3D%20L.popup%28%7B%22maxWidth%22%3A%20%22100%25%22%7D%29%3B%0A%0A%20%20%20%20%20%20%20%20%0A%20%20%20%20%20%20%20%20%20%20%20%20var%20html_570203fd96bb4ff3a46396dd92b39cfe%20%3D%20%24%28%60%3Cdiv%20id%3D%22html_570203fd96bb4ff3a46396dd92b39cfe%22%20style%3D%22width%3A%20100.0%25%3B%20height%3A%20100.0%25%3B%22%3ECHOQUE%3C/div%3E%60%29%5B0%5D%3B%0A%20%20%20%20%20%20%20%20%20%20%20%20popup_cbc90d66f9d6462b88d5d08d3c31eb14.setContent%28html_570203fd96bb4ff3a46396dd92b39cfe%29%3B%0A%20%20%20%20%20%20%20%20%0A%0A%20%20%20%20%20%20%20%20marker_5417515638544c5db6b0af6569bc399b.bindPopup%28popup_cbc90d66f9d6462b88d5d08d3c31eb14%29%0A%20%20%20%20%20%20%20%20%3B%0A%0A%20%20%20%20%20%20%20%20%0A%20%20%20%20%0A%20%20%20%20%0A%20%20%20%20%20%20%20%20%20%20%20%20var%20marker_1d47f09673cb45daa6fe257cf0bc7b00%20%3D%20L.marker%28%0A%20%20%20%20%20%20%20%20%20%20%20%20%20%20%20%20%5B-30.03998525615027%2C%20-51.18381308430058%5D%2C%0A%20%20%20%20%20%20%20%20%20%20%20%20%20%20%20%20%7B%7D%0A%20%20%20%20%20%20%20%20%20%20%20%20%29.addTo%28map_efafb05ace4549f99509d2412a1de912%29%3B%0A%20%20%20%20%20%20%20%20%0A%20%20%20%20%0A%20%20%20%20%20%20%20%20var%20popup_badc66cc860f4af89632cd16364ee887%20%3D%20L.popup%28%7B%22maxWidth%22%3A%20%22100%25%22%7D%29%3B%0A%0A%20%20%20%20%20%20%20%20%0A%20%20%20%20%20%20%20%20%20%20%20%20var%20html_6a44afaef9854c24b4ba75a43b2e1ecc%20%3D%20%24%28%60%3Cdiv%20id%3D%22html_6a44afaef9854c24b4ba75a43b2e1ecc%22%20style%3D%22width%3A%20100.0%25%3B%20height%3A%20100.0%25%3B%22%3EABALROAMENTO%3C/div%3E%60%29%5B0%5D%3B%0A%20%20%20%20%20%20%20%20%20%20%20%20popup_badc66cc860f4af89632cd16364ee887.setContent%28html_6a44afaef9854c24b4ba75a43b2e1ecc%29%3B%0A%20%20%20%20%20%20%20%20%0A%0A%20%20%20%20%20%20%20%20marker_1d47f09673cb45daa6fe257cf0bc7b00.bindPopup%28popup_badc66cc860f4af89632cd16364ee887%29%0A%20%20%20%20%20%20%20%20%3B%0A%0A%20%20%20%20%20%20%20%20%0A%20%20%20%20%0A%20%20%20%20%0A%20%20%20%20%20%20%20%20%20%20%20%20var%20marker_85eeb4d51dbb4e19bbc5ccb8017d205e%20%3D%20L.marker%28%0A%20%20%20%20%20%20%20%20%20%20%20%20%20%20%20%20%5B-30.02122921687148%2C%20-51.15868985652924%5D%2C%0A%20%20%20%20%20%20%20%20%20%20%20%20%20%20%20%20%7B%7D%0A%20%20%20%20%20%20%20%20%20%20%20%20%29.addTo%28map_efafb05ace4549f99509d2412a1de912%29%3B%0A%20%20%20%20%20%20%20%20%0A%20%20%20%20%0A%20%20%20%20%20%20%20%20var%20popup_e36d08a985b2419a99357aca6669619b%20%3D%20L.popup%28%7B%22maxWidth%22%3A%20%22100%25%22%7D%29%3B%0A%0A%20%20%20%20%20%20%20%20%0A%20%20%20%20%20%20%20%20%20%20%20%20var%20html_2eeaeac5b4034ffb8bc273349baa774c%20%3D%20%24%28%60%3Cdiv%20id%3D%22html_2eeaeac5b4034ffb8bc273349baa774c%22%20style%3D%22width%3A%20100.0%25%3B%20height%3A%20100.0%25%3B%22%3EABALROAMENTO%3C/div%3E%60%29%5B0%5D%3B%0A%20%20%20%20%20%20%20%20%20%20%20%20popup_e36d08a985b2419a99357aca6669619b.setContent%28html_2eeaeac5b4034ffb8bc273349baa774c%29%3B%0A%20%20%20%20%20%20%20%20%0A%0A%20%20%20%20%20%20%20%20marker_85eeb4d51dbb4e19bbc5ccb8017d205e.bindPopup%28popup_e36d08a985b2419a99357aca6669619b%29%0A%20%20%20%20%20%20%20%20%3B%0A%0A%20%20%20%20%20%20%20%20%0A%20%20%20%20%0A%20%20%20%20%0A%20%20%20%20%20%20%20%20%20%20%20%20var%20marker_b350152527b4445e8cfa2ca919390576%20%3D%20L.marker%28%0A%20%20%20%20%20%20%20%20%20%20%20%20%20%20%20%20%5B-30.1481802830255%2C%20-51.16062218100407%5D%2C%0A%20%20%20%20%20%20%20%20%20%20%20%20%20%20%20%20%7B%7D%0A%20%20%20%20%20%20%20%20%20%20%20%20%29.addTo%28map_efafb05ace4549f99509d2412a1de912%29%3B%0A%20%20%20%20%20%20%20%20%0A%20%20%20%20%0A%20%20%20%20%20%20%20%20var%20popup_68c27367e5a4444b922cd1268edcb44d%20%3D%20L.popup%28%7B%22maxWidth%22%3A%20%22100%25%22%7D%29%3B%0A%0A%20%20%20%20%20%20%20%20%0A%20%20%20%20%20%20%20%20%20%20%20%20var%20html_e34b0d0db51041a39660e654165c8123%20%3D%20%24%28%60%3Cdiv%20id%3D%22html_e34b0d0db51041a39660e654165c8123%22%20style%3D%22width%3A%20100.0%25%3B%20height%3A%20100.0%25%3B%22%3EQUEDA%3C/div%3E%60%29%5B0%5D%3B%0A%20%20%20%20%20%20%20%20%20%20%20%20popup_68c27367e5a4444b922cd1268edcb44d.setContent%28html_e34b0d0db51041a39660e654165c8123%29%3B%0A%20%20%20%20%20%20%20%20%0A%0A%20%20%20%20%20%20%20%20marker_b350152527b4445e8cfa2ca919390576.bindPopup%28popup_68c27367e5a4444b922cd1268edcb44d%29%0A%20%20%20%20%20%20%20%20%3B%0A%0A%20%20%20%20%20%20%20%20%0A%20%20%20%20%0A%20%20%20%20%0A%20%20%20%20%20%20%20%20%20%20%20%20var%20marker_dd99fbdc45d0444f8e86eb6364dbe487%20%3D%20L.marker%28%0A%20%20%20%20%20%20%20%20%20%20%20%20%20%20%20%20%5B-30.121999796880463%2C%20-51.10815856410051%5D%2C%0A%20%20%20%20%20%20%20%20%20%20%20%20%20%20%20%20%7B%7D%0A%20%20%20%20%20%20%20%20%20%20%20%20%29.addTo%28map_efafb05ace4549f99509d2412a1de912%29%3B%0A%20%20%20%20%20%20%20%20%0A%20%20%20%20%0A%20%20%20%20%20%20%20%20var%20popup_d0ca94d3d740451095c7d4ccc088651f%20%3D%20L.popup%28%7B%22maxWidth%22%3A%20%22100%25%22%7D%29%3B%0A%0A%20%20%20%20%20%20%20%20%0A%20%20%20%20%20%20%20%20%20%20%20%20var%20html_4ad2bc2082c04ccfa046d1b836cf6bba%20%3D%20%24%28%60%3Cdiv%20id%3D%22html_4ad2bc2082c04ccfa046d1b836cf6bba%22%20style%3D%22width%3A%20100.0%25%3B%20height%3A%20100.0%25%3B%22%3ECHOQUE%3C/div%3E%60%29%5B0%5D%3B%0A%20%20%20%20%20%20%20%20%20%20%20%20popup_d0ca94d3d740451095c7d4ccc088651f.setContent%28html_4ad2bc2082c04ccfa046d1b836cf6bba%29%3B%0A%20%20%20%20%20%20%20%20%0A%0A%20%20%20%20%20%20%20%20marker_dd99fbdc45d0444f8e86eb6364dbe487.bindPopup%28popup_d0ca94d3d740451095c7d4ccc088651f%29%0A%20%20%20%20%20%20%20%20%3B%0A%0A%20%20%20%20%20%20%20%20%0A%20%20%20%20%0A%20%20%20%20%0A%20%20%20%20%20%20%20%20%20%20%20%20var%20marker_92744ca240654e098d28c9c112140690%20%3D%20L.marker%28%0A%20%20%20%20%20%20%20%20%20%20%20%20%20%20%20%20%5B-30.04195956741214%2C%20-51.21776282787324%5D%2C%0A%20%20%20%20%20%20%20%20%20%20%20%20%20%20%20%20%7B%7D%0A%20%20%20%20%20%20%20%20%20%20%20%20%29.addTo%28map_efafb05ace4549f99509d2412a1de912%29%3B%0A%20%20%20%20%20%20%20%20%0A%20%20%20%20%0A%20%20%20%20%20%20%20%20var%20popup_34b404da7f21435ba45e952a1d4f8906%20%3D%20L.popup%28%7B%22maxWidth%22%3A%20%22100%25%22%7D%29%3B%0A%0A%20%20%20%20%20%20%20%20%0A%20%20%20%20%20%20%20%20%20%20%20%20var%20html_bc5860ee2ceb46d2af2d4ad0fb3918b7%20%3D%20%24%28%60%3Cdiv%20id%3D%22html_bc5860ee2ceb46d2af2d4ad0fb3918b7%22%20style%3D%22width%3A%20100.0%25%3B%20height%3A%20100.0%25%3B%22%3EATROPELAMENTO%3C/div%3E%60%29%5B0%5D%3B%0A%20%20%20%20%20%20%20%20%20%20%20%20popup_34b404da7f21435ba45e952a1d4f8906.setContent%28html_bc5860ee2ceb46d2af2d4ad0fb3918b7%29%3B%0A%20%20%20%20%20%20%20%20%0A%0A%20%20%20%20%20%20%20%20marker_92744ca240654e098d28c9c112140690.bindPopup%28popup_34b404da7f21435ba45e952a1d4f8906%29%0A%20%20%20%20%20%20%20%20%3B%0A%0A%20%20%20%20%20%20%20%20%0A%20%20%20%20%0A%20%20%20%20%0A%20%20%20%20%20%20%20%20%20%20%20%20var%20marker_4d8a0e8c42de407d9da3b52c472297cc%20%3D%20L.marker%28%0A%20%20%20%20%20%20%20%20%20%20%20%20%20%20%20%20%5B-30.036543681191084%2C%20-51.17944171110663%5D%2C%0A%20%20%20%20%20%20%20%20%20%20%20%20%20%20%20%20%7B%7D%0A%20%20%20%20%20%20%20%20%20%20%20%20%29.addTo%28map_efafb05ace4549f99509d2412a1de912%29%3B%0A%20%20%20%20%20%20%20%20%0A%20%20%20%20%0A%20%20%20%20%20%20%20%20var%20popup_b650a546f3c34d99bcefd03f4d933c60%20%3D%20L.popup%28%7B%22maxWidth%22%3A%20%22100%25%22%7D%29%3B%0A%0A%20%20%20%20%20%20%20%20%0A%20%20%20%20%20%20%20%20%20%20%20%20var%20html_abb90df4cb8945cfae5d4eaa7a65de35%20%3D%20%24%28%60%3Cdiv%20id%3D%22html_abb90df4cb8945cfae5d4eaa7a65de35%22%20style%3D%22width%3A%20100.0%25%3B%20height%3A%20100.0%25%3B%22%3ECOLIS%C3%83O%3C/div%3E%60%29%5B0%5D%3B%0A%20%20%20%20%20%20%20%20%20%20%20%20popup_b650a546f3c34d99bcefd03f4d933c60.setContent%28html_abb90df4cb8945cfae5d4eaa7a65de35%29%3B%0A%20%20%20%20%20%20%20%20%0A%0A%20%20%20%20%20%20%20%20marker_4d8a0e8c42de407d9da3b52c472297cc.bindPopup%28popup_b650a546f3c34d99bcefd03f4d933c60%29%0A%20%20%20%20%20%20%20%20%3B%0A%0A%20%20%20%20%20%20%20%20%0A%20%20%20%20%0A%20%20%20%20%0A%20%20%20%20%20%20%20%20%20%20%20%20var%20marker_39af2bd6acb94f9e8a4256d6307d2eca%20%3D%20L.marker%28%0A%20%20%20%20%20%20%20%20%20%20%20%20%20%20%20%20%5B-30.00625135358014%2C%20-51.16693764925003%5D%2C%0A%20%20%20%20%20%20%20%20%20%20%20%20%20%20%20%20%7B%7D%0A%20%20%20%20%20%20%20%20%20%20%20%20%29.addTo%28map_efafb05ace4549f99509d2412a1de912%29%3B%0A%20%20%20%20%20%20%20%20%0A%20%20%20%20%0A%20%20%20%20%20%20%20%20var%20popup_e3bf695fa2d5479e875718de958e9464%20%3D%20L.popup%28%7B%22maxWidth%22%3A%20%22100%25%22%7D%29%3B%0A%0A%20%20%20%20%20%20%20%20%0A%20%20%20%20%20%20%20%20%20%20%20%20var%20html_207738c6091348958bbd2800862c874d%20%3D%20%24%28%60%3Cdiv%20id%3D%22html_207738c6091348958bbd2800862c874d%22%20style%3D%22width%3A%20100.0%25%3B%20height%3A%20100.0%25%3B%22%3EABALROAMENTO%3C/div%3E%60%29%5B0%5D%3B%0A%20%20%20%20%20%20%20%20%20%20%20%20popup_e3bf695fa2d5479e875718de958e9464.setContent%28html_207738c6091348958bbd2800862c874d%29%3B%0A%20%20%20%20%20%20%20%20%0A%0A%20%20%20%20%20%20%20%20marker_39af2bd6acb94f9e8a4256d6307d2eca.bindPopup%28popup_e3bf695fa2d5479e875718de958e9464%29%0A%20%20%20%20%20%20%20%20%3B%0A%0A%20%20%20%20%20%20%20%20%0A%20%20%20%20%0A%20%20%20%20%0A%20%20%20%20%20%20%20%20%20%20%20%20var%20marker_b889617d96ae42b89782edf3e691bc9e%20%3D%20L.marker%28%0A%20%20%20%20%20%20%20%20%20%20%20%20%20%20%20%20%5B-30.006690926383733%2C%20-51.19991272687912%5D%2C%0A%20%20%20%20%20%20%20%20%20%20%20%20%20%20%20%20%7B%7D%0A%20%20%20%20%20%20%20%20%20%20%20%20%29.addTo%28map_efafb05ace4549f99509d2412a1de912%29%3B%0A%20%20%20%20%20%20%20%20%0A%20%20%20%20%0A%20%20%20%20%20%20%20%20var%20popup_791065237674458fad904a6825893ff1%20%3D%20L.popup%28%7B%22maxWidth%22%3A%20%22100%25%22%7D%29%3B%0A%0A%20%20%20%20%20%20%20%20%0A%20%20%20%20%20%20%20%20%20%20%20%20var%20html_88e452b2483648e5a9124cf0b99414c1%20%3D%20%24%28%60%3Cdiv%20id%3D%22html_88e452b2483648e5a9124cf0b99414c1%22%20style%3D%22width%3A%20100.0%25%3B%20height%3A%20100.0%25%3B%22%3ECOLIS%C3%83O%3C/div%3E%60%29%5B0%5D%3B%0A%20%20%20%20%20%20%20%20%20%20%20%20popup_791065237674458fad904a6825893ff1.setContent%28html_88e452b2483648e5a9124cf0b99414c1%29%3B%0A%20%20%20%20%20%20%20%20%0A%0A%20%20%20%20%20%20%20%20marker_b889617d96ae42b89782edf3e691bc9e.bindPopup%28popup_791065237674458fad904a6825893ff1%29%0A%20%20%20%20%20%20%20%20%3B%0A%0A%20%20%20%20%20%20%20%20%0A%20%20%20%20%0A%20%20%20%20%0A%20%20%20%20%20%20%20%20%20%20%20%20var%20marker_c1066c9877cd4d8ea45f04bdf86c1b54%20%3D%20L.marker%28%0A%20%20%20%20%20%20%20%20%20%20%20%20%20%20%20%20%5B-30.02380426309396%2C%20-51.21904570894984%5D%2C%0A%20%20%20%20%20%20%20%20%20%20%20%20%20%20%20%20%7B%7D%0A%20%20%20%20%20%20%20%20%20%20%20%20%29.addTo%28map_efafb05ace4549f99509d2412a1de912%29%3B%0A%20%20%20%20%20%20%20%20%0A%20%20%20%20%0A%20%20%20%20%20%20%20%20var%20popup_fa3eca449d56474a9eaa728eab1d30e2%20%3D%20L.popup%28%7B%22maxWidth%22%3A%20%22100%25%22%7D%29%3B%0A%0A%20%20%20%20%20%20%20%20%0A%20%20%20%20%20%20%20%20%20%20%20%20var%20html_4818fc3f9f5a46229be7ccea0874f5e9%20%3D%20%24%28%60%3Cdiv%20id%3D%22html_4818fc3f9f5a46229be7ccea0874f5e9%22%20style%3D%22width%3A%20100.0%25%3B%20height%3A%20100.0%25%3B%22%3EABALROAMENTO%3C/div%3E%60%29%5B0%5D%3B%0A%20%20%20%20%20%20%20%20%20%20%20%20popup_fa3eca449d56474a9eaa728eab1d30e2.setContent%28html_4818fc3f9f5a46229be7ccea0874f5e9%29%3B%0A%20%20%20%20%20%20%20%20%0A%0A%20%20%20%20%20%20%20%20marker_c1066c9877cd4d8ea45f04bdf86c1b54.bindPopup%28popup_fa3eca449d56474a9eaa728eab1d30e2%29%0A%20%20%20%20%20%20%20%20%3B%0A%0A%20%20%20%20%20%20%20%20%0A%20%20%20%20%0A%20%20%20%20%0A%20%20%20%20%20%20%20%20%20%20%20%20var%20marker_549fbbe50a264cd7a00040db0ce8d2f8%20%3D%20L.marker%28%0A%20%20%20%20%20%20%20%20%20%20%20%20%20%20%20%20%5B-30.08224236425036%2C%20-51.20851970885766%5D%2C%0A%20%20%20%20%20%20%20%20%20%20%20%20%20%20%20%20%7B%7D%0A%20%20%20%20%20%20%20%20%20%20%20%20%29.addTo%28map_efafb05ace4549f99509d2412a1de912%29%3B%0A%20%20%20%20%20%20%20%20%0A%20%20%20%20%0A%20%20%20%20%20%20%20%20var%20popup_231cb831eaaf4515a5a72ef707d4fbfe%20%3D%20L.popup%28%7B%22maxWidth%22%3A%20%22100%25%22%7D%29%3B%0A%0A%20%20%20%20%20%20%20%20%0A%20%20%20%20%20%20%20%20%20%20%20%20var%20html_52ddaefa0dfc47629c70014326325a95%20%3D%20%24%28%60%3Cdiv%20id%3D%22html_52ddaefa0dfc47629c70014326325a95%22%20style%3D%22width%3A%20100.0%25%3B%20height%3A%20100.0%25%3B%22%3ECOLIS%C3%83O%3C/div%3E%60%29%5B0%5D%3B%0A%20%20%20%20%20%20%20%20%20%20%20%20popup_231cb831eaaf4515a5a72ef707d4fbfe.setContent%28html_52ddaefa0dfc47629c70014326325a95%29%3B%0A%20%20%20%20%20%20%20%20%0A%0A%20%20%20%20%20%20%20%20marker_549fbbe50a264cd7a00040db0ce8d2f8.bindPopup%28popup_231cb831eaaf4515a5a72ef707d4fbfe%29%0A%20%20%20%20%20%20%20%20%3B%0A%0A%20%20%20%20%20%20%20%20%0A%20%20%20%20%0A%20%20%20%20%0A%20%20%20%20%20%20%20%20%20%20%20%20var%20marker_11c4f9dfde0d4315aaa344aa026c48f1%20%3D%20L.marker%28%0A%20%20%20%20%20%20%20%20%20%20%20%20%20%20%20%20%5B-30.022902603842333%2C%20-51.17587927106028%5D%2C%0A%20%20%20%20%20%20%20%20%20%20%20%20%20%20%20%20%7B%7D%0A%20%20%20%20%20%20%20%20%20%20%20%20%29.addTo%28map_efafb05ace4549f99509d2412a1de912%29%3B%0A%20%20%20%20%20%20%20%20%0A%20%20%20%20%0A%20%20%20%20%20%20%20%20var%20popup_3e00002a34e941c093b5d41e9aede93d%20%3D%20L.popup%28%7B%22maxWidth%22%3A%20%22100%25%22%7D%29%3B%0A%0A%20%20%20%20%20%20%20%20%0A%20%20%20%20%20%20%20%20%20%20%20%20var%20html_381e0ce6845c48839c07d9b2b26e0f9f%20%3D%20%24%28%60%3Cdiv%20id%3D%22html_381e0ce6845c48839c07d9b2b26e0f9f%22%20style%3D%22width%3A%20100.0%25%3B%20height%3A%20100.0%25%3B%22%3EABALROAMENTO%3C/div%3E%60%29%5B0%5D%3B%0A%20%20%20%20%20%20%20%20%20%20%20%20popup_3e00002a34e941c093b5d41e9aede93d.setContent%28html_381e0ce6845c48839c07d9b2b26e0f9f%29%3B%0A%20%20%20%20%20%20%20%20%0A%0A%20%20%20%20%20%20%20%20marker_11c4f9dfde0d4315aaa344aa026c48f1.bindPopup%28popup_3e00002a34e941c093b5d41e9aede93d%29%0A%20%20%20%20%20%20%20%20%3B%0A%0A%20%20%20%20%20%20%20%20%0A%20%20%20%20%0A%20%20%20%20%0A%20%20%20%20%20%20%20%20%20%20%20%20var%20marker_ff5e197cef714582b55f92fdb93a81c9%20%3D%20L.marker%28%0A%20%20%20%20%20%20%20%20%20%20%20%20%20%20%20%20%5B-30.060741827465858%2C%20-51.21964478370295%5D%2C%0A%20%20%20%20%20%20%20%20%20%20%20%20%20%20%20%20%7B%7D%0A%20%20%20%20%20%20%20%20%20%20%20%20%29.addTo%28map_efafb05ace4549f99509d2412a1de912%29%3B%0A%20%20%20%20%20%20%20%20%0A%20%20%20%20%0A%20%20%20%20%20%20%20%20var%20popup_1feadf9a7d2d41b6a2f2fe919adcad64%20%3D%20L.popup%28%7B%22maxWidth%22%3A%20%22100%25%22%7D%29%3B%0A%0A%20%20%20%20%20%20%20%20%0A%20%20%20%20%20%20%20%20%20%20%20%20var%20html_91fd1721197d4b7985e461fb4c8642b1%20%3D%20%24%28%60%3Cdiv%20id%3D%22html_91fd1721197d4b7985e461fb4c8642b1%22%20style%3D%22width%3A%20100.0%25%3B%20height%3A%20100.0%25%3B%22%3EABALROAMENTO%3C/div%3E%60%29%5B0%5D%3B%0A%20%20%20%20%20%20%20%20%20%20%20%20popup_1feadf9a7d2d41b6a2f2fe919adcad64.setContent%28html_91fd1721197d4b7985e461fb4c8642b1%29%3B%0A%20%20%20%20%20%20%20%20%0A%0A%20%20%20%20%20%20%20%20marker_ff5e197cef714582b55f92fdb93a81c9.bindPopup%28popup_1feadf9a7d2d41b6a2f2fe919adcad64%29%0A%20%20%20%20%20%20%20%20%3B%0A%0A%20%20%20%20%20%20%20%20%0A%20%20%20%20%0A%20%20%20%20%0A%20%20%20%20%20%20%20%20%20%20%20%20var%20marker_23fde2572a5b43a18959c57fb909e23f%20%3D%20L.marker%28%0A%20%20%20%20%20%20%20%20%20%20%20%20%20%20%20%20%5B-30.010381635209512%2C%20-51.1541810631752%5D%2C%0A%20%20%20%20%20%20%20%20%20%20%20%20%20%20%20%20%7B%7D%0A%20%20%20%20%20%20%20%20%20%20%20%20%29.addTo%28map_efafb05ace4549f99509d2412a1de912%29%3B%0A%20%20%20%20%20%20%20%20%0A%20%20%20%20%0A%20%20%20%20%20%20%20%20var%20popup_186a8adc1f6c42a5ae763a6a6f36a96d%20%3D%20L.popup%28%7B%22maxWidth%22%3A%20%22100%25%22%7D%29%3B%0A%0A%20%20%20%20%20%20%20%20%0A%20%20%20%20%20%20%20%20%20%20%20%20var%20html_086b603ad150442198c4e4b150725922%20%3D%20%24%28%60%3Cdiv%20id%3D%22html_086b603ad150442198c4e4b150725922%22%20style%3D%22width%3A%20100.0%25%3B%20height%3A%20100.0%25%3B%22%3ECOLIS%C3%83O%3C/div%3E%60%29%5B0%5D%3B%0A%20%20%20%20%20%20%20%20%20%20%20%20popup_186a8adc1f6c42a5ae763a6a6f36a96d.setContent%28html_086b603ad150442198c4e4b150725922%29%3B%0A%20%20%20%20%20%20%20%20%0A%0A%20%20%20%20%20%20%20%20marker_23fde2572a5b43a18959c57fb909e23f.bindPopup%28popup_186a8adc1f6c42a5ae763a6a6f36a96d%29%0A%20%20%20%20%20%20%20%20%3B%0A%0A%20%20%20%20%20%20%20%20%0A%20%20%20%20%0A%20%20%20%20%0A%20%20%20%20%20%20%20%20%20%20%20%20var%20marker_adec3279ea824eb29c95f0db49d8412d%20%3D%20L.marker%28%0A%20%20%20%20%20%20%20%20%20%20%20%20%20%20%20%20%5B-30.02192299539198%2C%20-51.18691732248103%5D%2C%0A%20%20%20%20%20%20%20%20%20%20%20%20%20%20%20%20%7B%7D%0A%20%20%20%20%20%20%20%20%20%20%20%20%29.addTo%28map_efafb05ace4549f99509d2412a1de912%29%3B%0A%20%20%20%20%20%20%20%20%0A%20%20%20%20%0A%20%20%20%20%20%20%20%20var%20popup_90272d1d8bc246daa9bdee3e973a14cc%20%3D%20L.popup%28%7B%22maxWidth%22%3A%20%22100%25%22%7D%29%3B%0A%0A%20%20%20%20%20%20%20%20%0A%20%20%20%20%20%20%20%20%20%20%20%20var%20html_b926651db4b04fa2a7fdfed1dbd07caa%20%3D%20%24%28%60%3Cdiv%20id%3D%22html_b926651db4b04fa2a7fdfed1dbd07caa%22%20style%3D%22width%3A%20100.0%25%3B%20height%3A%20100.0%25%3B%22%3ECOLIS%C3%83O%3C/div%3E%60%29%5B0%5D%3B%0A%20%20%20%20%20%20%20%20%20%20%20%20popup_90272d1d8bc246daa9bdee3e973a14cc.setContent%28html_b926651db4b04fa2a7fdfed1dbd07caa%29%3B%0A%20%20%20%20%20%20%20%20%0A%0A%20%20%20%20%20%20%20%20marker_adec3279ea824eb29c95f0db49d8412d.bindPopup%28popup_90272d1d8bc246daa9bdee3e973a14cc%29%0A%20%20%20%20%20%20%20%20%3B%0A%0A%20%20%20%20%20%20%20%20%0A%20%20%20%20%0A%20%20%20%20%0A%20%20%20%20%20%20%20%20%20%20%20%20var%20marker_ae97184b173e4de1986c807851855a42%20%3D%20L.marker%28%0A%20%20%20%20%20%20%20%20%20%20%20%20%20%20%20%20%5B-30.02659958222654%2C%20-51.228914454211896%5D%2C%0A%20%20%20%20%20%20%20%20%20%20%20%20%20%20%20%20%7B%7D%0A%20%20%20%20%20%20%20%20%20%20%20%20%29.addTo%28map_efafb05ace4549f99509d2412a1de912%29%3B%0A%20%20%20%20%20%20%20%20%0A%20%20%20%20%0A%20%20%20%20%20%20%20%20var%20popup_55259fb99cf1472291d252774bc3978d%20%3D%20L.popup%28%7B%22maxWidth%22%3A%20%22100%25%22%7D%29%3B%0A%0A%20%20%20%20%20%20%20%20%0A%20%20%20%20%20%20%20%20%20%20%20%20var%20html_4a2ef229ebe94934a7b109fa24c0ff5b%20%3D%20%24%28%60%3Cdiv%20id%3D%22html_4a2ef229ebe94934a7b109fa24c0ff5b%22%20style%3D%22width%3A%20100.0%25%3B%20height%3A%20100.0%25%3B%22%3ECOLIS%C3%83O%3C/div%3E%60%29%5B0%5D%3B%0A%20%20%20%20%20%20%20%20%20%20%20%20popup_55259fb99cf1472291d252774bc3978d.setContent%28html_4a2ef229ebe94934a7b109fa24c0ff5b%29%3B%0A%20%20%20%20%20%20%20%20%0A%0A%20%20%20%20%20%20%20%20marker_ae97184b173e4de1986c807851855a42.bindPopup%28popup_55259fb99cf1472291d252774bc3978d%29%0A%20%20%20%20%20%20%20%20%3B%0A%0A%20%20%20%20%20%20%20%20%0A%20%20%20%20%0A%20%20%20%20%0A%20%20%20%20%20%20%20%20%20%20%20%20var%20marker_2ee01e698700427a935cdb53460785fd%20%3D%20L.marker%28%0A%20%20%20%20%20%20%20%20%20%20%20%20%20%20%20%20%5B-30.021767487492355%2C%20-51.1000511073563%5D%2C%0A%20%20%20%20%20%20%20%20%20%20%20%20%20%20%20%20%7B%7D%0A%20%20%20%20%20%20%20%20%20%20%20%20%29.addTo%28map_efafb05ace4549f99509d2412a1de912%29%3B%0A%20%20%20%20%20%20%20%20%0A%20%20%20%20%0A%20%20%20%20%20%20%20%20var%20popup_91c159b887fb474ba4a4464982114bcf%20%3D%20L.popup%28%7B%22maxWidth%22%3A%20%22100%25%22%7D%29%3B%0A%0A%20%20%20%20%20%20%20%20%0A%20%20%20%20%20%20%20%20%20%20%20%20var%20html_0496dfa7e2a544368c6b23229a20110e%20%3D%20%24%28%60%3Cdiv%20id%3D%22html_0496dfa7e2a544368c6b23229a20110e%22%20style%3D%22width%3A%20100.0%25%3B%20height%3A%20100.0%25%3B%22%3ECOLIS%C3%83O%3C/div%3E%60%29%5B0%5D%3B%0A%20%20%20%20%20%20%20%20%20%20%20%20popup_91c159b887fb474ba4a4464982114bcf.setContent%28html_0496dfa7e2a544368c6b23229a20110e%29%3B%0A%20%20%20%20%20%20%20%20%0A%0A%20%20%20%20%20%20%20%20marker_2ee01e698700427a935cdb53460785fd.bindPopup%28popup_91c159b887fb474ba4a4464982114bcf%29%0A%20%20%20%20%20%20%20%20%3B%0A%0A%20%20%20%20%20%20%20%20%0A%20%20%20%20%0A%20%20%20%20%0A%20%20%20%20%20%20%20%20%20%20%20%20var%20marker_f3d84f239bc74990a59869767b1c1b6d%20%3D%20L.marker%28%0A%20%20%20%20%20%20%20%20%20%20%20%20%20%20%20%20%5B-30.00351798119945%2C%20-51.10009707448878%5D%2C%0A%20%20%20%20%20%20%20%20%20%20%20%20%20%20%20%20%7B%7D%0A%20%20%20%20%20%20%20%20%20%20%20%20%29.addTo%28map_efafb05ace4549f99509d2412a1de912%29%3B%0A%20%20%20%20%20%20%20%20%0A%20%20%20%20%0A%20%20%20%20%20%20%20%20var%20popup_8f7a6619b4284455a2e7ba19138c0673%20%3D%20L.popup%28%7B%22maxWidth%22%3A%20%22100%25%22%7D%29%3B%0A%0A%20%20%20%20%20%20%20%20%0A%20%20%20%20%20%20%20%20%20%20%20%20var%20html_9fef64562eec402a89dfdb77a9ae8937%20%3D%20%24%28%60%3Cdiv%20id%3D%22html_9fef64562eec402a89dfdb77a9ae8937%22%20style%3D%22width%3A%20100.0%25%3B%20height%3A%20100.0%25%3B%22%3EABALROAMENTO%3C/div%3E%60%29%5B0%5D%3B%0A%20%20%20%20%20%20%20%20%20%20%20%20popup_8f7a6619b4284455a2e7ba19138c0673.setContent%28html_9fef64562eec402a89dfdb77a9ae8937%29%3B%0A%20%20%20%20%20%20%20%20%0A%0A%20%20%20%20%20%20%20%20marker_f3d84f239bc74990a59869767b1c1b6d.bindPopup%28popup_8f7a6619b4284455a2e7ba19138c0673%29%0A%20%20%20%20%20%20%20%20%3B%0A%0A%20%20%20%20%20%20%20%20%0A%20%20%20%20%0A%20%20%20%20%0A%20%20%20%20%20%20%20%20%20%20%20%20var%20marker_62593db843a64e7f8a894dbf177054c5%20%3D%20L.marker%28%0A%20%20%20%20%20%20%20%20%20%20%20%20%20%20%20%20%5B-30.023670354039872%2C%20-51.14309656217408%5D%2C%0A%20%20%20%20%20%20%20%20%20%20%20%20%20%20%20%20%7B%7D%0A%20%20%20%20%20%20%20%20%20%20%20%20%29.addTo%28map_efafb05ace4549f99509d2412a1de912%29%3B%0A%20%20%20%20%20%20%20%20%0A%20%20%20%20%0A%20%20%20%20%20%20%20%20var%20popup_6119078ca9f1499d8662a6c49f244a54%20%3D%20L.popup%28%7B%22maxWidth%22%3A%20%22100%25%22%7D%29%3B%0A%0A%20%20%20%20%20%20%20%20%0A%20%20%20%20%20%20%20%20%20%20%20%20var%20html_02f9aa5d1e1e41c2a6b00dcd3cdcb39b%20%3D%20%24%28%60%3Cdiv%20id%3D%22html_02f9aa5d1e1e41c2a6b00dcd3cdcb39b%22%20style%3D%22width%3A%20100.0%25%3B%20height%3A%20100.0%25%3B%22%3EABALROAMENTO%3C/div%3E%60%29%5B0%5D%3B%0A%20%20%20%20%20%20%20%20%20%20%20%20popup_6119078ca9f1499d8662a6c49f244a54.setContent%28html_02f9aa5d1e1e41c2a6b00dcd3cdcb39b%29%3B%0A%20%20%20%20%20%20%20%20%0A%0A%20%20%20%20%20%20%20%20marker_62593db843a64e7f8a894dbf177054c5.bindPopup%28popup_6119078ca9f1499d8662a6c49f244a54%29%0A%20%20%20%20%20%20%20%20%3B%0A%0A%20%20%20%20%20%20%20%20%0A%20%20%20%20%0A%20%20%20%20%0A%20%20%20%20%20%20%20%20%20%20%20%20var%20marker_d51e28bb3c14474eb95f4b4cb9345d56%20%3D%20L.marker%28%0A%20%20%20%20%20%20%20%20%20%20%20%20%20%20%20%20%5B-30.102295347276183%2C%20-51.23109583205279%5D%2C%0A%20%20%20%20%20%20%20%20%20%20%20%20%20%20%20%20%7B%7D%0A%20%20%20%20%20%20%20%20%20%20%20%20%29.addTo%28map_efafb05ace4549f99509d2412a1de912%29%3B%0A%20%20%20%20%20%20%20%20%0A%20%20%20%20%0A%20%20%20%20%20%20%20%20var%20popup_e07b65c15e21409688c2fa875c2112a6%20%3D%20L.popup%28%7B%22maxWidth%22%3A%20%22100%25%22%7D%29%3B%0A%0A%20%20%20%20%20%20%20%20%0A%20%20%20%20%20%20%20%20%20%20%20%20var%20html_0ff505fa8eed47b49de104a29d050152%20%3D%20%24%28%60%3Cdiv%20id%3D%22html_0ff505fa8eed47b49de104a29d050152%22%20style%3D%22width%3A%20100.0%25%3B%20height%3A%20100.0%25%3B%22%3ECOLIS%C3%83O%3C/div%3E%60%29%5B0%5D%3B%0A%20%20%20%20%20%20%20%20%20%20%20%20popup_e07b65c15e21409688c2fa875c2112a6.setContent%28html_0ff505fa8eed47b49de104a29d050152%29%3B%0A%20%20%20%20%20%20%20%20%0A%0A%20%20%20%20%20%20%20%20marker_d51e28bb3c14474eb95f4b4cb9345d56.bindPopup%28popup_e07b65c15e21409688c2fa875c2112a6%29%0A%20%20%20%20%20%20%20%20%3B%0A%0A%20%20%20%20%20%20%20%20%0A%20%20%20%20%0A%20%20%20%20%0A%20%20%20%20%20%20%20%20%20%20%20%20var%20marker_ca8a29ceecad45ada12a1350f6442824%20%3D%20L.marker%28%0A%20%20%20%20%20%20%20%20%20%20%20%20%20%20%20%20%5B-30.145796501243098%2C%20-51.11169902383163%5D%2C%0A%20%20%20%20%20%20%20%20%20%20%20%20%20%20%20%20%7B%7D%0A%20%20%20%20%20%20%20%20%20%20%20%20%29.addTo%28map_efafb05ace4549f99509d2412a1de912%29%3B%0A%20%20%20%20%20%20%20%20%0A%20%20%20%20%0A%20%20%20%20%20%20%20%20var%20popup_00de0267d4054126ad6804bfb4660b0a%20%3D%20L.popup%28%7B%22maxWidth%22%3A%20%22100%25%22%7D%29%3B%0A%0A%20%20%20%20%20%20%20%20%0A%20%20%20%20%20%20%20%20%20%20%20%20var%20html_28f6bfd8c5b14156a74f90b245942975%20%3D%20%24%28%60%3Cdiv%20id%3D%22html_28f6bfd8c5b14156a74f90b245942975%22%20style%3D%22width%3A%20100.0%25%3B%20height%3A%20100.0%25%3B%22%3ECOLIS%C3%83O%3C/div%3E%60%29%5B0%5D%3B%0A%20%20%20%20%20%20%20%20%20%20%20%20popup_00de0267d4054126ad6804bfb4660b0a.setContent%28html_28f6bfd8c5b14156a74f90b245942975%29%3B%0A%20%20%20%20%20%20%20%20%0A%0A%20%20%20%20%20%20%20%20marker_ca8a29ceecad45ada12a1350f6442824.bindPopup%28popup_00de0267d4054126ad6804bfb4660b0a%29%0A%20%20%20%20%20%20%20%20%3B%0A%0A%20%20%20%20%20%20%20%20%0A%20%20%20%20%0A%20%20%20%20%0A%20%20%20%20%20%20%20%20%20%20%20%20var%20marker_771a3fd1543d4625926b8e1fcd27c864%20%3D%20L.marker%28%0A%20%20%20%20%20%20%20%20%20%20%20%20%20%20%20%20%5B-29.980851447682262%2C%20-51.11472344781173%5D%2C%0A%20%20%20%20%20%20%20%20%20%20%20%20%20%20%20%20%7B%7D%0A%20%20%20%20%20%20%20%20%20%20%20%20%29.addTo%28map_efafb05ace4549f99509d2412a1de912%29%3B%0A%20%20%20%20%20%20%20%20%0A%20%20%20%20%0A%20%20%20%20%20%20%20%20var%20popup_df6e7e246f354b009fadf250ecf3d0ed%20%3D%20L.popup%28%7B%22maxWidth%22%3A%20%22100%25%22%7D%29%3B%0A%0A%20%20%20%20%20%20%20%20%0A%20%20%20%20%20%20%20%20%20%20%20%20var%20html_837217b1527e4589aa73420cf5ef0bd1%20%3D%20%24%28%60%3Cdiv%20id%3D%22html_837217b1527e4589aa73420cf5ef0bd1%22%20style%3D%22width%3A%20100.0%25%3B%20height%3A%20100.0%25%3B%22%3EABALROAMENTO%3C/div%3E%60%29%5B0%5D%3B%0A%20%20%20%20%20%20%20%20%20%20%20%20popup_df6e7e246f354b009fadf250ecf3d0ed.setContent%28html_837217b1527e4589aa73420cf5ef0bd1%29%3B%0A%20%20%20%20%20%20%20%20%0A%0A%20%20%20%20%20%20%20%20marker_771a3fd1543d4625926b8e1fcd27c864.bindPopup%28popup_df6e7e246f354b009fadf250ecf3d0ed%29%0A%20%20%20%20%20%20%20%20%3B%0A%0A%20%20%20%20%20%20%20%20%0A%20%20%20%20%0A%20%20%20%20%0A%20%20%20%20%20%20%20%20%20%20%20%20var%20marker_d1e14d4f03c547008d09c6d947992611%20%3D%20L.marker%28%0A%20%20%20%20%20%20%20%20%20%20%20%20%20%20%20%20%5B-30.0271413925759%2C%20-51.18178635835648%5D%2C%0A%20%20%20%20%20%20%20%20%20%20%20%20%20%20%20%20%7B%7D%0A%20%20%20%20%20%20%20%20%20%20%20%20%29.addTo%28map_efafb05ace4549f99509d2412a1de912%29%3B%0A%20%20%20%20%20%20%20%20%0A%20%20%20%20%0A%20%20%20%20%20%20%20%20var%20popup_c4f08fc5f5834f3bafb562140e7272ef%20%3D%20L.popup%28%7B%22maxWidth%22%3A%20%22100%25%22%7D%29%3B%0A%0A%20%20%20%20%20%20%20%20%0A%20%20%20%20%20%20%20%20%20%20%20%20var%20html_490eb6ef112942159fed1a0a746a362f%20%3D%20%24%28%60%3Cdiv%20id%3D%22html_490eb6ef112942159fed1a0a746a362f%22%20style%3D%22width%3A%20100.0%25%3B%20height%3A%20100.0%25%3B%22%3ECOLIS%C3%83O%3C/div%3E%60%29%5B0%5D%3B%0A%20%20%20%20%20%20%20%20%20%20%20%20popup_c4f08fc5f5834f3bafb562140e7272ef.setContent%28html_490eb6ef112942159fed1a0a746a362f%29%3B%0A%20%20%20%20%20%20%20%20%0A%0A%20%20%20%20%20%20%20%20marker_d1e14d4f03c547008d09c6d947992611.bindPopup%28popup_c4f08fc5f5834f3bafb562140e7272ef%29%0A%20%20%20%20%20%20%20%20%3B%0A%0A%20%20%20%20%20%20%20%20%0A%20%20%20%20%0A%20%20%20%20%0A%20%20%20%20%20%20%20%20%20%20%20%20var%20marker_32b91e115f54497c93fce9e1180e0121%20%3D%20L.marker%28%0A%20%20%20%20%20%20%20%20%20%20%20%20%20%20%20%20%5B-30.163236892239844%2C%20-51.17998848365153%5D%2C%0A%20%20%20%20%20%20%20%20%20%20%20%20%20%20%20%20%7B%7D%0A%20%20%20%20%20%20%20%20%20%20%20%20%29.addTo%28map_efafb05ace4549f99509d2412a1de912%29%3B%0A%20%20%20%20%20%20%20%20%0A%20%20%20%20%0A%20%20%20%20%20%20%20%20var%20popup_f444eb7eec044ceab82c736c052ea701%20%3D%20L.popup%28%7B%22maxWidth%22%3A%20%22100%25%22%7D%29%3B%0A%0A%20%20%20%20%20%20%20%20%0A%20%20%20%20%20%20%20%20%20%20%20%20var%20html_f05f3ff6059c4698aa6304438996c0b8%20%3D%20%24%28%60%3Cdiv%20id%3D%22html_f05f3ff6059c4698aa6304438996c0b8%22%20style%3D%22width%3A%20100.0%25%3B%20height%3A%20100.0%25%3B%22%3ECOLIS%C3%83O%3C/div%3E%60%29%5B0%5D%3B%0A%20%20%20%20%20%20%20%20%20%20%20%20popup_f444eb7eec044ceab82c736c052ea701.setContent%28html_f05f3ff6059c4698aa6304438996c0b8%29%3B%0A%20%20%20%20%20%20%20%20%0A%0A%20%20%20%20%20%20%20%20marker_32b91e115f54497c93fce9e1180e0121.bindPopup%28popup_f444eb7eec044ceab82c736c052ea701%29%0A%20%20%20%20%20%20%20%20%3B%0A%0A%20%20%20%20%20%20%20%20%0A%20%20%20%20%0A%20%20%20%20%0A%20%20%20%20%20%20%20%20%20%20%20%20var%20marker_9ecfc60c22fc4b5695aec6c80aba3743%20%3D%20L.marker%28%0A%20%20%20%20%20%20%20%20%20%20%20%20%20%20%20%20%5B-30.073114963261585%2C%20-51.170054394622575%5D%2C%0A%20%20%20%20%20%20%20%20%20%20%20%20%20%20%20%20%7B%7D%0A%20%20%20%20%20%20%20%20%20%20%20%20%29.addTo%28map_efafb05ace4549f99509d2412a1de912%29%3B%0A%20%20%20%20%20%20%20%20%0A%20%20%20%20%0A%20%20%20%20%20%20%20%20var%20popup_5241f70253f94f4692633ee44078d6b4%20%3D%20L.popup%28%7B%22maxWidth%22%3A%20%22100%25%22%7D%29%3B%0A%0A%20%20%20%20%20%20%20%20%0A%20%20%20%20%20%20%20%20%20%20%20%20var%20html_abcad49600cc47dbb8b6ce25db2baf1f%20%3D%20%24%28%60%3Cdiv%20id%3D%22html_abcad49600cc47dbb8b6ce25db2baf1f%22%20style%3D%22width%3A%20100.0%25%3B%20height%3A%20100.0%25%3B%22%3ECHOQUE%3C/div%3E%60%29%5B0%5D%3B%0A%20%20%20%20%20%20%20%20%20%20%20%20popup_5241f70253f94f4692633ee44078d6b4.setContent%28html_abcad49600cc47dbb8b6ce25db2baf1f%29%3B%0A%20%20%20%20%20%20%20%20%0A%0A%20%20%20%20%20%20%20%20marker_9ecfc60c22fc4b5695aec6c80aba3743.bindPopup%28popup_5241f70253f94f4692633ee44078d6b4%29%0A%20%20%20%20%20%20%20%20%3B%0A%0A%20%20%20%20%20%20%20%20%0A%20%20%20%20%0A%20%20%20%20%0A%20%20%20%20%20%20%20%20%20%20%20%20var%20marker_61c73152781e467e82db3eb847b9899c%20%3D%20L.marker%28%0A%20%20%20%20%20%20%20%20%20%20%20%20%20%20%20%20%5B-30.0042416%2C%20-51.1472529%5D%2C%0A%20%20%20%20%20%20%20%20%20%20%20%20%20%20%20%20%7B%7D%0A%20%20%20%20%20%20%20%20%20%20%20%20%29.addTo%28map_efafb05ace4549f99509d2412a1de912%29%3B%0A%20%20%20%20%20%20%20%20%0A%20%20%20%20%0A%20%20%20%20%20%20%20%20var%20popup_04bf9d7f9552478188ffe3e4923cbfc5%20%3D%20L.popup%28%7B%22maxWidth%22%3A%20%22100%25%22%7D%29%3B%0A%0A%20%20%20%20%20%20%20%20%0A%20%20%20%20%20%20%20%20%20%20%20%20var%20html_f7754d48de0749ad998b5427c739e670%20%3D%20%24%28%60%3Cdiv%20id%3D%22html_f7754d48de0749ad998b5427c739e670%22%20style%3D%22width%3A%20100.0%25%3B%20height%3A%20100.0%25%3B%22%3ECOLIS%C3%83O%3C/div%3E%60%29%5B0%5D%3B%0A%20%20%20%20%20%20%20%20%20%20%20%20popup_04bf9d7f9552478188ffe3e4923cbfc5.setContent%28html_f7754d48de0749ad998b5427c739e670%29%3B%0A%20%20%20%20%20%20%20%20%0A%0A%20%20%20%20%20%20%20%20marker_61c73152781e467e82db3eb847b9899c.bindPopup%28popup_04bf9d7f9552478188ffe3e4923cbfc5%29%0A%20%20%20%20%20%20%20%20%3B%0A%0A%20%20%20%20%20%20%20%20%0A%20%20%20%20%0A%3C/script%3E onload=\"this.contentDocument.open();this.contentDocument.write(    decodeURIComponent(this.getAttribute('data-html')));this.contentDocument.close();\" allowfullscreen webkitallowfullscreen mozallowfullscreen></iframe></div></div>"
      ],
      "text/plain": [
       "<folium.folium.Map at 0x7f2eef3436d0>"
      ]
     },
     "execution_count": 48,
     "metadata": {},
     "output_type": "execute_result"
    }
   ],
   "source": [
    "poa"
   ]
  },
  {
   "cell_type": "code",
   "execution_count": null,
   "id": "bcace992",
   "metadata": {},
   "outputs": [],
   "source": []
  }
 ],
 "metadata": {
  "kernelspec": {
   "display_name": "Python 3 (ipykernel)",
   "language": "python",
   "name": "python3"
  },
  "language_info": {
   "codemirror_mode": {
    "name": "ipython",
    "version": 3
   },
   "file_extension": ".py",
   "mimetype": "text/x-python",
   "name": "python",
   "nbconvert_exporter": "python",
   "pygments_lexer": "ipython3",
   "version": "3.8.8"
  }
 },
 "nbformat": 4,
 "nbformat_minor": 5
}
