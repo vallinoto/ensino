{
 "cells": [
  {
   "cell_type": "markdown",
   "id": "c3a22a98-d469-4664-b1cd-20cba4d2c854",
   "metadata": {},
   "source": [
    "# Introdução ao Numpy"
   ]
  },
  {
   "cell_type": "markdown",
   "id": "d7c9aed4-e2c0-4495-b5b6-250c01bfc1f3",
   "metadata": {},
   "source": [
    "## Qual a diferença entre Numpy e uma lista?"
   ]
  },
  {
   "cell_type": "code",
   "execution_count": null,
   "id": "c9e6df05-745c-43ec-abb6-357b56391baf",
   "metadata": {},
   "outputs": [],
   "source": [
    "# Importar a biblioteca de trabalho\n",
    "import numpy as np\n",
    "np.random.seed(12345)\n"
   ]
  },
  {
   "cell_type": "code",
   "execution_count": null,
   "id": "618f7752-d2b4-46a9-97c4-34f1fb37c842",
   "metadata": {},
   "outputs": [],
   "source": [
    "array_np = np.arange(1000000)\n",
    "lista_normal = list(range(1000000))"
   ]
  },
  {
   "cell_type": "code",
   "execution_count": null,
   "id": "3ec4e2b9-2bd3-485e-b461-03f466bdad6b",
   "metadata": {},
   "outputs": [],
   "source": [
    "%time for _ in range(10): array2 = array_np * 2\n",
    "%time for _ in range(10): list2 = [x * 2 for x in lista_normal]"
   ]
  },
  {
   "cell_type": "markdown",
   "id": "0d11459d-5b3b-43aa-ad31-9cedea7f6e44",
   "metadata": {},
   "source": [
    "* Arrays Numpy permitem fazermos operações em arrays inteiros de forma rápida.\n",
    "* Listas não permitem operações em todos os elementos da lista.\n",
    "* Para operações em todos os elementos é preciso interar sobre toda a lista.\n",
    "* Listas em Python armazenam diferentes tipos de objetos\n",
    "* Arrays Numpy considera todos os elementos de tipos distintos como strings"
   ]
  },
  {
   "cell_type": "code",
   "execution_count": null,
   "id": "6248b55f-45be-41b8-a84e-e7e1d060ccd4",
   "metadata": {},
   "outputs": [],
   "source": [
    "# Calcular IMC de pessoas.\n",
    "pesos = [67,81,120,90]\n",
    "altura = [1.68,1.70,1.75,1.85]"
   ]
  },
  {
   "cell_type": "code",
   "execution_count": null,
   "id": "075cbae0-fe76-45a9-8d46-2bf194c1a232",
   "metadata": {},
   "outputs": [],
   "source": [
    "# Faz o calculo usando as listas\n",
    "pesos / altura ** 2"
   ]
  },
  {
   "cell_type": "code",
   "execution_count": null,
   "id": "ec57ced9-3375-4862-b1c1-9c9a46954f1f",
   "metadata": {},
   "outputs": [],
   "source": [
    "# Imprime o calculo de cada valor\n",
    "pesos / altura **2"
   ]
  },
  {
   "cell_type": "code",
   "execution_count": null,
   "id": "db79d737-9ae0-44f7-8923-ea3350bc4e3c",
   "metadata": {},
   "outputs": [],
   "source": [
    "# Transforme isso em arrays numpy\n",
    "pesos = np.array(pesos)\n",
    "altura = np.array(altura)"
   ]
  },
  {
   "cell_type": "code",
   "execution_count": null,
   "id": "8bee7acb-ca72-4019-9e7c-ade779157ad2",
   "metadata": {},
   "outputs": [],
   "source": [
    "# Imprime o calculo de cada valor\n",
    "pesos / altura **2"
   ]
  },
  {
   "cell_type": "code",
   "execution_count": null,
   "id": "1c82ece4-dafe-48f5-b949-01366e43c093",
   "metadata": {},
   "outputs": [],
   "source": [
    "# Arrays Numpy armazena elementos como strins quando estes não são inteiros ou float\n",
    "a = np.array([1,3,'Casa',True])"
   ]
  },
  {
   "cell_type": "markdown",
   "id": "e9f199ef",
   "metadata": {},
   "source": [
    "E como podemos interagir?"
   ]
  }
 ],
 "metadata": {
  "kernelspec": {
   "display_name": "Python 3 (ipykernel)",
   "language": "python",
   "name": "python3"
  },
  "language_info": {
   "codemirror_mode": {
    "name": "ipython",
    "version": 3
   },
   "file_extension": ".py",
   "mimetype": "text/x-python",
   "name": "python",
   "nbconvert_exporter": "python",
   "pygments_lexer": "ipython3",
   "version": "3.8.8"
  }
 },
 "nbformat": 4,
 "nbformat_minor": 5
}
