{
 "cells": [
  {
   "cell_type": "markdown",
   "id": "7a938254",
   "metadata": {},
   "source": [
    "# Análise dos acidentes de trânsito de Porto Alegre"
   ]
  },
  {
   "cell_type": "markdown",
   "id": "71c10d40",
   "metadata": {},
   "source": [
    "## Objetivo"
   ]
  },
  {
   "cell_type": "markdown",
   "id": "2b90f0ce",
   "metadata": {},
   "source": [
    "Você atua no departamento de análise de dados da EPTC e o time de gestores(as) precisa de algumas informações sobre os acidentes para avaliar necessidades de ações para evitar novas ocorrências.\n",
    "\n",
    "Assim, com base nos registros disponibilizados, você terá que responder as seguintes perguntas:"
   ]
  },
  {
   "cell_type": "markdown",
   "id": "7f43567d",
   "metadata": {},
   "source": [
    "**Perguntas**\n",
    "\n",
    "\n",
    "1.   Como está a evolução dos acidentes nos últimos anos?\n",
    "2.   O número de acidentes diminuiu de 2019 para 2020?\n",
    "3.   Quais são os tipos de acidentes com maior ocorrência?\n",
    "4.   Qual a frequência de óbitos em acidentes nos últimos anos?\n",
    "5.   Qual o tipo de acidente com maior número de óbitos?\n"
   ]
  },
  {
   "cell_type": "markdown",
   "id": "228de317",
   "metadata": {},
   "source": [
    "Adicionalmente, você é instigado a realizar uma apresentação, com os locais dos acidentes ocorridos ao longo desse ano.\n",
    "\n",
    "**Nota**\n",
    "\n",
    "Abuse das visões gráficas para embasar sua análise.\n",
    "\n",
    "Aqui está o link para os nossos dados:\n",
    "\n",
    "https://dadosabertos.poa.br/dataset/acidentes-de-transito-acidentes"
   ]
  },
  {
   "cell_type": "code",
   "execution_count": 1,
   "id": "fe2e2ebd",
   "metadata": {},
   "outputs": [],
   "source": [
    "import warnings\n",
    "warnings.filterwarnings('ignore')"
   ]
  },
  {
   "cell_type": "code",
   "execution_count": 2,
   "id": "bcace992",
   "metadata": {},
   "outputs": [],
   "source": [
    "URL = 'https://dadosabertos.poa.br/dataset/d6cfbe48-ee1f-450f-87f5-9426f6a09328/resource/b56f8123-716a-4893-9348-23945f1ea1b9/download/cat_acidentes.csv'"
   ]
  },
  {
   "cell_type": "code",
   "execution_count": 6,
   "id": "0d116e62",
   "metadata": {},
   "outputs": [],
   "source": [
    "import pandas as pd\n",
    "\n",
    "\n",
    "df_raw = pd.read_csv(URL, sep=';')"
   ]
  },
  {
   "cell_type": "code",
   "execution_count": 7,
   "id": "0807c39d",
   "metadata": {},
   "outputs": [
    {
     "data": {
      "text/html": [
       "<div>\n",
       "<style scoped>\n",
       "    .dataframe tbody tr th:only-of-type {\n",
       "        vertical-align: middle;\n",
       "    }\n",
       "\n",
       "    .dataframe tbody tr th {\n",
       "        vertical-align: top;\n",
       "    }\n",
       "\n",
       "    .dataframe thead th {\n",
       "        text-align: right;\n",
       "    }\n",
       "</style>\n",
       "<table border=\"1\" class=\"dataframe\">\n",
       "  <thead>\n",
       "    <tr style=\"text-align: right;\">\n",
       "      <th></th>\n",
       "      <th>data_extracao</th>\n",
       "      <th>predial1</th>\n",
       "      <th>queda_arr</th>\n",
       "      <th>data</th>\n",
       "      <th>feridos</th>\n",
       "      <th>feridos_gr</th>\n",
       "      <th>mortes</th>\n",
       "      <th>morte_post</th>\n",
       "      <th>fatais</th>\n",
       "      <th>auto</th>\n",
       "      <th>...</th>\n",
       "      <th>longitude</th>\n",
       "      <th>latitude</th>\n",
       "      <th>log1</th>\n",
       "      <th>log2</th>\n",
       "      <th>tipo_acid</th>\n",
       "      <th>dia_sem</th>\n",
       "      <th>hora</th>\n",
       "      <th>noite_dia</th>\n",
       "      <th>regiao</th>\n",
       "      <th>consorcio</th>\n",
       "    </tr>\n",
       "  </thead>\n",
       "  <tbody>\n",
       "    <tr>\n",
       "      <th>0</th>\n",
       "      <td>2021-12-01 01:35:32</td>\n",
       "      <td>0</td>\n",
       "      <td>0.0</td>\n",
       "      <td>2020-10-17 00:00:00</td>\n",
       "      <td>1</td>\n",
       "      <td>0</td>\n",
       "      <td>0</td>\n",
       "      <td>0</td>\n",
       "      <td>0</td>\n",
       "      <td>3</td>\n",
       "      <td>...</td>\n",
       "      <td>0.000000</td>\n",
       "      <td>0.000000</td>\n",
       "      <td>R MARCOS MOREIRA</td>\n",
       "      <td>R GASTON ENGLERT</td>\n",
       "      <td>ABALROAMENTO</td>\n",
       "      <td>SÁBADO</td>\n",
       "      <td>19:00:00.0000000</td>\n",
       "      <td>NOITE</td>\n",
       "      <td>NORTE</td>\n",
       "      <td>NaN</td>\n",
       "    </tr>\n",
       "    <tr>\n",
       "      <th>1</th>\n",
       "      <td>2021-12-01 01:35:32</td>\n",
       "      <td>8487</td>\n",
       "      <td>0.0</td>\n",
       "      <td>2016-01-01 00:00:00</td>\n",
       "      <td>0</td>\n",
       "      <td>0</td>\n",
       "      <td>0</td>\n",
       "      <td>1</td>\n",
       "      <td>1</td>\n",
       "      <td>1</td>\n",
       "      <td>...</td>\n",
       "      <td>-51.095216</td>\n",
       "      <td>-30.134588</td>\n",
       "      <td>ESTR JOAO DE OLIVEIRA REMIAO</td>\n",
       "      <td>NaN</td>\n",
       "      <td>CHOQUE</td>\n",
       "      <td>SEXTA-FEIRA</td>\n",
       "      <td>12:00:00.0000000</td>\n",
       "      <td>DIA</td>\n",
       "      <td>LESTE</td>\n",
       "      <td>NaN</td>\n",
       "    </tr>\n",
       "  </tbody>\n",
       "</table>\n",
       "<p>2 rows × 34 columns</p>\n",
       "</div>"
      ],
      "text/plain": [
       "         data_extracao  predial1  queda_arr                 data  feridos  \\\n",
       "0  2021-12-01 01:35:32         0        0.0  2020-10-17 00:00:00        1   \n",
       "1  2021-12-01 01:35:32      8487        0.0  2016-01-01 00:00:00        0   \n",
       "\n",
       "   feridos_gr  mortes  morte_post  fatais  auto  ...  longitude   latitude  \\\n",
       "0           0       0           0       0     3  ...   0.000000   0.000000   \n",
       "1           0       0           1       1     1  ... -51.095216 -30.134588   \n",
       "\n",
       "                           log1              log2     tipo_acid      dia_sem  \\\n",
       "0              R MARCOS MOREIRA  R GASTON ENGLERT  ABALROAMENTO       SÁBADO   \n",
       "1  ESTR JOAO DE OLIVEIRA REMIAO               NaN        CHOQUE  SEXTA-FEIRA   \n",
       "\n",
       "               hora  noite_dia  regiao  consorcio  \n",
       "0  19:00:00.0000000      NOITE   NORTE        NaN  \n",
       "1  12:00:00.0000000        DIA   LESTE        NaN  \n",
       "\n",
       "[2 rows x 34 columns]"
      ]
     },
     "execution_count": 7,
     "metadata": {},
     "output_type": "execute_result"
    }
   ],
   "source": [
    "df_raw.head(2)"
   ]
  },
  {
   "cell_type": "code",
   "execution_count": 8,
   "id": "3ca729d6",
   "metadata": {},
   "outputs": [
    {
     "data": {
      "text/plain": [
       "(72249, 34)"
      ]
     },
     "execution_count": 8,
     "metadata": {},
     "output_type": "execute_result"
    }
   ],
   "source": [
    "df_raw.shape"
   ]
  },
  {
   "cell_type": "code",
   "execution_count": 9,
   "id": "52b8950e",
   "metadata": {},
   "outputs": [
    {
     "data": {
      "text/plain": [
       "data_extracao     object\n",
       "predial1           int64\n",
       "queda_arr        float64\n",
       "data              object\n",
       "feridos            int64\n",
       "feridos_gr         int64\n",
       "mortes             int64\n",
       "morte_post         int64\n",
       "fatais             int64\n",
       "auto               int64\n",
       "taxi               int64\n",
       "lotacao            int64\n",
       "onibus_urb         int64\n",
       "onibus_met         int64\n",
       "onibus_int         int64\n",
       "caminhao           int64\n",
       "moto               int64\n",
       "carroca            int64\n",
       "bicicleta          int64\n",
       "outro              int64\n",
       "cont_vit           int64\n",
       "ups                int64\n",
       "patinete           int64\n",
       "idacidente         int64\n",
       "longitude        float64\n",
       "latitude         float64\n",
       "log1              object\n",
       "log2              object\n",
       "tipo_acid         object\n",
       "dia_sem           object\n",
       "hora              object\n",
       "noite_dia         object\n",
       "regiao            object\n",
       "consorcio         object\n",
       "dtype: object"
      ]
     },
     "execution_count": 9,
     "metadata": {},
     "output_type": "execute_result"
    }
   ],
   "source": [
    "df_raw.dtypes"
   ]
  },
  {
   "cell_type": "markdown",
   "id": "8fff943e",
   "metadata": {},
   "source": [
    "### Como está a evolução dos acidentes nos últimos anos?"
   ]
  },
  {
   "cell_type": "code",
   "execution_count": 10,
   "id": "8f36bb32",
   "metadata": {},
   "outputs": [
    {
     "data": {
      "text/plain": [
       "2016-08-29 00:00:00    69\n",
       "2016-04-11 00:00:00    67\n",
       "2018-11-19 00:00:00    67\n",
       "2016-03-18 00:00:00    66\n",
       "2016-10-06 00:00:00    66\n",
       "                       ..\n",
       "2021-12-14 00:00:00     1\n",
       "2021-12-19 00:00:00     1\n",
       "2018-11-04 01:00:00     1\n",
       "3031-04-03 00:00:00     1\n",
       "5021-08-06 00:00:00     1\n",
       "Name: data, Length: 2166, dtype: int64"
      ]
     },
     "execution_count": 10,
     "metadata": {},
     "output_type": "execute_result"
    }
   ],
   "source": [
    "df_raw['data'].value_counts()"
   ]
  },
  {
   "cell_type": "code",
   "execution_count": 24,
   "id": "56f68fda",
   "metadata": {},
   "outputs": [],
   "source": [
    "linhas_c_erro = df_raw[ (df_raw['data'] == '5021-08-06 00:00:00') | \\\n",
    "                        (df_raw['data'] == '3031-04-03 00:00:00')     ]"
   ]
  },
  {
   "cell_type": "code",
   "execution_count": 18,
   "id": "8455db0f",
   "metadata": {},
   "outputs": [
    {
     "data": {
      "text/plain": [
       "Int64Index([62986, 67888], dtype='int64')"
      ]
     },
     "execution_count": 18,
     "metadata": {},
     "output_type": "execute_result"
    }
   ],
   "source": [
    "linhas_c_erro.index"
   ]
  },
  {
   "cell_type": "code",
   "execution_count": 19,
   "id": "5d2a5f0a",
   "metadata": {},
   "outputs": [],
   "source": [
    "df_analise = df_raw.drop(index=linhas_c_erro.index, axis=0)"
   ]
  },
  {
   "cell_type": "code",
   "execution_count": 20,
   "id": "3a08f05e",
   "metadata": {},
   "outputs": [
    {
     "data": {
      "text/plain": [
       "2016-08-29 00:00:00    69\n",
       "2016-04-11 00:00:00    67\n",
       "2018-11-19 00:00:00    67\n",
       "2016-10-06 00:00:00    66\n",
       "2016-03-18 00:00:00    66\n",
       "                       ..\n",
       "2021-11-29 00:00:00     2\n",
       "2018-11-04 01:00:00     1\n",
       "2021-12-19 00:00:00     1\n",
       "2021-12-14 00:00:00     1\n",
       "2202-09-30 00:00:00     1\n",
       "Name: data, Length: 2164, dtype: int64"
      ]
     },
     "execution_count": 20,
     "metadata": {},
     "output_type": "execute_result"
    }
   ],
   "source": [
    "df_analise['data'].value_counts()"
   ]
  },
  {
   "cell_type": "code",
   "execution_count": 27,
   "id": "bcc80ff8",
   "metadata": {},
   "outputs": [
    {
     "data": {
      "text/plain": [
       "Int64Index([], dtype='int64')"
      ]
     },
     "execution_count": 27,
     "metadata": {},
     "output_type": "execute_result"
    }
   ],
   "source": [
    "df_analise[df_analise['data'] == '2202-09-30 00:00:00'].index"
   ]
  },
  {
   "cell_type": "code",
   "execution_count": 23,
   "id": "3582d6e0",
   "metadata": {},
   "outputs": [],
   "source": [
    "df_analise.drop(index=69795, inplace=True)"
   ]
  },
  {
   "cell_type": "code",
   "execution_count": 28,
   "id": "7de4ed86",
   "metadata": {},
   "outputs": [],
   "source": [
    "df_analise['data'] = pd.to_datetime(df_analise['data'])"
   ]
  },
  {
   "cell_type": "code",
   "execution_count": 32,
   "id": "542ab510",
   "metadata": {},
   "outputs": [
    {
     "data": {
      "text/plain": [
       "<AxesSubplot:xlabel='data'>"
      ]
     },
     "execution_count": 32,
     "metadata": {},
     "output_type": "execute_result"
    },
    {
     "data": {
      "image/png": "[encoded data removed]",
      "text/plain": [
       "<Figure size 432x288 with 1 Axes>"
      ]
     },
     "metadata": {
      "needs_background": "light"
     },
     "output_type": "display_data"
    }
   ],
   "source": [
    "df_analise.groupby(pd.Grouper(key='data', freq='y'))['idacidente'].count().plot(kind='area', alpha= .2)"
   ]
  },
  {
   "cell_type": "code",
   "execution_count": 34,
   "id": "b0b49d88",
   "metadata": {},
   "outputs": [],
   "source": [
    "df_comp_ano = df_analise.groupby(pd.Grouper(key='data', freq='y'))['idacidente'].count()"
   ]
  },
  {
   "cell_type": "code",
   "execution_count": 36,
   "id": "25980de3",
   "metadata": {},
   "outputs": [],
   "source": [
    "df_comp_ano = pd.DataFrame(df_comp_ano)"
   ]
  },
  {
   "cell_type": "code",
   "execution_count": 38,
   "id": "bc0d0f89",
   "metadata": {},
   "outputs": [],
   "source": [
    "df_comp_ano.reset_index(inplace=True)"
   ]
  },
  {
   "cell_type": "code",
   "execution_count": 49,
   "id": "af3216bb",
   "metadata": {},
   "outputs": [],
   "source": [
    "df_comp_ano = df_comp_ano[ (df_comp_ano['data'] > '2018-12-31') & (df_comp_ano['data'] < '2021-01-01') ]"
   ]
  },
  {
   "cell_type": "markdown",
   "id": "14afb281",
   "metadata": {},
   "source": [
    "### O número de acidentes diminuiu de 2019 para 2020?"
   ]
  },
  {
   "cell_type": "code",
   "execution_count": 50,
   "id": "5201d73a",
   "metadata": {},
   "outputs": [],
   "source": [
    "import seaborn as sns\n",
    "import matplotlib.pyplot as plt"
   ]
  },
  {
   "cell_type": "code",
   "execution_count": 55,
   "id": "dd7ff6e8",
   "metadata": {},
   "outputs": [
    {
     "data": {
      "image/png": "[encoded data removed]",
      "text/plain": [
       "<Figure size 432x288 with 1 Axes>"
      ]
     },
     "metadata": {
      "needs_background": "light"
     },
     "output_type": "display_data"
    }
   ],
   "source": [
    "sns.barplot(data=df_comp_ano, x='data', y='idacidente')\n",
    "\n",
    "plt.title('Comparativo de ocorrências - anos 2019 e 2020')\n",
    "plt.xlabel('Ano')\n",
    "plt.ylabel('Qtd de ocorrências')\n",
    "plt.xticks(rotation=45)\n",
    "\n",
    "plt.show()"
   ]
  },
  {
   "cell_type": "markdown",
   "id": "35358270",
   "metadata": {},
   "source": [
    "### Quais são os tipos de acidentes com maior ocorrência?"
   ]
  },
  {
   "cell_type": "code",
   "execution_count": 56,
   "id": "3f8b1ce4",
   "metadata": {},
   "outputs": [
    {
     "data": {
      "text/html": [
       "<div>\n",
       "<style scoped>\n",
       "    .dataframe tbody tr th:only-of-type {\n",
       "        vertical-align: middle;\n",
       "    }\n",
       "\n",
       "    .dataframe tbody tr th {\n",
       "        vertical-align: top;\n",
       "    }\n",
       "\n",
       "    .dataframe thead th {\n",
       "        text-align: right;\n",
       "    }\n",
       "</style>\n",
       "<table border=\"1\" class=\"dataframe\">\n",
       "  <thead>\n",
       "    <tr style=\"text-align: right;\">\n",
       "      <th></th>\n",
       "      <th>data_extracao</th>\n",
       "      <th>predial1</th>\n",
       "      <th>queda_arr</th>\n",
       "      <th>data</th>\n",
       "      <th>feridos</th>\n",
       "      <th>feridos_gr</th>\n",
       "      <th>mortes</th>\n",
       "      <th>morte_post</th>\n",
       "      <th>fatais</th>\n",
       "      <th>auto</th>\n",
       "      <th>...</th>\n",
       "      <th>longitude</th>\n",
       "      <th>latitude</th>\n",
       "      <th>log1</th>\n",
       "      <th>log2</th>\n",
       "      <th>tipo_acid</th>\n",
       "      <th>dia_sem</th>\n",
       "      <th>hora</th>\n",
       "      <th>noite_dia</th>\n",
       "      <th>regiao</th>\n",
       "      <th>consorcio</th>\n",
       "    </tr>\n",
       "  </thead>\n",
       "  <tbody>\n",
       "    <tr>\n",
       "      <th>0</th>\n",
       "      <td>2021-12-01 01:35:32</td>\n",
       "      <td>0</td>\n",
       "      <td>0.0</td>\n",
       "      <td>2020-10-17</td>\n",
       "      <td>1</td>\n",
       "      <td>0</td>\n",
       "      <td>0</td>\n",
       "      <td>0</td>\n",
       "      <td>0</td>\n",
       "      <td>3</td>\n",
       "      <td>...</td>\n",
       "      <td>0.000000</td>\n",
       "      <td>0.000000</td>\n",
       "      <td>R MARCOS MOREIRA</td>\n",
       "      <td>R GASTON ENGLERT</td>\n",
       "      <td>ABALROAMENTO</td>\n",
       "      <td>SÁBADO</td>\n",
       "      <td>19:00:00.0000000</td>\n",
       "      <td>NOITE</td>\n",
       "      <td>NORTE</td>\n",
       "      <td>NaN</td>\n",
       "    </tr>\n",
       "    <tr>\n",
       "      <th>1</th>\n",
       "      <td>2021-12-01 01:35:32</td>\n",
       "      <td>8487</td>\n",
       "      <td>0.0</td>\n",
       "      <td>2016-01-01</td>\n",
       "      <td>0</td>\n",
       "      <td>0</td>\n",
       "      <td>0</td>\n",
       "      <td>1</td>\n",
       "      <td>1</td>\n",
       "      <td>1</td>\n",
       "      <td>...</td>\n",
       "      <td>-51.095216</td>\n",
       "      <td>-30.134588</td>\n",
       "      <td>ESTR JOAO DE OLIVEIRA REMIAO</td>\n",
       "      <td>NaN</td>\n",
       "      <td>CHOQUE</td>\n",
       "      <td>SEXTA-FEIRA</td>\n",
       "      <td>12:00:00.0000000</td>\n",
       "      <td>DIA</td>\n",
       "      <td>LESTE</td>\n",
       "      <td>NaN</td>\n",
       "    </tr>\n",
       "  </tbody>\n",
       "</table>\n",
       "<p>2 rows × 34 columns</p>\n",
       "</div>"
      ],
      "text/plain": [
       "         data_extracao  predial1  queda_arr       data  feridos  feridos_gr  \\\n",
       "0  2021-12-01 01:35:32         0        0.0 2020-10-17        1           0   \n",
       "1  2021-12-01 01:35:32      8487        0.0 2016-01-01        0           0   \n",
       "\n",
       "   mortes  morte_post  fatais  auto  ...  longitude   latitude  \\\n",
       "0       0           0       0     3  ...   0.000000   0.000000   \n",
       "1       0           1       1     1  ... -51.095216 -30.134588   \n",
       "\n",
       "                           log1              log2     tipo_acid      dia_sem  \\\n",
       "0              R MARCOS MOREIRA  R GASTON ENGLERT  ABALROAMENTO       SÁBADO   \n",
       "1  ESTR JOAO DE OLIVEIRA REMIAO               NaN        CHOQUE  SEXTA-FEIRA   \n",
       "\n",
       "               hora  noite_dia  regiao  consorcio  \n",
       "0  19:00:00.0000000      NOITE   NORTE        NaN  \n",
       "1  12:00:00.0000000        DIA   LESTE        NaN  \n",
       "\n",
       "[2 rows x 34 columns]"
      ]
     },
     "execution_count": 56,
     "metadata": {},
     "output_type": "execute_result"
    }
   ],
   "source": [
    "df_analise.head(2)"
   ]
  },
  {
   "cell_type": "code",
   "execution_count": 61,
   "id": "3b97cc79",
   "metadata": {},
   "outputs": [],
   "source": [
    "tipo_acidente = df_analise.groupby(by='2021-12-31  ABALROAMENTO      4885\n",
    "            ATROPELAMENTO      578\n",
    "            CAPOTAGEM           57\n",
    "            CHOQUE            1192\n",
    "            COLISÃO           3347\n",
    "            EVENTUAL           173\n",
    "            INCÊNDIO             7\n",
    "            NAO CADASTRADO     392\n",
    "            QUEDA              292\n",
    "            TOMBAMENTO          73tipo_acid')['idacidente'].count().sort_values(ascending=False)"
   ]
  },
  {
   "cell_type": "code",
   "execution_count": 63,
   "id": "8e0de64c",
   "metadata": {},
   "outputs": [],
   "source": [
    "tipo_acidente = pd.DataFrame(tipo_acidente)"
   ]
  },
  {
   "cell_type": "code",
   "execution_count": 65,
   "id": "1a451a40",
   "metadata": {},
   "outputs": [],
   "source": [
    "tipo_acidente.reset_index(inplace=True)"
   ]
  },
  {
   "cell_type": "code",
   "execution_count": 66,
   "id": "27134134",
   "metadata": {},
   "outputs": [
    {
     "data": {
      "text/html": [
       "<div>\n",
       "<style scoped>\n",
       "    .dataframe tbody tr th:only-of-type {\n",
       "        vertical-align: middle;\n",
       "    }\n",
       "\n",
       "    .dataframe tbody tr th {\n",
       "        vertical-align: top;\n",
       "    }\n",
       "\n",
       "    .dataframe thead th {\n",
       "        text-align: right;\n",
       "    }\n",
       "</style>\n",
       "<table border=\"1\" class=\"dataframe\">\n",
       "  <thead>\n",
       "    <tr style=\"text-align: right;\">\n",
       "      <th></th>\n",
       "      <th>tipo_acid</th>\n",
       "      <th>idacidente</th>\n",
       "    </tr>\n",
       "  </thead>\n",
       "  <tbody>\n",
       "    <tr>\n",
       "      <th>0</th>\n",
       "      <td>ABALROAMENTO</td>\n",
       "      <td>35052</td>\n",
       "    </tr>\n",
       "    <tr>\n",
       "      <th>1</th>\n",
       "      <td>COLISÃO</td>\n",
       "      <td>21815</td>\n",
       "    </tr>\n",
       "    <tr>\n",
       "      <th>2</th>\n",
       "      <td>CHOQUE</td>\n",
       "      <td>6142</td>\n",
       "    </tr>\n",
       "    <tr>\n",
       "      <th>3</th>\n",
       "      <td>ATROPELAMENTO</td>\n",
       "      <td>4740</td>\n",
       "    </tr>\n",
       "    <tr>\n",
       "      <th>4</th>\n",
       "      <td>QUEDA</td>\n",
       "      <td>2470</td>\n",
       "    </tr>\n",
       "    <tr>\n",
       "      <th>5</th>\n",
       "      <td>EVENTUAL</td>\n",
       "      <td>1049</td>\n",
       "    </tr>\n",
       "    <tr>\n",
       "      <th>6</th>\n",
       "      <td>NAO CADASTRADO</td>\n",
       "      <td>417</td>\n",
       "    </tr>\n",
       "    <tr>\n",
       "      <th>7</th>\n",
       "      <td>CAPOTAGEM</td>\n",
       "      <td>294</td>\n",
       "    </tr>\n",
       "    <tr>\n",
       "      <th>8</th>\n",
       "      <td>TOMBAMENTO</td>\n",
       "      <td>240</td>\n",
       "    </tr>\n",
       "    <tr>\n",
       "      <th>9</th>\n",
       "      <td>INCÊNDIO</td>\n",
       "      <td>27</td>\n",
       "    </tr>\n",
       "  </tbody>\n",
       "</table>\n",
       "</div>"
      ],
      "text/plain": [
       "        tipo_acid  idacidente\n",
       "0    ABALROAMENTO       35052\n",
       "1         COLISÃO       21815\n",
       "2          CHOQUE        6142\n",
       "3   ATROPELAMENTO        4740\n",
       "4           QUEDA        2470\n",
       "5        EVENTUAL        1049\n",
       "6  NAO CADASTRADO         417\n",
       "7       CAPOTAGEM         294\n",
       "8      TOMBAMENTO         240\n",
       "9        INCÊNDIO          27"
      ]
     },
     "execution_count": 66,
     "metadata": {},
     "output_type": "execute_result"
    }
   ],
   "source": [
    "tipo_acidente"
   ]
  },
  {
   "cell_type": "code",
   "execution_count": 95,
   "id": "9ccb124f",
   "metadata": {},
   "outputs": [
    {
     "data": {
      "image/png": "[encoded data removed]",
      "text/plain": [
       "<Figure size 1440x360 with 1 Axes>"
      ]
     },
     "metadata": {},
     "output_type": "display_data"
    }
   ],
   "source": [
    "plt.figure(figsize=(20,5))\n",
    "\n",
    "sns.set_theme(style='whitegrid')\n",
    "\n",
    "sns.barplot(data=tipo_acidente, x='idacidente', y='tipo_acid')\n",
    "\n",
    "plt.title('Distribuição por tipo de acidente' )\n",
    "plt.ylabel('Tipo de acidente')\n",
    "plt.xlabel('Qtd de ocorrências')\n",
    "plt.show()"
   ]
  },
  {
   "cell_type": "code",
   "execution_count": 96,
   "id": "3e55596a",
   "metadata": {},
   "outputs": [
    {
     "data": {
      "text/plain": [
       "data        tipo_acid     \n",
       "2016-12-31  ABALROAMENTO      6631\n",
       "            ATROPELAMENTO     1073\n",
       "            CAPOTAGEM           43\n",
       "            CHOQUE            1111\n",
       "            COLISÃO           4192\n",
       "            EVENTUAL           156\n",
       "            INCÊNDIO             5\n",
       "            QUEDA              577\n",
       "            TOMBAMENTO          12\n",
       "2017-12-31  ABALROAMENTO      6331\n",
       "            ATROPELAMENTO      889\n",
       "            CAPOTAGEM           40\n",
       "            CHOQUE             975\n",
       "            COLISÃO           3819\n",
       "            EVENTUAL           185\n",
       "            INCÊNDIO             3\n",
       "            NAO CADASTRADO       1\n",
       "            QUEDA              412\n",
       "            TOMBAMENTO          16\n",
       "2018-12-31  ABALROAMENTO      5911\n",
       "            ATROPELAMENTO      830\n",
       "            CAPOTAGEM           51\n",
       "            CHOQUE             982\n",
       "            COLISÃO           3834\n",
       "            EVENTUAL           191\n",
       "            INCÊNDIO             4\n",
       "            NAO CADASTRADO      13\n",
       "            QUEDA              417\n",
       "            TOMBAMENTO          30\n",
       "2019-12-31  ABALROAMENTO      6743\n",
       "            ATROPELAMENTO      848\n",
       "            CAPOTAGEM           52\n",
       "            CHOQUE            1063\n",
       "            COLISÃO           3852\n",
       "            EVENTUAL           190\n",
       "            INCÊNDIO             7\n",
       "            NAO CADASTRADO       5\n",
       "            QUEDA              421\n",
       "            TOMBAMENTO          48\n",
       "2020-12-31  ABALROAMENTO      4551\n",
       "            ATROPELAMENTO      522\n",
       "            CAPOTAGEM           51\n",
       "            CHOQUE             819\n",
       "            COLISÃO           2771\n",
       "            EVENTUAL           154\n",
       "            INCÊNDIO             1\n",
       "            NAO CADASTRADO       6\n",
       "            QUEDA              351\n",
       "            TOMBAMENTO          61\n",
       "2021-12-31  ABALROAMENTO      4885\n",
       "            ATROPELAMENTO      578\n",
       "            CAPOTAGEM           57\n",
       "            CHOQUE            1192\n",
       "            COLISÃO           3347\n",
       "            EVENTUAL           173\n",
       "            INCÊNDIO             7\n",
       "            NAO CADASTRADO     392\n",
       "            QUEDA              292\n",
       "            TOMBAMENTO          73\n",
       "Name: idacidente, dtype: int64"
      ]
     },
     "execution_count": 96,
     "metadata": {},
     "output_type": "execute_result"
    }
   ],
   "source": [
    "df_analise.groupby([pd.Grouper(key='data', freq='y'), 'tipo_acid'])['idacidente'].count()"
   ]
  },
  {
   "cell_type": "markdown",
   "id": "1e7fa149",
   "metadata": {},
   "source": [
    "### Qual a frequência de óbitos em acidentes nos últimos anos?"
   ]
  },
  {
   "cell_type": "code",
   "execution_count": 110,
   "id": "b165d526",
   "metadata": {},
   "outputs": [],
   "source": [
    "obitos = df_analise.groupby(pd.Grouper(key='data', freq='y'))['fatais'].sum()"
   ]
  },
  {
   "cell_type": "code",
   "execution_count": 111,
   "id": "29d297d9",
   "metadata": {},
   "outputs": [
    {
     "data": {
      "text/html": [
       "<div>\n",
       "<style scoped>\n",
       "    .dataframe tbody tr th:only-of-type {\n",
       "        vertical-align: middle;\n",
       "    }\n",
       "\n",
       "    .dataframe tbody tr th {\n",
       "        vertical-align: top;\n",
       "    }\n",
       "\n",
       "    .dataframe thead th {\n",
       "        text-align: right;\n",
       "    }\n",
       "</style>\n",
       "<table border=\"1\" class=\"dataframe\">\n",
       "  <thead>\n",
       "    <tr style=\"text-align: right;\">\n",
       "      <th></th>\n",
       "      <th>data</th>\n",
       "      <th>fatais</th>\n",
       "    </tr>\n",
       "  </thead>\n",
       "  <tbody>\n",
       "    <tr>\n",
       "      <th>0</th>\n",
       "      <td>2016-12-31</td>\n",
       "      <td>92</td>\n",
       "    </tr>\n",
       "    <tr>\n",
       "      <th>1</th>\n",
       "      <td>2017-12-31</td>\n",
       "      <td>90</td>\n",
       "    </tr>\n",
       "    <tr>\n",
       "      <th>2</th>\n",
       "      <td>2018-12-31</td>\n",
       "      <td>75</td>\n",
       "    </tr>\n",
       "    <tr>\n",
       "      <th>3</th>\n",
       "      <td>2019-12-31</td>\n",
       "      <td>74</td>\n",
       "    </tr>\n",
       "    <tr>\n",
       "      <th>4</th>\n",
       "      <td>2020-12-31</td>\n",
       "      <td>64</td>\n",
       "    </tr>\n",
       "    <tr>\n",
       "      <th>5</th>\n",
       "      <td>2021-12-31</td>\n",
       "      <td>73</td>\n",
       "    </tr>\n",
       "  </tbody>\n",
       "</table>\n",
       "</div>"
      ],
      "text/plain": [
       "        data  fatais\n",
       "0 2016-12-31      92\n",
       "1 2017-12-31      90\n",
       "2 2018-12-31      75\n",
       "3 2019-12-31      74\n",
       "4 2020-12-31      64\n",
       "5 2021-12-31      73"
      ]
     },
     "execution_count": 111,
     "metadata": {},
     "output_type": "execute_result"
    }
   ],
   "source": [
    "obitos = pd.DataFrame(obitos)\n",
    "obitos.reset_index(inplace=True)\n",
    "obitos"
   ]
  },
  {
   "cell_type": "code",
   "execution_count": 112,
   "id": "8840691f",
   "metadata": {},
   "outputs": [],
   "source": [
    "obitos['ano'] = pd.DatetimeIndex(obitos['data']).year"
   ]
  },
  {
   "cell_type": "code",
   "execution_count": 113,
   "id": "27192c5e",
   "metadata": {},
   "outputs": [
    {
     "data": {
      "text/plain": [
       "<AxesSubplot:xlabel='ano', ylabel='fatais'>"
      ]
     },
     "execution_count": 113,
     "metadata": {},
     "output_type": "execute_result"
    },
    {
     "data": {
      "image/png": "[encoded data removed]",
      "text/plain": [
       "<Figure size 432x288 with 1 Axes>"
      ]
     },
     "metadata": {},
     "output_type": "display_data"
    }
   ],
   "source": [
    "sns.lineplot(data=obitos, x='ano', y='fatais')"
   ]
  },
  {
   "cell_type": "code",
   "execution_count": 117,
   "id": "249d9b95",
   "metadata": {},
   "outputs": [],
   "source": [
    "obitos_cat = df_analise.groupby([pd.Grouper(key='data', freq='y'), 'tipo_acid'])['fatais'].sum()"
   ]
  },
  {
   "cell_type": "code",
   "execution_count": 119,
   "id": "80034197",
   "metadata": {},
   "outputs": [],
   "source": [
    "obitos_cat = pd.DataFrame(obitos_cat)\n",
    "obitos_cat.reset_index(inplace=True)\n",
    "obitos_cat['ano'] = pd.DatetimeIndex(obitos_cat['data']).year"
   ]
  },
  {
   "cell_type": "markdown",
   "id": "d391e11b",
   "metadata": {},
   "source": [
    "### Qual o tipo de acidente com maior número de óbitos?"
   ]
  },
  {
   "cell_type": "code",
   "execution_count": 127,
   "id": "c77c6474",
   "metadata": {},
   "outputs": [
    {
     "data": {
      "image/png": "[encoded data removed]",
      "text/plain": [
       "<Figure size 1800x360 with 1 Axes>"
      ]
     },
     "metadata": {},
     "output_type": "display_data"
    }
   ],
   "source": [
    "plt.figure(figsize=(25,5))\n",
    "\n",
    "sns.barplot(data=obitos_cat, x='tipo_acid', y='fatais', hue='ano', palette='Blues')\n",
    "plt.xticks(rotation=45)\n",
    "\n",
    "plt.show()"
   ]
  },
  {
   "cell_type": "markdown",
   "id": "994d359d",
   "metadata": {},
   "source": [
    "# Desafio do mapa"
   ]
  },
  {
   "cell_type": "code",
   "execution_count": 146,
   "id": "00a6d583",
   "metadata": {},
   "outputs": [],
   "source": [
    "dados2021 = df_analise[df_analise['data'] >= '2021-01-01 00:00:00']"
   ]
  },
  {
   "cell_type": "code",
   "execution_count": 147,
   "id": "a5b4b350",
   "metadata": {},
   "outputs": [],
   "source": [
    "mapa = dados2021[['data','longitude', 'latitude', 'log1', 'tipo_acid']]"
   ]
  },
  {
   "cell_type": "code",
   "execution_count": 148,
   "id": "05abad0d",
   "metadata": {},
   "outputs": [
    {
     "data": {
      "text/plain": [
       "666"
      ]
     },
     "execution_count": 148,
     "metadata": {},
     "output_type": "execute_result"
    }
   ],
   "source": [
    "mapa['longitude'].isnull().sum()"
   ]
  },
  {
   "cell_type": "code",
   "execution_count": 149,
   "id": "764f0bcd",
   "metadata": {},
   "outputs": [
    {
     "data": {
      "text/plain": [
       "(10996, 5)"
      ]
     },
     "execution_count": 149,
     "metadata": {},
     "output_type": "execute_result"
    }
   ],
   "source": [
    "mapa.shape"
   ]
  },
  {
   "cell_type": "code",
   "execution_count": 138,
   "id": "473d451a",
   "metadata": {},
   "outputs": [
    {
     "name": "stdout",
     "output_type": "stream",
     "text": [
      "Requirement already satisfied: geopy in /home/valli/anaconda3/lib/python3.8/site-packages (2.2.0)\n",
      "Requirement already satisfied: geographiclib<2,>=1.49 in /home/valli/anaconda3/lib/python3.8/site-packages (from geopy) (1.52)\n"
     ]
    }
   ],
   "source": [
    "!pip install geopy"
   ]
  },
  {
   "cell_type": "code",
   "execution_count": 153,
   "id": "ce1eb1f9",
   "metadata": {},
   "outputs": [
    {
     "data": {
      "text/plain": [
       "60605                R SILVEIRO , Porto Alegre, RS, Brasil\n",
       "60606                        nan, Porto Alegre, RS, Brasil\n",
       "60607    R JOSE INACIO DA CUNHA , Porto Alegre, RS, Brasil\n",
       "60609            R DONA TEODORA , Porto Alegre, RS, Brasil\n",
       "60611              ESTR VAREJAO , Porto Alegre, RS, Brasil\n",
       "                               ...                        \n",
       "72244               AV IPIRANGA , Porto Alegre, RS, Brasil\n",
       "72245    AV VERISSIMO DE AMARAL , Porto Alegre, RS, Brasil\n",
       "72246           AV ASSIS BRASIL , Porto Alegre, RS, Brasil\n",
       "72247             AV A J RENNER , Porto Alegre, RS, Brasil\n",
       "72248        AV DR NILO PECANHA , Porto Alegre, RS, Brasil\n",
       "Name: log1, Length: 10996, dtype: object"
      ]
     },
     "execution_count": 153,
     "metadata": {},
     "output_type": "execute_result"
    }
   ],
   "source": [
    "mapa['log1']"
   ]
  },
  {
   "cell_type": "code",
   "execution_count": 151,
   "id": "4fea559a",
   "metadata": {},
   "outputs": [],
   "source": [
    "def inserir_cid_est(endereco):\n",
    "    return str(endereco) + ', Porto Alegre, RS, Brasil'"
   ]
  },
  {
   "cell_type": "code",
   "execution_count": 152,
   "id": "1fad9dbd",
   "metadata": {},
   "outputs": [],
   "source": [
    "mapa['log1'] = mapa['log1'].apply(lambda x : inserir_cid_est(x))"
   ]
  },
  {
   "cell_type": "code",
   "execution_count": 154,
   "id": "4fdc9672",
   "metadata": {},
   "outputs": [
    {
     "name": "stdout",
     "output_type": "stream",
     "text": [
      "Requirement already satisfied: tqdm in /home/valli/anaconda3/lib/python3.8/site-packages (4.62.3)\r\n"
     ]
    }
   ],
   "source": [
    "!pip install tqdm"
   ]
  },
  {
   "cell_type": "code",
   "execution_count": 155,
   "id": "5aa11d53",
   "metadata": {},
   "outputs": [],
   "source": [
    "enderecos = mapa[mapa['longitude'].isnull()]"
   ]
  },
  {
   "cell_type": "code",
   "execution_count": 156,
   "id": "c7827a29",
   "metadata": {},
   "outputs": [
    {
     "data": {
      "text/plain": [
       "(666, 5)"
      ]
     },
     "execution_count": 156,
     "metadata": {},
     "output_type": "execute_result"
    }
   ],
   "source": [
    "enderecos.shape"
   ]
  },
  {
   "cell_type": "code",
   "execution_count": 157,
   "id": "3fedea0f",
   "metadata": {},
   "outputs": [],
   "source": [
    "from tqdm import tqdm\n",
    "tqdm.pandas()"
   ]
  },
  {
   "cell_type": "code",
   "execution_count": 158,
   "id": "d62cb4a0",
   "metadata": {},
   "outputs": [],
   "source": [
    "from geopy.geocoders import Nominatim\n",
    "from geopy.extra.rate_limiter import RateLimiter\n",
    "\n",
    "geolocator = Nominatim(user_agent='app_tt')\n",
    "\n",
    "geocode = RateLimiter(geolocator.geocode, min_delay_seconds=1)"
   ]
  },
  {
   "cell_type": "code",
   "execution_count": null,
   "id": "1f0ab472",
   "metadata": {},
   "outputs": [
    {
     "name": "stderr",
     "output_type": "stream",
     "text": [
      " 69%|████████████████████████████▏            | 457/666 [07:35<03:27,  1.01it/s]"
     ]
    }
   ],
   "source": [
    "%%time\n",
    "\n",
    "enderecos['coordenadas'] = enderecos['log1'].progress_apply(geocode)"
   ]
  },
  {
   "cell_type": "code",
   "execution_count": null,
   "id": "f54a3326",
   "metadata": {},
   "outputs": [],
   "source": []
  }
 ],
 "metadata": {
  "kernelspec": {
   "display_name": "Python 3 (ipykernel)",
   "language": "python",
   "name": "python3"
  },
  "language_info": {
   "codemirror_mode": {
    "name": "ipython",
    "version": 3
   },
   "file_extension": ".py",
   "mimetype": "text/x-python",
   "name": "python",
   "nbconvert_exporter": "python",
   "pygments_lexer": "ipython3",
   "version": "3.8.8"
  }
 },
 "nbformat": 4,
 "nbformat_minor": 5
}
