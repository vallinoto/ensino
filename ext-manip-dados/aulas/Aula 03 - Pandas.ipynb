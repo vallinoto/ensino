{
 "cells": [
  {
   "cell_type": "markdown",
   "id": "2c6f5c31",
   "metadata": {},
   "source": [
    "# Introdução ao Pandas"
   ]
  },
  {
   "cell_type": "markdown",
   "id": "42832b67",
   "metadata": {},
   "source": [
    "## Series\n",
    "\n",
    "* Semelhante a uma matriz NumPy (na verdade, ela é construída em cima do objeto de matriz NumPy)\n",
    "* Serie pode ter rótulos de eixos, o que significa que pode ser indexado por um rótulo, em vez de apenas uma localização numérica\n",
    "\n",
    "\n",
    "## DataFrame\n",
    "* Elemento mais importante dos Pandas \n",
    "* Inspirados pela linguagem de programação R :(\n",
    "* Analogia: um monte de objetos da série juntos usando o mesmo índice. \n"
   ]
  },
  {
   "cell_type": "code",
   "execution_count": 1,
   "id": "7fd1ea69",
   "metadata": {},
   "outputs": [],
   "source": [
    "#Tudo começa importando as bibliotecas\n",
    "import numpy as np\n",
    "import pandas as pd"
   ]
  },
  {
   "cell_type": "markdown",
   "id": "a0d8feb8",
   "metadata": {},
   "source": [
    "#### pd.Series"
   ]
  },
  {
   "cell_type": "code",
   "execution_count": 2,
   "id": "42984932",
   "metadata": {},
   "outputs": [],
   "source": [
    "#Para criarmos uma Series, utilizamos pd.Series. Vamos exercitar isso usando alguns outros objetos de dados:\n",
    "\n",
    "minha_lista = [10,20,30]\n",
    "array_numpy = np.array([10,20,30])\n",
    "dicio = {'a':10,'b':20,'c':30}"
   ]
  },
  {
   "cell_type": "code",
   "execution_count": 3,
   "id": "7fa2fda7",
   "metadata": {},
   "outputs": [
    {
     "data": {
      "text/plain": [
       "0    10\n",
       "1    20\n",
       "2    30\n",
       "dtype: int64"
      ]
     },
     "execution_count": 3,
     "metadata": {},
     "output_type": "execute_result"
    }
   ],
   "source": [
    "#Exemplos Series\n",
    "#uma Series é criada a partir de pd.Series, que também usamos para converter tipos de dados\n",
    "\n",
    "pd.Series(minha_lista)"
   ]
  },
  {
   "cell_type": "code",
   "execution_count": 4,
   "id": "0fca5cca",
   "metadata": {},
   "outputs": [
    {
     "data": {
      "text/plain": [
       "0    10\n",
       "1    20\n",
       "2    30\n",
       "dtype: int64"
      ]
     },
     "execution_count": 4,
     "metadata": {},
     "output_type": "execute_result"
    }
   ],
   "source": [
    "pd.Series(array_numpy)"
   ]
  },
  {
   "cell_type": "code",
   "execution_count": 5,
   "id": "e990038b",
   "metadata": {},
   "outputs": [
    {
     "data": {
      "text/plain": [
       "a    10\n",
       "b    20\n",
       "c    30\n",
       "dtype: int64"
      ]
     },
     "execution_count": 5,
     "metadata": {},
     "output_type": "execute_result"
    }
   ],
   "source": [
    "pd.Series(dicio)"
   ]
  },
  {
   "cell_type": "code",
   "execution_count": 7,
   "id": "85e04840",
   "metadata": {},
   "outputs": [
    {
     "data": {
      "text/plain": [
       "a    10\n",
       "b    20\n",
       "c    30\n",
       "dtype: int64"
      ]
     },
     "execution_count": 7,
     "metadata": {},
     "output_type": "execute_result"
    }
   ],
   "source": [
    "# quando convertemos um dicionario para uma series, percebam que as chaves do dicionário passam a ser os rótulos\n",
    "# dos indices. Podemos rotular usando o parametro index.\n",
    "\n",
    "rotulos = ['a','b','c']\n",
    "pd.Series(minha_lista, index=rotulos)"
   ]
  },
  {
   "cell_type": "code",
   "execution_count": 8,
   "id": "e620345c",
   "metadata": {},
   "outputs": [
    {
     "data": {
      "text/plain": [
       "chaves        NaN\n",
       "martelos     40.0\n",
       "parafusos    60.0\n",
       "pregos        NaN\n",
       "dtype: float64"
      ]
     },
     "execution_count": 8,
     "metadata": {},
     "output_type": "execute_result"
    }
   ],
   "source": [
    "# a grande sacada do pandas é o compartilhamento dos indices, permitindo inclusive realizar operações\n",
    "conj_1 = pd.Series([10,20,30], index=['martelos','parafusos','pregos'])\n",
    "conj_2 = pd.Series([30,40,50], index=['martelos','parafusos','chaves'])\n",
    "\n",
    "conj_1 + conj_2"
   ]
  },
  {
   "cell_type": "markdown",
   "id": "5a128518",
   "metadata": {},
   "source": [
    "#### pd.DataFrame"
   ]
  },
  {
   "cell_type": "code",
   "execution_count": 9,
   "id": "fa01d4aa",
   "metadata": {},
   "outputs": [],
   "source": [
    "# Vamos definir aqui uma matriz, da mesma forma que fizemos na aula de numpy\n",
    "dados = np.array([[1, 2, 3], [4, 5, 6], [7, 8, 9]])"
   ]
  },
  {
   "cell_type": "code",
   "execution_count": 10,
   "id": "037de0cc",
   "metadata": {},
   "outputs": [],
   "source": [
    "# a partir desse conjunto, vamos transformar essa matriz em uma estrutura de DataFrame. Abaixo estamos definindo\n",
    "# no primeiro parametro qual o conjunto de dados que será transformado e no parametro columns estamos nomeando\n",
    "# colunas\n",
    "conjunto_dados = pd.DataFrame(dados, columns=['a', 'b', 'c'])"
   ]
  },
  {
   "cell_type": "code",
   "execution_count": 11,
   "id": "4bfc6009",
   "metadata": {},
   "outputs": [
    {
     "data": {
      "text/html": [
       "<div>\n",
       "<style scoped>\n",
       "    .dataframe tbody tr th:only-of-type {\n",
       "        vertical-align: middle;\n",
       "    }\n",
       "\n",
       "    .dataframe tbody tr th {\n",
       "        vertical-align: top;\n",
       "    }\n",
       "\n",
       "    .dataframe thead th {\n",
       "        text-align: right;\n",
       "    }\n",
       "</style>\n",
       "<table border=\"1\" class=\"dataframe\">\n",
       "  <thead>\n",
       "    <tr style=\"text-align: right;\">\n",
       "      <th></th>\n",
       "      <th>a</th>\n",
       "      <th>b</th>\n",
       "      <th>c</th>\n",
       "    </tr>\n",
       "  </thead>\n",
       "  <tbody>\n",
       "    <tr>\n",
       "      <th>0</th>\n",
       "      <td>1</td>\n",
       "      <td>2</td>\n",
       "      <td>3</td>\n",
       "    </tr>\n",
       "    <tr>\n",
       "      <th>1</th>\n",
       "      <td>4</td>\n",
       "      <td>5</td>\n",
       "      <td>6</td>\n",
       "    </tr>\n",
       "    <tr>\n",
       "      <th>2</th>\n",
       "      <td>7</td>\n",
       "      <td>8</td>\n",
       "      <td>9</td>\n",
       "    </tr>\n",
       "  </tbody>\n",
       "</table>\n",
       "</div>"
      ],
      "text/plain": [
       "   a  b  c\n",
       "0  1  2  3\n",
       "1  4  5  6\n",
       "2  7  8  9"
      ]
     },
     "execution_count": 11,
     "metadata": {},
     "output_type": "execute_result"
    }
   ],
   "source": [
    "conjunto_dados"
   ]
  },
  {
   "cell_type": "code",
   "execution_count": 16,
   "id": "ec518312",
   "metadata": {},
   "outputs": [],
   "source": [
    "# Percebam acima que em cada linha, temos um indice. Assim como temos nomes nas colunas, podemos nomear o indice.\n",
    "# vamos explorar isso agora\n",
    "\n",
    "# criamos uma variavel com os nomes. abaixo eu estou gerando uma lista a partir do texto, relembrando\n",
    "# a função split()\n",
    "rotulos_linhas = 'LinhaD LinhaE LinhaF'.split()\n",
    "\n",
    "# o proximo passo é criar uma coluna, que vai receber esses valores. No pandas, chamamos a variavel do tipo \n",
    "# dataframe e entre os colchetes, declaramos o nome da coluna entre aspas e depois atribuímos os valores \n",
    "# que desejamos utilizar\n",
    "conjunto_dados['indice_linha'] = rotulos_linhas\n",
    "conjunto_dados.set_index('indice_linha', inplace=True)"
   ]
  },
  {
   "cell_type": "code",
   "execution_count": 17,
   "id": "200d326c",
   "metadata": {},
   "outputs": [
    {
     "data": {
      "text/html": [
       "<div>\n",
       "<style scoped>\n",
       "    .dataframe tbody tr th:only-of-type {\n",
       "        vertical-align: middle;\n",
       "    }\n",
       "\n",
       "    .dataframe tbody tr th {\n",
       "        vertical-align: top;\n",
       "    }\n",
       "\n",
       "    .dataframe thead th {\n",
       "        text-align: right;\n",
       "    }\n",
       "</style>\n",
       "<table border=\"1\" class=\"dataframe\">\n",
       "  <thead>\n",
       "    <tr style=\"text-align: right;\">\n",
       "      <th></th>\n",
       "      <th>a</th>\n",
       "      <th>b</th>\n",
       "      <th>c</th>\n",
       "    </tr>\n",
       "    <tr>\n",
       "      <th>indice_linha</th>\n",
       "      <th></th>\n",
       "      <th></th>\n",
       "      <th></th>\n",
       "    </tr>\n",
       "  </thead>\n",
       "  <tbody>\n",
       "    <tr>\n",
       "      <th>LinhaD</th>\n",
       "      <td>1</td>\n",
       "      <td>2</td>\n",
       "      <td>3</td>\n",
       "    </tr>\n",
       "    <tr>\n",
       "      <th>LinhaE</th>\n",
       "      <td>4</td>\n",
       "      <td>5</td>\n",
       "      <td>6</td>\n",
       "    </tr>\n",
       "    <tr>\n",
       "      <th>LinhaF</th>\n",
       "      <td>7</td>\n",
       "      <td>8</td>\n",
       "      <td>9</td>\n",
       "    </tr>\n",
       "  </tbody>\n",
       "</table>\n",
       "</div>"
      ],
      "text/plain": [
       "              a  b  c\n",
       "indice_linha         \n",
       "LinhaD        1  2  3\n",
       "LinhaE        4  5  6\n",
       "LinhaF        7  8  9"
      ]
     },
     "execution_count": 17,
     "metadata": {},
     "output_type": "execute_result"
    }
   ],
   "source": [
    "conjunto_dados"
   ]
  },
  {
   "cell_type": "code",
   "execution_count": 18,
   "id": "f05efdf9",
   "metadata": {},
   "outputs": [
    {
     "data": {
      "text/html": [
       "<div>\n",
       "<style scoped>\n",
       "    .dataframe tbody tr th:only-of-type {\n",
       "        vertical-align: middle;\n",
       "    }\n",
       "\n",
       "    .dataframe tbody tr th {\n",
       "        vertical-align: top;\n",
       "    }\n",
       "\n",
       "    .dataframe thead th {\n",
       "        text-align: right;\n",
       "    }\n",
       "</style>\n",
       "<table border=\"1\" class=\"dataframe\">\n",
       "  <thead>\n",
       "    <tr style=\"text-align: right;\">\n",
       "      <th></th>\n",
       "      <th>a</th>\n",
       "      <th>b</th>\n",
       "      <th>c</th>\n",
       "    </tr>\n",
       "    <tr>\n",
       "      <th>indice_linha</th>\n",
       "      <th></th>\n",
       "      <th></th>\n",
       "      <th></th>\n",
       "    </tr>\n",
       "  </thead>\n",
       "  <tbody>\n",
       "    <tr>\n",
       "      <th>LinhaD</th>\n",
       "      <td>1</td>\n",
       "      <td>2</td>\n",
       "      <td>3</td>\n",
       "    </tr>\n",
       "    <tr>\n",
       "      <th>LinhaE</th>\n",
       "      <td>4</td>\n",
       "      <td>5</td>\n",
       "      <td>6</td>\n",
       "    </tr>\n",
       "    <tr>\n",
       "      <th>LinhaF</th>\n",
       "      <td>7</td>\n",
       "      <td>8</td>\n",
       "      <td>9</td>\n",
       "    </tr>\n",
       "  </tbody>\n",
       "</table>\n",
       "</div>"
      ],
      "text/plain": [
       "              a  b  c\n",
       "indice_linha         \n",
       "LinhaD        1  2  3\n",
       "LinhaE        4  5  6\n",
       "LinhaF        7  8  9"
      ]
     },
     "execution_count": 18,
     "metadata": {},
     "output_type": "execute_result"
    }
   ],
   "source": [
    "# E como navegamos?\n",
    "# - dataframe\n",
    "# - dataframe['nome_coluna']\n",
    "# - dataframe[ [lista_nomes_colunas] ]\n",
    "# - dataframe.loc['nome-indice']\n",
    "# - dataframe.iloc[posicao-indice]\n",
    "\n",
    "conjunto_dados"
   ]
  },
  {
   "cell_type": "code",
   "execution_count": 19,
   "id": "51902860",
   "metadata": {},
   "outputs": [
    {
     "data": {
      "text/plain": [
       "indice_linha\n",
       "LinhaD    1\n",
       "LinhaE    4\n",
       "LinhaF    7\n",
       "Name: a, dtype: int64"
      ]
     },
     "execution_count": 19,
     "metadata": {},
     "output_type": "execute_result"
    }
   ],
   "source": [
    "conjunto_dados['a']"
   ]
  },
  {
   "cell_type": "code",
   "execution_count": 20,
   "id": "18b34c37",
   "metadata": {},
   "outputs": [
    {
     "data": {
      "text/html": [
       "<div>\n",
       "<style scoped>\n",
       "    .dataframe tbody tr th:only-of-type {\n",
       "        vertical-align: middle;\n",
       "    }\n",
       "\n",
       "    .dataframe tbody tr th {\n",
       "        vertical-align: top;\n",
       "    }\n",
       "\n",
       "    .dataframe thead th {\n",
       "        text-align: right;\n",
       "    }\n",
       "</style>\n",
       "<table border=\"1\" class=\"dataframe\">\n",
       "  <thead>\n",
       "    <tr style=\"text-align: right;\">\n",
       "      <th></th>\n",
       "      <th>a</th>\n",
       "      <th>c</th>\n",
       "    </tr>\n",
       "    <tr>\n",
       "      <th>indice_linha</th>\n",
       "      <th></th>\n",
       "      <th></th>\n",
       "    </tr>\n",
       "  </thead>\n",
       "  <tbody>\n",
       "    <tr>\n",
       "      <th>LinhaD</th>\n",
       "      <td>1</td>\n",
       "      <td>3</td>\n",
       "    </tr>\n",
       "    <tr>\n",
       "      <th>LinhaE</th>\n",
       "      <td>4</td>\n",
       "      <td>6</td>\n",
       "    </tr>\n",
       "    <tr>\n",
       "      <th>LinhaF</th>\n",
       "      <td>7</td>\n",
       "      <td>9</td>\n",
       "    </tr>\n",
       "  </tbody>\n",
       "</table>\n",
       "</div>"
      ],
      "text/plain": [
       "              a  c\n",
       "indice_linha      \n",
       "LinhaD        1  3\n",
       "LinhaE        4  6\n",
       "LinhaF        7  9"
      ]
     },
     "execution_count": 20,
     "metadata": {},
     "output_type": "execute_result"
    }
   ],
   "source": [
    "conjunto_dados[['a','c']]"
   ]
  },
  {
   "cell_type": "code",
   "execution_count": 21,
   "id": "ca98be5b",
   "metadata": {},
   "outputs": [
    {
     "data": {
      "text/html": [
       "<div>\n",
       "<style scoped>\n",
       "    .dataframe tbody tr th:only-of-type {\n",
       "        vertical-align: middle;\n",
       "    }\n",
       "\n",
       "    .dataframe tbody tr th {\n",
       "        vertical-align: top;\n",
       "    }\n",
       "\n",
       "    .dataframe thead th {\n",
       "        text-align: right;\n",
       "    }\n",
       "</style>\n",
       "<table border=\"1\" class=\"dataframe\">\n",
       "  <thead>\n",
       "    <tr style=\"text-align: right;\">\n",
       "      <th></th>\n",
       "      <th>a</th>\n",
       "      <th>b</th>\n",
       "    </tr>\n",
       "    <tr>\n",
       "      <th>indice_linha</th>\n",
       "      <th></th>\n",
       "      <th></th>\n",
       "    </tr>\n",
       "  </thead>\n",
       "  <tbody>\n",
       "    <tr>\n",
       "      <th>LinhaD</th>\n",
       "      <td>1</td>\n",
       "      <td>2</td>\n",
       "    </tr>\n",
       "    <tr>\n",
       "      <th>LinhaF</th>\n",
       "      <td>7</td>\n",
       "      <td>8</td>\n",
       "    </tr>\n",
       "  </tbody>\n",
       "</table>\n",
       "</div>"
      ],
      "text/plain": [
       "              a  b\n",
       "indice_linha      \n",
       "LinhaD        1  2\n",
       "LinhaF        7  8"
      ]
     },
     "execution_count": 21,
     "metadata": {},
     "output_type": "execute_result"
    }
   ],
   "source": [
    "conjunto_dados.loc[ ['LinhaD','LinhaF'], ['a', 'b'] ]"
   ]
  },
  {
   "cell_type": "code",
   "execution_count": 23,
   "id": "968fb907",
   "metadata": {},
   "outputs": [
    {
     "data": {
      "text/html": [
       "<div>\n",
       "<style scoped>\n",
       "    .dataframe tbody tr th:only-of-type {\n",
       "        vertical-align: middle;\n",
       "    }\n",
       "\n",
       "    .dataframe tbody tr th {\n",
       "        vertical-align: top;\n",
       "    }\n",
       "\n",
       "    .dataframe thead th {\n",
       "        text-align: right;\n",
       "    }\n",
       "</style>\n",
       "<table border=\"1\" class=\"dataframe\">\n",
       "  <thead>\n",
       "    <tr style=\"text-align: right;\">\n",
       "      <th></th>\n",
       "      <th>a</th>\n",
       "      <th>b</th>\n",
       "      <th>c</th>\n",
       "    </tr>\n",
       "    <tr>\n",
       "      <th>indice_linha</th>\n",
       "      <th></th>\n",
       "      <th></th>\n",
       "      <th></th>\n",
       "    </tr>\n",
       "  </thead>\n",
       "  <tbody>\n",
       "    <tr>\n",
       "      <th>LinhaD</th>\n",
       "      <td>True</td>\n",
       "      <td>True</td>\n",
       "      <td>True</td>\n",
       "    </tr>\n",
       "    <tr>\n",
       "      <th>LinhaE</th>\n",
       "      <td>True</td>\n",
       "      <td>True</td>\n",
       "      <td>True</td>\n",
       "    </tr>\n",
       "    <tr>\n",
       "      <th>LinhaF</th>\n",
       "      <td>False</td>\n",
       "      <td>False</td>\n",
       "      <td>False</td>\n",
       "    </tr>\n",
       "  </tbody>\n",
       "</table>\n",
       "</div>"
      ],
      "text/plain": [
       "                  a      b      c\n",
       "indice_linha                     \n",
       "LinhaD         True   True   True\n",
       "LinhaE         True   True   True\n",
       "LinhaF        False  False  False"
      ]
     },
     "execution_count": 23,
     "metadata": {},
     "output_type": "execute_result"
    }
   ],
   "source": [
    "# assim como outras estrutura que ja vimos, também é possível fatiarmos esse conjunto para pegarmos apenas um \n",
    "# subconjunto desses dados\n",
    "\n",
    "# vejam o exemplo abaixo que testa se exitem valores menores que 7 dentro do conjunto\n",
    "# o resultado da execução são valores booleanos, retornando verdadeiro ou falso.\n",
    "# mas como apresentar os valores?\n",
    "\n",
    "conjunto_dados < 7 "
   ]
  },
  {
   "cell_type": "code",
   "execution_count": 24,
   "id": "180dcc67",
   "metadata": {},
   "outputs": [
    {
     "data": {
      "text/html": [
       "<div>\n",
       "<style scoped>\n",
       "    .dataframe tbody tr th:only-of-type {\n",
       "        vertical-align: middle;\n",
       "    }\n",
       "\n",
       "    .dataframe tbody tr th {\n",
       "        vertical-align: top;\n",
       "    }\n",
       "\n",
       "    .dataframe thead th {\n",
       "        text-align: right;\n",
       "    }\n",
       "</style>\n",
       "<table border=\"1\" class=\"dataframe\">\n",
       "  <thead>\n",
       "    <tr style=\"text-align: right;\">\n",
       "      <th></th>\n",
       "      <th>a</th>\n",
       "      <th>b</th>\n",
       "      <th>c</th>\n",
       "    </tr>\n",
       "    <tr>\n",
       "      <th>indice_linha</th>\n",
       "      <th></th>\n",
       "      <th></th>\n",
       "      <th></th>\n",
       "    </tr>\n",
       "  </thead>\n",
       "  <tbody>\n",
       "    <tr>\n",
       "      <th>LinhaD</th>\n",
       "      <td>1.0</td>\n",
       "      <td>2.0</td>\n",
       "      <td>3.0</td>\n",
       "    </tr>\n",
       "    <tr>\n",
       "      <th>LinhaE</th>\n",
       "      <td>4.0</td>\n",
       "      <td>5.0</td>\n",
       "      <td>6.0</td>\n",
       "    </tr>\n",
       "    <tr>\n",
       "      <th>LinhaF</th>\n",
       "      <td>NaN</td>\n",
       "      <td>NaN</td>\n",
       "      <td>NaN</td>\n",
       "    </tr>\n",
       "  </tbody>\n",
       "</table>\n",
       "</div>"
      ],
      "text/plain": [
       "                a    b    c\n",
       "indice_linha               \n",
       "LinhaD        1.0  2.0  3.0\n",
       "LinhaE        4.0  5.0  6.0\n",
       "LinhaF        NaN  NaN  NaN"
      ]
     },
     "execution_count": 24,
     "metadata": {},
     "output_type": "execute_result"
    }
   ],
   "source": [
    "# passaremos para o dataframe justamente esse filtro entre os colchetes\n",
    "conjunto_dados[ conjunto_dados < 7 ]"
   ]
  },
  {
   "cell_type": "code",
   "execution_count": 25,
   "id": "25ad4e22",
   "metadata": {},
   "outputs": [],
   "source": [
    "# Esses critérios de seleção poderiam ser colocados em variáveis para facilitar a letra, caso a notação acima \n",
    "# seja dificil para quem está iniciando\n",
    "\n",
    "# importante destacar que quando temos necessidades de rodar mais de uma condição, usamos o sinais & e | para\n",
    "# executar as operacoes AND e OR, respectivamente.\n",
    "\n",
    "filtro1 = (conjunto_dados['c'] > 5) & (conjunto_dados['a']< 7)\n",
    "filtro2 = (conjunto_dados['c'] < 5) | (conjunto_dados['a']> 7)"
   ]
  },
  {
   "cell_type": "code",
   "execution_count": 26,
   "id": "9f0fa34d",
   "metadata": {},
   "outputs": [
    {
     "data": {
      "text/html": [
       "<div>\n",
       "<style scoped>\n",
       "    .dataframe tbody tr th:only-of-type {\n",
       "        vertical-align: middle;\n",
       "    }\n",
       "\n",
       "    .dataframe tbody tr th {\n",
       "        vertical-align: top;\n",
       "    }\n",
       "\n",
       "    .dataframe thead th {\n",
       "        text-align: right;\n",
       "    }\n",
       "</style>\n",
       "<table border=\"1\" class=\"dataframe\">\n",
       "  <thead>\n",
       "    <tr style=\"text-align: right;\">\n",
       "      <th></th>\n",
       "      <th>a</th>\n",
       "      <th>b</th>\n",
       "      <th>c</th>\n",
       "    </tr>\n",
       "    <tr>\n",
       "      <th>indice_linha</th>\n",
       "      <th></th>\n",
       "      <th></th>\n",
       "      <th></th>\n",
       "    </tr>\n",
       "  </thead>\n",
       "  <tbody>\n",
       "    <tr>\n",
       "      <th>LinhaD</th>\n",
       "      <td>1</td>\n",
       "      <td>2</td>\n",
       "      <td>3</td>\n",
       "    </tr>\n",
       "  </tbody>\n",
       "</table>\n",
       "</div>"
      ],
      "text/plain": [
       "              a  b  c\n",
       "indice_linha         \n",
       "LinhaD        1  2  3"
      ]
     },
     "execution_count": 26,
     "metadata": {},
     "output_type": "execute_result"
    }
   ],
   "source": [
    "conjunto_dados[ filtro2 ]"
   ]
  },
  {
   "cell_type": "code",
   "execution_count": 27,
   "id": "d8189c53",
   "metadata": {},
   "outputs": [
    {
     "data": {
      "text/html": [
       "<div>\n",
       "<style scoped>\n",
       "    .dataframe tbody tr th:only-of-type {\n",
       "        vertical-align: middle;\n",
       "    }\n",
       "\n",
       "    .dataframe tbody tr th {\n",
       "        vertical-align: top;\n",
       "    }\n",
       "\n",
       "    .dataframe thead th {\n",
       "        text-align: right;\n",
       "    }\n",
       "</style>\n",
       "<table border=\"1\" class=\"dataframe\">\n",
       "  <thead>\n",
       "    <tr style=\"text-align: right;\">\n",
       "      <th></th>\n",
       "      <th>a</th>\n",
       "      <th>b</th>\n",
       "      <th>c</th>\n",
       "    </tr>\n",
       "    <tr>\n",
       "      <th>indice_linha</th>\n",
       "      <th></th>\n",
       "      <th></th>\n",
       "      <th></th>\n",
       "    </tr>\n",
       "  </thead>\n",
       "  <tbody>\n",
       "    <tr>\n",
       "      <th>LinhaE</th>\n",
       "      <td>4</td>\n",
       "      <td>5</td>\n",
       "      <td>6</td>\n",
       "    </tr>\n",
       "  </tbody>\n",
       "</table>\n",
       "</div>"
      ],
      "text/plain": [
       "              a  b  c\n",
       "indice_linha         \n",
       "LinhaE        4  5  6"
      ]
     },
     "execution_count": 27,
     "metadata": {},
     "output_type": "execute_result"
    }
   ],
   "source": [
    "conjunto_dados[ filtro1 ]"
   ]
  },
  {
   "cell_type": "code",
   "execution_count": 28,
   "id": "7ccf97c9",
   "metadata": {},
   "outputs": [],
   "source": [
    "# da mesma forma que a Series, podemos fazer operacoes também, tudo em virtude do compartilhamento dos indices\n",
    "conjunto_dados['B x C'] = conjunto_dados['b'] * conjunto_dados['c']"
   ]
  },
  {
   "cell_type": "code",
   "execution_count": 29,
   "id": "677b46b2",
   "metadata": {},
   "outputs": [
    {
     "data": {
      "text/html": [
       "<div>\n",
       "<style scoped>\n",
       "    .dataframe tbody tr th:only-of-type {\n",
       "        vertical-align: middle;\n",
       "    }\n",
       "\n",
       "    .dataframe tbody tr th {\n",
       "        vertical-align: top;\n",
       "    }\n",
       "\n",
       "    .dataframe thead th {\n",
       "        text-align: right;\n",
       "    }\n",
       "</style>\n",
       "<table border=\"1\" class=\"dataframe\">\n",
       "  <thead>\n",
       "    <tr style=\"text-align: right;\">\n",
       "      <th></th>\n",
       "      <th>a</th>\n",
       "      <th>b</th>\n",
       "      <th>c</th>\n",
       "      <th>B x C</th>\n",
       "    </tr>\n",
       "    <tr>\n",
       "      <th>indice_linha</th>\n",
       "      <th></th>\n",
       "      <th></th>\n",
       "      <th></th>\n",
       "      <th></th>\n",
       "    </tr>\n",
       "  </thead>\n",
       "  <tbody>\n",
       "    <tr>\n",
       "      <th>LinhaD</th>\n",
       "      <td>1</td>\n",
       "      <td>2</td>\n",
       "      <td>3</td>\n",
       "      <td>6</td>\n",
       "    </tr>\n",
       "    <tr>\n",
       "      <th>LinhaE</th>\n",
       "      <td>4</td>\n",
       "      <td>5</td>\n",
       "      <td>6</td>\n",
       "      <td>30</td>\n",
       "    </tr>\n",
       "    <tr>\n",
       "      <th>LinhaF</th>\n",
       "      <td>7</td>\n",
       "      <td>8</td>\n",
       "      <td>9</td>\n",
       "      <td>72</td>\n",
       "    </tr>\n",
       "  </tbody>\n",
       "</table>\n",
       "</div>"
      ],
      "text/plain": [
       "              a  b  c  B x C\n",
       "indice_linha                \n",
       "LinhaD        1  2  3      6\n",
       "LinhaE        4  5  6     30\n",
       "LinhaF        7  8  9     72"
      ]
     },
     "execution_count": 29,
     "metadata": {},
     "output_type": "execute_result"
    }
   ],
   "source": [
    "conjunto_dados"
   ]
  },
  {
   "cell_type": "code",
   "execution_count": 30,
   "id": "c0dd17cd",
   "metadata": {},
   "outputs": [],
   "source": [
    "# agora vamos supor que não temos a necessidade dessa coluna que criamos. Para isso, usaremos o comando abaixo.\n",
    "# importante destacar os parametros axis e inplace. Axis vai determinar se a operacao sera realizada na linha ou\n",
    "# coluna e o inplace se efetivamente iremos alterar o conjunto origem. Por padrao, inplace=False.\n",
    "\n",
    "conjunto_dados.drop('B x C', axis=1, inplace=True)"
   ]
  },
  {
   "cell_type": "code",
   "execution_count": 31,
   "id": "e15e819d",
   "metadata": {},
   "outputs": [
    {
     "data": {
      "text/html": [
       "<div>\n",
       "<style scoped>\n",
       "    .dataframe tbody tr th:only-of-type {\n",
       "        vertical-align: middle;\n",
       "    }\n",
       "\n",
       "    .dataframe tbody tr th {\n",
       "        vertical-align: top;\n",
       "    }\n",
       "\n",
       "    .dataframe thead th {\n",
       "        text-align: right;\n",
       "    }\n",
       "</style>\n",
       "<table border=\"1\" class=\"dataframe\">\n",
       "  <thead>\n",
       "    <tr style=\"text-align: right;\">\n",
       "      <th></th>\n",
       "      <th>a</th>\n",
       "      <th>b</th>\n",
       "      <th>c</th>\n",
       "    </tr>\n",
       "    <tr>\n",
       "      <th>indice_linha</th>\n",
       "      <th></th>\n",
       "      <th></th>\n",
       "      <th></th>\n",
       "    </tr>\n",
       "  </thead>\n",
       "  <tbody>\n",
       "    <tr>\n",
       "      <th>LinhaD</th>\n",
       "      <td>1</td>\n",
       "      <td>2</td>\n",
       "      <td>3</td>\n",
       "    </tr>\n",
       "    <tr>\n",
       "      <th>LinhaE</th>\n",
       "      <td>4</td>\n",
       "      <td>5</td>\n",
       "      <td>6</td>\n",
       "    </tr>\n",
       "    <tr>\n",
       "      <th>LinhaF</th>\n",
       "      <td>7</td>\n",
       "      <td>8</td>\n",
       "      <td>9</td>\n",
       "    </tr>\n",
       "  </tbody>\n",
       "</table>\n",
       "</div>"
      ],
      "text/plain": [
       "              a  b  c\n",
       "indice_linha         \n",
       "LinhaD        1  2  3\n",
       "LinhaE        4  5  6\n",
       "LinhaF        7  8  9"
      ]
     },
     "execution_count": 31,
     "metadata": {},
     "output_type": "execute_result"
    }
   ],
   "source": [
    "conjunto_dados"
   ]
  },
  {
   "cell_type": "code",
   "execution_count": 33,
   "id": "dbe902bb",
   "metadata": {},
   "outputs": [
    {
     "data": {
      "text/html": [
       "<div>\n",
       "<style scoped>\n",
       "    .dataframe tbody tr th:only-of-type {\n",
       "        vertical-align: middle;\n",
       "    }\n",
       "\n",
       "    .dataframe tbody tr th {\n",
       "        vertical-align: top;\n",
       "    }\n",
       "\n",
       "    .dataframe thead th {\n",
       "        text-align: right;\n",
       "    }\n",
       "</style>\n",
       "<table border=\"1\" class=\"dataframe\">\n",
       "  <thead>\n",
       "    <tr style=\"text-align: right;\">\n",
       "      <th></th>\n",
       "      <th>a</th>\n",
       "      <th>b</th>\n",
       "      <th>c</th>\n",
       "    </tr>\n",
       "    <tr>\n",
       "      <th>indice_linha</th>\n",
       "      <th></th>\n",
       "      <th></th>\n",
       "      <th></th>\n",
       "    </tr>\n",
       "  </thead>\n",
       "  <tbody>\n",
       "    <tr>\n",
       "      <th>LinhaD</th>\n",
       "      <td>1</td>\n",
       "      <td>2</td>\n",
       "      <td>3</td>\n",
       "    </tr>\n",
       "    <tr>\n",
       "      <th>LinhaF</th>\n",
       "      <td>7</td>\n",
       "      <td>8</td>\n",
       "      <td>9</td>\n",
       "    </tr>\n",
       "  </tbody>\n",
       "</table>\n",
       "</div>"
      ],
      "text/plain": [
       "              a  b  c\n",
       "indice_linha         \n",
       "LinhaD        1  2  3\n",
       "LinhaF        7  8  9"
      ]
     },
     "execution_count": 33,
     "metadata": {},
     "output_type": "execute_result"
    }
   ],
   "source": [
    "conjunto_dados.drop('LinhaE', axis=0)"
   ]
  },
  {
   "cell_type": "code",
   "execution_count": 34,
   "id": "cd2862b6",
   "metadata": {},
   "outputs": [],
   "source": [
    "# outra operação possível é renomear o nome das colunas.\n",
    "\n",
    "conjunto_dados.rename({\n",
    "                        'a' : 'Coluna A',\n",
    "                        'b' : 'Coluna B',\n",
    "                        'c' : 'Coluna C'\n",
    "                      }, inplace=True, axis=1)"
   ]
  },
  {
   "cell_type": "code",
   "execution_count": 35,
   "id": "bd5e4b09",
   "metadata": {},
   "outputs": [
    {
     "data": {
      "text/html": [
       "<div>\n",
       "<style scoped>\n",
       "    .dataframe tbody tr th:only-of-type {\n",
       "        vertical-align: middle;\n",
       "    }\n",
       "\n",
       "    .dataframe tbody tr th {\n",
       "        vertical-align: top;\n",
       "    }\n",
       "\n",
       "    .dataframe thead th {\n",
       "        text-align: right;\n",
       "    }\n",
       "</style>\n",
       "<table border=\"1\" class=\"dataframe\">\n",
       "  <thead>\n",
       "    <tr style=\"text-align: right;\">\n",
       "      <th></th>\n",
       "      <th>Coluna A</th>\n",
       "      <th>Coluna B</th>\n",
       "      <th>Coluna C</th>\n",
       "    </tr>\n",
       "    <tr>\n",
       "      <th>indice_linha</th>\n",
       "      <th></th>\n",
       "      <th></th>\n",
       "      <th></th>\n",
       "    </tr>\n",
       "  </thead>\n",
       "  <tbody>\n",
       "    <tr>\n",
       "      <th>LinhaD</th>\n",
       "      <td>1</td>\n",
       "      <td>2</td>\n",
       "      <td>3</td>\n",
       "    </tr>\n",
       "    <tr>\n",
       "      <th>LinhaE</th>\n",
       "      <td>4</td>\n",
       "      <td>5</td>\n",
       "      <td>6</td>\n",
       "    </tr>\n",
       "    <tr>\n",
       "      <th>LinhaF</th>\n",
       "      <td>7</td>\n",
       "      <td>8</td>\n",
       "      <td>9</td>\n",
       "    </tr>\n",
       "  </tbody>\n",
       "</table>\n",
       "</div>"
      ],
      "text/plain": [
       "              Coluna A  Coluna B  Coluna C\n",
       "indice_linha                              \n",
       "LinhaD               1         2         3\n",
       "LinhaE               4         5         6\n",
       "LinhaF               7         8         9"
      ]
     },
     "execution_count": 35,
     "metadata": {},
     "output_type": "execute_result"
    }
   ],
   "source": [
    "conjunto_dados"
   ]
  },
  {
   "cell_type": "code",
   "execution_count": 36,
   "id": "ddd41ed5",
   "metadata": {},
   "outputs": [
    {
     "data": {
      "text/plain": [
       "Index(['LinhaD', 'LinhaE', 'LinhaF'], dtype='object', name='indice_linha')"
      ]
     },
     "execution_count": 36,
     "metadata": {},
     "output_type": "execute_result"
    }
   ],
   "source": [
    "# caso seja necessário retornar os valores de indice, usamos o .index\n",
    "conjunto_dados.index"
   ]
  },
  {
   "cell_type": "code",
   "execution_count": 37,
   "id": "b522b0a0",
   "metadata": {},
   "outputs": [
    {
     "data": {
      "text/plain": [
       "Index(['Coluna A', 'Coluna B', 'Coluna C'], dtype='object')"
      ]
     },
     "execution_count": 37,
     "metadata": {},
     "output_type": "execute_result"
    }
   ],
   "source": [
    "# e da mesma forma, com .columns, retornamo uma lista com os nomes das colunas\n",
    "conjunto_dados.columns"
   ]
  },
  {
   "cell_type": "code",
   "execution_count": 38,
   "id": "b544418f",
   "metadata": {},
   "outputs": [
    {
     "data": {
      "text/html": [
       "<div>\n",
       "<style scoped>\n",
       "    .dataframe tbody tr th:only-of-type {\n",
       "        vertical-align: middle;\n",
       "    }\n",
       "\n",
       "    .dataframe tbody tr th {\n",
       "        vertical-align: top;\n",
       "    }\n",
       "\n",
       "    .dataframe thead th {\n",
       "        text-align: right;\n",
       "    }\n",
       "</style>\n",
       "<table border=\"1\" class=\"dataframe\">\n",
       "  <thead>\n",
       "    <tr style=\"text-align: right;\">\n",
       "      <th>indice_linha</th>\n",
       "      <th>LinhaD</th>\n",
       "      <th>LinhaE</th>\n",
       "      <th>LinhaF</th>\n",
       "    </tr>\n",
       "  </thead>\n",
       "  <tbody>\n",
       "    <tr>\n",
       "      <th>Coluna A</th>\n",
       "      <td>1</td>\n",
       "      <td>4</td>\n",
       "      <td>7</td>\n",
       "    </tr>\n",
       "    <tr>\n",
       "      <th>Coluna B</th>\n",
       "      <td>2</td>\n",
       "      <td>5</td>\n",
       "      <td>8</td>\n",
       "    </tr>\n",
       "    <tr>\n",
       "      <th>Coluna C</th>\n",
       "      <td>3</td>\n",
       "      <td>6</td>\n",
       "      <td>9</td>\n",
       "    </tr>\n",
       "  </tbody>\n",
       "</table>\n",
       "</div>"
      ],
      "text/plain": [
       "indice_linha  LinhaD  LinhaE  LinhaF\n",
       "Coluna A           1       4       7\n",
       "Coluna B           2       5       8\n",
       "Coluna C           3       6       9"
      ]
     },
     "execution_count": 38,
     "metadata": {},
     "output_type": "execute_result"
    }
   ],
   "source": [
    "# Em algumas situações, talvez seja necessario transformar linhas em colunas e colunas em linhas.\n",
    "# para essa tarefa, usaremos o transpose\n",
    "conjunto_dados.transpose()"
   ]
  },
  {
   "cell_type": "code",
   "execution_count": null,
   "id": "26f60afa",
   "metadata": {},
   "outputs": [],
   "source": [
    "conjunto_dados.sort_index(ascending=False)"
   ]
  },
  {
   "cell_type": "code",
   "execution_count": null,
   "id": "bd5391bd",
   "metadata": {},
   "outputs": [],
   "source": [
    "conjunto_dados.sort_values(by=['Coluna A', 'Coluna C'], ascending=True)"
   ]
  },
  {
   "cell_type": "markdown",
   "id": "f5fd6fd7",
   "metadata": {},
   "source": [
    "### Até aqui vimos\n",
    "\n",
    "* Series e Dataframes compartilham do mesmo indice\n",
    "* Quando a gente vai pesquisar um item no conjunto, fazemos de duas formas:\n",
    " - .loc --> pesquisar pelo rótulo do indice\n",
    " - .iloc -> pesquisar pelo valor do rótulo (posição)\n",
    "\n",
    "* Notação para \"imprimir\" o conteudo:\n",
    "- dataframe\n",
    "- dataframe['nome_coluna']\n",
    "- dataframe[ [lista_nomes_colunas] ]\n",
    "\n",
    "* Podemos atribuir rótulos para os indices das linhas atravé do metodo set_index(inplace=True)\n",
    "* Podemos retornar, resetar o indice das linhas usando o reset_index(inplace=True)\n",
    "* inplace=True altera o conteudo do dataframe\n",
    "\n",
    "* Podemos definir criterios para selecionar os dados, operadores condicionais >, <, >=, etc... e caso a gente precise de mais de um criterio, usamos & para fazer uma operacao de AND e | para uma operacao de OR"
   ]
  }
 ],
 "metadata": {
  "kernelspec": {
   "display_name": "Python 3 (ipykernel)",
   "language": "python",
   "name": "python3"
  },
  "language_info": {
   "codemirror_mode": {
    "name": "ipython",
    "version": 3
   },
   "file_extension": ".py",
   "mimetype": "text/x-python",
   "name": "python",
   "nbconvert_exporter": "python",
   "pygments_lexer": "ipython3",
   "version": "3.8.8"
  }
 },
 "nbformat": 4,
 "nbformat_minor": 5
}
