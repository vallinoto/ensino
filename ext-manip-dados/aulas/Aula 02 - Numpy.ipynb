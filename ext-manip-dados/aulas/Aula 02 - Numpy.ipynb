{
 "cells": [
  {
   "cell_type": "markdown",
   "id": "c3a22a98-d469-4664-b1cd-20cba4d2c854",
   "metadata": {},
   "source": [
    "# Introdução ao Numpy"
   ]
  },
  {
   "cell_type": "markdown",
   "id": "e38113a6",
   "metadata": {},
   "source": [
    "**NumPy**: biblioteca de álgebra linear para Python. Quase todas as bibliotecas de Ciência de Dados acabam dependendo dela para alguma coisa.\n",
    "\n",
    "Nesse post do [StackOverflow](http://stackoverflow.com/questions/993984/why-numpy-instead-of-python-lists) tem informações sobre por que você deseja usar numpy arrays em vez de listas.\n",
    "\n",
    "O básico iremos ver aqui :)"
   ]
  },
  {
   "cell_type": "markdown",
   "id": "d7c9aed4-e2c0-4495-b5b6-250c01bfc1f3",
   "metadata": {},
   "source": [
    "## Qual a diferença entre Numpy e uma lista?"
   ]
  },
  {
   "cell_type": "code",
   "execution_count": 1,
   "id": "c9e6df05-745c-43ec-abb6-357b56391baf",
   "metadata": {},
   "outputs": [],
   "source": [
    "# Importar a biblioteca de trabalho\n",
    "import numpy as np\n",
    "np.random.seed(12345)"
   ]
  },
  {
   "cell_type": "code",
   "execution_count": 2,
   "id": "618f7752-d2b4-46a9-97c4-34f1fb37c842",
   "metadata": {},
   "outputs": [],
   "source": [
    "array_np = np.arange(1000000)\n",
    "lista_normal = list(range(1000000))"
   ]
  },
  {
   "cell_type": "code",
   "execution_count": 6,
   "id": "9e619cb7",
   "metadata": {},
   "outputs": [
    {
     "data": {
      "text/plain": [
       "numpy.ndarray"
      ]
     },
     "execution_count": 6,
     "metadata": {},
     "output_type": "execute_result"
    }
   ],
   "source": [
    "type(array_np)"
   ]
  },
  {
   "cell_type": "code",
   "execution_count": 7,
   "id": "3ec4e2b9-2bd3-485e-b461-03f466bdad6b",
   "metadata": {},
   "outputs": [
    {
     "name": "stdout",
     "output_type": "stream",
     "text": [
      "CPU times: user 18.7 ms, sys: 15.9 ms, total: 34.6 ms\n",
      "Wall time: 33.3 ms\n",
      "CPU times: user 699 ms, sys: 144 ms, total: 843 ms\n",
      "Wall time: 842 ms\n"
     ]
    }
   ],
   "source": [
    "%time for _ in range(10): array2 = array_np * 2\n",
    "%time for _ in range(10): list2 = [x * 2 for x in lista_normal]"
   ]
  },
  {
   "cell_type": "markdown",
   "id": "b22525ec",
   "metadata": {},
   "source": [
    "## E como podemos interagir? Através dos Métodos e Atributos."
   ]
  },
  {
   "cell_type": "code",
   "execution_count": 21,
   "id": "14503eb0",
   "metadata": {},
   "outputs": [],
   "source": [
    "# atribuindo uma lista para variavel\n",
    "lista = [5,2,7]"
   ]
  },
  {
   "cell_type": "code",
   "execution_count": 13,
   "id": "55bb1a06",
   "metadata": {},
   "outputs": [
    {
     "data": {
      "text/plain": [
       "[5, 2, 7, 5, 2, 7]"
      ]
     },
     "execution_count": 13,
     "metadata": {},
     "output_type": "execute_result"
    }
   ],
   "source": [
    "# Multiplicando a lista por 2, porém a gente tem a duplicação dos elementos\n",
    "lista * 2"
   ]
  },
  {
   "cell_type": "code",
   "execution_count": 14,
   "id": "31edb6e0",
   "metadata": {},
   "outputs": [],
   "source": [
    "# Conversao da variavel do tipo lista para uma variavel do tipo numpy array\n",
    "lista = np.array(lista)"
   ]
  },
  {
   "cell_type": "code",
   "execution_count": 15,
   "id": "ee71c99f",
   "metadata": {},
   "outputs": [
    {
     "data": {
      "text/plain": [
       "numpy.ndarray"
      ]
     },
     "execution_count": 15,
     "metadata": {},
     "output_type": "execute_result"
    }
   ],
   "source": [
    "type(lista)"
   ]
  },
  {
   "cell_type": "code",
   "execution_count": 22,
   "id": "7c92ff10",
   "metadata": {},
   "outputs": [],
   "source": [
    "# Multiplicando o valor da lista por 2 (cada elemento de forma individual) e armazenando em uma segunda variavel\n",
    "lista_x2 = lista * 2"
   ]
  },
  {
   "cell_type": "code",
   "execution_count": 23,
   "id": "51a71a99",
   "metadata": {},
   "outputs": [
    {
     "data": {
      "text/plain": [
       "[5, 2, 7, 5, 2, 7]"
      ]
     },
     "execution_count": 23,
     "metadata": {},
     "output_type": "execute_result"
    }
   ],
   "source": [
    "lista_x2"
   ]
  },
  {
   "cell_type": "code",
   "execution_count": 24,
   "id": "30ba8c4c",
   "metadata": {},
   "outputs": [],
   "source": [
    "valor_unit = [10,50,30]\n",
    "qtd_itens = [2,5,8]"
   ]
  },
  {
   "cell_type": "code",
   "execution_count": 25,
   "id": "4d7e0a25",
   "metadata": {},
   "outputs": [
    {
     "ename": "TypeError",
     "evalue": "can't multiply sequence by non-int of type 'list'",
     "output_type": "error",
     "traceback": [
      "\u001b[0;31m---------------------------------------------------------------------------\u001b[0m",
      "\u001b[0;31mTypeError\u001b[0m                                 Traceback (most recent call last)",
      "\u001b[0;32m/tmp/ipykernel_24995/4036867579.py\u001b[0m in \u001b[0;36m<module>\u001b[0;34m\u001b[0m\n\u001b[0;32m----> 1\u001b[0;31m \u001b[0mvalor_unit\u001b[0m \u001b[0;34m*\u001b[0m \u001b[0mqtd_itens\u001b[0m\u001b[0;34m\u001b[0m\u001b[0;34m\u001b[0m\u001b[0m\n\u001b[0m",
      "\u001b[0;31mTypeError\u001b[0m: can't multiply sequence by non-int of type 'list'"
     ]
    }
   ],
   "source": [
    "valor_unit * qtd_itens"
   ]
  },
  {
   "cell_type": "code",
   "execution_count": 26,
   "id": "46428159",
   "metadata": {},
   "outputs": [],
   "source": [
    "valor_unit = np.array(valor_unit)\n",
    "qtd_itens = np.array(qtd_itens)"
   ]
  },
  {
   "cell_type": "code",
   "execution_count": 27,
   "id": "001409d3",
   "metadata": {},
   "outputs": [
    {
     "data": {
      "text/plain": [
       "array([ 20, 250, 240])"
      ]
     },
     "execution_count": 27,
     "metadata": {},
     "output_type": "execute_result"
    }
   ],
   "source": [
    "valor_unit * qtd_itens"
   ]
  },
  {
   "cell_type": "code",
   "execution_count": 28,
   "id": "f19a0216",
   "metadata": {},
   "outputs": [],
   "source": [
    "conj_1 = [2,4,6,8]\n",
    "conj_2 = [3,5]"
   ]
  },
  {
   "cell_type": "code",
   "execution_count": 30,
   "id": "17373aa6",
   "metadata": {},
   "outputs": [
    {
     "ename": "ValueError",
     "evalue": "operands could not be broadcast together with shapes (4,) (2,) ",
     "output_type": "error",
     "traceback": [
      "\u001b[0;31m---------------------------------------------------------------------------\u001b[0m",
      "\u001b[0;31mValueError\u001b[0m                                Traceback (most recent call last)",
      "\u001b[0;32m/tmp/ipykernel_24995/821973658.py\u001b[0m in \u001b[0;36m<module>\u001b[0;34m\u001b[0m\n\u001b[0;32m----> 1\u001b[0;31m \u001b[0mnp\u001b[0m\u001b[0;34m.\u001b[0m\u001b[0marray\u001b[0m\u001b[0;34m(\u001b[0m\u001b[0mconj_1\u001b[0m\u001b[0;34m)\u001b[0m \u001b[0;34m*\u001b[0m \u001b[0mnp\u001b[0m\u001b[0;34m.\u001b[0m\u001b[0marray\u001b[0m\u001b[0;34m(\u001b[0m\u001b[0mconj_2\u001b[0m\u001b[0;34m)\u001b[0m\u001b[0;34m\u001b[0m\u001b[0;34m\u001b[0m\u001b[0m\n\u001b[0m",
      "\u001b[0;31mValueError\u001b[0m: operands could not be broadcast together with shapes (4,) (2,) "
     ]
    }
   ],
   "source": [
    "np.array(conj_1) * np.array(conj_2)"
   ]
  },
  {
   "cell_type": "code",
   "execution_count": 31,
   "id": "3eb3b56a",
   "metadata": {},
   "outputs": [],
   "source": [
    "nova_lista = np.array([1, 'texto', False])"
   ]
  },
  {
   "cell_type": "code",
   "execution_count": 32,
   "id": "69ffc754",
   "metadata": {},
   "outputs": [
    {
     "data": {
      "text/plain": [
       "numpy.ndarray"
      ]
     },
     "execution_count": 32,
     "metadata": {},
     "output_type": "execute_result"
    }
   ],
   "source": [
    "type(nova_lista)"
   ]
  },
  {
   "cell_type": "code",
   "execution_count": 33,
   "id": "0d279ab1",
   "metadata": {},
   "outputs": [
    {
     "data": {
      "text/plain": [
       "array(['1', 'texto', 'False'], dtype='<U21')"
      ]
     },
     "execution_count": 33,
     "metadata": {},
     "output_type": "execute_result"
    }
   ],
   "source": [
    "nova_lista"
   ]
  },
  {
   "cell_type": "code",
   "execution_count": 34,
   "id": "004e23ae",
   "metadata": {},
   "outputs": [
    {
     "ename": "UFuncTypeError",
     "evalue": "ufunc 'multiply' did not contain a loop with signature matching types (dtype('<U21'), dtype('<U21')) -> dtype('<U21')",
     "output_type": "error",
     "traceback": [
      "\u001b[0;31m---------------------------------------------------------------------------\u001b[0m",
      "\u001b[0;31mUFuncTypeError\u001b[0m                            Traceback (most recent call last)",
      "\u001b[0;32m/tmp/ipykernel_24995/2824980998.py\u001b[0m in \u001b[0;36m<module>\u001b[0;34m\u001b[0m\n\u001b[0;32m----> 1\u001b[0;31m \u001b[0mnova_lista\u001b[0m \u001b[0;34m*\u001b[0m \u001b[0;36m2\u001b[0m\u001b[0;34m\u001b[0m\u001b[0;34m\u001b[0m\u001b[0m\n\u001b[0m",
      "\u001b[0;31mUFuncTypeError\u001b[0m: ufunc 'multiply' did not contain a loop with signature matching types (dtype('<U21'), dtype('<U21')) -> dtype('<U21')"
     ]
    }
   ],
   "source": [
    "nova_lista * 2"
   ]
  },
  {
   "cell_type": "code",
   "execution_count": 35,
   "id": "e20cac33",
   "metadata": {},
   "outputs": [
    {
     "data": {
      "text/plain": [
       "(3,)"
      ]
     },
     "execution_count": 35,
     "metadata": {},
     "output_type": "execute_result"
    }
   ],
   "source": [
    "# metodo para verificar o formato (dimensao) do objeto array\n",
    "valor_unit.shape"
   ]
  },
  {
   "cell_type": "code",
   "execution_count": 36,
   "id": "9029c95c",
   "metadata": {},
   "outputs": [],
   "source": [
    "carrinho = np.array(\n",
    "                    [\n",
    "                        (10,50,30),\n",
    "                        (2,5,8)\n",
    "                    ]\n",
    "                    )"
   ]
  },
  {
   "cell_type": "code",
   "execution_count": 37,
   "id": "c67f593e",
   "metadata": {},
   "outputs": [
    {
     "data": {
      "text/plain": [
       "array([[10, 50, 30],\n",
       "       [ 2,  5,  8]])"
      ]
     },
     "execution_count": 37,
     "metadata": {},
     "output_type": "execute_result"
    }
   ],
   "source": [
    "carrinho"
   ]
  },
  {
   "cell_type": "code",
   "execution_count": 38,
   "id": "d1d7132b",
   "metadata": {},
   "outputs": [
    {
     "data": {
      "text/plain": [
       "(2, 3)"
      ]
     },
     "execution_count": 38,
     "metadata": {},
     "output_type": "execute_result"
    }
   ],
   "source": [
    "carrinho.shape"
   ]
  },
  {
   "cell_type": "code",
   "execution_count": 39,
   "id": "27c4e8da",
   "metadata": {},
   "outputs": [
    {
     "data": {
      "text/plain": [
       "2"
      ]
     },
     "execution_count": 39,
     "metadata": {},
     "output_type": "execute_result"
    }
   ],
   "source": [
    "#como validar a qtd de dimensoes do objeto\n",
    "carrinho.ndim"
   ]
  },
  {
   "cell_type": "code",
   "execution_count": 40,
   "id": "63edf4a9",
   "metadata": {},
   "outputs": [
    {
     "data": {
      "text/plain": [
       "1"
      ]
     },
     "execution_count": 40,
     "metadata": {},
     "output_type": "execute_result"
    }
   ],
   "source": [
    "valor_unit.ndim"
   ]
  },
  {
   "cell_type": "code",
   "execution_count": 43,
   "id": "6fd1e551",
   "metadata": {},
   "outputs": [
    {
     "name": "stdout",
     "output_type": "stream",
     "text": [
      "2\n",
      "50\n"
     ]
    }
   ],
   "source": [
    "# retornando o menor valor, o maior valor do conjunto\n",
    "print(carrinho.min())\n",
    "print(carrinho.max())"
   ]
  },
  {
   "cell_type": "code",
   "execution_count": 45,
   "id": "b71cef3e",
   "metadata": {},
   "outputs": [
    {
     "name": "stdout",
     "output_type": "stream",
     "text": [
      "17.5\n",
      "17.10506747526397\n",
      "[ 10  60  90  92  97 105]\n"
     ]
    }
   ],
   "source": [
    "# qual o valor medio, desvio padrao e a soma acumulada\n",
    "print(carrinho.mean())\n",
    "print(carrinho.std())\n",
    "print(carrinho.cumsum())"
   ]
  },
  {
   "cell_type": "code",
   "execution_count": 46,
   "id": "355c8a11",
   "metadata": {},
   "outputs": [
    {
     "data": {
      "text/plain": [
       "8"
      ]
     },
     "execution_count": 46,
     "metadata": {},
     "output_type": "execute_result"
    }
   ],
   "source": [
    "carrinho.itemsize"
   ]
  },
  {
   "cell_type": "code",
   "execution_count": 47,
   "id": "a9372010",
   "metadata": {},
   "outputs": [
    {
     "data": {
      "text/plain": [
       "105"
      ]
     },
     "execution_count": 47,
     "metadata": {},
     "output_type": "execute_result"
    }
   ],
   "source": [
    "#soma de todos os itens dentro do array\n",
    "carrinho.sum()"
   ]
  },
  {
   "cell_type": "code",
   "execution_count": 48,
   "id": "d0df1a62",
   "metadata": {},
   "outputs": [
    {
     "data": {
      "text/plain": [
       "array([10, 50, 30,  2,  5,  8])"
      ]
     },
     "execution_count": 48,
     "metadata": {},
     "output_type": "execute_result"
    }
   ],
   "source": [
    "# converto uma matriz para um array, onde cada linha \n",
    "# a partir da primeira vai sendo adicionada ao final da primeira linha\n",
    "carrinho.reshape(-1)"
   ]
  },
  {
   "cell_type": "code",
   "execution_count": 49,
   "id": "5e71d02f",
   "metadata": {},
   "outputs": [
    {
     "data": {
      "text/plain": [
       "2"
      ]
     },
     "execution_count": 49,
     "metadata": {},
     "output_type": "execute_result"
    }
   ],
   "source": [
    "carrinho.ndim"
   ]
  },
  {
   "cell_type": "code",
   "execution_count": 51,
   "id": "e3ce55d2",
   "metadata": {},
   "outputs": [],
   "source": [
    "carr_t = carrinho.T"
   ]
  },
  {
   "cell_type": "code",
   "execution_count": 52,
   "id": "82ea33c1",
   "metadata": {},
   "outputs": [
    {
     "data": {
      "text/plain": [
       "(3, 2)"
      ]
     },
     "execution_count": 52,
     "metadata": {},
     "output_type": "execute_result"
    }
   ],
   "source": [
    "carr_t.shape"
   ]
  },
  {
   "cell_type": "code",
   "execution_count": 53,
   "id": "52c7aed2",
   "metadata": {},
   "outputs": [
    {
     "data": {
      "text/plain": [
       "(2, 3)"
      ]
     },
     "execution_count": 53,
     "metadata": {},
     "output_type": "execute_result"
    }
   ],
   "source": [
    "carrinho.shape"
   ]
  },
  {
   "cell_type": "code",
   "execution_count": 55,
   "id": "314a6fef",
   "metadata": {},
   "outputs": [
    {
     "data": {
      "text/plain": [
       "array([[10, 50],\n",
       "       [30,  2],\n",
       "       [ 5,  8]])"
      ]
     },
     "execution_count": 55,
     "metadata": {},
     "output_type": "execute_result"
    }
   ],
   "source": [
    "carrinho.reshape(3,2)"
   ]
  },
  {
   "cell_type": "code",
   "execution_count": 58,
   "id": "1472808a",
   "metadata": {},
   "outputs": [],
   "source": [
    "matriz_dados = np.random.random((5,3))"
   ]
  },
  {
   "cell_type": "code",
   "execution_count": 59,
   "id": "239a9f8c",
   "metadata": {},
   "outputs": [
    {
     "data": {
      "text/plain": [
       "array([[0.65641118, 0.80981255, 0.87217591],\n",
       "       [0.9646476 , 0.72368535, 0.64247533],\n",
       "       [0.71745362, 0.46759901, 0.32558468],\n",
       "       [0.43964461, 0.72968908, 0.99401459],\n",
       "       [0.67687371, 0.79082252, 0.17091426]])"
      ]
     },
     "execution_count": 59,
     "metadata": {},
     "output_type": "execute_result"
    }
   ],
   "source": [
    "matriz_dadosprint(carrinho.mean())"
   ]
  },
  {
   "cell_type": "code",
   "execution_count": 60,
   "id": "b9e934d8",
   "metadata": {},
   "outputs": [
    {
     "data": {
      "text/plain": [
       "array([[10, 50, 30],\n",
       "       [ 2,  5,  8]])"
      ]
     },
     "execution_count": 60,
     "metadata": {},
     "output_type": "execute_result"
    }
   ],
   "source": [
    "carrinho"
   ]
  },
  {
   "cell_type": "code",
   "execution_count": 61,
   "id": "17e597dc",
   "metadata": {},
   "outputs": [],
   "source": [
    "carrinho = np.insert(carrinho,0,11)"
   ]
  },
  {
   "cell_type": "code",
   "execution_count": 62,
   "id": "316da53c",
   "metadata": {},
   "outputs": [
    {
     "data": {
      "text/plain": [
       "array([11, 10, 50, 30,  2,  5,  8])"
      ]
     },
     "execution_count": 62,
     "metadata": {},
     "output_type": "execute_result"
    }
   ],
   "source": [
    "carrinho"
   ]
  },
  {
   "cell_type": "code",
   "execution_count": 63,
   "id": "3caafd1a",
   "metadata": {},
   "outputs": [],
   "source": [
    "carrinho = np.delete(carrinho,[0])"
   ]
  },
  {
   "cell_type": "code",
   "execution_count": 64,
   "id": "d165d136",
   "metadata": {},
   "outputs": [
    {
     "data": {
      "text/plain": [
       "array([10, 50, 30,  2,  5,  8])"
      ]
     },
     "execution_count": 64,
     "metadata": {},
     "output_type": "execute_result"
    }
   ],
   "source": [
    "carrinho"
   ]
  },
  {
   "cell_type": "code",
   "execution_count": 69,
   "id": "6112c247",
   "metadata": {},
   "outputs": [],
   "source": [
    "np.savetxt(\"meu_carrinho.txt\", carrinho)"
   ]
  },
  {
   "cell_type": "code",
   "execution_count": 70,
   "id": "b95a6c0d",
   "metadata": {},
   "outputs": [
    {
     "name": "stdout",
     "output_type": "stream",
     "text": [
      "1.000000000000000000e+01\r\n",
      "5.000000000000000000e+01\r\n",
      "3.000000000000000000e+01\r\n",
      "2.000000000000000000e+00\r\n",
      "5.000000000000000000e+00\r\n",
      "8.000000000000000000e+00\r\n"
     ]
    }
   ],
   "source": [
    "!cat meu_carrinho.txt"
   ]
  },
  {
   "cell_type": "code",
   "execution_count": 71,
   "id": "9b6c970d",
   "metadata": {},
   "outputs": [
    {
     "name": "stdout",
     "output_type": "stream",
     "text": [
      "/home/valli/repos/ensino/ext-manip-dados/aulas\r\n"
     ]
    }
   ],
   "source": [
    "!pwd"
   ]
  },
  {
   "cell_type": "code",
   "execution_count": 72,
   "id": "1bc8ade5",
   "metadata": {},
   "outputs": [
    {
     "data": {
      "text/plain": [
       "array([10, 50, 30,  2,  5,  8])"
      ]
     },
     "execution_count": 72,
     "metadata": {},
     "output_type": "execute_result"
    }
   ],
   "source": [
    "carrinho"
   ]
  },
  {
   "cell_type": "code",
   "execution_count": 73,
   "id": "65e073e4",
   "metadata": {},
   "outputs": [],
   "source": [
    "carrinho2 = np.array(\n",
    "                    [\n",
    "                        (10,50,30),\n",
    "                        (2,5,8)\n",
    "                    ]\n",
    "                    )"
   ]
  },
  {
   "cell_type": "code",
   "execution_count": 74,
   "id": "d7490bde",
   "metadata": {},
   "outputs": [
    {
     "data": {
      "text/plain": [
       "array([[10, 50, 30],\n",
       "       [ 2,  5,  8]])"
      ]
     },
     "execution_count": 74,
     "metadata": {},
     "output_type": "execute_result"
    }
   ],
   "source": [
    "carrinho2"
   ]
  },
  {
   "cell_type": "code",
   "execution_count": 75,
   "id": "35c4b107",
   "metadata": {},
   "outputs": [
    {
     "data": {
      "text/plain": [
       "5"
      ]
     },
     "execution_count": 75,
     "metadata": {},
     "output_type": "execute_result"
    }
   ],
   "source": [
    "carrinho2[1][1]"
   ]
  },
  {
   "cell_type": "code",
   "execution_count": 76,
   "id": "b1f3917b",
   "metadata": {},
   "outputs": [
    {
     "data": {
      "text/plain": [
       "30"
      ]
     },
     "execution_count": 76,
     "metadata": {},
     "output_type": "execute_result"
    }
   ],
   "source": [
    "carrinho2[0][2]"
   ]
  },
  {
   "cell_type": "code",
   "execution_count": 78,
   "id": "dd024814",
   "metadata": {},
   "outputs": [
    {
     "data": {
      "text/plain": [
       "array([[10, 50],\n",
       "       [ 2,  5]])"
      ]
     },
     "execution_count": 78,
     "metadata": {},
     "output_type": "execute_result"
    }
   ],
   "source": [
    "carrinho2[:,:2]"
   ]
  },
  {
   "cell_type": "code",
   "execution_count": 79,
   "id": "d640d324",
   "metadata": {},
   "outputs": [
    {
     "data": {
      "text/plain": [
       "array([[ True,  True,  True],\n",
       "       [False, False,  True]])"
      ]
     },
     "execution_count": 79,
     "metadata": {},
     "output_type": "execute_result"
    }
   ],
   "source": [
    "#Filtrando elementos\n",
    "carrinho2 > 5"
   ]
  },
  {
   "cell_type": "code",
   "execution_count": 80,
   "id": "e2f78751",
   "metadata": {},
   "outputs": [
    {
     "data": {
      "text/plain": [
       "array([10, 50, 30,  8])"
      ]
     },
     "execution_count": 80,
     "metadata": {},
     "output_type": "execute_result"
    }
   ],
   "source": [
    "carrinho2[carrinho2 > 5]"
   ]
  },
  {
   "cell_type": "code",
   "execution_count": 81,
   "id": "c469a27a",
   "metadata": {},
   "outputs": [],
   "source": [
    "nomes = np.array(['Bob', 'Joe', 'Will','Joe','Joe', 'Will'])"
   ]
  },
  {
   "cell_type": "code",
   "execution_count": 83,
   "id": "0f78db73",
   "metadata": {},
   "outputs": [
    {
     "data": {
      "text/plain": [
       "array([False,  True, False,  True,  True, False])"
      ]
     },
     "execution_count": 83,
     "metadata": {},
     "output_type": "execute_result"
    }
   ],
   "source": [
    "nomes == 'Joe'"
   ]
  },
  {
   "cell_type": "code",
   "execution_count": 84,
   "id": "fbf350b2",
   "metadata": {},
   "outputs": [
    {
     "data": {
      "text/plain": [
       "array([ True,  True, False,  True,  True, False])"
      ]
     },
     "execution_count": 84,
     "metadata": {},
     "output_type": "execute_result"
    }
   ],
   "source": [
    "nomes != 'Will'"
   ]
  },
  {
   "cell_type": "code",
   "execution_count": 85,
   "id": "2c801b4e",
   "metadata": {},
   "outputs": [
    {
     "data": {
      "text/plain": [
       "array(['Bob', 'Joe', 'Joe', 'Joe'], dtype='<U4')"
      ]
     },
     "execution_count": 85,
     "metadata": {},
     "output_type": "execute_result"
    }
   ],
   "source": [
    "nomes[nomes != 'Will']"
   ]
  },
  {
   "cell_type": "code",
   "execution_count": 86,
   "id": "85567334",
   "metadata": {},
   "outputs": [
    {
     "data": {
      "text/plain": [
       "array([0., 0., 0., 0., 0.])"
      ]
     },
     "execution_count": 86,
     "metadata": {},
     "output_type": "execute_result"
    }
   ],
   "source": [
    "# Tipos de matrizes que viámos em aula\n",
    "# matriz de zeros\n",
    "np.zeros(5)"
   ]
  },
  {
   "cell_type": "code",
   "execution_count": 87,
   "id": "55692127",
   "metadata": {},
   "outputs": [
    {
     "data": {
      "text/plain": [
       "array([1., 1., 1., 1.])"
      ]
     },
     "execution_count": 87,
     "metadata": {},
     "output_type": "execute_result"
    }
   ],
   "source": [
    "# matriz de numeros 1\n",
    "np.ones(4)"
   ]
  },
  {
   "cell_type": "code",
   "execution_count": 88,
   "id": "85dcf226",
   "metadata": {},
   "outputs": [
    {
     "data": {
      "text/plain": [
       "array([[1., 0., 0., 0., 0.],\n",
       "       [0., 1., 0., 0., 0.],\n",
       "       [0., 0., 1., 0., 0.],\n",
       "       [0., 0., 0., 1., 0.],\n",
       "       [0., 0., 0., 0., 1.]])"
      ]
     },
     "execution_count": 88,
     "metadata": {},
     "output_type": "execute_result"
    }
   ],
   "source": [
    "#matriz identidade\n",
    "np.eye(5)"
   ]
  },
  {
   "cell_type": "code",
   "execution_count": 91,
   "id": "eb4eece6",
   "metadata": {},
   "outputs": [
    {
     "data": {
      "text/plain": [
       "array([10., 15., 20., 25., 30.])"
      ]
     },
     "execution_count": 91,
     "metadata": {},
     "output_type": "execute_result"
    }
   ],
   "source": [
    "# array com o mesmo espaçamento entre os elementos\n",
    "np.linspace(10,30,5)"
   ]
  },
  {
   "cell_type": "code",
   "execution_count": null,
   "id": "c972b7a5",
   "metadata": {},
   "outputs": [],
   "source": []
  }
 ],
 "metadata": {
  "kernelspec": {
   "display_name": "Python 3 (ipykernel)",
   "language": "python",
   "name": "python3"
  },
  "language_info": {
   "codemirror_mode": {
    "name": "ipython",
    "version": 3
   },
   "file_extension": ".py",
   "mimetype": "text/x-python",
   "name": "python",
   "nbconvert_exporter": "python",
   "pygments_lexer": "ipython3",
   "version": "3.8.8"
  }
 },
 "nbformat": 4,
 "nbformat_minor": 5
}
