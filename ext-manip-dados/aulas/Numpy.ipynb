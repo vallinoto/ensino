{
 "cells": [
  {
   "cell_type": "markdown",
   "id": "c3a22a98-d469-4664-b1cd-20cba4d2c854",
   "metadata": {},
   "source": [
    "# Introdução ao Numpy"
   ]
  },
  {
   "cell_type": "markdown",
   "id": "e38113a6",
   "metadata": {},
   "source": [
    "**NumPy**: biblioteca de álgebra linear para Python. Quase todas as bibliotecas de Ciência de Dados acabam dependendo dela para alguma coisa.\n",
    "\n",
    "Nesse post do [StackOverflow](http://stackoverflow.com/questions/993984/why-numpy-instead-of-python-lists)tem informações sobre por que você deseja usar numpy arrays em vez de listas.\n",
    "\n",
    "O básico iremos ver aqui :)"
   ]
  },
  {
   "cell_type": "markdown",
   "id": "d7c9aed4-e2c0-4495-b5b6-250c01bfc1f3",
   "metadata": {},
   "source": [
    "## Qual a diferença entre Numpy e uma lista?"
   ]
  },
  {
   "cell_type": "code",
   "execution_count": null,
   "id": "c9e6df05-745c-43ec-abb6-357b56391baf",
   "metadata": {},
   "outputs": [],
   "source": [
    "# Importar a biblioteca de trabalho\n",
    "import numpy as np\n",
    "np.random.seed(12345)"
   ]
  },
  {
   "cell_type": "code",
   "execution_count": null,
   "id": "618f7752-d2b4-46a9-97c4-34f1fb37c842",
   "metadata": {},
   "outputs": [],
   "source": [
    "array_np = np.arange(1000000)\n",
    "lista_normal = list(range(1000000))"
   ]
  },
  {
   "cell_type": "code",
   "execution_count": null,
   "id": "3ec4e2b9-2bd3-485e-b461-03f466bdad6b",
   "metadata": {},
   "outputs": [],
   "source": [
    "%time for _ in range(10): array2 = array_np * 2\n",
    "%time for _ in range(10): list2 = [x * 2 for x in lista_normal]"
   ]
  },
  {
   "cell_type": "markdown",
   "id": "b22525ec",
   "metadata": {},
   "source": [
    "## E como podemos interagir? Através dos Métodos e Atributos."
   ]
  },
  {
   "cell_type": "code",
   "execution_count": null,
   "id": "14503eb0",
   "metadata": {},
   "outputs": [],
   "source": []
  }
 ],
 "metadata": {
  "kernelspec": {
   "display_name": "Python 3 (ipykernel)",
   "language": "python",
   "name": "python3"
  },
  "language_info": {
   "codemirror_mode": {
    "name": "ipython",
    "version": 3
   },
   "file_extension": ".py",
   "mimetype": "text/x-python",
   "name": "python",
   "nbconvert_exporter": "python",
   "pygments_lexer": "ipython3",
   "version": "3.8.8"
  }
 },
 "nbformat": 4,
 "nbformat_minor": 5
}
