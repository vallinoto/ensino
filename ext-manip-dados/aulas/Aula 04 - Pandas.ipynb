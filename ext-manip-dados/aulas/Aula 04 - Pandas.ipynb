{
 "cells": [
  {
   "cell_type": "code",
   "execution_count": null,
   "id": "362c386e",
   "metadata": {},
   "outputs": [],
   "source": []
  },
  {
   "cell_type": "code",
   "execution_count": null,
   "id": "dfc79652",
   "metadata": {},
   "outputs": [],
   "source": []
  },
  {
   "cell_type": "code",
   "execution_count": null,
   "id": "9bca98a1",
   "metadata": {},
   "outputs": [],
   "source": [
    "import pandas as pd\n",
    "import numpy as np"
   ]
  },
  {
   "cell_type": "code",
   "execution_count": null,
   "id": "bb28173a",
   "metadata": {},
   "outputs": [],
   "source": [
    "# definimos um dataframe para iniciarmos\n",
    "df = pd.DataFrame({'A':[1,2,np.nan],\n",
    "                  'B':[5,np.nan,np.nan],\n",
    "                  'C':[1,2,3]})"
   ]
  },
  {
   "cell_type": "code",
   "execution_count": null,
   "id": "eacb6859",
   "metadata": {},
   "outputs": [],
   "source": [
    "# temos valores faltantes? isna()"
   ]
  },
  {
   "cell_type": "code",
   "execution_count": null,
   "id": "34baf183",
   "metadata": {},
   "outputs": [],
   "source": [
    "# como podemos remover esses registros? dropna()"
   ]
  },
  {
   "cell_type": "code",
   "execution_count": null,
   "id": "10d8480a",
   "metadata": {},
   "outputs": [],
   "source": [
    "# como podemos preencher esses registros com problemas? fillna()"
   ]
  },
  {
   "cell_type": "markdown",
   "id": "0ede4014",
   "metadata": {},
   "source": []
  },
  {
   "cell_type": "markdown",
   "id": "8c94ba82",
   "metadata": {},
   "source": []
  },
  {
   "cell_type": "code",
   "execution_count": null,
   "id": "a7e5f08c",
   "metadata": {},
   "outputs": [],
   "source": [
    "# vamos definir 3 conjuntos de dados para exercitar essas possibilidades\n",
    "df1 = pd.DataFrame({'A': ['A0', 'A1', 'A2', 'A3'],\n",
    "                        'B': ['B0', 'B1', 'B2', 'B3'],\n",
    "                        'C': ['C0', 'C1', 'C2', 'C3'],\n",
    "                        'D': ['D0', 'D1', 'D2', 'D3']},\n",
    "                        index=[0, 1, 2, 3])\n",
    "\n",
    "df2 = pd.DataFrame({'A': ['A4', 'A5', 'A6', 'A7'],\n",
    "                        'B': ['B4', 'B5', 'B6', 'B7'],\n",
    "                        'C': ['C4', 'C5', 'C6', 'C7'],\n",
    "                        'D': ['D4', 'D5', 'D6', 'D7']},\n",
    "                         index=[4, 5, 6, 7]) \n",
    "\n",
    "df3 = pd.DataFrame({'A': ['A8', 'A9', 'A10', 'A11'],\n",
    "                        'B': ['B8', 'B9', 'B10', 'B11'],\n",
    "                        'C': ['C8', 'C9', 'C10', 'C11'],\n",
    "                        'D': ['D8', 'D9', 'D10', 'D11']},\n",
    "                        index=[8, 9, 10, 11])"
   ]
  },
  {
   "cell_type": "markdown",
   "id": "18a047e2",
   "metadata": {},
   "source": [
    "### Concatenação\n",
    "\n",
    "Concatenar = 'colar' DataFrames. Tem que ter as dimensões iguais do eixo que estaremos utiizando. Comando **pd.concat**."
   ]
  },
  {
   "cell_type": "code",
   "execution_count": null,
   "id": "fecaf142",
   "metadata": {},
   "outputs": [],
   "source": []
  },
  {
   "cell_type": "markdown",
   "id": "45d02b6c",
   "metadata": {},
   "source": [
    "### Mesclar\n",
    "\n",
    "Permite mesclar os conjuntos de dados 'like a joins' que usamos no SQL."
   ]
  },
  {
   "cell_type": "code",
   "execution_count": null,
   "id": "aad6fe03",
   "metadata": {},
   "outputs": [],
   "source": [
    "# novos conjuntos\n",
    "esquerda = pd.DataFrame({'key': ['K0', 'K1', 'K2', 'K3'],\n",
    "                     'A': ['A0', 'A1', 'A2', 'A3'],\n",
    "                     'B': ['B0', 'B1', 'B2', 'B3']})\n",
    "   \n",
    "direita = pd.DataFrame({'key': ['K0', 'K1', 'K2', 'K3'],\n",
    "                          'C': ['C0', 'C1', 'C2', 'C3'],\n",
    "                          'D': ['D0', 'D1', 'D2', 'D3']}) "
   ]
  },
  {
   "cell_type": "code",
   "execution_count": null,
   "id": "ce418bad",
   "metadata": {},
   "outputs": [],
   "source": []
  },
  {
   "cell_type": "code",
   "execution_count": null,
   "id": "25ed35c2",
   "metadata": {},
   "outputs": [],
   "source": []
  },
  {
   "cell_type": "code",
   "execution_count": null,
   "id": "6bf3d0b8",
   "metadata": {},
   "outputs": [],
   "source": []
  },
  {
   "cell_type": "markdown",
   "id": "aabf3bb6",
   "metadata": {},
   "source": [
    "### Juntar\n",
    "\n",
    "Combinar as colunas de dois DataFrames indexados potencialmente diferentes em um único resultado DataFrame."
   ]
  },
  {
   "cell_type": "code",
   "execution_count": null,
   "id": "151ae3a4",
   "metadata": {},
   "outputs": [],
   "source": [
    "esquerda = pd.DataFrame({'A': ['A0', 'A1', 'A2'],\n",
    "                     'B': ['B0', 'B1', 'B2']},\n",
    "                      index=['K0', 'K1', 'K2']) \n",
    "\n",
    "direita = pd.DataFrame({'C': ['C0', 'C2', 'C3'],\n",
    "                    'D': ['D0', 'D2', 'D3']},\n",
    "                      index=['K0', 'K2', 'K3'])"
   ]
  },
  {
   "cell_type": "code",
   "execution_count": null,
   "id": "0d20e355",
   "metadata": {},
   "outputs": [],
   "source": []
  },
  {
   "cell_type": "code",
   "execution_count": null,
   "id": "f1703833",
   "metadata": {},
   "outputs": [],
   "source": []
  },
  {
   "cell_type": "code",
   "execution_count": null,
   "id": "b1726025",
   "metadata": {},
   "outputs": [],
   "source": []
  }
 ],
 "metadata": {
  "kernelspec": {
   "display_name": "Python 3 (ipykernel)",
   "language": "python",
   "name": "python3"
  },
  "language_info": {
   "codemirror_mode": {
    "name": "ipython",
    "version": 3
   },
   "file_extension": ".py",
   "mimetype": "text/x-python",
   "name": "python",
   "nbconvert_exporter": "python",
   "pygments_lexer": "ipython3",
   "version": "3.8.8"
  }
 },
 "nbformat": 4,
 "nbformat_minor": 5
}
