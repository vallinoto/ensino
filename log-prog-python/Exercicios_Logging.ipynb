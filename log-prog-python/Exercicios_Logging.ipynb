{
  "nbformat": 4,
  "nbformat_minor": 0,
  "metadata": {
    "colab": {
      "name": "Cópia de Logging.ipynb",
      "provenance": []
    },
    "kernelspec": {
      "name": "python3",
      "display_name": "Python 3"
    },
    "language_info": {
      "name": "python"
    }
  },
  "cells": [
    {
      "cell_type": "markdown",
      "metadata": {
        "id": "vlnweJKi16mj"
      },
      "source": [
        "#Logging\n",
        "\n",
        "Logging é o processo de registrar eventos que ocorrem ao longo da execução do código. Permiti obter conhecimento sobre o funcionamento de seu código, localizar bugs e\n",
        "otimizar seu script."
      ]
    },
    {
      "cell_type": "code",
      "metadata": {
        "id": "foo-bCvL15pS"
      },
      "source": [
        "import logging"
      ],
      "execution_count": null,
      "outputs": []
    },
    {
      "cell_type": "markdown",
      "metadata": {
        "id": "e9P4a2mV2Arz"
      },
      "source": [
        "Para usar, primeiramente instanciamos um objeto responsável por manipular estes registros através do método logging.getLogger."
      ]
    },
    {
      "cell_type": "code",
      "metadata": {
        "id": "KwgUEdjRkxeA"
      },
      "source": [
        "logging."
      ],
      "execution_count": null,
      "outputs": []
    },
    {
      "cell_type": "code",
      "metadata": {
        "id": "ayNqSnOH2FCx"
      },
      "source": [
        "log = logging.getLogger(\"meu-logger\")\n",
        "log.info(\"Hello, world\")"
      ],
      "execution_count": null,
      "outputs": []
    },
    {
      "cell_type": "markdown",
      "metadata": {
        "id": "TnLdN6wM2Lsg"
      },
      "source": [
        "#Níveis de logging\n",
        "\n",
        "Vários tipos de eventos podem surgir e podemos especificar com quais queremos interagir.\n",
        "\n",
        "Se você definir o nível de log para INFO, ele incluirá as\n",
        "mensagens INFO, WARNING, ERROR e CRITICAL. \n",
        "\n",
        "\n",
        "\n",
        "```\n",
        "*   CRITICAL..50\n",
        "*   ERROR.....40\n",
        "*   WARNING...30\n",
        "*   INFO......20\n",
        "*   DEBUG.....10\n",
        "*   NOTSET.....0\n",
        "```\n",
        "\n",
        "\n"
      ]
    },
    {
      "cell_type": "code",
      "metadata": {
        "colab": {
          "base_uri": "https://localhost:8080/"
        },
        "id": "0p1Hc1Vw2YKO",
        "outputId": "484faa9e-69b1-4527-ec50-9183a7baa13b"
      },
      "source": [
        "log.critical(\"Registra um log do nível critical\")\n",
        "log.error(\"Registra um log do nível error\")\n",
        "log.warning(\"Registra um log do nível warning\")\n",
        "log.info(\"Registra um log do nível info\")\n",
        "log.debug(\"Registra um log do nível debug\")"
      ],
      "execution_count": null,
      "outputs": [
        {
          "output_type": "stream",
          "name": "stderr",
          "text": [
            "Registra um log do nível critical\n",
            "Registra um log do nível error\n",
            "Registra um log do nível warning\n"
          ]
        }
      ]
    },
    {
      "cell_type": "markdown",
      "metadata": {
        "id": "bxt-h7xz2e8X"
      },
      "source": [
        "# Config básica\n",
        "Usamos o método basicConfig() para configurar o logging.\n",
        "\n",
        "Parâmetros comuns:\n",
        "*   level\n",
        "*   filename: especifica o nome do arquivo.\n",
        "*   filemode: se o nome do arquivo for fornecido, o arquivo é aberto neste modo. O padrão é **a** , o que significa anexar.\n",
        "*   format: este é o formato da mensagem de registro."
      ]
    },
    {
      "cell_type": "code",
      "metadata": {
        "colab": {
          "base_uri": "https://localhost:8080/"
        },
        "id": "sUhrWkcN2mPA",
        "outputId": "d40eb731-6347-4168-a7e7-546b308187ab"
      },
      "source": [
        "import logging\n",
        "\n",
        "\n",
        "logging.basicConfig(level=logging.DEBUG)\n",
        "logging.debug('This will get logged')"
      ],
      "execution_count": null,
      "outputs": [
        {
          "output_type": "stream",
          "name": "stderr",
          "text": [
            "DEBUG:root:This will get logged\n"
          ]
        }
      ]
    },
    {
      "cell_type": "code",
      "metadata": {
        "colab": {
          "base_uri": "https://localhost:8080/"
        },
        "id": "h1pE3uxa2qTa",
        "outputId": "9918ee59-0494-4c39-afef-7e8cee4de6da"
      },
      "source": [
        "import logging\n",
        "\n",
        "\n",
        "logging.basicConfig(filename='/content/drive/MyDrive/app.log', filemode='w', format='%(name)s - %(level)')\n",
        "logging.warning('This will get logged to a file')"
      ],
      "execution_count": null,
      "outputs": [
        {
          "output_type": "stream",
          "name": "stderr",
          "text": [
            "WARNING:root:This will get logged to a file\n"
          ]
        }
      ]
    },
    {
      "cell_type": "markdown",
      "metadata": {
        "id": "oM_pZojl2xZA"
      },
      "source": [
        "No link, podemos ver mais informações sobre o método\n",
        "https://docs.python.org/3/library/logging.html#logging.basicConfig\n",
        "\n",
        "\n",
        "Só podemos chamar o basicConfig(), basicamente, esta função só pode ser chamada uma vez. Caso contrário, precisamos resetar ela para ajustar os parâmetros."
      ]
    },
    {
      "cell_type": "code",
      "metadata": {
        "id": "xpBHEZ_I26Cr"
      },
      "source": [
        "def reset_log():\n",
        "  for handler in logging.root.handlers[:]:\n",
        "    logging.root.removeHandler(handler)"
      ],
      "execution_count": null,
      "outputs": []
    },
    {
      "cell_type": "code",
      "metadata": {
        "id": "HrvFbckd2736"
      },
      "source": [
        "reset_log()"
      ],
      "execution_count": null,
      "outputs": []
    },
    {
      "cell_type": "markdown",
      "metadata": {
        "id": "dgmbR2_23Ad-"
      },
      "source": [
        "#Formatação do Output\n"
      ]
    },
    {
      "cell_type": "code",
      "metadata": {
        "colab": {
          "base_uri": "https://localhost:8080/"
        },
        "id": "sCdIlt9g3EIu",
        "outputId": "133facaf-2e8b-4325-df36-0fd4921b82fe"
      },
      "source": [
        "import logging\n",
        "\n",
        "logging.basicConfig(format='%(process)d-%(levelname)s-%(message)s')\n",
        "logging.warning('This is a Warning')"
      ],
      "execution_count": null,
      "outputs": [
        {
          "output_type": "stream",
          "name": "stderr",
          "text": [
            "61-WARNING-This is a Warning\n"
          ]
        }
      ]
    },
    {
      "cell_type": "code",
      "metadata": {
        "colab": {
          "base_uri": "https://localhost:8080/"
        },
        "id": "x5WfN45V3GrS",
        "outputId": "13442c4e-845b-4bbc-9951-584c14abe77d"
      },
      "source": [
        "reset_log()\n",
        "\n",
        "\n",
        "logging.basicConfig(format='%(asctime)s - %(message)s', level=logging.INFO)\n",
        "logging.info('Admin logged in')"
      ],
      "execution_count": null,
      "outputs": [
        {
          "output_type": "stream",
          "name": "stderr",
          "text": [
            "2021-11-12 00:43:34,343 - Admin logged in\n"
          ]
        }
      ]
    },
    {
      "cell_type": "markdown",
      "metadata": {
        "id": "VSjt3QTQ3Nkl"
      },
      "source": [
        "#Registro e Captura de Eventos"
      ]
    },
    {
      "cell_type": "code",
      "metadata": {
        "colab": {
          "base_uri": "https://localhost:8080/"
        },
        "id": "5vNlFyE-3Jiq",
        "outputId": "fa1b29df-bd6a-4bbe-d959-bb88d66fd424"
      },
      "source": [
        "reset_log()\n",
        "\n",
        "\n",
        "name = 'John'\n",
        "logging.error('%s raised an error', name)"
      ],
      "execution_count": null,
      "outputs": [
        {
          "output_type": "stream",
          "name": "stderr",
          "text": [
            "ERROR:root:John raised an error\n"
          ]
        }
      ]
    },
    {
      "cell_type": "code",
      "metadata": {
        "colab": {
          "base_uri": "https://localhost:8080/"
        },
        "id": "YVOCBQSW3Scq",
        "outputId": "8022c224-25e9-4699-ce91-af0a47ba4f6d"
      },
      "source": [
        "reset_log()\n",
        "\n",
        "\n",
        "a = 5\n",
        "b = 0\n",
        "\n",
        "try:\n",
        "  c = a / b\n",
        "  \n",
        "except Exception as e:\n",
        "  logging.error(\"Exception occurred\", exc_info=True)"
      ],
      "execution_count": null,
      "outputs": [
        {
          "output_type": "stream",
          "name": "stderr",
          "text": [
            "ERROR:root:Exception occurred\n",
            "Traceback (most recent call last):\n",
            "  File \"<ipython-input-11-2f12951eaaa8>\", line 8, in <module>\n",
            "    c = a / b\n",
            "ZeroDivisionError: division by zero\n"
          ]
        }
      ]
    },
    {
      "cell_type": "code",
      "metadata": {
        "id": "LmbDvwxD3WxA"
      },
      "source": [
        ""
      ],
      "execution_count": null,
      "outputs": []
    }
  ]
}