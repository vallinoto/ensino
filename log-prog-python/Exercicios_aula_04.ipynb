{
  "nbformat": 4,
  "nbformat_minor": 0,
  "metadata": {
    "colab": {
      "name": "Cópia de Exercicios aula 04.ipynb",
      "provenance": []
    },
    "kernelspec": {
      "name": "python3",
      "display_name": "Python 3"
    },
    "language_info": {
      "name": "python"
    }
  },
  "cells": [
    {
      "cell_type": "markdown",
      "metadata": {
        "id": "WV4qYJgZmh1F"
      },
      "source": [
        "Alternar strings de duas palavras"
      ]
    },
    {
      "cell_type": "code",
      "metadata": {
        "colab": {
          "base_uri": "https://localhost:8080/"
        },
        "id": "ltOYEHFsmtMA",
        "outputId": "741616f4-fd67-4d3b-9b94-38aef1aabcd3"
      },
      "source": [
        "str1 = input('palavra 1: ')\n",
        "str2 = input('palavra 2: ')"
      ],
      "execution_count": null,
      "outputs": [
        {
          "name": "stdout",
          "output_type": "stream",
          "text": [
            "palavra 1: joao\n",
            "palavra 2: 12345\n"
          ]
        }
      ]
    },
    {
      "cell_type": "code",
      "metadata": {
        "colab": {
          "base_uri": "https://localhost:8080/"
        },
        "id": "nKH_yAPBohGf",
        "outputId": "bfe3d69f-2eff-4ad6-c8a3-2990ff67bb07"
      },
      "source": [
        "if len(str1) != len(str2):\n",
        "  print('Digite palavras de mesmo tamanho')\n",
        "else:\n",
        "  for letra in range(len(str1)):\n",
        "    print(str1[letra]+str2[letra], end='')"
      ],
      "execution_count": null,
      "outputs": [
        {
          "output_type": "stream",
          "name": "stdout",
          "text": [
            "Digite palavras de mesmo tamanho\n"
          ]
        }
      ]
    },
    {
      "cell_type": "markdown",
      "metadata": {
        "id": "BzQJAPsKqMBK"
      },
      "source": [
        "Formatacao: informacoes de variavel string"
      ]
    },
    {
      "cell_type": "code",
      "metadata": {
        "id": "q1cuw2ZfsBRD"
      },
      "source": [
        "hino = 'Ouviram do Ipiranga às margens plácidas De um povo heróico o brado retumbante, E o sol da liberdade, em raios fúlgidos, Brilhou no céu da Pátrianesse instante, Se o penhor dessa igualdade Conseguimos conquistar com braço forte, Em teu seio, ó, Liberdade, Desafia o nosso peito a própria morte! Ó Pátria amada, Idolatrada, Salve! Salve! Brasil, um sonho intenso, um raio vívido, De amor e de esperança à terra desce, Se em teu formoso céu, risonho e límpido, A imagem do Cruzeiro resplandece. Gigante pela própria natureza, És belo, és forte, impávido colosso, E o teu futuro espelha essa grandeza. Terra adorada, Entre outras mil, És tu, Brasil, Ó Pátria amada! Dos filhos deste solo és mãe gentil, Pátria amada, Brasil! Deitado eternamente em berço esplêndido, Ao som do mar e à luz do céu profundo, Fulguras, ó Brasil, florão da América, Iluminado ao sol do novo mundo! Do que a terra mais garrida Teus risonhos lindos campos tem mais flores, \"Nossos bosques tem mais vida\" \"Nossa vida\" no teu seio \"mais amores\". Ó Pátria amada, Idolatrada, Salve! Salve! Brasil, de amor eterno seja símbolo O lábaro que ostentas estrelado, E diga o verde-louro dessa flâmula \"Paz no futuro e glória no passado.\" Mas se ergues da justiça a clava forte, Verás que um filho teu não foge à luta, Nem teme, quem te adora, a própria morte.'"
      ],
      "execution_count": null,
      "outputs": []
    },
    {
      "cell_type": "code",
      "metadata": {
        "colab": {
          "base_uri": "https://localhost:8080/"
        },
        "id": "MGYgKkwmsNHY",
        "outputId": "2892913a-87f0-4c39-85df-fe4b3f28fa3d"
      },
      "source": [
        "print('Tamanho da string é {} caracteres'.format(len(hino)))"
      ],
      "execution_count": null,
      "outputs": [
        {
          "output_type": "stream",
          "name": "stdout",
          "text": [
            "Tamanho da string é 1320 caracteres\n"
          ]
        }
      ]
    },
    {
      "cell_type": "code",
      "metadata": {
        "colab": {
          "base_uri": "https://localhost:8080/"
        },
        "id": "vxNMv-lhv34G",
        "outputId": "b67e16f2-9698-4273-9437-83a4e55cccfe"
      },
      "source": [
        "print('Primeira letra \\'a\\' está na posicao {}'.format(hino.find('a')))"
      ],
      "execution_count": null,
      "outputs": [
        {
          "output_type": "stream",
          "name": "stdout",
          "text": [
            "Primeira letra 'a' está na posicao 5\n"
          ]
        }
      ]
    },
    {
      "cell_type": "code",
      "metadata": {
        "colab": {
          "base_uri": "https://localhost:8080/"
        },
        "id": "Fj93_RflxQtM",
        "outputId": "f68f489d-1b84-4e84-8bfa-90e09cf494db"
      },
      "source": [
        "print('Ultima letra \\'e\\' está na posicao {}'.format(hino.rfind('e')))"
      ],
      "execution_count": null,
      "outputs": [
        {
          "output_type": "stream",
          "name": "stdout",
          "text": [
            "Ultimna letra 'e' está na posicao 1318\n"
          ]
        }
      ]
    },
    {
      "cell_type": "code",
      "metadata": {
        "colab": {
          "base_uri": "https://localhost:8080/"
        },
        "id": "VSDaWa33yGBP",
        "outputId": "d5e5f4dd-8c07-4863-83c0-7cae586a9d6d"
      },
      "source": [
        "print('Quantidade de espacos na string: {}'.format(hino.count(' ')))"
      ],
      "execution_count": null,
      "outputs": [
        {
          "output_type": "stream",
          "name": "stdout",
          "text": [
            "Quantidade de espacos na string: 227\n"
          ]
        }
      ]
    },
    {
      "cell_type": "code",
      "metadata": {
        "colab": {
          "base_uri": "https://localhost:8080/"
        },
        "id": "c59C74HtyvWk",
        "outputId": "8f9ea20a-e3f2-439b-e6dc-fe2a6956cfcd"
      },
      "source": [
        "print('Quantidade de palavras: {}'.format(len(hino.split())))"
      ],
      "execution_count": null,
      "outputs": [
        {
          "output_type": "stream",
          "name": "stdout",
          "text": [
            "Quantidade de palavras: 228\n"
          ]
        }
      ]
    },
    {
      "cell_type": "markdown",
      "metadata": {
        "id": "b0qHPCsE3yXc"
      },
      "source": [
        "\n",
        "Inverter string\n"
      ]
    },
    {
      "cell_type": "code",
      "metadata": {
        "colab": {
          "base_uri": "https://localhost:8080/"
        },
        "id": "3oJTOU9hzKxF",
        "outputId": "9be0150c-c2a4-4e6a-98b9-ab9852559080"
      },
      "source": [
        "frase = input('Digite uma frase: ')\n"
      ],
      "execution_count": null,
      "outputs": [
        {
          "name": "stdout",
          "output_type": "stream",
          "text": [
            "Digite uma frase: minha terra tem palmeiras onde canta o sabia\n"
          ]
        }
      ]
    },
    {
      "cell_type": "code",
      "metadata": {
        "colab": {
          "base_uri": "https://localhost:8080/"
        },
        "id": "96rG7w5w4Opk",
        "outputId": "89b7242d-3626-42c6-f9b5-413f2dd3069d"
      },
      "source": [
        "print(frase[::-1])"
      ],
      "execution_count": null,
      "outputs": [
        {
          "output_type": "stream",
          "name": "stdout",
          "text": [
            "aibas o atnac edno sariemlap met arret ahnim\n"
          ]
        }
      ]
    },
    {
      "cell_type": "code",
      "metadata": {
        "colab": {
          "base_uri": "https://localhost:8080/"
        },
        "id": "mYs4hc_w6ZzI",
        "outputId": "98b2d7e9-6077-4f5e-d23f-033bb0bab726"
      },
      "source": [
        "frase_inversa = ''\n",
        "for letra in reversed(frase):\n",
        "  frase_inversa += letra\n",
        "print('Frase invertida: {}'.format(frase_inversa))"
      ],
      "execution_count": null,
      "outputs": [
        {
          "output_type": "stream",
          "name": "stdout",
          "text": [
            "Frase invertida: aibas o atnac edno sariemlap met arret ahnim\n"
          ]
        }
      ]
    }
  ]
}