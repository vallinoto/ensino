{
  "nbformat": 4,
  "nbformat_minor": 0,
  "metadata": {
    "colab": {
      "name": "Cópia de Exercicios aula 6.ipynb",
      "provenance": []
    },
    "kernelspec": {
      "name": "python3",
      "display_name": "Python 3"
    },
    "language_info": {
      "name": "python"
    }
  },
  "cells": [
    {
      "cell_type": "code",
      "metadata": {
        "id": "ONpAkuptnCT0"
      },
      "source": [
        "import math"
      ],
      "execution_count": null,
      "outputs": []
    },
    {
      "cell_type": "code",
      "metadata": {
        "id": "OlmXJAyqn8IC"
      },
      "source": [
        "notas = [5.7, 2.2, 6.5, 9.1, 7.4, 6.5, 6.9, 5.8, 3.5, 6.2, 6.4, 6.9, 6.0, 6.6, 6.3]"
      ],
      "execution_count": null,
      "outputs": []
    },
    {
      "cell_type": "code",
      "metadata": {
        "id": "hSUMPe_uoN2x"
      },
      "source": [
        "soma = 0\n",
        "for nota in notas:\n",
        "  soma += nota"
      ],
      "execution_count": null,
      "outputs": []
    },
    {
      "cell_type": "code",
      "metadata": {
        "id": "7eoG7xGDolVN"
      },
      "source": [
        "media = soma / len(notas)"
      ],
      "execution_count": null,
      "outputs": []
    },
    {
      "cell_type": "code",
      "metadata": {
        "colab": {
          "base_uri": "https://localhost:8080/"
        },
        "id": "GZPaLlmiopdl",
        "outputId": "e1280349-0b0d-4c3d-d7f9-d420f1bcca24"
      },
      "source": [
        "print('Media das notas é {:.1f}'.format(media))"
      ],
      "execution_count": null,
      "outputs": [
        {
          "output_type": "stream",
          "name": "stdout",
          "text": [
            "Media das notas é 6.1\n"
          ]
        }
      ]
    },
    {
      "cell_type": "code",
      "metadata": {
        "id": "GEjA0JJqpFlr"
      },
      "source": [
        "soma_dp = 0\n",
        "for nota in notas:\n",
        "  soma_dp += (nota-media)**2"
      ],
      "execution_count": null,
      "outputs": []
    },
    {
      "cell_type": "code",
      "metadata": {
        "id": "6nN8k6cGqAxY"
      },
      "source": [
        "desv_pad = math.sqrt(soma_dp / len(notas))"
      ],
      "execution_count": null,
      "outputs": []
    },
    {
      "cell_type": "code",
      "metadata": {
        "colab": {
          "base_uri": "https://localhost:8080/"
        },
        "id": "JTHKE8XxqNe0",
        "outputId": "7ee66aca-f55f-4472-bcf1-e5d1d2b16e45"
      },
      "source": [
        "print('Desvio padrao das notas é {:.1f}'.format(desv_pad))"
      ],
      "execution_count": null,
      "outputs": [
        {
          "output_type": "stream",
          "name": "stdout",
          "text": [
            "Desvio padrao das notas é 1.5\n"
          ]
        }
      ]
    },
    {
      "cell_type": "code",
      "metadata": {
        "id": "-m2K4i2qqUGw"
      },
      "source": [
        "notas.sort()"
      ],
      "execution_count": null,
      "outputs": []
    },
    {
      "cell_type": "code",
      "metadata": {
        "colab": {
          "base_uri": "https://localhost:8080/"
        },
        "id": "coaCsoqdqnS2",
        "outputId": "6dd5e0c1-9f0b-4942-c153-d5ff964ae166"
      },
      "source": [
        "print(notas)"
      ],
      "execution_count": null,
      "outputs": [
        {
          "output_type": "stream",
          "name": "stdout",
          "text": [
            "[2.2, 3.5, 5.7, 5.8, 6.0, 6.2, 6.3, 6.4, 6.5, 6.5, 6.6, 6.9, 6.9, 7.4, 9.1]\n"
          ]
        }
      ]
    },
    {
      "cell_type": "code",
      "metadata": {
        "colab": {
          "base_uri": "https://localhost:8080/"
        },
        "id": "7KfWSYEHqpDN",
        "outputId": "7b740858-66c3-4b56-b2ce-3c2bee30c35a"
      },
      "source": [
        "for nota in notas:\n",
        "  print('{}'.format(nota), end=' ')\n",
        "  if nota < media-desv_pad or nota > media+desv_pad:\n",
        "    print('- Ponto fora da curva')\n",
        "  else:\n",
        "    print()"
      ],
      "execution_count": null,
      "outputs": [
        {
          "output_type": "stream",
          "name": "stdout",
          "text": [
            "2.2 - Ponto fora da curva\n",
            "3.5 - Ponto fora da curva\n",
            "5.7 \n",
            "5.8 \n",
            "6.0 \n",
            "6.2 \n",
            "6.3 \n",
            "6.4 \n",
            "6.5 \n",
            "6.5 \n",
            "6.6 \n",
            "6.9 \n",
            "6.9 \n",
            "7.4 \n",
            "9.1 - Ponto fora da curva\n"
          ]
        }
      ]
    },
    {
      "cell_type": "code",
      "metadata": {
        "id": "aQoQ3HONrY2D"
      },
      "source": [
        "novo_cjto = []\n"
      ],
      "execution_count": null,
      "outputs": []
    },
    {
      "cell_type": "code",
      "metadata": {
        "colab": {
          "base_uri": "https://localhost:8080/"
        },
        "id": "LL3uqk4Ssvnz",
        "outputId": "cbeb7cb0-4884-43d3-8449-d569339b011d"
      },
      "source": [
        "for nota in notas:\n",
        "  if nota < media-desv_pad or nota > media+desv_pad:\n",
        "    print('{} - Exluido da amostra'.format(nota))\n",
        "  else:\n",
        "    novo_cjto.append(nota)"
      ],
      "execution_count": null,
      "outputs": [
        {
          "output_type": "stream",
          "name": "stdout",
          "text": [
            "2.2 - Exluido da amostra\n",
            "3.5 - Exluido da amostra\n",
            "9.1 - Exluido da amostra\n"
          ]
        }
      ]
    },
    {
      "cell_type": "code",
      "metadata": {
        "colab": {
          "base_uri": "https://localhost:8080/"
        },
        "id": "b5ENW2aotLVS",
        "outputId": "78625dda-f74f-4078-979c-71603ff55de4"
      },
      "source": [
        "print(novo_cjto)"
      ],
      "execution_count": null,
      "outputs": [
        {
          "output_type": "stream",
          "name": "stdout",
          "text": [
            "[5.7, 5.8, 6.0, 6.2, 6.3, 6.4, 6.5, 6.5, 6.6, 6.9, 6.9, 7.4]\n"
          ]
        }
      ]
    },
    {
      "cell_type": "code",
      "metadata": {
        "id": "5cjkweNRtNp-"
      },
      "source": [
        "def media(x,y,z):\n",
        "  '''\n",
        "  Essa funcao calcula a media de 3 valores\n",
        "\n",
        "  '''\n",
        "  return (x+y+z)/3"
      ],
      "execution_count": null,
      "outputs": []
    },
    {
      "cell_type": "code",
      "metadata": {
        "colab": {
          "base_uri": "https://localhost:8080/"
        },
        "id": "pbqUp49Jwd-p",
        "outputId": "fee79191-a0d3-4605-ecb3-843a75ae52db"
      },
      "source": [
        "v1=float(input())\n",
        "v2=float(input())\n",
        "v3=float(input())"
      ],
      "execution_count": null,
      "outputs": [
        {
          "name": "stdout",
          "output_type": "stream",
          "text": [
            "2\n",
            "4\n",
            "6\n"
          ]
        }
      ]
    },
    {
      "cell_type": "code",
      "metadata": {
        "id": "BMog-4bnwtRS"
      },
      "source": [
        "resultado = media(z=v1,x=v2,y=v3)"
      ],
      "execution_count": null,
      "outputs": []
    },
    {
      "cell_type": "code",
      "metadata": {
        "colab": {
          "base_uri": "https://localhost:8080/"
        },
        "id": "0JWKM_ypw4sk",
        "outputId": "72352526-4ba3-4233-b18e-2be60505fa64"
      },
      "source": [
        "print(resultado)"
      ],
      "execution_count": null,
      "outputs": [
        {
          "output_type": "stream",
          "name": "stdout",
          "text": [
            "4.0\n"
          ]
        }
      ]
    },
    {
      "cell_type": "code",
      "metadata": {
        "colab": {
          "base_uri": "https://localhost:8080/"
        },
        "id": "w41AGotsw6gb",
        "outputId": "ef9bef46-4c0f-47cd-c61f-1762bd458a37"
      },
      "source": [
        "media(v1,v2,v3)"
      ],
      "execution_count": null,
      "outputs": [
        {
          "output_type": "execute_result",
          "data": {
            "text/plain": [
              "4.0"
            ]
          },
          "metadata": {},
          "execution_count": 28
        }
      ]
    },
    {
      "cell_type": "code",
      "metadata": {
        "id": "pu1HCoE46cIX"
      },
      "source": [
        "def maior_de_3(a,b,c):\n",
        "  '''\n",
        "  Funcao para retornar o maior nro de 3 elementos\n",
        "  '''\n",
        "  if a > b and a > c:\n",
        "    print('{} é o maior!'.format(a))\n",
        "  elif b > a and b > c:\n",
        "    print('{} é o maior!'.format(b))\n",
        "  else:\n",
        "    print('{} é o maior!'.format(c))"
      ],
      "execution_count": null,
      "outputs": []
    },
    {
      "cell_type": "code",
      "metadata": {
        "colab": {
          "base_uri": "https://localhost:8080/"
        },
        "id": "LgdDYQwPxjjQ",
        "outputId": "910f22e3-35bf-49d2-b898-a5d8d7a6382b"
      },
      "source": [
        "print('Digite três valores')\n",
        "v1 = int(input())\n",
        "v2 = int(input())\n",
        "v3 = int(input())"
      ],
      "execution_count": null,
      "outputs": [
        {
          "name": "stdout",
          "output_type": "stream",
          "text": [
            "Digite três valores\n",
            "2\n",
            "3\n",
            "4\n"
          ]
        }
      ]
    },
    {
      "cell_type": "code",
      "metadata": {
        "colab": {
          "base_uri": "https://localhost:8080/"
        },
        "id": "jHuBXc6A7K1r",
        "outputId": "06c225ac-6b2b-4f05-f51e-12c01a6009f9"
      },
      "source": [
        "maior_de_3(v1,v2,v3)"
      ],
      "execution_count": null,
      "outputs": [
        {
          "output_type": "stream",
          "name": "stdout",
          "text": [
            "4 é o maior!\n"
          ]
        }
      ]
    },
    {
      "cell_type": "code",
      "metadata": {
        "id": "T8V1LjZU799j"
      },
      "source": [
        "def calcula_salario(qtd_dias,valor_hora=150, qtd_horas=8):\n",
        "  \n",
        "  sal = valor_hora * qtd_horas * qtd_dias\n",
        "\n",
        "  if sal <= 1830.29:\n",
        "    desconto = sal * 8 / 100\n",
        "  elif sal <= 3050.52:\n",
        "    desconto = sal * 9 / 100\n",
        "  elif sal <= 6101.06:\n",
        "    desconto = sal * 11 / 100\n",
        "  else:\n",
        "    desconto = 6101.06 * 11 / 100\n",
        "    \n",
        "\n",
        "\n",
        "  return print('Salário liquido: R$ ' + \\\n",
        "               str(round(sal-desconto, 2)),'\\nDesconto INSS: R$ ' + \\\n",
        "               str(round(desconto, 2)))"
      ],
      "execution_count": null,
      "outputs": []
    },
    {
      "cell_type": "code",
      "metadata": {
        "colab": {
          "base_uri": "https://localhost:8080/"
        },
        "id": "_NgGdnh-9CZY",
        "outputId": "31ca184e-b29c-453b-d81a-dacec096aaff"
      },
      "source": [
        "calcula_salario(120,8,20)"
      ],
      "execution_count": null,
      "outputs": [
        {
          "output_type": "stream",
          "name": "stdout",
          "text": [
            "Salário liquido: R$ 18528.88 \n",
            "Desconto INSS: R$ 671.12\n"
          ]
        }
      ]
    },
    {
      "cell_type": "code",
      "metadata": {
        "colab": {
          "base_uri": "https://localhost:8080/"
        },
        "id": "r3gcfTIuFSuh",
        "outputId": "ff1d7117-867d-46fc-fc06-f762361b4d23"
      },
      "source": [
        "calcula_salario(22,120)"
      ],
      "execution_count": null,
      "outputs": [
        {
          "output_type": "stream",
          "name": "stdout",
          "text": [
            "Salário liquido: R$ 20448.88 \n",
            "Desconto INSS: R$ 671.12\n"
          ]
        }
      ]
    },
    {
      "cell_type": "code",
      "metadata": {
        "colab": {
          "base_uri": "https://localhost:8080/"
        },
        "id": "XZqCEPHx_hf4",
        "outputId": "d8be8682-c2e9-461a-f2d7-75992d73be2b"
      },
      "source": [
        "funcao(1,2,0)"
      ],
      "execution_count": null,
      "outputs": [
        {
          "output_type": "execute_result",
          "data": {
            "text/plain": [
              "0.0"
            ]
          },
          "metadata": {},
          "execution_count": 49
        }
      ]
    },
    {
      "cell_type": "code",
      "metadata": {
        "id": "DtJRg38Q_ldY"
      },
      "source": [
        "def soma(x,y):\n",
        "  return x + Y"
      ],
      "execution_count": null,
      "outputs": []
    },
    {
      "cell_type": "code",
      "metadata": {
        "id": "fxhOvSLiGcO5"
      },
      "source": [
        "def soma(x,y): return x + y"
      ],
      "execution_count": null,
      "outputs": []
    },
    {
      "cell_type": "code",
      "metadata": {
        "id": "MKSoIelhHh0c"
      },
      "source": [
        "a = soma(5,7)"
      ],
      "execution_count": null,
      "outputs": []
    },
    {
      "cell_type": "code",
      "metadata": {
        "colab": {
          "base_uri": "https://localhost:8080/"
        },
        "id": "QVhhPrUmHqFc",
        "outputId": "9dd7a47a-f2b5-4aeb-8119-76ebb03774a4"
      },
      "source": [
        "type(a)"
      ],
      "execution_count": null,
      "outputs": [
        {
          "output_type": "execute_result",
          "data": {
            "text/plain": [
              "int"
            ]
          },
          "metadata": {},
          "execution_count": 76
        }
      ]
    },
    {
      "cell_type": "code",
      "metadata": {
        "id": "hc3FA_2iGm-B"
      },
      "source": [
        "resultado =lambda x, y : x + y"
      ],
      "execution_count": null,
      "outputs": []
    },
    {
      "cell_type": "code",
      "metadata": {
        "colab": {
          "base_uri": "https://localhost:8080/"
        },
        "id": "LxVG2-ZRHwyf",
        "outputId": "7e12e291-76a7-4d11-9f8c-5c03b4722d4d"
      },
      "source": [
        "type(resultado)"
      ],
      "execution_count": null,
      "outputs": [
        {
          "output_type": "execute_result",
          "data": {
            "text/plain": [
              "function"
            ]
          },
          "metadata": {},
          "execution_count": 78
        }
      ]
    },
    {
      "cell_type": "code",
      "metadata": {
        "id": "9eVdY78YGvMM"
      },
      "source": [
        "x = 5\n",
        "y = 8"
      ],
      "execution_count": null,
      "outputs": []
    },
    {
      "cell_type": "code",
      "metadata": {
        "colab": {
          "base_uri": "https://localhost:8080/"
        },
        "id": "7-Nx1AbyG09i",
        "outputId": "e956ee63-4716-41d6-a1fb-7104f21a01f3"
      },
      "source": [
        " lambda x, y :  (x + y)"
      ],
      "execution_count": null,
      "outputs": [
        {
          "output_type": "execute_result",
          "data": {
            "text/plain": [
              "<function __main__.<lambda>>"
            ]
          },
          "metadata": {},
          "execution_count": 69
        }
      ]
    },
    {
      "cell_type": "code",
      "metadata": {
        "colab": {
          "base_uri": "https://localhost:8080/"
        },
        "id": "SVtPN1tfG8Kd",
        "outputId": "1e8363a5-5ee6-42fb-bfcd-585a263a4a57"
      },
      "source": [
        "print(resultado(x,y))"
      ],
      "execution_count": null,
      "outputs": [
        {
          "output_type": "stream",
          "name": "stdout",
          "text": [
            "13\n"
          ]
        }
      ]
    },
    {
      "cell_type": "code",
      "metadata": {
        "id": "9i8GKKiZG9tw"
      },
      "source": [
        "alunos = [\"ALYSSON\", \"HENRIQUE\", \"FELIPE\", \"MARIA\"]\n",
        "\n"
      ],
      "execution_count": null,
      "outputs": []
    },
    {
      "cell_type": "code",
      "metadata": {
        "id": "ZsImUEYiJYs_"
      },
      "source": [
        "nomes_pq = list(filter(lambda x : len(x) <=5,alunos))"
      ],
      "execution_count": null,
      "outputs": []
    },
    {
      "cell_type": "code",
      "metadata": {
        "colab": {
          "base_uri": "https://localhost:8080/"
        },
        "id": "1Tz4f8VcJy1S",
        "outputId": "7db930fc-a5dd-437d-9c13-9df26313f4b9"
      },
      "source": [
        "print(nomes_pq)"
      ],
      "execution_count": null,
      "outputs": [
        {
          "output_type": "stream",
          "name": "stdout",
          "text": [
            "['MARIA']\n"
          ]
        }
      ]
    },
    {
      "cell_type": "code",
      "metadata": {
        "id": "PO8j469mJ0tC"
      },
      "source": [
        "testa = lambda x : x%2==0"
      ],
      "execution_count": null,
      "outputs": []
    },
    {
      "cell_type": "code",
      "metadata": {
        "colab": {
          "base_uri": "https://localhost:8080/"
        },
        "id": "eq0K-lEXL6eN",
        "outputId": "5aab4793-c97d-4017-a523-18358a056b3a"
      },
      "source": [
        "testa(0)"
      ],
      "execution_count": null,
      "outputs": [
        {
          "output_type": "execute_result",
          "data": {
            "text/plain": [
              "True"
            ]
          },
          "metadata": {},
          "execution_count": 90
        }
      ]
    },
    {
      "cell_type": "code",
      "metadata": {
        "colab": {
          "base_uri": "https://localhost:8080/"
        },
        "id": "E2bG8o8UL8Ru",
        "outputId": "ad21f3cf-4895-4e63-9bb9-de3c45661761"
      },
      "source": [
        "testa(6)"
      ],
      "execution_count": null,
      "outputs": [
        {
          "output_type": "execute_result",
          "data": {
            "text/plain": [
              "True"
            ]
          },
          "metadata": {},
          "execution_count": 89
        }
      ]
    },
    {
      "cell_type": "code",
      "metadata": {
        "id": "Ts-vfulGL_w-"
      },
      "source": [
        "primeira_letra = lambda palavra: palavra[0]"
      ],
      "execution_count": null,
      "outputs": []
    },
    {
      "cell_type": "code",
      "metadata": {
        "colab": {
          "base_uri": "https://localhost:8080/",
          "height": 35
        },
        "id": "2wuZNcG1MorL",
        "outputId": "ce9944cc-6955-4b07-9c29-d0d51a6b9660"
      },
      "source": [
        "primeira_letra('martelo')"
      ],
      "execution_count": null,
      "outputs": [
        {
          "output_type": "execute_result",
          "data": {
            "application/vnd.google.colaboratory.intrinsic+json": {
              "type": "string"
            },
            "text/plain": [
              "'m'"
            ]
          },
          "metadata": {},
          "execution_count": 92
        }
      ]
    },
    {
      "cell_type": "code",
      "metadata": {
        "colab": {
          "base_uri": "https://localhost:8080/"
        },
        "id": "YckBO0bDMs55",
        "outputId": "b1f6b837-d66f-4483-8c90-986b8f841398"
      },
      "source": [
        "type(primeira_letra)"
      ],
      "execution_count": null,
      "outputs": [
        {
          "output_type": "execute_result",
          "data": {
            "text/plain": [
              "function"
            ]
          },
          "metadata": {},
          "execution_count": 93
        }
      ]
    },
    {
      "cell_type": "code",
      "metadata": {
        "id": "i7UT9GItM5a-"
      },
      "source": [
        "def pri_letra(palavra):\n",
        "  return palavra[0]"
      ],
      "execution_count": null,
      "outputs": []
    },
    {
      "cell_type": "code",
      "metadata": {
        "id": "EfbGRBolNHOI"
      },
      "source": [
        "a=pri_letra('martelo')"
      ],
      "execution_count": null,
      "outputs": []
    },
    {
      "cell_type": "code",
      "metadata": {
        "colab": {
          "base_uri": "https://localhost:8080/"
        },
        "id": "1JI257m2NNUE",
        "outputId": "76113973-6568-4fee-913a-4fff38e89138"
      },
      "source": [
        "print(a)"
      ],
      "execution_count": null,
      "outputs": [
        {
          "output_type": "stream",
          "name": "stdout",
          "text": [
            "m\n"
          ]
        }
      ]
    },
    {
      "cell_type": "code",
      "metadata": {
        "id": "CP8Ue6tJNRnI"
      },
      "source": [
        "rev = lambda s: s[::-1]"
      ],
      "execution_count": null,
      "outputs": []
    },
    {
      "cell_type": "code",
      "metadata": {
        "colab": {
          "base_uri": "https://localhost:8080/",
          "height": 35
        },
        "id": "SdMNxAUANoSF",
        "outputId": "4b440f69-4dae-448d-e02b-d2645c5ef788"
      },
      "source": [
        "rev('martelo')"
      ],
      "execution_count": null,
      "outputs": [
        {
          "output_type": "execute_result",
          "data": {
            "application/vnd.google.colaboratory.intrinsic+json": {
              "type": "string"
            },
            "text/plain": [
              "'oletram'"
            ]
          },
          "metadata": {},
          "execution_count": 100
        }
      ]
    },
    {
      "cell_type": "code",
      "metadata": {
        "id": "jjk2O-vaNp18"
      },
      "source": [
        "s = 'martelo'"
      ],
      "execution_count": null,
      "outputs": []
    },
    {
      "cell_type": "code",
      "metadata": {
        "id": "HkX8WuLcNyIe",
        "outputId": "a1301797-ac8c-46e7-88eb-81383f508763",
        "colab": {
          "base_uri": "https://localhost:8080/",
          "height": 35
        }
      },
      "source": [
        "s[::-1]"
      ],
      "execution_count": null,
      "outputs": [
        {
          "output_type": "execute_result",
          "data": {
            "application/vnd.google.colaboratory.intrinsic+json": {
              "type": "string"
            },
            "text/plain": [
              "'oletram'"
            ]
          },
          "metadata": {},
          "execution_count": 102
        }
      ]
    },
    {
      "cell_type": "code",
      "metadata": {
        "id": "ddjoTkN-N0bb"
      },
      "source": [
        ""
      ],
      "execution_count": null,
      "outputs": []
    }
  ]
}