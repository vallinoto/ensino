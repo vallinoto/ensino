{
  "nbformat": 4,
  "nbformat_minor": 0,
  "metadata": {
    "colab": {
      "name": "Cópia de Exercícios aula 2.ipynb",
      "provenance": []
    },
    "kernelspec": {
      "name": "python3",
      "display_name": "Python 3"
    },
    "language_info": {
      "name": "python"
    }
  },
  "cells": [
    {
      "cell_type": "markdown",
      "metadata": {
        "id": "Z9aJrfQElOtT"
      },
      "source": [
        "Escreva um algoritmo que calcula a media de 2 números quaisquer"
      ]
    },
    {
      "cell_type": "code",
      "metadata": {
        "colab": {
          "base_uri": "https://localhost:8080/"
        },
        "id": "2tiP_LlmlIiD",
        "outputId": "5a908984-a1c5-48b3-e989-8f66456e3703"
      },
      "source": [
        "valor1 = float(input('Informe o primeiro valor: '))\n",
        "valor2 = float(input('Informe o segundo valor: '))"
      ],
      "execution_count": null,
      "outputs": [
        {
          "name": "stdout",
          "output_type": "stream",
          "text": [
            "Informe o primeiro valor: 4.2\n",
            "Informe o segundo valor: 2.2\n"
          ]
        }
      ]
    },
    {
      "cell_type": "code",
      "metadata": {
        "id": "nyJ2Jb-S-ic1"
      },
      "source": [
        "media = (valor1 + valor2) / 2"
      ],
      "execution_count": null,
      "outputs": []
    },
    {
      "cell_type": "code",
      "metadata": {
        "colab": {
          "base_uri": "https://localhost:8080/"
        },
        "id": "yub-2ZO7Ak0c",
        "outputId": "3dc24440-2b09-4c2a-f03b-38f775ce3282"
      },
      "source": [
        "type(media)"
      ],
      "execution_count": null,
      "outputs": [
        {
          "output_type": "execute_result",
          "data": {
            "text/plain": [
              "float"
            ]
          },
          "metadata": {},
          "execution_count": 13
        }
      ]
    },
    {
      "cell_type": "code",
      "metadata": {
        "colab": {
          "base_uri": "https://localhost:8080/"
        },
        "id": "757s9Yc4-1Za",
        "outputId": "dd73e4db-520b-41f8-a87f-27e85264d4db"
      },
      "source": [
        "print('O valor da média é ' + str(media))"
      ],
      "execution_count": null,
      "outputs": [
        {
          "output_type": "stream",
          "name": "stdout",
          "text": [
            "O valor da média é 3.2\n"
          ]
        }
      ]
    },
    {
      "cell_type": "markdown",
      "metadata": {
        "id": "dEVhJJ3qA7nE"
      },
      "source": [
        "Calcular o salario liquido de funcionario, considerando valor hora, quantidade de horas trabalhadas e quantos dias de trabalho."
      ]
    },
    {
      "cell_type": "code",
      "metadata": {
        "colab": {
          "base_uri": "https://localhost:8080/"
        },
        "id": "ylj_9jtGBJwC",
        "outputId": "1d5de5d2-1207-4bea-f54d-27edb0c2556b"
      },
      "source": [
        "sal_hora = float(input('Informe o valor do salario/hora: '))\n",
        "qtd_horas = float(input('Informe qtd de horas: '))\n",
        "qtd_dias = float(input('Informe qtd de dias trabalhados: '))"
      ],
      "execution_count": null,
      "outputs": [
        {
          "name": "stdout",
          "output_type": "stream",
          "text": [
            "Informe o valor do salario/hora: 3.2567\n",
            "Informe qtd de horas: 2\n",
            "Informe qtd de dias trabalhados: 10\n"
          ]
        }
      ]
    },
    {
      "cell_type": "code",
      "metadata": {
        "id": "01Y4cX1VChgV"
      },
      "source": [
        "salario = sal_hora * qtd_horas * qtd_dias"
      ],
      "execution_count": null,
      "outputs": []
    },
    {
      "cell_type": "code",
      "metadata": {
        "colab": {
          "base_uri": "https://localhost:8080/"
        },
        "id": "MYeOSYxmCp83",
        "outputId": "3edab3e3-1097-41f8-c5aa-8566b1895cb6"
      },
      "source": [
        "print('Salario a receber é de R$ ' + str(round(salario,2)))"
      ],
      "execution_count": null,
      "outputs": [
        {
          "output_type": "stream",
          "name": "stdout",
          "text": [
            "Salario a receber é de R$ 65.13\n"
          ]
        }
      ]
    },
    {
      "cell_type": "markdown",
      "metadata": {
        "id": "DMsNdFgEH8vl"
      },
      "source": [
        "Testar se o valor é maior que 10"
      ]
    },
    {
      "cell_type": "code",
      "metadata": {
        "colab": {
          "base_uri": "https://localhost:8080/"
        },
        "id": "JK3mgcT5ICqq",
        "outputId": "38f07938-5bca-4c5d-edbb-5061632218ef"
      },
      "source": [
        "v1 = float(input('informe o valor: '))"
      ],
      "execution_count": null,
      "outputs": [
        {
          "name": "stdout",
          "output_type": "stream",
          "text": [
            "informe o valor: 11\n"
          ]
        }
      ]
    },
    {
      "cell_type": "code",
      "metadata": {
        "colab": {
          "base_uri": "https://localhost:8080/"
        },
        "id": "JhUFbI6aJJdj",
        "outputId": "e6a742a0-ac5a-4b9b-f53a-83a71ef762c1"
      },
      "source": [
        "if v1 <= 10:\n",
        "  print('Valor informado é menor ou igual a dez')\n",
        "else:\n",
        "  print('Maior que dez')"
      ],
      "execution_count": null,
      "outputs": [
        {
          "output_type": "stream",
          "name": "stdout",
          "text": [
            "Maior que dez\n"
          ]
        }
      ]
    },
    {
      "cell_type": "markdown",
      "metadata": {
        "id": "qIMxQIJ1KvKE"
      },
      "source": [
        "Calcular o salario liquido de funcionario, considerando valor hora, quantidade de horas trabalhadas e quantos dias de trabalho. Com os descontos do LEAO"
      ]
    },
    {
      "cell_type": "code",
      "metadata": {
        "colab": {
          "base_uri": "https://localhost:8080/"
        },
        "id": "YUjTJrpFK0fg",
        "outputId": "4a791894-e18a-4d33-b52d-fd242ac35de6"
      },
      "source": [
        "sal_hora = float(input('Informe o valor do salario/hora: '))\n",
        "qtd_horas = float(input('Informe qtd de horas: '))\n",
        "qtd_dias = float(input('Informe qtd de dias trabalhados: '))"
      ],
      "execution_count": null,
      "outputs": [
        {
          "name": "stdout",
          "output_type": "stream",
          "text": [
            "Informe o valor do salario/hora: 300\n",
            "Informe qtd de horas: 5\n",
            "Informe qtd de dias trabalhados: 10\n"
          ]
        }
      ]
    },
    {
      "cell_type": "code",
      "metadata": {
        "id": "4yod18sDLZbc"
      },
      "source": [
        "calculo_final = sal_hora * qtd_horas * qtd_dias"
      ],
      "execution_count": null,
      "outputs": []
    },
    {
      "cell_type": "code",
      "metadata": {
        "colab": {
          "base_uri": "https://localhost:8080/"
        },
        "id": "QYzOU6I1MTpW",
        "outputId": "a37ad6f2-7ee6-4dfd-95b7-10e87e162cfa"
      },
      "source": [
        "calculo_final"
      ],
      "execution_count": null,
      "outputs": [
        {
          "output_type": "execute_result",
          "data": {
            "text/plain": [
              "15000.0"
            ]
          },
          "metadata": {},
          "execution_count": 50
        }
      ]
    },
    {
      "cell_type": "code",
      "metadata": {
        "id": "xaH4ZmHbNSgp"
      },
      "source": [
        "if calculo_final <= 1903.98:\n",
        "  imposto_1 = (calculo_final*0) \n",
        "elif (calculo_final >= 1903.99) & (calculo_final<= 2826.65)  :\n",
        "  imposto_1 = (calculo_final*0.075) \n",
        "elif (calculo_final >= 2826.66) & (calculo_final<= 3751.05)  :\n",
        "  imposto_1 = (calculo_final*0.15) \n",
        "elif (calculo_final >= 3751.06) & (calculo_final<= 4664.68)  :\n",
        "  imposto_1 = (calculo_final*0.225) \n",
        "elif calculo_final >= 4664.68  :\n",
        "  imposto_1 = (calculo_final*0.275) \n",
        "else:\n",
        "  print(\"outra condição\")"
      ],
      "execution_count": null,
      "outputs": []
    },
    {
      "cell_type": "code",
      "metadata": {
        "colab": {
          "base_uri": "https://localhost:8080/"
        },
        "id": "6x7q-DwHPESd",
        "outputId": "bff748b6-f28c-4c1c-ca7c-12dcc560cb37"
      },
      "source": [
        "print(imposto_1)"
      ],
      "execution_count": null,
      "outputs": [
        {
          "output_type": "stream",
          "name": "stdout",
          "text": [
            "4125.0\n"
          ]
        }
      ]
    },
    {
      "cell_type": "code",
      "metadata": {
        "colab": {
          "base_uri": "https://localhost:8080/"
        },
        "id": "zMrSe-_mNgFL",
        "outputId": "c050ff4d-ed4d-4585-b0ef-64f0eff68f82"
      },
      "source": [
        "imposto_final = round((calculo_final - float(imposto_1)),2)\n",
        "\n",
        "print(f\"O seu imposto, baseado em sua renda de {calculo_final} será de {imposto_1} e seu salário descontado é de {imposto_final} \")"
      ],
      "execution_count": null,
      "outputs": [
        {
          "output_type": "stream",
          "name": "stdout",
          "text": [
            "O seu imposto, baseado em sua renda de 15000.0 será de 4125.0 e seu salário descontado é de 10875.0 \n"
          ]
        }
      ]
    },
    {
      "cell_type": "markdown",
      "metadata": {
        "id": "winzkbTHRHjG"
      },
      "source": [
        "Lê 3 valores e imprime o maior deles"
      ]
    },
    {
      "cell_type": "code",
      "metadata": {
        "colab": {
          "base_uri": "https://localhost:8080/"
        },
        "id": "_dGAwfOWRGxy",
        "outputId": "08fe3e0d-ba72-4183-a29b-8ad86a6b9aa4"
      },
      "source": [
        "print('Digite três valores')\n",
        "v1 = int(input())\n",
        "v2 = int(input())\n",
        "v3 = int(input())"
      ],
      "execution_count": null,
      "outputs": [
        {
          "name": "stdout",
          "output_type": "stream",
          "text": [
            "Digite três valores\n",
            "1\n",
            "3\n",
            "2\n"
          ]
        }
      ]
    },
    {
      "cell_type": "code",
      "metadata": {
        "colab": {
          "base_uri": "https://localhost:8080/"
        },
        "id": "W2p4VfKqRSrP",
        "outputId": "e212b5f2-1eea-49bd-a212-0e7d5b753975"
      },
      "source": [
        "if v1 > v2 and v1 > v3:\n",
        "  print('v1 é o maior!')\n",
        "elif v2 > v1 and v2 > v3:\n",
        "  print('v2 é o maior!')\n",
        "else:\n",
        "  print('v3 é o maior!')"
      ],
      "execution_count": null,
      "outputs": [
        {
          "output_type": "stream",
          "name": "stdout",
          "text": [
            "v2 é o maior!\n"
          ]
        }
      ]
    },
    {
      "cell_type": "markdown",
      "metadata": {
        "id": "_aXPayvTS9p0"
      },
      "source": [
        "Lê 3 valores, testa se existe um par de valores em que um é o dobro do outro.\n"
      ]
    },
    {
      "cell_type": "code",
      "metadata": {
        "colab": {
          "base_uri": "https://localhost:8080/"
        },
        "id": "T2RqNLu1TGh-",
        "outputId": "872ed847-74d7-4983-e348-6a1fcd8f23c0"
      },
      "source": [
        "print('Digite três valores')\n",
        "\n",
        "v1 = int(input())\n",
        "v2 = int(input())\n",
        "v3 = int(input())"
      ],
      "execution_count": null,
      "outputs": [
        {
          "name": "stdout",
          "output_type": "stream",
          "text": [
            "Digite três valores\n",
            "4\n",
            "0\n",
            "2\n"
          ]
        }
      ]
    },
    {
      "cell_type": "code",
      "metadata": {
        "colab": {
          "base_uri": "https://localhost:8080/"
        },
        "id": "F1EWT2ihTJcx",
        "outputId": "be732dd3-def0-4b40-cbe2-c7459191f92f"
      },
      "source": [
        "if v1 == 2 * v2 :\n",
        "  print('v1 é o dobro de v2')\n",
        "elif v1 == 2 * v3:\n",
        "  print('v1 é o dobro de v3')\n",
        "elif v2 == 2 * v1:\n",
        "  print('v2 é o dobro de v1')\n",
        "elif v2 == 2 * v3:\n",
        "  print('v2 é o dobro de v3')\n",
        "elif v3 == 2 * v1:\n",
        "  print('v3 é o dobro de v1')\n",
        "elif v3 == 2 * v2:\n",
        "  print('v3 é o dobro de v2')\n",
        "else:\n",
        "  print('Ninguem é o dobro!')"
      ],
      "execution_count": null,
      "outputs": [
        {
          "output_type": "stream",
          "name": "stdout",
          "text": [
            "v1 é o dobro de v3\n"
          ]
        }
      ]
    }
  ]
}