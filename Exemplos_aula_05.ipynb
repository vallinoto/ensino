{
  "cells": [
    {
      "cell_type": "markdown",
      "metadata": {
        "id": "view-in-github",
        "colab_type": "text"
      },
      "source": [
        "<a href=\"https://colab.research.google.com/github/vallinoto/ensino/blob/main/Exemplos_aula_05.ipynb\" target=\"_parent\"><img src=\"https://colab.research.google.com/assets/colab-badge.svg\" alt=\"Open In Colab\"/></a>"
      ]
    },
    {
      "cell_type": "code",
      "execution_count": 1,
      "metadata": {
        "id": "lIYdn1woOS1n"
      },
      "outputs": [],
      "source": [
        "meses = ['jan','fev','mar','abr','mai','jun','jul','ago','set','out','nov','dez']"
      ]
    },
    {
      "cell_type": "code",
      "source": [
        "len(meses)"
      ],
      "metadata": {
        "id": "as52V6vdzeEJ",
        "outputId": "fa2ab29f-b592-477a-d6f4-c1a3a17cfd79",
        "colab": {
          "base_uri": "https://localhost:8080/"
        }
      },
      "execution_count": 2,
      "outputs": [
        {
          "output_type": "execute_result",
          "data": {
            "text/plain": [
              "12"
            ]
          },
          "metadata": {},
          "execution_count": 2
        }
      ]
    },
    {
      "cell_type": "code",
      "source": [
        "meses[0]"
      ],
      "metadata": {
        "id": "yDQZuqqazi8p",
        "outputId": "4ce848e1-bd43-434f-dc41-ec042a4510df",
        "colab": {
          "base_uri": "https://localhost:8080/",
          "height": 35
        }
      },
      "execution_count": 3,
      "outputs": [
        {
          "output_type": "execute_result",
          "data": {
            "text/plain": [
              "'jan'"
            ],
            "application/vnd.google.colaboratory.intrinsic+json": {
              "type": "string"
            }
          },
          "metadata": {},
          "execution_count": 3
        }
      ]
    },
    {
      "cell_type": "code",
      "source": [
        ""
      ],
      "metadata": {
        "id": "jOo0rKrpzoYJ",
        "outputId": "52a06298-2bd8-4769-a8f4-b444d7205546",
        "colab": {
          "base_uri": "https://localhost:8080/"
        }
      },
      "execution_count": 18,
      "outputs": [
        {
          "output_type": "execute_result",
          "data": {
            "text/plain": [
              "<function list.reverse>"
            ]
          },
          "metadata": {},
          "execution_count": 18
        }
      ]
    },
    {
      "cell_type": "code",
      "source": [
        "for i in range(9,2,-1):\n",
        "  print(i)"
      ],
      "metadata": {
        "id": "SHH4WzZn0G4-",
        "outputId": "2e996e44-0e19-4c19-e3be-e29e999ca999",
        "colab": {
          "base_uri": "https://localhost:8080/"
        }
      },
      "execution_count": 10,
      "outputs": [
        {
          "output_type": "stream",
          "name": "stdout",
          "text": [
            "9\n",
            "8\n",
            "7\n",
            "6\n",
            "5\n",
            "4\n",
            "3\n"
          ]
        }
      ]
    },
    {
      "cell_type": "code",
      "source": [
        "minha_lista = [1,1,2,2,3,'str', True]"
      ],
      "metadata": {
        "id": "lNfNq8Ww0O8A"
      },
      "execution_count": 19,
      "outputs": []
    },
    {
      "cell_type": "code",
      "source": [
        "type(minha_lista)"
      ],
      "metadata": {
        "id": "0bwZaKz_1jlT",
        "outputId": "acd1541b-bdd7-42be-cb6d-97484a4ea9f2",
        "colab": {
          "base_uri": "https://localhost:8080/"
        }
      },
      "execution_count": 20,
      "outputs": [
        {
          "output_type": "execute_result",
          "data": {
            "text/plain": [
              "list"
            ]
          },
          "metadata": {},
          "execution_count": 20
        }
      ]
    },
    {
      "cell_type": "code",
      "source": [
        "minha_lista + ['novo item']"
      ],
      "metadata": {
        "id": "ciVXQcB71mKo",
        "outputId": "a04c1f19-1774-4778-9675-3f37a4f40940",
        "colab": {
          "base_uri": "https://localhost:8080/"
        }
      },
      "execution_count": 21,
      "outputs": [
        {
          "output_type": "execute_result",
          "data": {
            "text/plain": [
              "[1, 1, 2, 2, 3, 'str', True, 'novo item']"
            ]
          },
          "metadata": {},
          "execution_count": 21
        }
      ]
    },
    {
      "cell_type": "code",
      "source": [
        "minha_lista"
      ],
      "metadata": {
        "id": "7CZ4dTIx1zW2",
        "outputId": "95dc397d-6611-4a03-8838-f22db24e2ff3",
        "colab": {
          "base_uri": "https://localhost:8080/"
        }
      },
      "execution_count": 22,
      "outputs": [
        {
          "output_type": "execute_result",
          "data": {
            "text/plain": [
              "[1, 1, 2, 2, 3, 'str', True]"
            ]
          },
          "metadata": {},
          "execution_count": 22
        }
      ]
    },
    {
      "cell_type": "code",
      "source": [
        "minha_lista += ['novo item']"
      ],
      "metadata": {
        "id": "vyfxBrW12R3H"
      },
      "execution_count": 25,
      "outputs": []
    },
    {
      "cell_type": "code",
      "source": [
        "minha_lista = minha_lista + ['novo item 2']"
      ],
      "metadata": {
        "id": "MYvPmqAL2kCO"
      },
      "execution_count": 26,
      "outputs": []
    },
    {
      "cell_type": "code",
      "source": [
        "minha_lista\n"
      ],
      "metadata": {
        "id": "B-no2wUj2maO",
        "outputId": "68434464-e64b-4400-b856-1a6c46ef701d",
        "colab": {
          "base_uri": "https://localhost:8080/"
        }
      },
      "execution_count": 27,
      "outputs": [
        {
          "output_type": "execute_result",
          "data": {
            "text/plain": [
              "[1, 1, 2, 2, 3, 'str', True, 'novo item', 'novo item', 'novo item 2']"
            ]
          },
          "metadata": {},
          "execution_count": 27
        }
      ]
    },
    {
      "cell_type": "code",
      "source": [
        "nova_lista = ['texto',1,3.5, False]"
      ],
      "metadata": {
        "id": "59hitv2O3AQG"
      },
      "execution_count": 28,
      "outputs": []
    },
    {
      "cell_type": "code",
      "source": [
        "nova_lista * 2"
      ],
      "metadata": {
        "id": "o4LGqNxH3PcV",
        "outputId": "caf1438c-5045-476e-9984-c49eb7e43072",
        "colab": {
          "base_uri": "https://localhost:8080/"
        }
      },
      "execution_count": 29,
      "outputs": [
        {
          "output_type": "execute_result",
          "data": {
            "text/plain": [
              "['texto', 1, 3.5, False, 'texto', 1, 3.5, False]"
            ]
          },
          "metadata": {},
          "execution_count": 29
        }
      ]
    },
    {
      "cell_type": "code",
      "source": [
        "lista_inteiros = [1,2,3]"
      ],
      "metadata": {
        "id": "q59rfLlp3soG"
      },
      "execution_count": 30,
      "outputs": []
    },
    {
      "cell_type": "code",
      "source": [
        "lista_inteiros * 2"
      ],
      "metadata": {
        "id": "mJf_QHGf313E",
        "outputId": "c05ae057-4daf-4cb4-ae17-2ebe015a8e64",
        "colab": {
          "base_uri": "https://localhost:8080/"
        }
      },
      "execution_count": 31,
      "outputs": [
        {
          "output_type": "execute_result",
          "data": {
            "text/plain": [
              "[1, 2, 3, 1, 2, 3]"
            ]
          },
          "metadata": {},
          "execution_count": 31
        }
      ]
    },
    {
      "cell_type": "code",
      "source": [
        "lista_inteiros"
      ],
      "metadata": {
        "id": "MKS5Zh4v36hF",
        "outputId": "6de14c61-885f-4014-f5e3-9d2cc31ad2b6",
        "colab": {
          "base_uri": "https://localhost:8080/"
        }
      },
      "execution_count": 32,
      "outputs": [
        {
          "output_type": "execute_result",
          "data": {
            "text/plain": [
              "[1, 2, 3]"
            ]
          },
          "metadata": {},
          "execution_count": 32
        }
      ]
    },
    {
      "cell_type": "code",
      "source": [
        "#como acrescentar um elemento: .append()\n",
        "lista_inteiros.append(5)"
      ],
      "metadata": {
        "id": "8cI0LNHI4Kbk"
      },
      "execution_count": 33,
      "outputs": []
    },
    {
      "cell_type": "code",
      "source": [
        "lista_inteiros"
      ],
      "metadata": {
        "id": "souDC8zA4etd",
        "outputId": "9297cb69-10fb-4605-e12f-b5b079f3d244",
        "colab": {
          "base_uri": "https://localhost:8080/"
        }
      },
      "execution_count": 34,
      "outputs": [
        {
          "output_type": "execute_result",
          "data": {
            "text/plain": [
              "[1, 2, 3, 5]"
            ]
          },
          "metadata": {},
          "execution_count": 34
        }
      ]
    },
    {
      "cell_type": "code",
      "source": [
        "#para remover um item, usamos o metodo .pop()\n",
        "lista_inteiros.pop(3)"
      ],
      "metadata": {
        "id": "fIPkE9S34g2E",
        "outputId": "7136a719-e222-4db8-8eea-332f9f6280cc",
        "colab": {
          "base_uri": "https://localhost:8080/"
        }
      },
      "execution_count": 35,
      "outputs": [
        {
          "output_type": "execute_result",
          "data": {
            "text/plain": [
              "5"
            ]
          },
          "metadata": {},
          "execution_count": 35
        }
      ]
    },
    {
      "cell_type": "code",
      "source": [
        "lista_inteiros[4]"
      ],
      "metadata": {
        "id": "G6Xnhjwm5B2v",
        "outputId": "e6b86b4f-fa74-4cc2-cb02-d983ac75bc77",
        "colab": {
          "base_uri": "https://localhost:8080/",
          "height": 165
        }
      },
      "execution_count": 41,
      "outputs": [
        {
          "output_type": "error",
          "ename": "IndexError",
          "evalue": "ignored",
          "traceback": [
            "\u001b[0;31m---------------------------------------------------------------------------\u001b[0m",
            "\u001b[0;31mIndexError\u001b[0m                                Traceback (most recent call last)",
            "\u001b[0;32m<ipython-input-41-e1eac0692d19>\u001b[0m in \u001b[0;36m<module>\u001b[0;34m()\u001b[0m\n\u001b[0;32m----> 1\u001b[0;31m \u001b[0mlista_inteiros\u001b[0m\u001b[0;34m[\u001b[0m\u001b[0;36m4\u001b[0m\u001b[0;34m]\u001b[0m\u001b[0;34m\u001b[0m\u001b[0;34m\u001b[0m\u001b[0m\n\u001b[0m",
            "\u001b[0;31mIndexError\u001b[0m: list index out of range"
          ]
        }
      ]
    },
    {
      "cell_type": "code",
      "source": [
        "lista_inteiros"
      ],
      "metadata": {
        "id": "kGiPsVg_5F-9",
        "outputId": "db1034b3-4b0f-43f0-cb01-d0cd18ba3f2e",
        "colab": {
          "base_uri": "https://localhost:8080/"
        }
      },
      "execution_count": 42,
      "outputs": [
        {
          "output_type": "execute_result",
          "data": {
            "text/plain": [
              "[1, 2, 3]"
            ]
          },
          "metadata": {},
          "execution_count": 42
        }
      ]
    },
    {
      "cell_type": "code",
      "source": [
        "#caso eu queira inverter a ordem dos elementos, usamos o metodo .reverse()\n",
        "lista_inteiros.reverse()"
      ],
      "metadata": {
        "id": "2abzSM8B5kPM"
      },
      "execution_count": 43,
      "outputs": []
    },
    {
      "cell_type": "code",
      "source": [
        "lista_inteiros"
      ],
      "metadata": {
        "id": "qjRNy35A52Lp",
        "outputId": "bad6837f-f8df-4af6-ca81-a46875b2dbad",
        "colab": {
          "base_uri": "https://localhost:8080/"
        }
      },
      "execution_count": 44,
      "outputs": [
        {
          "output_type": "execute_result",
          "data": {
            "text/plain": [
              "[3, 2, 1]"
            ]
          },
          "metadata": {},
          "execution_count": 44
        }
      ]
    },
    {
      "cell_type": "code",
      "source": [
        "lista_string = ['arvore','bananas','casa']"
      ],
      "metadata": {
        "id": "u3Wwndbw53zU"
      },
      "execution_count": 45,
      "outputs": []
    },
    {
      "cell_type": "code",
      "source": [
        "lista_string.reverse()"
      ],
      "metadata": {
        "id": "yM5Cv8HA6Kn8"
      },
      "execution_count": 47,
      "outputs": []
    },
    {
      "cell_type": "code",
      "source": [
        "lista_string"
      ],
      "metadata": {
        "id": "wg1lQuCM6MYq",
        "outputId": "2e74abd3-6678-4d5d-f405-ae805f8d119b",
        "colab": {
          "base_uri": "https://localhost:8080/"
        }
      },
      "execution_count": 48,
      "outputs": [
        {
          "output_type": "execute_result",
          "data": {
            "text/plain": [
              "['casa', 'bananas', 'arvore']"
            ]
          },
          "metadata": {},
          "execution_count": 48
        }
      ]
    },
    {
      "cell_type": "code",
      "source": [
        "#ordem dos elementos dentro da lista: .sort()\n",
        "lista_string.sort()"
      ],
      "metadata": {
        "id": "guCI0qu-6WZN"
      },
      "execution_count": 49,
      "outputs": []
    },
    {
      "cell_type": "code",
      "source": [
        "lista_string"
      ],
      "metadata": {
        "id": "rkBH761L69K7",
        "outputId": "eef11b9b-3c63-4aaf-fafa-d857a8c66a68",
        "colab": {
          "base_uri": "https://localhost:8080/"
        }
      },
      "execution_count": 50,
      "outputs": [
        {
          "output_type": "execute_result",
          "data": {
            "text/plain": [
              "['arvore', 'bananas', 'casa']"
            ]
          },
          "metadata": {},
          "execution_count": 50
        }
      ]
    },
    {
      "cell_type": "code",
      "source": [
        ""
      ],
      "metadata": {
        "id": "VBWid65O6-VE"
      },
      "execution_count": null,
      "outputs": []
    }
  ],
  "metadata": {
    "colab": {
      "name": "scratchpad",
      "provenance": [],
      "include_colab_link": true
    },
    "kernelspec": {
      "display_name": "Python 3",
      "name": "python3"
    }
  },
  "nbformat": 4,
  "nbformat_minor": 0
}