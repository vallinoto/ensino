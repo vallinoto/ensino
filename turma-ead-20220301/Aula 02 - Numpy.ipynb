{
 "cells": [
  {
   "cell_type": "markdown",
   "id": "c3a22a98-d469-4664-b1cd-20cba4d2c854",
   "metadata": {},
   "source": [
    "# Introdução ao Numpy"
   ]
  },
  {
   "cell_type": "markdown",
   "id": "e38113a6",
   "metadata": {},
   "source": [
    "**NumPy**: biblioteca de álgebra linear para Python. Quase todas as bibliotecas de Ciência de Dados acabam dependendo dela para alguma coisa.\n",
    "\n",
    "Nesse post do [StackOverflow](http://stackoverflow.com/questions/993984/why-numpy-instead-of-python-lists) tem informações sobre por que você deseja usar numpy arrays em vez de listas.\n",
    "\n",
    "O básico iremos ver aqui :)"
   ]
  },
  {
   "cell_type": "markdown",
   "id": "d7c9aed4-e2c0-4495-b5b6-250c01bfc1f3",
   "metadata": {},
   "source": [
    "## Qual a diferença entre Numpy e uma lista?"
   ]
  },
  {
   "cell_type": "code",
   "execution_count": 44,
   "id": "c9e6df05-745c-43ec-abb6-357b56391baf",
   "metadata": {},
   "outputs": [],
   "source": [
    "import numpy as np\n",
    "\n",
    "\n",
    "np.random.seed(12345)"
   ]
  },
  {
   "cell_type": "code",
   "execution_count": 2,
   "id": "618f7752-d2b4-46a9-97c4-34f1fb37c842",
   "metadata": {},
   "outputs": [],
   "source": [
    "lista_normal = list(range(1000000))\n",
    "array = np.arange(1000000)"
   ]
  },
  {
   "cell_type": "code",
   "execution_count": 4,
   "id": "9e619cb7",
   "metadata": {},
   "outputs": [
    {
     "data": {
      "text/plain": [
       "numpy.ndarray"
      ]
     },
     "execution_count": 4,
     "metadata": {},
     "output_type": "execute_result"
    }
   ],
   "source": [
    "type(array)"
   ]
  },
  {
   "cell_type": "code",
   "execution_count": 5,
   "id": "3ec4e2b9-2bd3-485e-b461-03f466bdad6b",
   "metadata": {},
   "outputs": [
    {
     "name": "stdout",
     "output_type": "stream",
     "text": [
      "CPU times: user 24.3 ms, sys: 14.6 ms, total: 38.8 ms\n",
      "Wall time: 43.6 ms\n",
      "CPU times: user 754 ms, sys: 269 ms, total: 1.02 s\n",
      "Wall time: 2.02 s\n"
     ]
    }
   ],
   "source": [
    "%time for _ in range(10): array2 = array * 2\n",
    "%time for _ in range(10): lista2 = [ x * 2 for x in lista_normal ]"
   ]
  },
  {
   "cell_type": "markdown",
   "id": "b22525ec",
   "metadata": {},
   "source": [
    "## E como podemos interagir? Através dos Métodos e Atributos."
   ]
  },
  {
   "cell_type": "code",
   "execution_count": 6,
   "id": "14503eb0",
   "metadata": {},
   "outputs": [],
   "source": [
    "# atribuindo uma lista para variavel\n",
    "lista =  [ 5, 2, 7 ]"
   ]
  },
  {
   "cell_type": "code",
   "execution_count": 7,
   "id": "55bb1a06",
   "metadata": {},
   "outputs": [
    {
     "data": {
      "text/plain": [
       "[5, 2, 7, 5, 2, 7]"
      ]
     },
     "execution_count": 7,
     "metadata": {},
     "output_type": "execute_result"
    }
   ],
   "source": [
    "lista * 2"
   ]
  },
  {
   "cell_type": "code",
   "execution_count": 8,
   "id": "31edb6e0",
   "metadata": {},
   "outputs": [
    {
     "data": {
      "text/plain": [
       "numpy.ndarray"
      ]
     },
     "execution_count": 8,
     "metadata": {},
     "output_type": "execute_result"
    }
   ],
   "source": [
    "# para converter uma lista para um numpy array, nós utilizamos a np.array\n",
    "\n",
    "lista = np.array(lista)\n",
    "type(lista)"
   ]
  },
  {
   "cell_type": "code",
   "execution_count": 10,
   "id": "ee71c99f",
   "metadata": {},
   "outputs": [
    {
     "name": "stdout",
     "output_type": "stream",
     "text": [
      "[10  4 14]\n"
     ]
    }
   ],
   "source": [
    " print(lista * 2)"
   ]
  },
  {
   "cell_type": "code",
   "execution_count": 11,
   "id": "7c92ff10",
   "metadata": {},
   "outputs": [
    {
     "ename": "TypeError",
     "evalue": "can't multiply sequence by non-int of type 'list'",
     "output_type": "error",
     "traceback": [
      "\u001b[0;31m---------------------------------------------------------------------------\u001b[0m",
      "\u001b[0;31mTypeError\u001b[0m                                 Traceback (most recent call last)",
      "\u001b[0;32m/var/folders/w8/8nq2wn8102g38ksdvyp06rs40000gn/T/ipykernel_12042/1152190293.py\u001b[0m in \u001b[0;36m<module>\u001b[0;34m\u001b[0m\n\u001b[1;32m      2\u001b[0m \u001b[0mqtdades\u001b[0m \u001b[0;34m=\u001b[0m \u001b[0;34m[\u001b[0m  \u001b[0;36m2\u001b[0m\u001b[0;34m,\u001b[0m  \u001b[0;36m8\u001b[0m\u001b[0;34m,\u001b[0m  \u001b[0;36m5\u001b[0m \u001b[0;34m]\u001b[0m\u001b[0;34m\u001b[0m\u001b[0;34m\u001b[0m\u001b[0m\n\u001b[1;32m      3\u001b[0m \u001b[0;34m\u001b[0m\u001b[0m\n\u001b[0;32m----> 4\u001b[0;31m \u001b[0mvalores\u001b[0m \u001b[0;34m*\u001b[0m \u001b[0mqtdades\u001b[0m\u001b[0;34m\u001b[0m\u001b[0;34m\u001b[0m\u001b[0m\n\u001b[0m",
      "\u001b[0;31mTypeError\u001b[0m: can't multiply sequence by non-int of type 'list'"
     ]
    }
   ],
   "source": [
    "valores = [ 10, 20, 30 ]\n",
    "qtdades = [  2,  8,  5 ]\n",
    "\n",
    "valores * qtdades"
   ]
  },
  {
   "cell_type": "code",
   "execution_count": 12,
   "id": "51a71a99",
   "metadata": {},
   "outputs": [
    {
     "data": {
      "text/plain": [
       "array([ 20, 160, 150])"
      ]
     },
     "execution_count": 12,
     "metadata": {},
     "output_type": "execute_result"
    }
   ],
   "source": [
    "valores = np.array(valores)\n",
    "qtdades = np.array(qtdades)\n",
    "\n",
    "valores * qtdades"
   ]
  },
  {
   "cell_type": "code",
   "execution_count": 13,
   "id": "30ba8c4c",
   "metadata": {},
   "outputs": [
    {
     "ename": "ValueError",
     "evalue": "operands could not be broadcast together with shapes (3,) (2,) ",
     "output_type": "error",
     "traceback": [
      "\u001b[0;31m---------------------------------------------------------------------------\u001b[0m",
      "\u001b[0;31mValueError\u001b[0m                                Traceback (most recent call last)",
      "\u001b[0;32m/var/folders/w8/8nq2wn8102g38ksdvyp06rs40000gn/T/ipykernel_12042/2427848600.py\u001b[0m in \u001b[0;36m<module>\u001b[0;34m\u001b[0m\n\u001b[1;32m      2\u001b[0m \u001b[0mconj_2\u001b[0m \u001b[0;34m=\u001b[0m \u001b[0;34m[\u001b[0m  \u001b[0;36m4\u001b[0m\u001b[0;34m,\u001b[0m  \u001b[0;36m6\u001b[0m \u001b[0;34m]\u001b[0m\u001b[0;34m\u001b[0m\u001b[0;34m\u001b[0m\u001b[0m\n\u001b[1;32m      3\u001b[0m \u001b[0;34m\u001b[0m\u001b[0m\n\u001b[0;32m----> 4\u001b[0;31m \u001b[0mnp\u001b[0m\u001b[0;34m.\u001b[0m\u001b[0marray\u001b[0m\u001b[0;34m(\u001b[0m\u001b[0mconj_1\u001b[0m\u001b[0;34m)\u001b[0m \u001b[0;34m*\u001b[0m \u001b[0mnp\u001b[0m\u001b[0;34m.\u001b[0m\u001b[0marray\u001b[0m\u001b[0;34m(\u001b[0m\u001b[0mconj_2\u001b[0m\u001b[0;34m)\u001b[0m\u001b[0;34m\u001b[0m\u001b[0;34m\u001b[0m\u001b[0m\n\u001b[0m",
      "\u001b[0;31mValueError\u001b[0m: operands could not be broadcast together with shapes (3,) (2,) "
     ]
    }
   ],
   "source": [
    "conj_1 = [  2,  8,  5 ]\n",
    "conj_2 = [  4,  6 ]\n",
    "\n",
    "np.array(conj_1) * np.array(conj_2)"
   ]
  },
  {
   "cell_type": "code",
   "execution_count": 14,
   "id": "4d7e0a25",
   "metadata": {},
   "outputs": [],
   "source": [
    "nova_lista = np.array([ 10 , 'string', True ])"
   ]
  },
  {
   "cell_type": "code",
   "execution_count": 15,
   "id": "46428159",
   "metadata": {},
   "outputs": [
    {
     "data": {
      "text/plain": [
       "numpy.ndarray"
      ]
     },
     "execution_count": 15,
     "metadata": {},
     "output_type": "execute_result"
    }
   ],
   "source": [
    "type(nova_lista)"
   ]
  },
  {
   "cell_type": "code",
   "execution_count": 16,
   "id": "001409d3",
   "metadata": {},
   "outputs": [
    {
     "data": {
      "text/plain": [
       "array(['10', 'string', 'True'], dtype='<U21')"
      ]
     },
     "execution_count": 16,
     "metadata": {},
     "output_type": "execute_result"
    }
   ],
   "source": [
    "nova_lista"
   ]
  },
  {
   "cell_type": "code",
   "execution_count": 17,
   "id": "f19a0216",
   "metadata": {},
   "outputs": [
    {
     "ename": "UFuncTypeError",
     "evalue": "ufunc 'multiply' did not contain a loop with signature matching types (dtype('<U21'), dtype('<U21')) -> dtype('<U21')",
     "output_type": "error",
     "traceback": [
      "\u001b[0;31m---------------------------------------------------------------------------\u001b[0m",
      "\u001b[0;31mUFuncTypeError\u001b[0m                            Traceback (most recent call last)",
      "\u001b[0;32m/var/folders/w8/8nq2wn8102g38ksdvyp06rs40000gn/T/ipykernel_12042/2824980998.py\u001b[0m in \u001b[0;36m<module>\u001b[0;34m\u001b[0m\n\u001b[0;32m----> 1\u001b[0;31m \u001b[0mnova_lista\u001b[0m \u001b[0;34m*\u001b[0m \u001b[0;36m2\u001b[0m\u001b[0;34m\u001b[0m\u001b[0;34m\u001b[0m\u001b[0m\n\u001b[0m",
      "\u001b[0;31mUFuncTypeError\u001b[0m: ufunc 'multiply' did not contain a loop with signature matching types (dtype('<U21'), dtype('<U21')) -> dtype('<U21')"
     ]
    }
   ],
   "source": [
    "nova_lista * 2"
   ]
  },
  {
   "cell_type": "code",
   "execution_count": 19,
   "id": "17373aa6",
   "metadata": {},
   "outputs": [
    {
     "data": {
      "text/plain": [
       "(3,)"
      ]
     },
     "execution_count": 19,
     "metadata": {},
     "output_type": "execute_result"
    }
   ],
   "source": [
    "# metódo shape que é responsável por mostrar o formato de dimensão\n",
    "valores.shape"
   ]
  },
  {
   "cell_type": "code",
   "execution_count": 20,
   "id": "3eb3b56a",
   "metadata": {},
   "outputs": [
    {
     "data": {
      "text/plain": [
       "array([[10, 20, 30],\n",
       "       [ 4,  5,  6]])"
      ]
     },
     "execution_count": 20,
     "metadata": {},
     "output_type": "execute_result"
    }
   ],
   "source": [
    "matriz = np.array([ (10,20, 30) , (4,5,6) ])\n",
    "matriz"
   ]
  },
  {
   "cell_type": "code",
   "execution_count": 21,
   "id": "69ffc754",
   "metadata": {},
   "outputs": [
    {
     "data": {
      "text/plain": [
       "(2, 3)"
      ]
     },
     "execution_count": 21,
     "metadata": {},
     "output_type": "execute_result"
    }
   ],
   "source": [
    "matriz.shape"
   ]
  },
  {
   "cell_type": "code",
   "execution_count": 22,
   "id": "0d279ab1",
   "metadata": {},
   "outputs": [
    {
     "data": {
      "text/plain": [
       "2"
      ]
     },
     "execution_count": 22,
     "metadata": {},
     "output_type": "execute_result"
    }
   ],
   "source": [
    "# a outra forma de validar a dimensao é usando o .ndim\n",
    "matriz.ndim"
   ]
  },
  {
   "cell_type": "code",
   "execution_count": 23,
   "id": "004e23ae",
   "metadata": {},
   "outputs": [
    {
     "data": {
      "text/plain": [
       "1"
      ]
     },
     "execution_count": 23,
     "metadata": {},
     "output_type": "execute_result"
    }
   ],
   "source": [
    "valores.ndim"
   ]
  },
  {
   "cell_type": "code",
   "execution_count": 34,
   "id": "e20cac33",
   "metadata": {},
   "outputs": [
    {
     "data": {
      "text/plain": [
       "75"
      ]
     },
     "execution_count": 34,
     "metadata": {},
     "output_type": "execute_result"
    }
   ],
   "source": [
    "# operacoes possiveis com obj numpy\n",
    "matriz.min()\n",
    "matriz.max()\n",
    "matriz.mean()\n",
    "matriz.std()\n",
    "matriz.cumsum()\n",
    "matriz.sum()"
   ]
  },
  {
   "cell_type": "code",
   "execution_count": 33,
   "id": "9029c95c",
   "metadata": {},
   "outputs": [
    {
     "name": "stdout",
     "output_type": "stream",
     "text": [
      "8\n",
      "6\n"
     ]
    }
   ],
   "source": [
    "# itemsize é usado para saber o tamanho em bytes do objeto\n",
    "print(matriz.itemsize)\n",
    "\n",
    "#  e o .size retorna a quantidade de elementos dentro do objeto\n",
    "\n",
    "print(matriz.size)"
   ]
  },
  {
   "cell_type": "code",
   "execution_count": 35,
   "id": "d1d7132b",
   "metadata": {},
   "outputs": [
    {
     "data": {
      "text/plain": [
       "array([10, 20, 30,  4,  5,  6])"
      ]
     },
     "execution_count": 35,
     "metadata": {},
     "output_type": "execute_result"
    }
   ],
   "source": [
    "# Reshape do objeto numpy, pega a ultima linha e joga o seu conteudo ao final da primeira lista\n",
    "matriz.reshape(-1)"
   ]
  },
  {
   "cell_type": "code",
   "execution_count": 37,
   "id": "a9372010",
   "metadata": {},
   "outputs": [
    {
     "name": "stdout",
     "output_type": "stream",
     "text": [
      "(2, 3)\n",
      "(3, 2)\n"
     ]
    }
   ],
   "source": [
    "# Trasnspor a matriz\n",
    "print(matriz.shape)\n",
    "print(matriz.T.shape)"
   ]
  },
  {
   "cell_type": "code",
   "execution_count": 40,
   "id": "d0df1a62",
   "metadata": {},
   "outputs": [
    {
     "data": {
      "text/plain": [
       "array([[10,  4],\n",
       "       [20,  5],\n",
       "       [30,  6]])"
      ]
     },
     "execution_count": 40,
     "metadata": {},
     "output_type": "execute_result"
    }
   ],
   "source": [
    "matriz_t = matriz.T\n",
    "matriz_t"
   ]
  },
  {
   "cell_type": "code",
   "execution_count": 41,
   "id": "5e71d02f",
   "metadata": {},
   "outputs": [
    {
     "data": {
      "text/plain": [
       "array([[10,  4, 20],\n",
       "       [ 5, 30,  6]])"
      ]
     },
     "execution_count": 41,
     "metadata": {},
     "output_type": "execute_result"
    }
   ],
   "source": [
    "matriz_t.reshape(2,3)"
   ]
  },
  {
   "cell_type": "code",
   "execution_count": 43,
   "id": "e3ce55d2",
   "metadata": {},
   "outputs": [
    {
     "data": {
      "text/plain": [
       "0.6654535992701277"
      ]
     },
     "execution_count": 43,
     "metadata": {},
     "output_type": "execute_result"
    }
   ],
   "source": [
    "matriz_randomica = np.random.random((5,3))\n",
    "matriz_randomica.mean()"
   ]
  },
  {
   "cell_type": "code",
   "execution_count": 45,
   "id": "82ea33c1",
   "metadata": {},
   "outputs": [
    {
     "data": {
      "text/plain": [
       "array([5, 8, 2])"
      ]
     },
     "execution_count": 45,
     "metadata": {},
     "output_type": "execute_result"
    }
   ],
   "source": [
    "lista_operacoes = np.array([5,8,2])\n",
    "lista_operacoes "
   ]
  },
  {
   "cell_type": "markdown",
   "id": "ee8dfec9",
   "metadata": {},
   "source": [
    "### Inserir e Remover elementos de um array"
   ]
  },
  {
   "cell_type": "code",
   "execution_count": 46,
   "id": "52c7aed2",
   "metadata": {},
   "outputs": [
    {
     "data": {
      "text/plain": [
       "array([10,  5,  8,  2])"
      ]
     },
     "execution_count": 46,
     "metadata": {},
     "output_type": "execute_result"
    }
   ],
   "source": [
    "lista_operacoes = np.insert(lista_operacoes,0, 10)\n",
    "lista_operacoes"
   ]
  },
  {
   "cell_type": "code",
   "execution_count": 48,
   "id": "314a6fef",
   "metadata": {},
   "outputs": [
    {
     "data": {
      "text/plain": [
       "array([10,  5])"
      ]
     },
     "execution_count": 48,
     "metadata": {},
     "output_type": "execute_result"
    }
   ],
   "source": [
    "lista_operacoes = np.delete(lista_operacoes, 2)\n",
    "lista_operacoes"
   ]
  },
  {
   "cell_type": "markdown",
   "id": "f8d9f6d7",
   "metadata": {},
   "source": [
    "### Acessando posiçoes e filtrando dados"
   ]
  },
  {
   "cell_type": "code",
   "execution_count": 49,
   "id": "1472808a",
   "metadata": {},
   "outputs": [
    {
     "data": {
      "text/plain": [
       "array([[10, 20, 30],\n",
       "       [ 4,  5,  6]])"
      ]
     },
     "execution_count": 49,
     "metadata": {},
     "output_type": "execute_result"
    }
   ],
   "source": [
    "matriz"
   ]
  },
  {
   "cell_type": "code",
   "execution_count": 50,
   "id": "239a9f8c",
   "metadata": {},
   "outputs": [
    {
     "data": {
      "text/plain": [
       "5"
      ]
     },
     "execution_count": 50,
     "metadata": {},
     "output_type": "execute_result"
    }
   ],
   "source": [
    "# retornar o numero 5 da matriz\n",
    "matriz[1][1]"
   ]
  },
  {
   "cell_type": "code",
   "execution_count": 52,
   "id": "b9e934d8",
   "metadata": {},
   "outputs": [
    {
     "data": {
      "text/plain": [
       "array([[10, 20]])"
      ]
     },
     "execution_count": 52,
     "metadata": {},
     "output_type": "execute_result"
    }
   ],
   "source": [
    "matriz[ :1 , :2 ]"
   ]
  },
  {
   "cell_type": "code",
   "execution_count": 54,
   "id": "17e597dc",
   "metadata": {},
   "outputs": [
    {
     "data": {
      "text/plain": [
       "array([[ True,  True,  True],\n",
       "       [False, False,  True]])"
      ]
     },
     "execution_count": 54,
     "metadata": {},
     "output_type": "execute_result"
    }
   ],
   "source": [
    "matriz > 5"
   ]
  },
  {
   "cell_type": "code",
   "execution_count": 55,
   "id": "316da53c",
   "metadata": {},
   "outputs": [
    {
     "data": {
      "text/plain": [
       "array([10, 20, 30,  6])"
      ]
     },
     "execution_count": 55,
     "metadata": {},
     "output_type": "execute_result"
    }
   ],
   "source": [
    "matriz[ matriz > 5 ]"
   ]
  },
  {
   "cell_type": "code",
   "execution_count": 56,
   "id": "d640d324",
   "metadata": {},
   "outputs": [
    {
     "data": {
      "text/plain": [
       "array(['maria', 'joao', 'pedro', 'maria', 'carlos'], dtype='<U6')"
      ]
     },
     "execution_count": 56,
     "metadata": {},
     "output_type": "execute_result"
    }
   ],
   "source": [
    "#Filtrando elementos\n",
    "nomes = np.array([\n",
    "    'maria','joao', 'pedro', 'maria', 'carlos'\n",
    "])\n",
    "\n",
    "nomes"
   ]
  },
  {
   "cell_type": "code",
   "execution_count": 57,
   "id": "021612f7",
   "metadata": {},
   "outputs": [
    {
     "data": {
      "text/plain": [
       "array([False,  True, False, False, False])"
      ]
     },
     "execution_count": 57,
     "metadata": {},
     "output_type": "execute_result"
    }
   ],
   "source": [
    "nomes == 'joao'\n"
   ]
  },
  {
   "cell_type": "code",
   "execution_count": 58,
   "id": "dd7eadfb",
   "metadata": {},
   "outputs": [
    {
     "data": {
      "text/plain": [
       "array([False,  True,  True, False,  True])"
      ]
     },
     "execution_count": 58,
     "metadata": {},
     "output_type": "execute_result"
    }
   ],
   "source": [
    "nomes != 'maria'"
   ]
  },
  {
   "cell_type": "code",
   "execution_count": 59,
   "id": "57be3cdd",
   "metadata": {},
   "outputs": [
    {
     "data": {
      "text/plain": [
       "array(['joao', 'pedro', 'carlos'], dtype='<U6')"
      ]
     },
     "execution_count": 59,
     "metadata": {},
     "output_type": "execute_result"
    }
   ],
   "source": [
    "nomes[ nomes != 'maria' ]"
   ]
  },
  {
   "cell_type": "code",
   "execution_count": 60,
   "id": "85567334",
   "metadata": {},
   "outputs": [
    {
     "data": {
      "text/plain": [
       "array([[0., 0., 0.],\n",
       "       [0., 0., 0.],\n",
       "       [0., 0., 0.]])"
      ]
     },
     "execution_count": 60,
     "metadata": {},
     "output_type": "execute_result"
    }
   ],
   "source": [
    "# Tipos de matrizes que viámos em aula\n",
    "# matriz de zeros\n",
    "np.zeros((3,3))"
   ]
  },
  {
   "cell_type": "code",
   "execution_count": 61,
   "id": "55692127",
   "metadata": {},
   "outputs": [
    {
     "data": {
      "text/plain": [
       "array([1., 1., 1., 1.])"
      ]
     },
     "execution_count": 61,
     "metadata": {},
     "output_type": "execute_result"
    }
   ],
   "source": [
    "# matriz de numeros 1\n",
    "np.ones(4)"
   ]
  },
  {
   "cell_type": "code",
   "execution_count": 63,
   "id": "85dcf226",
   "metadata": {},
   "outputs": [
    {
     "data": {
      "text/plain": [
       "array([[1., 0., 0., 0., 0.],\n",
       "       [0., 1., 0., 0., 0.],\n",
       "       [0., 0., 1., 0., 0.],\n",
       "       [0., 0., 0., 1., 0.],\n",
       "       [0., 0., 0., 0., 1.]])"
      ]
     },
     "execution_count": 63,
     "metadata": {},
     "output_type": "execute_result"
    }
   ],
   "source": [
    "#matriz identidade\n",
    "np.eye(5)"
   ]
  },
  {
   "cell_type": "code",
   "execution_count": 64,
   "id": "eb4eece6",
   "metadata": {},
   "outputs": [
    {
     "data": {
      "text/plain": [
       "array([10., 20., 30., 40., 50.])"
      ]
     },
     "execution_count": 64,
     "metadata": {},
     "output_type": "execute_result"
    }
   ],
   "source": [
    "# array com o mesmo espaçamento entre os elementos\n",
    "np.linspace(10,50,5)"
   ]
  },
  {
   "cell_type": "code",
   "execution_count": 68,
   "id": "d3d34e55",
   "metadata": {},
   "outputs": [
    {
     "data": {
      "text/plain": [
       "array([10., 30., 50.])"
      ]
     },
     "execution_count": 68,
     "metadata": {},
     "output_type": "execute_result"
    }
   ],
   "source": [
    "np.linspace(10,50,3)"
   ]
  },
  {
   "cell_type": "code",
   "execution_count": null,
   "id": "89d76f9f",
   "metadata": {},
   "outputs": [],
   "source": []
  }
 ],
 "metadata": {
  "kernelspec": {
   "display_name": "Python 3 (ipykernel)",
   "language": "python",
   "name": "python3"
  },
  "language_info": {
   "codemirror_mode": {
    "name": "ipython",
    "version": 3
   },
   "file_extension": ".py",
   "mimetype": "text/x-python",
   "name": "python",
   "nbconvert_exporter": "python",
   "pygments_lexer": "ipython3",
   "version": "3.9.7"
  }
 },
 "nbformat": 4,
 "nbformat_minor": 5
}
