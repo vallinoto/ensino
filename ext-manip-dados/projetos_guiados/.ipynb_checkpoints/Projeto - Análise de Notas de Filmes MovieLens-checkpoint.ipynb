{
 "cells": [
  {
   "cell_type": "markdown",
   "id": "d731db2b",
   "metadata": {},
   "source": [
    "# Projeto - Análise de Notas de Filmes MovieLens"
   ]
  },
  {
   "cell_type": "markdown",
   "id": "3158463a",
   "metadata": {},
   "source": [
    "## Objetivo"
   ]
  },
  {
   "cell_type": "markdown",
   "id": "320c9abf",
   "metadata": {},
   "source": [
    "Você atua no departamento de análise de dados em um Estúdio de Gravações Cinematográficas. O time de gestores(as) precisa de algumas informações sobre os votos do público a cerca dos últimos filmes. Existe uma pressão dos acionistas para que os próximos lançamentos tenham notas altas e uma aceitação grande pelo público geral.\n",
    "\n",
    "Assim, com base nos registros disponibilizados, você terá que responder as seguintes perguntas:"
   ]
  },
  {
   "cell_type": "markdown",
   "id": "0f48f19c",
   "metadata": {},
   "source": [
    "**Perguntas**\n",
    "\n",
    "   1. Quantos filmes por gênero estamos incluindo nesse levantamento?\n",
    "   2. Quais são os títulos com maiores notas de avaliação pelo público?\n",
    "   3. Qual a média de votos por filme?\n",
    "   4. Filmes possuem nota superior a qual valor? Qual o percentual?\n",
    "   5. Quantos filmes por gênero estamos incluindo nesse levantamento?\n",
    "   6. Qual a popularidade dos filmes, considerando como regra o número de votos dividido pelo número de filmes?\n",
    "   7. Quais os gêneros mais indicados para investir, considerando a audiência? Se olhar as notas, ainda seriam esses os filmes?"
   ]
  },
  {
   "cell_type": "markdown",
   "id": "373da6e2",
   "metadata": {},
   "source": [
    "**Dados:**\n",
    "\n",
    "- https://raw.githubusercontent.com/vallinoto/ensino/main/ext-manip-dados/aulas/dados/movies.csv\n",
    "- https://github.com/vallinoto/ensino/blob/main/ext-manip-dados/aulas/dados/ratings.csv"
   ]
  },
  {
   "cell_type": "code",
   "execution_count": null,
   "id": "f9645757",
   "metadata": {},
   "outputs": [],
   "source": [
    "import warnings\n",
    "warnings.filterwarnings('ignore')"
   ]
  },
  {
   "cell_type": "code",
   "execution_count": null,
   "id": "18831cef",
   "metadata": {},
   "outputs": [],
   "source": []
  }
 ],
 "metadata": {
  "kernelspec": {
   "display_name": "Python 3 (ipykernel)",
   "language": "python",
   "name": "python3"
  },
  "language_info": {
   "codemirror_mode": {
    "name": "ipython",
    "version": 3
   },
   "file_extension": ".py",
   "mimetype": "text/x-python",
   "name": "python",
   "nbconvert_exporter": "python",
   "pygments_lexer": "ipython3",
   "version": "3.8.8"
  }
 },
 "nbformat": 4,
 "nbformat_minor": 5
}
