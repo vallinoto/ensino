{
 "cells": [
  {
   "cell_type": "code",
   "execution_count": 1,
   "id": "f983361c",
   "metadata": {},
   "outputs": [],
   "source": [
    "import re"
   ]
  },
  {
   "cell_type": "markdown",
   "id": "5c4e21ae",
   "metadata": {},
   "source": [
    "Métodos mais utilizados:\n",
    "* .match()\n",
    "* .search()\n",
    "* .findall()\n",
    "* .sub()\n",
    "* .compile()"
   ]
  },
  {
   "cell_type": "code",
   "execution_count": 10,
   "id": "e05bfaea",
   "metadata": {},
   "outputs": [
    {
     "name": "stdout",
     "output_type": "stream",
     "text": [
      "<re.Match object; span=(0, 5), match='Minha'>\n"
     ]
    }
   ],
   "source": [
    "resultado = re.match(r'Minha', 'Minha terra tem palmeiras onde cantam o sabiá.')\n",
    "print(resultado)"
   ]
  },
  {
   "cell_type": "code",
   "execution_count": 4,
   "id": "3876145a",
   "metadata": {},
   "outputs": [
    {
     "name": "stdout",
     "output_type": "stream",
     "text": [
      "Minha\n"
     ]
    }
   ],
   "source": [
    "print(resultado.group(0))"
   ]
  },
  {
   "cell_type": "code",
   "execution_count": 5,
   "id": "0d6a4afb",
   "metadata": {},
   "outputs": [
    {
     "ename": "IndexError",
     "evalue": "no such group",
     "output_type": "error",
     "traceback": [
      "\u001b[0;31m---------------------------------------------------------------------------\u001b[0m",
      "\u001b[0;31mIndexError\u001b[0m                                Traceback (most recent call last)",
      "\u001b[0;32m/var/folders/w8/8nq2wn8102g38ksdvyp06rs40000gn/T/ipykernel_46026/725710546.py\u001b[0m in \u001b[0;36m<module>\u001b[0;34m\u001b[0m\n\u001b[0;32m----> 1\u001b[0;31m \u001b[0mprint\u001b[0m\u001b[0;34m(\u001b[0m\u001b[0mresultado\u001b[0m\u001b[0;34m.\u001b[0m\u001b[0mgroup\u001b[0m\u001b[0;34m(\u001b[0m\u001b[0;36m1\u001b[0m\u001b[0;34m)\u001b[0m\u001b[0;34m)\u001b[0m\u001b[0;34m\u001b[0m\u001b[0;34m\u001b[0m\u001b[0m\n\u001b[0m",
      "\u001b[0;31mIndexError\u001b[0m: no such group"
     ]
    }
   ],
   "source": [
    "print(resultado.group(1))"
   ]
  },
  {
   "cell_type": "code",
   "execution_count": 9,
   "id": "fdb1da3a",
   "metadata": {},
   "outputs": [
    {
     "name": "stdout",
     "output_type": "stream",
     "text": [
      "None\n"
     ]
    }
   ],
   "source": [
    "resultado2 = re.match(r'Minhas', 'Minha terra tem palmeiras onde cantam o sabiá.')\n",
    "print(resultado2)"
   ]
  },
  {
   "cell_type": "code",
   "execution_count": 12,
   "id": "3eaa4bc8",
   "metadata": {},
   "outputs": [
    {
     "data": {
      "text/plain": [
       "5"
      ]
     },
     "execution_count": 12,
     "metadata": {},
     "output_type": "execute_result"
    }
   ],
   "source": [
    "resultado.end()"
   ]
  },
  {
   "cell_type": "code",
   "execution_count": 14,
   "id": "2ed3a5f0",
   "metadata": {},
   "outputs": [
    {
     "name": "stdout",
     "output_type": "stream",
     "text": [
      "<re.Match object; span=(6, 11), match='terra'>\n"
     ]
    }
   ],
   "source": [
    "pesquisa = re.search(r'terra', 'Minha terra tem palmeiras onde cantam o sabiá.')\n",
    "print(pesquisa)"
   ]
  },
  {
   "cell_type": "code",
   "execution_count": 17,
   "id": "4d864c96",
   "metadata": {},
   "outputs": [
    {
     "name": "stdout",
     "output_type": "stream",
     "text": [
      "['ABC', 'ABC']\n"
     ]
    }
   ],
   "source": [
    "pesquisa2 = re.findall(r'ABC', 'ABC é diferente de CBA, mas ABC são as primeiras letras do alfabeto')\n",
    "print(pesquisa2)"
   ]
  },
  {
   "cell_type": "code",
   "execution_count": 28,
   "id": "948322cf",
   "metadata": {},
   "outputs": [
    {
     "name": "stdout",
     "output_type": "stream",
     "text": [
      "['ABC', 'ABC']\n"
     ]
    }
   ],
   "source": [
    "padrao = re.compile('AB+.')\n",
    "texto = 'ABC é diferente de CBA, mas ABC são as primeiras letras do alfabeto'\n",
    "pesquisa3 = padrao.findall(texto)\n",
    "print(pesquisa3)"
   ]
  },
  {
   "cell_type": "code",
   "execution_count": 29,
   "id": "a839815d",
   "metadata": {},
   "outputs": [
    {
     "data": {
      "text/plain": [
       "['ABC', 'ABC']"
      ]
     },
     "execution_count": 29,
     "metadata": {},
     "output_type": "execute_result"
    }
   ],
   "source": [
    "padrao2 = 'AB+.'\n",
    "pesq = re.findall(padrao2, texto)\n",
    "pesq"
   ]
  },
  {
   "cell_type": "code",
   "execution_count": 31,
   "id": "95e5dc24",
   "metadata": {},
   "outputs": [
    {
     "data": {
      "text/plain": [
       "'ABC é diferente de CBA, mas ABC são as primeiras letras do alfabeto'"
      ]
     },
     "execution_count": 31,
     "metadata": {},
     "output_type": "execute_result"
    }
   ],
   "source": [
    "variavel = re.sub(r'DEF', 'ABC', re.sub(r'ABC', 'DEF', texto))\n",
    "variavel"
   ]
  },
  {
   "cell_type": "code",
   "execution_count": null,
   "id": "b9c503da",
   "metadata": {},
   "outputs": [],
   "source": []
  }
 ],
 "metadata": {
  "kernelspec": {
   "display_name": "Python 3 (ipykernel)",
   "language": "python",
   "name": "python3"
  },
  "language_info": {
   "codemirror_mode": {
    "name": "ipython",
    "version": 3
   },
   "file_extension": ".py",
   "mimetype": "text/x-python",
   "name": "python",
   "nbconvert_exporter": "python",
   "pygments_lexer": "ipython3",
   "version": "3.9.7"
  }
 },
 "nbformat": 4,
 "nbformat_minor": 5
}
