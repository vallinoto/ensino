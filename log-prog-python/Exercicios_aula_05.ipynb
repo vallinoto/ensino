{
  "nbformat": 4,
  "nbformat_minor": 0,
  "metadata": {
    "colab": {
      "name": "Cópia de Exercícios Aula 05.ipynb",
      "provenance": [],
      "collapsed_sections": []
    },
    "kernelspec": {
      "name": "python3",
      "display_name": "Python 3"
    },
    "language_info": {
      "name": "python"
    }
  },
  "cells": [
    {
      "cell_type": "markdown",
      "metadata": {
        "id": "OyTmWrxtXYG-"
      },
      "source": [
        ""
      ]
    },
    {
      "cell_type": "markdown",
      "metadata": {
        "id": "FCjv5Zb2JfT2"
      },
      "source": [
        "Contar palavras, gerar dicionar e ordenar"
      ]
    },
    {
      "cell_type": "code",
      "metadata": {
        "id": "hXo1bRZyPRcj"
      },
      "source": [
        "frase = '''Ouviram do Ipiranga as margens plácidas De um povo heroico o brado retumbante E o Sol da liberdade, em raios fúlgidos Brilhou no céu da pátria nesse instante'''"
      ],
      "execution_count": null,
      "outputs": []
    },
    {
      "cell_type": "code",
      "metadata": {
        "id": "m0AdS00XUHMo"
      },
      "source": [
        "lista_palavras = frase.split()"
      ],
      "execution_count": null,
      "outputs": []
    },
    {
      "cell_type": "code",
      "metadata": {
        "colab": {
          "base_uri": "https://localhost:8080/"
        },
        "id": "wO0_WgMHNop1",
        "outputId": "a61b8b1c-94ae-490d-b183-89bf8b7f5974"
      },
      "source": [
        "dicio = {}\n",
        "palavras_pesquisa = list(set(lista_palavras))\n",
        "print(palavras_pesquisa)"
      ],
      "execution_count": null,
      "outputs": [
        {
          "output_type": "stream",
          "name": "stdout",
          "text": [
            "['céu', 'da', 'nesse', 'no', 'De', 'retumbante', 'pátria', 'do', 'instante', 'em', 'povo', 'E', 'as', 'Sol', 'liberdade,', 'Ouviram', 'brado', 'margens', 'raios', 'fúlgidos', 'o', 'Brilhou', 'plácidas', 'heroico', 'Ipiranga', 'um']\n"
          ]
        }
      ]
    },
    {
      "cell_type": "code",
      "metadata": {
        "colab": {
          "base_uri": "https://localhost:8080/"
        },
        "id": "lwA1HqQ_N4EN",
        "outputId": "ac627b85-eeb5-4aa4-b600-6681b9b2dba3"
      },
      "source": [
        "for palavra in palavras_pesquisa:\n",
        "  dicio[palavra] = lista_palavras.count(palavra)\n"
      ],
      "execution_count": null,
      "outputs": [
        {
          "output_type": "stream",
          "name": "stdout",
          "text": [
            "{'céu': 1, 'da': 2, 'nesse': 1, 'no': 1, 'De': 1, 'retumbante': 1, 'pátria': 1, 'do': 1, 'instante': 1, 'em': 1, 'povo': 1, 'E': 1, 'as': 1, 'Sol': 1, 'liberdade,': 1, 'Ouviram': 1, 'brado': 1, 'margens': 1, 'raios': 1, 'fúlgidos': 1, 'o': 2, 'Brilhou': 1, 'plácidas': 1, 'heroico': 1, 'Ipiranga': 1, 'um': 1}\n"
          ]
        }
      ]
    },
    {
      "cell_type": "code",
      "metadata": {
        "id": "o8aIJsCrOfjy"
      },
      "source": [
        "for chave, item in dicio.items():\n",
        "  if chave in dicio_ordenado[0:5]:\n",
        "    print(chave, \" : \", item)"
      ],
      "execution_count": null,
      "outputs": []
    },
    {
      "cell_type": "code",
      "metadata": {
        "id": "BRs2X6T_aWu2"
      },
      "source": [
        "lista_final = (sorted(dicio.items(), key=lambda x: x[1], reverse=True))"
      ],
      "execution_count": null,
      "outputs": []
    },
    {
      "cell_type": "code",
      "metadata": {
        "colab": {
          "base_uri": "https://localhost:8080/"
        },
        "id": "8Ev9rS_WbbeG",
        "outputId": "8167090f-c1e9-4465-d7c0-cb57d31db2a4"
      },
      "source": [
        "type(lista_final)"
      ],
      "execution_count": null,
      "outputs": [
        {
          "output_type": "execute_result",
          "data": {
            "text/plain": [
              "list"
            ]
          },
          "metadata": {},
          "execution_count": 63
        }
      ]
    },
    {
      "cell_type": "code",
      "metadata": {
        "id": "eNQ0r_zpdHvx",
        "outputId": "092c69a0-556f-414d-9de4-b261f2aab104",
        "colab": {
          "base_uri": "https://localhost:8080/"
        }
      },
      "source": [
        "print(lista_final[0:5])"
      ],
      "execution_count": null,
      "outputs": [
        {
          "output_type": "stream",
          "name": "stdout",
          "text": [
            "[('da', 2), ('o', 2), ('céu', 1), ('nesse', 1), ('no', 1)]\n"
          ]
        }
      ]
    },
    {
      "cell_type": "code",
      "metadata": {
        "id": "zxL_CFZpdMRI"
      },
      "source": [
        ""
      ],
      "execution_count": null,
      "outputs": []
    }
  ]
}