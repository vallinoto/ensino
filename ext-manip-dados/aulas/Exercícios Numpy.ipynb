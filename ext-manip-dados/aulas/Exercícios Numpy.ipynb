{
 "cells": [
  {
   "cell_type": "markdown",
   "id": "a7e72485",
   "metadata": {},
   "source": [
    "Ex1.: importar a biblioteca numpy"
   ]
  },
  {
   "cell_type": "code",
   "execution_count": 1,
   "id": "c45607ab",
   "metadata": {},
   "outputs": [],
   "source": [
    "import numpy as np"
   ]
  },
  {
   "cell_type": "markdown",
   "id": "35dcd337",
   "metadata": {},
   "source": [
    "Ex2.: crie uma matriz de zeros contendo 20 elementos"
   ]
  },
  {
   "cell_type": "code",
   "execution_count": 2,
   "id": "10d283aa",
   "metadata": {},
   "outputs": [
    {
     "data": {
      "text/plain": [
       "array([0., 0., 0., 0., 0., 0., 0., 0., 0., 0., 0., 0., 0., 0., 0., 0., 0.,\n",
       "       0., 0., 0.])"
      ]
     },
     "execution_count": 2,
     "metadata": {},
     "output_type": "execute_result"
    }
   ],
   "source": [
    "np.zeros(20)"
   ]
  },
  {
   "cell_type": "code",
   "execution_count": 3,
   "id": "49805a61",
   "metadata": {},
   "outputs": [
    {
     "data": {
      "text/plain": [
       "array([[0., 0., 0., 0., 0.],\n",
       "       [0., 0., 0., 0., 0.],\n",
       "       [0., 0., 0., 0., 0.],\n",
       "       [0., 0., 0., 0., 0.]])"
      ]
     },
     "execution_count": 3,
     "metadata": {},
     "output_type": "execute_result"
    }
   ],
   "source": [
    "np.zeros((4,5)) "
   ]
  },
  {
   "cell_type": "markdown",
   "id": "44192061",
   "metadata": {},
   "source": [
    "Ex3: criar uma matriz com 10 numeros 5"
   ]
  },
  {
   "cell_type": "code",
   "execution_count": 4,
   "id": "0c579987",
   "metadata": {},
   "outputs": [
    {
     "data": {
      "text/plain": [
       "array([5., 5., 5., 5., 5., 5., 5., 5., 5., 5.])"
      ]
     },
     "execution_count": 4,
     "metadata": {},
     "output_type": "execute_result"
    }
   ],
   "source": [
    "np.ones(10)*5"
   ]
  },
  {
   "cell_type": "markdown",
   "id": "0d41df17",
   "metadata": {},
   "source": [
    "Ex4: criar um array de inteiros de 10 até 40"
   ]
  },
  {
   "cell_type": "code",
   "execution_count": 6,
   "id": "fc5cef4e",
   "metadata": {},
   "outputs": [
    {
     "data": {
      "text/plain": [
       "array([10, 11, 12, 13, 14, 15, 16, 17, 18, 19, 20, 21, 22, 23, 24, 25, 26,\n",
       "       27, 28, 29, 30, 31, 32, 33, 34, 35, 36, 37, 38, 39, 40])"
      ]
     },
     "execution_count": 6,
     "metadata": {},
     "output_type": "execute_result"
    }
   ],
   "source": [
    "np.arange(10,41)"
   ]
  },
  {
   "cell_type": "markdown",
   "id": "0f892f47",
   "metadata": {},
   "source": [
    "Ex5: array de numeros pares de 10 até 30"
   ]
  },
  {
   "cell_type": "code",
   "execution_count": 7,
   "id": "f3315b6e",
   "metadata": {},
   "outputs": [
    {
     "data": {
      "text/plain": [
       "array([10, 12, 14, 16, 18, 20, 22, 24, 26, 28, 30])"
      ]
     },
     "execution_count": 7,
     "metadata": {},
     "output_type": "execute_result"
    }
   ],
   "source": [
    "np.arange(10,31,2)"
   ]
  },
  {
   "cell_type": "code",
   "execution_count": null,
   "id": "7cabbda7",
   "metadata": {},
   "outputs": [],
   "source": []
  }
 ],
 "metadata": {
  "kernelspec": {
   "display_name": "Python 3 (ipykernel)",
   "language": "python",
   "name": "python3"
  },
  "language_info": {
   "codemirror_mode": {
    "name": "ipython",
    "version": 3
   },
   "file_extension": ".py",
   "mimetype": "text/x-python",
   "name": "python",
   "nbconvert_exporter": "python",
   "pygments_lexer": "ipython3",
   "version": "3.8.8"
  }
 },
 "nbformat": 4,
 "nbformat_minor": 5
}
