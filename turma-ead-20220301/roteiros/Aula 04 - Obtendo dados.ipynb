{
 "cells": [
  {
   "cell_type": "markdown",
   "metadata": {},
   "source": [
    "# Obtendo e manipulando dados"
   ]
  },
  {
   "cell_type": "markdown",
   "metadata": {},
   "source": [
    "### Básico sobre pastas e arquivos"
   ]
  },
  {
   "cell_type": "markdown",
   "metadata": {},
   "source": [
    "Este módulo fornece uma maneira para interagir com o sistema operacional. \n",
    "\n",
    "- Se você quer apenas ler ou escrever um arquivo veja **open()**, \n",
    "- se você quer manipular caminhos, veja o **os.path** módulo, \n",
    "- e se você quer ler todas as linhas em todos os arquivos na linha de comando veja o **fileinput** módulo. \n",
    "- Para criar arquivos e diretórios temporários veja o **tempfile** módulo, e para manipulação de arquivos e diretórios de alto nível veja o **shutil** módulo.\n",
    "\n",
    "Vamos ver algumas operações simples."
   ]
  },
  {
   "cell_type": "markdown",
   "metadata": {},
   "source": [
    "#### os.environ \n",
    "Obter diversas informações do seu sistema e todas elas estão no formato de dicionário."
   ]
  },
  {
   "cell_type": "code",
   "execution_count": null,
   "metadata": {},
   "outputs": [],
   "source": [
    "import os\n",
    "\n",
    "\n",
    "os.environ"
   ]
  },
  {
   "cell_type": "markdown",
   "metadata": {},
   "source": [
    "#### os.getcwd()\n",
    "Obter o diretorio de trabalho atual"
   ]
  },
  {
   "cell_type": "code",
   "execution_count": null,
   "metadata": {},
   "outputs": [],
   "source": []
  },
  {
   "cell_type": "markdown",
   "metadata": {},
   "source": [
    "#### os.chdir()\n",
    "Mudar para um diretorio expecífico"
   ]
  },
  {
   "cell_type": "code",
   "execution_count": null,
   "metadata": {},
   "outputs": [],
   "source": []
  },
  {
   "cell_type": "markdown",
   "metadata": {},
   "source": [
    "#### os.mkdir()\n",
    "Cria um diretorio"
   ]
  },
  {
   "cell_type": "code",
   "execution_count": null,
   "metadata": {},
   "outputs": [],
   "source": []
  },
  {
   "cell_type": "markdown",
   "metadata": {},
   "source": [
    "#### os.listdir()\n",
    "Listar o conteúdo de um diretorio"
   ]
  },
  {
   "cell_type": "code",
   "execution_count": null,
   "metadata": {},
   "outputs": [],
   "source": []
  },
  {
   "cell_type": "markdown",
   "metadata": {},
   "source": [
    "#### os.rename()\n",
    "Renomer diretorio ou arquivo"
   ]
  },
  {
   "cell_type": "code",
   "execution_count": null,
   "metadata": {},
   "outputs": [],
   "source": []
  },
  {
   "cell_type": "markdown",
   "metadata": {},
   "source": [
    "#### os.rmdir()\n",
    "Remover o diretorio"
   ]
  },
  {
   "cell_type": "code",
   "execution_count": null,
   "metadata": {},
   "outputs": [],
   "source": []
  },
  {
   "cell_type": "markdown",
   "metadata": {},
   "source": [
    "#### Trabalhando com paths"
   ]
  },
  {
   "cell_type": "code",
   "execution_count": null,
   "metadata": {},
   "outputs": [],
   "source": []
  },
  {
   "cell_type": "markdown",
   "metadata": {},
   "source": []
  },
  {
   "cell_type": "markdown",
   "metadata": {},
   "source": [
    "### Trabalhando com arquivos JSON (retorno de APIs)"
   ]
  },
  {
   "cell_type": "markdown",
   "metadata": {},
   "source": [
    "O formato JSON é utilizado para estruturar dados em formato de texto e permitir a troca de dados entre aplicações de forma simples, leve e rápida. Por isso é tão importante saber como é estruturado e as principais diferenças com o modelo XML.\n",
    "\n",
    "JSON, que significa JavaScript Object Notation, é uma formatação utilizada para estruturar dados em formato de texto e transmiti-los de um sistema para outro, como em aplicações cliente-servidor ou em aplicativos móveis.\n",
    "\n",
    "A especificação JSON surgiu por volta do ano 2000. Atualmente, esse formato é suportado por diversos tipos de linguagem de programação, além de ser uma alternativa mais leve que o modelo XML.\n",
    "\n",
    "Os dados contidos em um arquivo no formato JSON devem ser estruturados por meio de uma coleção de pares com nome e valor ou ser uma lista ordenada de valores. Seus elementos devem conter:\n",
    "\n",
    "* chave: corresponde ao identificador do conteúdo. Por isso, deve ser uma string delimitada por aspas;\n",
    "* valor: representa o conteúdo correspondente e pode conter os seguintes tipos de dados: string, array, object, number, boolean ou null.\n",
    "\n",
    "Além da terminação .json em todos os arquivos que utilizam esse formato, os dados armazenados devem seguir uma notação específica, ou seja, precisam ser organizados com os seguintes elementos básicos:\n",
    "\n",
    "* chaves { } para delimitar os objetos e obrigatórias para iniciar e encerrar o conteúdo;\n",
    "* colchetes [ ] para indicar um array;\n",
    "* dois pontos : para separar a chave e seu valor correspondente;\n",
    "* vírgula , para indicar a separação entre os elementos\n",
    "\n",
    "Fonte: https://rockcontent.com/br/blog/json/"
   ]
  },
  {
   "cell_type": "markdown",
   "metadata": {},
   "source": [
    "Quase sempre, ao realizarmos acessos na Internet, acabamos por usar também uma outra biblioteca: a requests.\n",
    "Como diz o site oficial: Requests é uma biblioteca HTTP para Python simples e elegante, feita para seres humanos.\n",
    "\n",
    "Fonte: https://docs.python-requests.org/pt_BR/latest/user/quickstart.html"
   ]
  },
  {
   "cell_type": "markdown",
   "metadata": {},
   "source": [
    "Para podermos entender um pouco de como acessar dados desses tipos, vamos utilizar um site que disponibiliza uma API para testes. Esse site é o http://makeup-api.herokuapp.com/"
   ]
  },
  {
   "cell_type": "code",
   "execution_count": null,
   "metadata": {},
   "outputs": [],
   "source": [
    "import json\n",
    "import requests"
   ]
  },
  {
   "cell_type": "code",
   "execution_count": null,
   "metadata": {},
   "outputs": [],
   "source": [
    "brand = 'maybelline'\n",
    "url ='http://makeup-api.herokuapp.com/api/v1/products.json?brand=%s' % (brand)\n",
    "\n",
    "requisicao = requests.get(url)\n"
   ]
  },
  {
   "cell_type": "code",
   "execution_count": null,
   "metadata": {},
   "outputs": [],
   "source": [
    "requisicao.status_code"
   ]
  },
  {
   "cell_type": "code",
   "execution_count": null,
   "metadata": {},
   "outputs": [],
   "source": [
    "requisicao.text"
   ]
  },
  {
   "cell_type": "code",
   "execution_count": null,
   "metadata": {},
   "outputs": [],
   "source": [
    "dados = json.loads(requisicao.text)\n",
    "dados"
   ]
  },
  {
   "cell_type": "code",
   "execution_count": null,
   "metadata": {},
   "outputs": [],
   "source": [
    "import pandas as pd\n",
    "\n",
    "dados = pd.json_normalize(dados)"
   ]
  },
  {
   "cell_type": "code",
   "execution_count": null,
   "metadata": {},
   "outputs": [],
   "source": [
    "dados.info()"
   ]
  },
  {
   "cell_type": "code",
   "execution_count": null,
   "metadata": {},
   "outputs": [],
   "source": [
    "dados.head()"
   ]
  },
  {
   "cell_type": "markdown",
   "metadata": {},
   "source": [
    "### Coletando dados na web - Beautiful Soup"
   ]
  },
  {
   "cell_type": "markdown",
   "metadata": {},
   "source": [
    "Beautiful Soup é uma biblioteca Python de extração de dados de arquivos HTML e XML. Ela funciona com o seu interpretador (parser) favorito a fim de prover maneiras mais intuitivas de navegar, buscar e modificar uma árvore de análise (parse tree). Ela geralmente economiza horas ou dias de trabalho de programadores ao redor do mundo.\n",
    "\n",
    "\n",
    "https://www.crummy.com/software/BeautifulSoup/bs4/doc.ptbr/"
   ]
  },
  {
   "cell_type": "markdown",
   "metadata": {},
   "source": [
    "Para poder interagir com essa biblioteca e ter proveito, um básico de html ajuda muito."
   ]
  },
  {
   "cell_type": "markdown",
   "metadata": {},
   "source": [
    "#### Primeiro exemplo: Buscando a lista de capitais do Brasil por Área "
   ]
  },
  {
   "cell_type": "code",
   "execution_count": null,
   "metadata": {},
   "outputs": [],
   "source": [
    "from bs4 import BeautifulSoup"
   ]
  },
  {
   "cell_type": "code",
   "execution_count": null,
   "metadata": {},
   "outputs": [],
   "source": [
    "url = 'https://pt.wikipedia.org/wiki/Lista_de_capitais_do_Brasil_por_%C3%A1rea'\n",
    "wiki_page = requests.get(url)"
   ]
  },
  {
   "cell_type": "code",
   "execution_count": null,
   "metadata": {},
   "outputs": [],
   "source": [
    "soup = BeautifulSoup(wiki_page.text, 'html.parser')"
   ]
  },
  {
   "cell_type": "code",
   "execution_count": null,
   "metadata": {},
   "outputs": [],
   "source": [
    "tabelas_exitentes = soup.find_all('table', class_='wikitable sortable')\n",
    "tabelas_exitentes"
   ]
  },
  {
   "cell_type": "code",
   "execution_count": null,
   "metadata": {},
   "outputs": [],
   "source": [
    "tabela_capitais = soup.find('table', class_='wikitable sortable')\n",
    "tabela_capitais"
   ]
  },
  {
   "cell_type": "code",
   "execution_count": null,
   "metadata": {},
   "outputs": [],
   "source": [
    "#gerando a lista em colunas\n",
    "lista_posicao = []\n",
    "lista_estado = []\n",
    "lista_cod = []\n",
    "lista_capital = []\n",
    "lista_municipio = []\n",
    "\n",
    "for linha in tabela_capitais.findAll(\"tr\"): #para tudo que estiver em <tr>\n",
    "    celula = linha.findAll('td') #variável para encontrar <td>\n",
    "    if len(celula)==5: #número de colunas\n",
    "        lista_posicao.append(celula[0].find(text=True)) #iterando sobre cada linha\n",
    "        lista_estado.append(celula[1].find(text=True))\n",
    "        lista_cod.append(celula[2].find(text=True))\n",
    "        lista_capital.append(celula[3].find('a').text)\n",
    "        lista_municipio.append(celula[4].find(text=True))"
   ]
  },
  {
   "cell_type": "code",
   "execution_count": null,
   "metadata": {},
   "outputs": [],
   "source": [
    "df_lstMunic = pd.DataFrame(columns=['Posição'])\n",
    "\n",
    "df_lstMunic['Posição'] = lista_posicao\n",
    "df_lstMunic['Estado'] = lista_estado\n",
    "df_lstMunic['Código/IBGE'] = lista_cod\n",
    "df_lstMunic['Capital'] = lista_capital\n",
    "df_lstMunic['Área'] = lista_municipio\n",
    "\n",
    "df_lstMunic"
   ]
  },
  {
   "cell_type": "markdown",
   "metadata": {},
   "source": [
    "### Baixando arquivos"
   ]
  },
  {
   "cell_type": "code",
   "execution_count": null,
   "metadata": {},
   "outputs": [],
   "source": [
    "url = 'http://xkcd.com' # url inicial\n",
    "os.chdir(r'/home/valli/repos/ensino/turma-ead-20220301')\n",
    "os.makedirs('xkcd', exist_ok=True) # armazena as tirinhas em ./xkcd \n",
    "\n",
    "while not url.endswith('#'):\n",
    "    # Faz download da página.\n",
    "    print(f'Downloading page {url}...')\n",
    "\n",
    "    res = requests.get(url)\n",
    "\n",
    "    soup = BeautifulSoup(res.text)\n",
    "\n",
    "    # Encontra o URL da imagem da tirinha.\n",
    "    comicElem = soup.select('#comic img')\n",
    "    if comicElem == []:\n",
    "        print('Could not find comic image.')\n",
    "    else:\n",
    "        comicUrl = 'http:' + comicElem[0].get('src')\n",
    "        # Faz o download da imagem.\n",
    "        print(f'Downloading image {comicUrl}...')\n",
    "        res = requests.get(comicUrl)\n",
    "        res.raise_for_status()\n",
    "\n",
    "\n",
    "    with open(os.path.join('xkcd', os.path.basename(comicUrl)), 'wb') as imageFile:\n",
    "        for chunk in res.iter_content(100000):\n",
    "            imageFile.write(chunk)\n",
    "            \n",
    "    # Obtém o url do botão Prev. print('Done.')\n",
    "    prevLink = soup.select('a[rel=\"prev\"]')[0]\n",
    "    url = 'http://xkcd.com' + prevLink.get('href')\n",
    "print('Done')"
   ]
  },
  {
   "cell_type": "markdown",
   "metadata": {},
   "source": [
    "### Buscando salários do Glassdoor - Exemplo Leon Sólon"
   ]
  },
  {
   "cell_type": "code",
   "execution_count": null,
   "metadata": {},
   "outputs": [],
   "source": [
    "headers = { 'user-agent' : 'Mozilla/5.0' }\n",
    "url_site = 'https://www.glassdoor.com.br/Sal%C3%A1rios/cientista-de-dados-sal%C3%A1rio-SRCH_KO0,18.htm'\n",
    "\n",
    "resposta = requests.get(url_site, headers= headers)\n",
    "\n",
    "resposta.text"
   ]
  },
  {
   "cell_type": "code",
   "execution_count": null,
   "metadata": {},
   "outputs": [],
   "source": [
    "soup = BeautifulSoup(resposta.text, 'html.parser')\n",
    "soup"
   ]
  },
  {
   "cell_type": "code",
   "execution_count": null,
   "metadata": {},
   "outputs": [],
   "source": [
    "empresas = soup.find_all('h3', {'data-test' : 'salaries-list-item-0-employer-name'})\n",
    "empresas[0]"
   ]
  },
  {
   "cell_type": "code",
   "execution_count": null,
   "metadata": {},
   "outputs": [],
   "source": [
    "empresas[0].contents"
   ]
  },
  {
   "cell_type": "code",
   "execution_count": null,
   "metadata": {},
   "outputs": [],
   "source": [
    "empresas[0].contents[1].text"
   ]
  },
  {
   "cell_type": "code",
   "execution_count": null,
   "metadata": {},
   "outputs": [],
   "source": [
    "import re"
   ]
  },
  {
   "cell_type": "code",
   "execution_count": null,
   "metadata": {},
   "outputs": [],
   "source": [
    "empresas = soup.find_all('h3', {'data-test' : re.compile('salaries-list-item-.*-employer-name')})"
   ]
  },
  {
   "cell_type": "code",
   "execution_count": null,
   "metadata": {},
   "outputs": [],
   "source": [
    "for empresa in empresas:\n",
    "    print(empresa.find('a').text)"
   ]
  },
  {
   "cell_type": "code",
   "execution_count": null,
   "metadata": {},
   "outputs": [],
   "source": [
    "salarios = soup.find_all('div', {'data-test' : re.compile('salaries-list-item-.*-salary-info')})"
   ]
  },
  {
   "cell_type": "code",
   "execution_count": null,
   "metadata": {},
   "outputs": [],
   "source": [
    "salarios"
   ]
  },
  {
   "cell_type": "code",
   "execution_count": null,
   "metadata": {},
   "outputs": [],
   "source": [
    "dados_salariais = []\n",
    "for empresa, salario in zip(empresas,salarios):\n",
    "    nome_empresa = (empresa.find('a').text)\n",
    "    salario_empresa = (salario.find('h3').text.replace('.','').replace('R$\\xa0', ''))\n",
    "\n",
    "    dados_salariais.append((nome_empresa, salario_empresa))"
   ]
  },
  {
   "cell_type": "code",
   "execution_count": null,
   "metadata": {},
   "outputs": [],
   "source": [
    "dados_salariais\n",
    "df = pd.DataFrame(dados_salariais, columns=['Empresa','Salario'])\n",
    "df"
   ]
  },
  {
   "cell_type": "code",
   "execution_count": null,
   "metadata": {},
   "outputs": [],
   "source": []
  }
 ],
 "metadata": {
  "interpreter": {
   "hash": "6e1c7d867d5457a70db5fd6b606d33d67ac6352f618da3405722c186644ec903"
  },
  "kernelspec": {
   "display_name": "Python 3.9.7 ('base')",
   "language": "python",
   "name": "python3"
  },
  "language_info": {
   "codemirror_mode": {
    "name": "ipython",
    "version": 3
   },
   "file_extension": ".py",
   "mimetype": "text/x-python",
   "name": "python",
   "nbconvert_exporter": "python",
   "pygments_lexer": "ipython3",
   "version": "3.9.7"
  },
  "orig_nbformat": 4
 },
 "nbformat": 4,
 "nbformat_minor": 2
}
