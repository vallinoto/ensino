{
  "cells": [
    {
      "cell_type": "markdown",
      "metadata": {
        "id": "M2GVqGN3VIEf"
      },
      "source": [
        "#Ex01\n",
        "\n",
        "Crie uma lista de 3 elementos e calcule a terceira potência de cada elemento."
      ]
    },
    {
      "cell_type": "code",
      "execution_count": null,
      "metadata": {
        "id": "DwbpX76ETtg8"
      },
      "outputs": [],
      "source": [
        "list1 = [3,4,5]"
      ]
    },
    {
      "cell_type": "code",
      "execution_count": null,
      "metadata": {
        "colab": {
          "base_uri": "https://localhost:8080/"
        },
        "id": "iRX-vTyfI1um",
        "outputId": "f5a003d6-b1c9-4844-9c39-f97891c14c6e"
      },
      "outputs": [
        {
          "name": "stdout",
          "output_type": "stream",
          "text": [
            "[27, 64, 125]\n"
          ]
        }
      ],
      "source": [
        "list2 = [ item ** 3 for item in list1 ]\n",
        "print(list2)"
      ]
    },
    {
      "cell_type": "markdown",
      "metadata": {
        "id": "LhSGMFpZVSRA"
      },
      "source": [
        "#Ex02\n",
        "\n",
        "Reescreva o código abaixo, usando a função map(). O resultado final deve ser o mesmo!"
      ]
    },
    {
      "cell_type": "code",
      "execution_count": null,
      "metadata": {
        "colab": {
          "base_uri": "https://localhost:8080/"
        },
        "id": "KPGqn6JSTtVN",
        "outputId": "ec3612c2-2471-405c-b269-8491cd9be970"
      },
      "outputs": [
        {
          "name": "stdout",
          "output_type": "stream",
          "text": [
            "['MINHA', 'minha', 5]\n",
            "['TERRA', 'terra', 5]\n",
            "['TEM', 'tem', 3]\n",
            "['PALMEIRAS', 'palmeiras', 9]\n",
            "['ONDE', 'onde', 4]\n",
            "['CANTA', 'canta', 5]\n",
            "['O', 'o', 1]\n",
            "['SABIÁ,', 'sabiá,', 6]\n",
            "['AS', 'as', 2]\n",
            "['AVES,', 'aves,', 5]\n",
            "['QUE', 'que', 3]\n",
            "['AQUI', 'aqui', 4]\n",
            "['GORJEIAM,', 'gorjeiam,', 9]\n",
            "['NÃO', 'não', 3]\n",
            "['GORJEIAM', 'gorjeiam', 8]\n",
            "['COMO', 'como', 4]\n",
            "['LÁ.', 'lá.', 3]\n"
          ]
        }
      ],
      "source": [
        "palavras = 'Minha terra tem palmeiras onde canta o Sabiá, As aves, que aqui gorjeiam, Não gorjeiam como lá.'.split()\n",
        "\n",
        "resultado = [[w.upper(), w.lower(), len(w)] for w in palavras]\n",
        "\n",
        "for i in resultado:\n",
        "    print (i)"
      ]
    },
    {
      "cell_type": "code",
      "execution_count": null,
      "metadata": {
        "colab": {
          "base_uri": "https://localhost:8080/"
        },
        "id": "__xw21NLJ2W0",
        "outputId": "78ad53fd-1fa0-4ce1-b53c-3383fde8a045"
      },
      "outputs": [
        {
          "name": "stdout",
          "output_type": "stream",
          "text": [
            "['MINHA', 'minha', 5]\n",
            "['TERRA', 'terra', 5]\n",
            "['TEM', 'tem', 3]\n",
            "['PALMEIRAS', 'palmeiras', 9]\n",
            "['ONDE', 'onde', 4]\n",
            "['CANTA', 'canta', 5]\n",
            "['O', 'o', 1]\n",
            "['SABIÁ,', 'sabiá,', 6]\n",
            "['AS', 'as', 2]\n",
            "['AVES,', 'aves,', 5]\n",
            "['QUE', 'que', 3]\n",
            "['AQUI', 'aqui', 4]\n",
            "['GORJEIAM,', 'gorjeiam,', 9]\n",
            "['NÃO', 'não', 3]\n",
            "['GORJEIAM', 'gorjeiam', 8]\n",
            "['COMO', 'como', 4]\n",
            "['LÁ.', 'lá.', 3]\n"
          ]
        }
      ],
      "source": [
        "resultado = map( lambda w : [w.upper(), w.lower(), len(w)], palavras )\n",
        "for i in resultado:\n",
        "  print(i)"
      ]
    },
    {
      "cell_type": "code",
      "execution_count": null,
      "metadata": {
        "id": "6jmR2NVxKg5L"
      },
      "outputs": [],
      "source": [
        "palavras = 'Minha terra tem palmeiras onde canta o Sabiá, As aves, que aqui gorjeiam, Não gorjeiam como lá.'.split()"
      ]
    },
    {
      "cell_type": "code",
      "execution_count": null,
      "metadata": {
        "colab": {
          "base_uri": "https://localhost:8080/"
        },
        "id": "LvG3Ii9vKi-q",
        "outputId": "fb2ef9f8-3f3d-4bfe-8d0c-546279d4f000"
      },
      "outputs": [
        {
          "data": {
            "text/plain": [
              "list"
            ]
          },
          "execution_count": 7,
          "metadata": {},
          "output_type": "execute_result"
        }
      ],
      "source": [
        "type(palavras)"
      ]
    },
    {
      "cell_type": "markdown",
      "metadata": {
        "id": "63l23g4SVd1_"
      },
      "source": [
        "#Ex03\n",
        "Crie duas funções, uma para elevar um número ao quadrado e outra para elevar ao cubo. \n",
        "Aplique as duas funções aos elementos da lista abaixo. \n",
        "\n",
        "Obs: as duas funções devem ser aplicadas simultaneamente."
      ]
    },
    {
      "cell_type": "code",
      "execution_count": null,
      "metadata": {
        "id": "kvnTPLzjTkB_"
      },
      "outputs": [],
      "source": [
        "lista = [0, 1, 2, 3, 4]"
      ]
    },
    {
      "cell_type": "code",
      "execution_count": null,
      "metadata": {
        "id": "aO0Pr_E0OsA9"
      },
      "outputs": [],
      "source": [
        "# funcao para quadrado de um nro qq\n",
        "def aoquadrado(x):\n",
        "  return (x**2)\n",
        "\n",
        "\n",
        "# funcao para o cubo de um nro qq\n",
        "def aocubo(x):\n",
        "  return (x**3)"
      ]
    },
    {
      "cell_type": "code",
      "execution_count": null,
      "metadata": {
        "colab": {
          "base_uri": "https://localhost:8080/"
        },
        "id": "8BmVRPD7PAi3",
        "outputId": "b3be3744-346b-44d0-fffe-8f7f35378fbc"
      },
      "outputs": [
        {
          "name": "stdout",
          "output_type": "stream",
          "text": [
            "[0, 0]\n",
            "[1, 1]\n",
            "[4, 8]\n",
            "[9, 27]\n",
            "[16, 64]\n"
          ]
        }
      ],
      "source": [
        "# variavel do tipo lista, que vai receber o nome das funcoes que queremos executar\n",
        "funcs = [aoquadrado, aocubo]\n",
        "\n",
        "# iterando sobre a minha lista de valores \n",
        "for item in lista: #pegando cada item\n",
        "  valor = map(lambda y: y(item), funcs) #e atribuindo para funcao map\n",
        "                                        #o map recebe uma funcao lambda que vai r\n",
        "                                        # ealizar a iteracao sobre a lista de funcoes,\n",
        "                                        #executando as operações que temos\n",
        "  print(list(valor)) #converto os valores para o tipo lista e faço a impressao"
      ]
    },
    {
      "cell_type": "markdown",
      "metadata": {
        "id": "BJUJQtWnVjKc"
      },
      "source": [
        "#Ex04\n",
        "Usando a função filter(), encontre os valores que são comuns às duas listas abaixo."
      ]
    },
    {
      "cell_type": "code",
      "execution_count": null,
      "metadata": {
        "id": "ZMpBalvRUy0y"
      },
      "outputs": [],
      "source": [
        "a = [1,2,3,5,7,9]\n",
        "b = [2,3,5,6,7,8]"
      ]
    },
    {
      "cell_type": "code",
      "execution_count": null,
      "metadata": {
        "colab": {
          "base_uri": "https://localhost:8080/"
        },
        "id": "40N4wjBPQtnL",
        "outputId": "26efcf55-c3bb-4074-c83f-f4b01754f850"
      },
      "outputs": [
        {
          "name": "stdout",
          "output_type": "stream",
          "text": [
            "[2, 3, 5, 7]\n"
          ]
        }
      ],
      "source": [
        "print(list(filter(lambda x: x in a, b)))"
      ]
    },
    {
      "cell_type": "markdown",
      "metadata": {
        "id": "jp2hDJ6-VpVv"
      },
      "source": [
        "#Ex05\n",
        "\n",
        "Considere os dois dicionários abaixo. \n",
        "Crie um terceiro dicionário com as chaves do dicionário 1 e os valores do dicionário 2."
      ]
    },
    {
      "cell_type": "code",
      "execution_count": null,
      "metadata": {
        "id": "HjdDp9WuUzun"
      },
      "outputs": [],
      "source": [
        "dict1 = {'a':1,'b':2}\n",
        "dict2 = {'c':4,'d':5}"
      ]
    },
    {
      "cell_type": "code",
      "execution_count": null,
      "metadata": {
        "colab": {
          "base_uri": "https://localhost:8080/"
        },
        "id": "laLqiArFZDOy",
        "outputId": "b24189be-5ecf-4786-9c7c-60ffbd8dbf35"
      },
      "outputs": [
        {
          "data": {
            "text/plain": [
              "dict_values([1, 2])"
            ]
          },
          "execution_count": 24,
          "metadata": {},
          "output_type": "execute_result"
        }
      ],
      "source": [
        "dict1.values()"
      ]
    },
    {
      "cell_type": "code",
      "execution_count": null,
      "metadata": {
        "id": "CRNK_U4eZdlr"
      },
      "outputs": [],
      "source": [
        "?zip"
      ]
    },
    {
      "cell_type": "code",
      "execution_count": null,
      "metadata": {
        "id": "BP_pexhLYHr0"
      },
      "outputs": [],
      "source": [
        "def troca_itens(d1, d2):\n",
        "  dict_temp = {}\n",
        "\n",
        "  for x, y in zip(d1,d2.values()):\n",
        "    dict_temp[x] = y\n",
        "\n",
        "  return dict_temp"
      ]
    },
    {
      "cell_type": "code",
      "execution_count": null,
      "metadata": {
        "colab": {
          "base_uri": "https://localhost:8080/"
        },
        "id": "it23IDDLY0k6",
        "outputId": "9ddba461-084c-41fc-b74f-53804ab05225"
      },
      "outputs": [
        {
          "name": "stdout",
          "output_type": "stream",
          "text": [
            "{'a': 4, 'b': 5}\n"
          ]
        }
      ],
      "source": [
        "dicionario = troca_itens(dict1, dict2)\n",
        "print(dicionario)"
      ]
    },
    {
      "cell_type": "markdown",
      "metadata": {
        "id": "xVlo-uWhVwLv"
      },
      "source": [
        "#Ex06\n",
        "\n",
        "Considere a lista abaixo e retorne apenas os elementos cujo índice for maior que 5."
      ]
    },
    {
      "cell_type": "code",
      "execution_count": null,
      "metadata": {
        "id": "mhQjx2QCVFnV"
      },
      "outputs": [],
      "source": [
        "lista = ['a', 'b', 'c', 'd', 'e', 'f', 'g', 'h']"
      ]
    },
    {
      "cell_type": "code",
      "execution_count": null,
      "metadata": {
        "id": "y_rixrwhVzGx"
      },
      "outputs": [],
      "source": [
        "?enumerate"
      ]
    },
    {
      "cell_type": "code",
      "execution_count": null,
      "metadata": {
        "colab": {
          "base_uri": "https://localhost:8080/"
        },
        "id": "Oz4UVrDwV18Q",
        "outputId": "8e6d83df-fa6a-4446-e7e3-97d5fb5d9fd8"
      },
      "outputs": [
        {
          "name": "stdout",
          "output_type": "stream",
          "text": [
            "g\n",
            "h\n"
          ]
        }
      ],
      "source": [
        "for indice, valor in enumerate(lista):\n",
        "  if indice <=5:\n",
        "    continue\n",
        "  else:\n",
        "    print(valor)"
      ]
    }
  ],
  "metadata": {
    "colab": {
      "name": "Cópia de Exercícios aula 07.ipynb",
      "provenance": []
    },
    "kernelspec": {
      "display_name": "Python 3",
      "name": "python3"
    },
    "language_info": {
      "name": "python"
    }
  },
  "nbformat": 4,
  "nbformat_minor": 0
}
