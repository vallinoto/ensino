{
 "cells": [
  {
   "cell_type": "markdown",
   "id": "7a938254",
   "metadata": {},
   "source": [
    "# Análise dos acidentes de trânsito de Porto Alegre"
   ]
  },
  {
   "cell_type": "markdown",
   "id": "71c10d40",
   "metadata": {},
   "source": [
    "## Objetivo"
   ]
  },
  {
   "cell_type": "markdown",
   "id": "2b90f0ce",
   "metadata": {},
   "source": [
    "Você atua no departamento de análise de dados da EPTC e o time de gestores(as) precisa de algumas informações sobre os acidentes para avaliar necessidades de ações para evitar novas ocorrências.\n",
    "\n",
    "Assim, com base nos registros disponibilizados, você terá que responder as seguintes perguntas:"
   ]
  },
  {
   "cell_type": "markdown",
   "id": "7f43567d",
   "metadata": {},
   "source": [
    "**Perguntas**\n",
    "\n",
    "\n",
    "1.   Como está a evolução dos acidentes nos últimos anos?\n",
    "2.   O número de acidentes diminuiu de 2019 para 2020?\n",
    "3.   Quais são os tipos de acidentes com maior ocorrência?\n",
    "4.   Qual a frequência de óbitos em acidentes nos últimos anos?\n",
    "5.   Qual o tipo de acidente com maior número de óbitos?\n"
   ]
  },
  {
   "cell_type": "markdown",
   "id": "228de317",
   "metadata": {},
   "source": [
    "Adicionalmente, você é instigado a realizar uma apresentação, com os locais dos acidentes ocorridos ao longo desse ano.\n",
    "\n",
    "**Nota**\n",
    "\n",
    "Abuse das visões gráficas para embasar sua análise.\n",
    "\n",
    "Aqui está o link para os nossos dados:\n",
    "\n",
    "https://dadosabertos.poa.br/dataset/acidentes-de-transito-acidentes"
   ]
  },
  {
   "cell_type": "code",
   "execution_count": 1,
   "id": "fe2e2ebd",
   "metadata": {},
   "outputs": [],
   "source": [
    "import warnings\n",
    "warnings.filterwarnings('ignore')"
   ]
  },
  {
   "cell_type": "code",
   "execution_count": null,
   "id": "bcace992",
   "metadata": {},
   "outputs": [],
   "source": []
  }
 ],
 "metadata": {
  "kernelspec": {
   "display_name": "Python 3 (ipykernel)",
   "language": "python",
   "name": "python3"
  },
  "language_info": {
   "codemirror_mode": {
    "name": "ipython",
    "version": 3
   },
   "file_extension": ".py",
   "mimetype": "text/x-python",
   "name": "python",
   "nbconvert_exporter": "python",
   "pygments_lexer": "ipython3",
   "version": "3.8.8"
  }
 },
 "nbformat": 4,
 "nbformat_minor": 5
}
